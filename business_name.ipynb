{
  "nbformat": 4,
  "nbformat_minor": 0,
  "metadata": {
    "colab": {
      "provenance": [],
      "collapsed_sections": [],
      "authorship_tag": "ABX9TyNosjG/nm+Oq+QfypVarclx"
    },
    "kernelspec": {
      "name": "python3",
      "display_name": "Python 3"
    },
    "language_info": {
      "name": "python"
    }
  },
  "cells": [
    {
      "cell_type": "code",
      "execution_count": null,
      "metadata": {
        "id": "Y9De57_gPaW3"
      },
      "outputs": [],
      "source": [
        "import requests\n",
        "import pandas as pd"
      ]
    },
    {
      "cell_type": "code",
      "source": [
        "username = \"****\"\n",
        "password = \"****\""
      ],
      "metadata": {
        "id": "uVri-6NYPdjc"
      },
      "execution_count": null,
      "outputs": []
    },
    {
      "cell_type": "markdown",
      "source": [
        "#Test Community"
      ],
      "metadata": {
        "id": "LirCJHsvYJyH"
      }
    },
    {
      "cell_type": "code",
      "source": [
        "url = 'https://www.zefix.admin.ch/ZefixPublicREST/api/v1/community'"
      ],
      "metadata": {
        "id": "FpPeCd5_SBFw"
      },
      "execution_count": null,
      "outputs": []
    },
    {
      "cell_type": "code",
      "source": [
        "response = requests.get(url, auth=(username, password))\n",
        "print(response.json())"
      ],
      "metadata": {
        "id": "6FVS-HqeSEKU"
      },
      "execution_count": null,
      "outputs": []
    },
    {
      "cell_type": "code",
      "source": [
        "response.headers"
      ],
      "metadata": {
        "colab": {
          "base_uri": "https://localhost:8080/"
        },
        "id": "iSokjcTEeCn1",
        "outputId": "77690f7e-9775-47cf-f7d5-fafc3a22005b"
      },
      "execution_count": null,
      "outputs": [
        {
          "output_type": "execute_result",
          "data": {
            "text/plain": [
              "{'X-Content-Type-Options': 'nosniff', 'X-XSS-Protection': '1; mode=block', 'Cache-Control': 'no-cache, no-store, max-age=0, must-revalidate', 'Pragma': 'no-cache', 'Expires': '0', 'Strict-Transport-Security': 'max-age=31536000 ; includeSubDomains', 'Date': 'Tue, 23 Aug 2022 13:47:32 GMT', 'Content-Type': 'application/json', 'Transfer-Encoding': 'chunked', 'X-Frame-Options': 'sameorigin', 'Connection': 'Keep-Alive'}"
            ]
          },
          "metadata": {},
          "execution_count": 8
        }
      ]
    },
    {
      "cell_type": "code",
      "source": [
        "test_data = response.json()"
      ],
      "metadata": {
        "id": "UhEYCpKQW280"
      },
      "execution_count": null,
      "outputs": []
    },
    {
      "cell_type": "code",
      "source": [
        "test_data"
      ],
      "metadata": {
        "id": "fAC35M0EzNVd"
      },
      "execution_count": null,
      "outputs": []
    },
    {
      "cell_type": "code",
      "source": [
        "from pandas import json_normalize \n",
        "\n",
        "df = json_normalize(test_data)\n",
        "df"
      ],
      "metadata": {
        "colab": {
          "base_uri": "https://localhost:8080/",
          "height": 423
        },
        "id": "ZpsZ6xmOWgtg",
        "outputId": "086b41be-2756-4b96-96f7-8569622ae6f1"
      },
      "execution_count": null,
      "outputs": [
        {
          "output_type": "execute_result",
          "data": {
            "text/plain": [
              "      bfsId canton          name  registryOfCommerceId\n",
              "0      4551     TG        Aadorf                   440\n",
              "1      4001     AG         Aarau                   400\n",
              "2       301     BE       Aarberg                    36\n",
              "3      4271     AG       Aarburg                   400\n",
              "4       321     BE     Aarwangen                    36\n",
              "...     ...    ...           ...                   ...\n",
              "2141   3426     SG   Zuzwil (SG)                   320\n",
              "2142    794     BE    Zweisimmen                    36\n",
              "2143    947     BE   Zwieselberg                    36\n",
              "2144   2793     BL       Zwingen                   280\n",
              "2145   6011     VS  Zwischbergen                   600\n",
              "\n",
              "[2146 rows x 4 columns]"
            ],
            "text/html": [
              "\n",
              "  <div id=\"df-4f7b55b3-f004-44c2-b98d-81a6a098c198\">\n",
              "    <div class=\"colab-df-container\">\n",
              "      <div>\n",
              "<style scoped>\n",
              "    .dataframe tbody tr th:only-of-type {\n",
              "        vertical-align: middle;\n",
              "    }\n",
              "\n",
              "    .dataframe tbody tr th {\n",
              "        vertical-align: top;\n",
              "    }\n",
              "\n",
              "    .dataframe thead th {\n",
              "        text-align: right;\n",
              "    }\n",
              "</style>\n",
              "<table border=\"1\" class=\"dataframe\">\n",
              "  <thead>\n",
              "    <tr style=\"text-align: right;\">\n",
              "      <th></th>\n",
              "      <th>bfsId</th>\n",
              "      <th>canton</th>\n",
              "      <th>name</th>\n",
              "      <th>registryOfCommerceId</th>\n",
              "    </tr>\n",
              "  </thead>\n",
              "  <tbody>\n",
              "    <tr>\n",
              "      <th>0</th>\n",
              "      <td>4551</td>\n",
              "      <td>TG</td>\n",
              "      <td>Aadorf</td>\n",
              "      <td>440</td>\n",
              "    </tr>\n",
              "    <tr>\n",
              "      <th>1</th>\n",
              "      <td>4001</td>\n",
              "      <td>AG</td>\n",
              "      <td>Aarau</td>\n",
              "      <td>400</td>\n",
              "    </tr>\n",
              "    <tr>\n",
              "      <th>2</th>\n",
              "      <td>301</td>\n",
              "      <td>BE</td>\n",
              "      <td>Aarberg</td>\n",
              "      <td>36</td>\n",
              "    </tr>\n",
              "    <tr>\n",
              "      <th>3</th>\n",
              "      <td>4271</td>\n",
              "      <td>AG</td>\n",
              "      <td>Aarburg</td>\n",
              "      <td>400</td>\n",
              "    </tr>\n",
              "    <tr>\n",
              "      <th>4</th>\n",
              "      <td>321</td>\n",
              "      <td>BE</td>\n",
              "      <td>Aarwangen</td>\n",
              "      <td>36</td>\n",
              "    </tr>\n",
              "    <tr>\n",
              "      <th>...</th>\n",
              "      <td>...</td>\n",
              "      <td>...</td>\n",
              "      <td>...</td>\n",
              "      <td>...</td>\n",
              "    </tr>\n",
              "    <tr>\n",
              "      <th>2141</th>\n",
              "      <td>3426</td>\n",
              "      <td>SG</td>\n",
              "      <td>Zuzwil (SG)</td>\n",
              "      <td>320</td>\n",
              "    </tr>\n",
              "    <tr>\n",
              "      <th>2142</th>\n",
              "      <td>794</td>\n",
              "      <td>BE</td>\n",
              "      <td>Zweisimmen</td>\n",
              "      <td>36</td>\n",
              "    </tr>\n",
              "    <tr>\n",
              "      <th>2143</th>\n",
              "      <td>947</td>\n",
              "      <td>BE</td>\n",
              "      <td>Zwieselberg</td>\n",
              "      <td>36</td>\n",
              "    </tr>\n",
              "    <tr>\n",
              "      <th>2144</th>\n",
              "      <td>2793</td>\n",
              "      <td>BL</td>\n",
              "      <td>Zwingen</td>\n",
              "      <td>280</td>\n",
              "    </tr>\n",
              "    <tr>\n",
              "      <th>2145</th>\n",
              "      <td>6011</td>\n",
              "      <td>VS</td>\n",
              "      <td>Zwischbergen</td>\n",
              "      <td>600</td>\n",
              "    </tr>\n",
              "  </tbody>\n",
              "</table>\n",
              "<p>2146 rows × 4 columns</p>\n",
              "</div>\n",
              "      <button class=\"colab-df-convert\" onclick=\"convertToInteractive('df-4f7b55b3-f004-44c2-b98d-81a6a098c198')\"\n",
              "              title=\"Convert this dataframe to an interactive table.\"\n",
              "              style=\"display:none;\">\n",
              "        \n",
              "  <svg xmlns=\"http://www.w3.org/2000/svg\" height=\"24px\"viewBox=\"0 0 24 24\"\n",
              "       width=\"24px\">\n",
              "    <path d=\"M0 0h24v24H0V0z\" fill=\"none\"/>\n",
              "    <path d=\"M18.56 5.44l.94 2.06.94-2.06 2.06-.94-2.06-.94-.94-2.06-.94 2.06-2.06.94zm-11 1L8.5 8.5l.94-2.06 2.06-.94-2.06-.94L8.5 2.5l-.94 2.06-2.06.94zm10 10l.94 2.06.94-2.06 2.06-.94-2.06-.94-.94-2.06-.94 2.06-2.06.94z\"/><path d=\"M17.41 7.96l-1.37-1.37c-.4-.4-.92-.59-1.43-.59-.52 0-1.04.2-1.43.59L10.3 9.45l-7.72 7.72c-.78.78-.78 2.05 0 2.83L4 21.41c.39.39.9.59 1.41.59.51 0 1.02-.2 1.41-.59l7.78-7.78 2.81-2.81c.8-.78.8-2.07 0-2.86zM5.41 20L4 18.59l7.72-7.72 1.47 1.35L5.41 20z\"/>\n",
              "  </svg>\n",
              "      </button>\n",
              "      \n",
              "  <style>\n",
              "    .colab-df-container {\n",
              "      display:flex;\n",
              "      flex-wrap:wrap;\n",
              "      gap: 12px;\n",
              "    }\n",
              "\n",
              "    .colab-df-convert {\n",
              "      background-color: #E8F0FE;\n",
              "      border: none;\n",
              "      border-radius: 50%;\n",
              "      cursor: pointer;\n",
              "      display: none;\n",
              "      fill: #1967D2;\n",
              "      height: 32px;\n",
              "      padding: 0 0 0 0;\n",
              "      width: 32px;\n",
              "    }\n",
              "\n",
              "    .colab-df-convert:hover {\n",
              "      background-color: #E2EBFA;\n",
              "      box-shadow: 0px 1px 2px rgba(60, 64, 67, 0.3), 0px 1px 3px 1px rgba(60, 64, 67, 0.15);\n",
              "      fill: #174EA6;\n",
              "    }\n",
              "\n",
              "    [theme=dark] .colab-df-convert {\n",
              "      background-color: #3B4455;\n",
              "      fill: #D2E3FC;\n",
              "    }\n",
              "\n",
              "    [theme=dark] .colab-df-convert:hover {\n",
              "      background-color: #434B5C;\n",
              "      box-shadow: 0px 1px 3px 1px rgba(0, 0, 0, 0.15);\n",
              "      filter: drop-shadow(0px 1px 2px rgba(0, 0, 0, 0.3));\n",
              "      fill: #FFFFFF;\n",
              "    }\n",
              "  </style>\n",
              "\n",
              "      <script>\n",
              "        const buttonEl =\n",
              "          document.querySelector('#df-4f7b55b3-f004-44c2-b98d-81a6a098c198 button.colab-df-convert');\n",
              "        buttonEl.style.display =\n",
              "          google.colab.kernel.accessAllowed ? 'block' : 'none';\n",
              "\n",
              "        async function convertToInteractive(key) {\n",
              "          const element = document.querySelector('#df-4f7b55b3-f004-44c2-b98d-81a6a098c198');\n",
              "          const dataTable =\n",
              "            await google.colab.kernel.invokeFunction('convertToInteractive',\n",
              "                                                     [key], {});\n",
              "          if (!dataTable) return;\n",
              "\n",
              "          const docLinkHtml = 'Like what you see? Visit the ' +\n",
              "            '<a target=\"_blank\" href=https://colab.research.google.com/notebooks/data_table.ipynb>data table notebook</a>'\n",
              "            + ' to learn more about interactive tables.';\n",
              "          element.innerHTML = '';\n",
              "          dataTable['output_type'] = 'display_data';\n",
              "          await google.colab.output.renderOutput(dataTable, element);\n",
              "          const docLink = document.createElement('div');\n",
              "          docLink.innerHTML = docLinkHtml;\n",
              "          element.appendChild(docLink);\n",
              "        }\n",
              "      </script>\n",
              "    </div>\n",
              "  </div>\n",
              "  "
            ]
          },
          "metadata": {},
          "execution_count": 11
        }
      ]
    },
    {
      "cell_type": "code",
      "source": [
        "commerce_name = response.json()"
      ],
      "metadata": {
        "id": "fRi6mvvmSUgK"
      },
      "execution_count": null,
      "outputs": []
    },
    {
      "cell_type": "code",
      "source": [
        "print(len(commerce_name))"
      ],
      "metadata": {
        "colab": {
          "base_uri": "https://localhost:8080/"
        },
        "id": "7bF_OdnST98h",
        "outputId": "44046a02-6884-4409-ca40-905285769796"
      },
      "execution_count": null,
      "outputs": [
        {
          "output_type": "stream",
          "name": "stdout",
          "text": [
            "2146\n"
          ]
        }
      ]
    },
    {
      "cell_type": "code",
      "source": [
        "print(type(commerce_name))"
      ],
      "metadata": {
        "colab": {
          "base_uri": "https://localhost:8080/"
        },
        "id": "f6xL3DmDSk-g",
        "outputId": "4813c250-dbfb-4a4c-e6bf-5e4effcb5057"
      },
      "execution_count": null,
      "outputs": [
        {
          "output_type": "stream",
          "name": "stdout",
          "text": [
            "<class 'list'>\n"
          ]
        }
      ]
    },
    {
      "cell_type": "markdown",
      "source": [
        "#Retrieve by business name or UID\n"
      ],
      "metadata": {
        "id": "BZWv0EkwTdLJ"
      }
    },
    {
      "cell_type": "code",
      "source": [
        "# {\n",
        "#   \"name\": \"Enam\",\n",
        "#   \"legalFormId\": 4,\n",
        "#   \"legalFormUid\": \"0107\",\n",
        "#   \"registryOfCommerceId\": 36,\n",
        "#   \"legalSeatId\": 623,\n",
        "#   \"canton\": \"BE\",\n",
        "#   \"activeOnly\": true\n",
        "# }url = 'https://www.zefix.admin.ch/ZefixPublicREST/api/v1/company/uid/CHE477413422'"
      ],
      "metadata": {
        "id": "HU_iCEsKSmUa"
      },
      "execution_count": null,
      "outputs": []
    },
    {
      "cell_type": "code",
      "source": [
        "query = 'legal'\n",
        "payload = {'name': 'Legal', 'activeOnly': True}"
      ],
      "metadata": {
        "id": "qZhyv0VQqA96"
      },
      "execution_count": null,
      "outputs": []
    },
    {
      "cell_type": "code",
      "source": [
        "r = requests.get(url, auth=(username, password))"
      ],
      "metadata": {
        "id": "abR56yvYU1xk"
      },
      "execution_count": null,
      "outputs": []
    },
    {
      "cell_type": "code",
      "source": [
        "print(r.json())"
      ],
      "metadata": {
        "id": "Ny9_ewgvfsxQ"
      },
      "execution_count": null,
      "outputs": []
    },
    {
      "cell_type": "code",
      "source": [
        "UID_data = r.json()"
      ],
      "metadata": {
        "id": "WkSLSLRIfyJO"
      },
      "execution_count": null,
      "outputs": []
    },
    {
      "cell_type": "code",
      "source": [
        "df = json_normalize(UID_data)\n",
        "df"
      ],
      "metadata": {
        "colab": {
          "base_uri": "https://localhost:8080/",
          "height": 423
        },
        "id": "dyzTvcoUf3ne",
        "outputId": "5d307fff-d0ff-4074-904d-bad14bb3d55b"
      },
      "execution_count": null,
      "outputs": [
        {
          "output_type": "execute_result",
          "data": {
            "text/plain": [
              "      bfsId canton          name  registryOfCommerceId\n",
              "0      4551     TG        Aadorf                   440\n",
              "1      4001     AG         Aarau                   400\n",
              "2       301     BE       Aarberg                    36\n",
              "3      4271     AG       Aarburg                   400\n",
              "4       321     BE     Aarwangen                    36\n",
              "...     ...    ...           ...                   ...\n",
              "2141   3426     SG   Zuzwil (SG)                   320\n",
              "2142    794     BE    Zweisimmen                    36\n",
              "2143    947     BE   Zwieselberg                    36\n",
              "2144   2793     BL       Zwingen                   280\n",
              "2145   6011     VS  Zwischbergen                   600\n",
              "\n",
              "[2146 rows x 4 columns]"
            ],
            "text/html": [
              "\n",
              "  <div id=\"df-64caa57e-df35-4b27-9fb2-31748b2b0761\">\n",
              "    <div class=\"colab-df-container\">\n",
              "      <div>\n",
              "<style scoped>\n",
              "    .dataframe tbody tr th:only-of-type {\n",
              "        vertical-align: middle;\n",
              "    }\n",
              "\n",
              "    .dataframe tbody tr th {\n",
              "        vertical-align: top;\n",
              "    }\n",
              "\n",
              "    .dataframe thead th {\n",
              "        text-align: right;\n",
              "    }\n",
              "</style>\n",
              "<table border=\"1\" class=\"dataframe\">\n",
              "  <thead>\n",
              "    <tr style=\"text-align: right;\">\n",
              "      <th></th>\n",
              "      <th>bfsId</th>\n",
              "      <th>canton</th>\n",
              "      <th>name</th>\n",
              "      <th>registryOfCommerceId</th>\n",
              "    </tr>\n",
              "  </thead>\n",
              "  <tbody>\n",
              "    <tr>\n",
              "      <th>0</th>\n",
              "      <td>4551</td>\n",
              "      <td>TG</td>\n",
              "      <td>Aadorf</td>\n",
              "      <td>440</td>\n",
              "    </tr>\n",
              "    <tr>\n",
              "      <th>1</th>\n",
              "      <td>4001</td>\n",
              "      <td>AG</td>\n",
              "      <td>Aarau</td>\n",
              "      <td>400</td>\n",
              "    </tr>\n",
              "    <tr>\n",
              "      <th>2</th>\n",
              "      <td>301</td>\n",
              "      <td>BE</td>\n",
              "      <td>Aarberg</td>\n",
              "      <td>36</td>\n",
              "    </tr>\n",
              "    <tr>\n",
              "      <th>3</th>\n",
              "      <td>4271</td>\n",
              "      <td>AG</td>\n",
              "      <td>Aarburg</td>\n",
              "      <td>400</td>\n",
              "    </tr>\n",
              "    <tr>\n",
              "      <th>4</th>\n",
              "      <td>321</td>\n",
              "      <td>BE</td>\n",
              "      <td>Aarwangen</td>\n",
              "      <td>36</td>\n",
              "    </tr>\n",
              "    <tr>\n",
              "      <th>...</th>\n",
              "      <td>...</td>\n",
              "      <td>...</td>\n",
              "      <td>...</td>\n",
              "      <td>...</td>\n",
              "    </tr>\n",
              "    <tr>\n",
              "      <th>2141</th>\n",
              "      <td>3426</td>\n",
              "      <td>SG</td>\n",
              "      <td>Zuzwil (SG)</td>\n",
              "      <td>320</td>\n",
              "    </tr>\n",
              "    <tr>\n",
              "      <th>2142</th>\n",
              "      <td>794</td>\n",
              "      <td>BE</td>\n",
              "      <td>Zweisimmen</td>\n",
              "      <td>36</td>\n",
              "    </tr>\n",
              "    <tr>\n",
              "      <th>2143</th>\n",
              "      <td>947</td>\n",
              "      <td>BE</td>\n",
              "      <td>Zwieselberg</td>\n",
              "      <td>36</td>\n",
              "    </tr>\n",
              "    <tr>\n",
              "      <th>2144</th>\n",
              "      <td>2793</td>\n",
              "      <td>BL</td>\n",
              "      <td>Zwingen</td>\n",
              "      <td>280</td>\n",
              "    </tr>\n",
              "    <tr>\n",
              "      <th>2145</th>\n",
              "      <td>6011</td>\n",
              "      <td>VS</td>\n",
              "      <td>Zwischbergen</td>\n",
              "      <td>600</td>\n",
              "    </tr>\n",
              "  </tbody>\n",
              "</table>\n",
              "<p>2146 rows × 4 columns</p>\n",
              "</div>\n",
              "      <button class=\"colab-df-convert\" onclick=\"convertToInteractive('df-64caa57e-df35-4b27-9fb2-31748b2b0761')\"\n",
              "              title=\"Convert this dataframe to an interactive table.\"\n",
              "              style=\"display:none;\">\n",
              "        \n",
              "  <svg xmlns=\"http://www.w3.org/2000/svg\" height=\"24px\"viewBox=\"0 0 24 24\"\n",
              "       width=\"24px\">\n",
              "    <path d=\"M0 0h24v24H0V0z\" fill=\"none\"/>\n",
              "    <path d=\"M18.56 5.44l.94 2.06.94-2.06 2.06-.94-2.06-.94-.94-2.06-.94 2.06-2.06.94zm-11 1L8.5 8.5l.94-2.06 2.06-.94-2.06-.94L8.5 2.5l-.94 2.06-2.06.94zm10 10l.94 2.06.94-2.06 2.06-.94-2.06-.94-.94-2.06-.94 2.06-2.06.94z\"/><path d=\"M17.41 7.96l-1.37-1.37c-.4-.4-.92-.59-1.43-.59-.52 0-1.04.2-1.43.59L10.3 9.45l-7.72 7.72c-.78.78-.78 2.05 0 2.83L4 21.41c.39.39.9.59 1.41.59.51 0 1.02-.2 1.41-.59l7.78-7.78 2.81-2.81c.8-.78.8-2.07 0-2.86zM5.41 20L4 18.59l7.72-7.72 1.47 1.35L5.41 20z\"/>\n",
              "  </svg>\n",
              "      </button>\n",
              "      \n",
              "  <style>\n",
              "    .colab-df-container {\n",
              "      display:flex;\n",
              "      flex-wrap:wrap;\n",
              "      gap: 12px;\n",
              "    }\n",
              "\n",
              "    .colab-df-convert {\n",
              "      background-color: #E8F0FE;\n",
              "      border: none;\n",
              "      border-radius: 50%;\n",
              "      cursor: pointer;\n",
              "      display: none;\n",
              "      fill: #1967D2;\n",
              "      height: 32px;\n",
              "      padding: 0 0 0 0;\n",
              "      width: 32px;\n",
              "    }\n",
              "\n",
              "    .colab-df-convert:hover {\n",
              "      background-color: #E2EBFA;\n",
              "      box-shadow: 0px 1px 2px rgba(60, 64, 67, 0.3), 0px 1px 3px 1px rgba(60, 64, 67, 0.15);\n",
              "      fill: #174EA6;\n",
              "    }\n",
              "\n",
              "    [theme=dark] .colab-df-convert {\n",
              "      background-color: #3B4455;\n",
              "      fill: #D2E3FC;\n",
              "    }\n",
              "\n",
              "    [theme=dark] .colab-df-convert:hover {\n",
              "      background-color: #434B5C;\n",
              "      box-shadow: 0px 1px 3px 1px rgba(0, 0, 0, 0.15);\n",
              "      filter: drop-shadow(0px 1px 2px rgba(0, 0, 0, 0.3));\n",
              "      fill: #FFFFFF;\n",
              "    }\n",
              "  </style>\n",
              "\n",
              "      <script>\n",
              "        const buttonEl =\n",
              "          document.querySelector('#df-64caa57e-df35-4b27-9fb2-31748b2b0761 button.colab-df-convert');\n",
              "        buttonEl.style.display =\n",
              "          google.colab.kernel.accessAllowed ? 'block' : 'none';\n",
              "\n",
              "        async function convertToInteractive(key) {\n",
              "          const element = document.querySelector('#df-64caa57e-df35-4b27-9fb2-31748b2b0761');\n",
              "          const dataTable =\n",
              "            await google.colab.kernel.invokeFunction('convertToInteractive',\n",
              "                                                     [key], {});\n",
              "          if (!dataTable) return;\n",
              "\n",
              "          const docLinkHtml = 'Like what you see? Visit the ' +\n",
              "            '<a target=\"_blank\" href=https://colab.research.google.com/notebooks/data_table.ipynb>data table notebook</a>'\n",
              "            + ' to learn more about interactive tables.';\n",
              "          element.innerHTML = '';\n",
              "          dataTable['output_type'] = 'display_data';\n",
              "          await google.colab.output.renderOutput(dataTable, element);\n",
              "          const docLink = document.createElement('div');\n",
              "          docLink.innerHTML = docLinkHtml;\n",
              "          element.appendChild(docLink);\n",
              "        }\n",
              "      </script>\n",
              "    </div>\n",
              "  </div>\n",
              "  "
            ]
          },
          "metadata": {},
          "execution_count": 23
        }
      ]
    },
    {
      "cell_type": "markdown",
      "source": [
        "#Retrieve by CH-ID"
      ],
      "metadata": {
        "id": "JJvLrSSzgAjp"
      }
    },
    {
      "cell_type": "code",
      "source": [
        "url = 'https://www.zefix.admin.ch/ZefixPublicREST/api/v1/company/chid/CH66032710197'\n",
        "response = requests.get(url, auth=(username, password))\n",
        "cH_Id = response.json()"
      ],
      "metadata": {
        "id": "-5QoOUy9gGQj"
      },
      "execution_count": null,
      "outputs": []
    },
    {
      "cell_type": "code",
      "source": [
        "df = json_normalize(cH_Id)\n",
        "df"
      ],
      "metadata": {
        "colab": {
          "base_uri": "https://localhost:8080/",
          "height": 191
        },
        "id": "lp5WsYXhgLpj",
        "outputId": "30b4feb1-71e5-49b7-df38-e8af84f24c30"
      },
      "execution_count": null,
      "outputs": [
        {
          "output_type": "execute_result",
          "data": {
            "text/plain": [
              "               name   ehraid           uid           chid  legalSeatId  \\\n",
              "0  LEGALMARQUE SARL  1412165  CHE477413422  CH66032710197         6458   \n",
              "\n",
              "   legalSeat  registryOfCommerceId  status    sogcDate deletionDate  ...  \\\n",
              "0  Neuchâtel                   645  ACTIVE  2022-01-06         None  ...   \n",
              "\n",
              "       address.street address.houseNumber address.addon address.poBox  \\\n",
              "0  route des Falaises                   7                               \n",
              "\n",
              "  address.city address.swissZipCode  \\\n",
              "0    Neuchâtel                 2000   \n",
              "\n",
              "                                   zefixDetailWeb.de  \\\n",
              "0  https://www.zefix.admin.ch/de/search/entity/li...   \n",
              "\n",
              "                                   zefixDetailWeb.fr  \\\n",
              "0  https://www.zefix.admin.ch/fr/search/entity/li...   \n",
              "\n",
              "                                   zefixDetailWeb.it  \\\n",
              "0  https://www.zefix.admin.ch/it/search/entity/li...   \n",
              "\n",
              "                                   zefixDetailWeb.en  \n",
              "0  https://www.zefix.admin.ch/en/search/entity/li...  \n",
              "\n",
              "[1 rows x 46 columns]"
            ],
            "text/html": [
              "\n",
              "  <div id=\"df-a0ff7452-cbf7-4806-9517-caca4caa5256\">\n",
              "    <div class=\"colab-df-container\">\n",
              "      <div>\n",
              "<style scoped>\n",
              "    .dataframe tbody tr th:only-of-type {\n",
              "        vertical-align: middle;\n",
              "    }\n",
              "\n",
              "    .dataframe tbody tr th {\n",
              "        vertical-align: top;\n",
              "    }\n",
              "\n",
              "    .dataframe thead th {\n",
              "        text-align: right;\n",
              "    }\n",
              "</style>\n",
              "<table border=\"1\" class=\"dataframe\">\n",
              "  <thead>\n",
              "    <tr style=\"text-align: right;\">\n",
              "      <th></th>\n",
              "      <th>name</th>\n",
              "      <th>ehraid</th>\n",
              "      <th>uid</th>\n",
              "      <th>chid</th>\n",
              "      <th>legalSeatId</th>\n",
              "      <th>legalSeat</th>\n",
              "      <th>registryOfCommerceId</th>\n",
              "      <th>status</th>\n",
              "      <th>sogcDate</th>\n",
              "      <th>deletionDate</th>\n",
              "      <th>...</th>\n",
              "      <th>address.street</th>\n",
              "      <th>address.houseNumber</th>\n",
              "      <th>address.addon</th>\n",
              "      <th>address.poBox</th>\n",
              "      <th>address.city</th>\n",
              "      <th>address.swissZipCode</th>\n",
              "      <th>zefixDetailWeb.de</th>\n",
              "      <th>zefixDetailWeb.fr</th>\n",
              "      <th>zefixDetailWeb.it</th>\n",
              "      <th>zefixDetailWeb.en</th>\n",
              "    </tr>\n",
              "  </thead>\n",
              "  <tbody>\n",
              "    <tr>\n",
              "      <th>0</th>\n",
              "      <td>LEGALMARQUE SARL</td>\n",
              "      <td>1412165</td>\n",
              "      <td>CHE477413422</td>\n",
              "      <td>CH66032710197</td>\n",
              "      <td>6458</td>\n",
              "      <td>Neuchâtel</td>\n",
              "      <td>645</td>\n",
              "      <td>ACTIVE</td>\n",
              "      <td>2022-01-06</td>\n",
              "      <td>None</td>\n",
              "      <td>...</td>\n",
              "      <td>route des Falaises</td>\n",
              "      <td>7</td>\n",
              "      <td></td>\n",
              "      <td></td>\n",
              "      <td>Neuchâtel</td>\n",
              "      <td>2000</td>\n",
              "      <td>https://www.zefix.admin.ch/de/search/entity/li...</td>\n",
              "      <td>https://www.zefix.admin.ch/fr/search/entity/li...</td>\n",
              "      <td>https://www.zefix.admin.ch/it/search/entity/li...</td>\n",
              "      <td>https://www.zefix.admin.ch/en/search/entity/li...</td>\n",
              "    </tr>\n",
              "  </tbody>\n",
              "</table>\n",
              "<p>1 rows × 46 columns</p>\n",
              "</div>\n",
              "      <button class=\"colab-df-convert\" onclick=\"convertToInteractive('df-a0ff7452-cbf7-4806-9517-caca4caa5256')\"\n",
              "              title=\"Convert this dataframe to an interactive table.\"\n",
              "              style=\"display:none;\">\n",
              "        \n",
              "  <svg xmlns=\"http://www.w3.org/2000/svg\" height=\"24px\"viewBox=\"0 0 24 24\"\n",
              "       width=\"24px\">\n",
              "    <path d=\"M0 0h24v24H0V0z\" fill=\"none\"/>\n",
              "    <path d=\"M18.56 5.44l.94 2.06.94-2.06 2.06-.94-2.06-.94-.94-2.06-.94 2.06-2.06.94zm-11 1L8.5 8.5l.94-2.06 2.06-.94-2.06-.94L8.5 2.5l-.94 2.06-2.06.94zm10 10l.94 2.06.94-2.06 2.06-.94-2.06-.94-.94-2.06-.94 2.06-2.06.94z\"/><path d=\"M17.41 7.96l-1.37-1.37c-.4-.4-.92-.59-1.43-.59-.52 0-1.04.2-1.43.59L10.3 9.45l-7.72 7.72c-.78.78-.78 2.05 0 2.83L4 21.41c.39.39.9.59 1.41.59.51 0 1.02-.2 1.41-.59l7.78-7.78 2.81-2.81c.8-.78.8-2.07 0-2.86zM5.41 20L4 18.59l7.72-7.72 1.47 1.35L5.41 20z\"/>\n",
              "  </svg>\n",
              "      </button>\n",
              "      \n",
              "  <style>\n",
              "    .colab-df-container {\n",
              "      display:flex;\n",
              "      flex-wrap:wrap;\n",
              "      gap: 12px;\n",
              "    }\n",
              "\n",
              "    .colab-df-convert {\n",
              "      background-color: #E8F0FE;\n",
              "      border: none;\n",
              "      border-radius: 50%;\n",
              "      cursor: pointer;\n",
              "      display: none;\n",
              "      fill: #1967D2;\n",
              "      height: 32px;\n",
              "      padding: 0 0 0 0;\n",
              "      width: 32px;\n",
              "    }\n",
              "\n",
              "    .colab-df-convert:hover {\n",
              "      background-color: #E2EBFA;\n",
              "      box-shadow: 0px 1px 2px rgba(60, 64, 67, 0.3), 0px 1px 3px 1px rgba(60, 64, 67, 0.15);\n",
              "      fill: #174EA6;\n",
              "    }\n",
              "\n",
              "    [theme=dark] .colab-df-convert {\n",
              "      background-color: #3B4455;\n",
              "      fill: #D2E3FC;\n",
              "    }\n",
              "\n",
              "    [theme=dark] .colab-df-convert:hover {\n",
              "      background-color: #434B5C;\n",
              "      box-shadow: 0px 1px 3px 1px rgba(0, 0, 0, 0.15);\n",
              "      filter: drop-shadow(0px 1px 2px rgba(0, 0, 0, 0.3));\n",
              "      fill: #FFFFFF;\n",
              "    }\n",
              "  </style>\n",
              "\n",
              "      <script>\n",
              "        const buttonEl =\n",
              "          document.querySelector('#df-a0ff7452-cbf7-4806-9517-caca4caa5256 button.colab-df-convert');\n",
              "        buttonEl.style.display =\n",
              "          google.colab.kernel.accessAllowed ? 'block' : 'none';\n",
              "\n",
              "        async function convertToInteractive(key) {\n",
              "          const element = document.querySelector('#df-a0ff7452-cbf7-4806-9517-caca4caa5256');\n",
              "          const dataTable =\n",
              "            await google.colab.kernel.invokeFunction('convertToInteractive',\n",
              "                                                     [key], {});\n",
              "          if (!dataTable) return;\n",
              "\n",
              "          const docLinkHtml = 'Like what you see? Visit the ' +\n",
              "            '<a target=\"_blank\" href=https://colab.research.google.com/notebooks/data_table.ipynb>data table notebook</a>'\n",
              "            + ' to learn more about interactive tables.';\n",
              "          element.innerHTML = '';\n",
              "          dataTable['output_type'] = 'display_data';\n",
              "          await google.colab.output.renderOutput(dataTable, element);\n",
              "          const docLink = document.createElement('div');\n",
              "          docLink.innerHTML = docLinkHtml;\n",
              "          element.appendChild(docLink);\n",
              "        }\n",
              "      </script>\n",
              "    </div>\n",
              "  </div>\n",
              "  "
            ]
          },
          "metadata": {},
          "execution_count": 25
        }
      ]
    },
    {
      "cell_type": "markdown",
      "source": [
        "#Search Company"
      ],
      "metadata": {
        "id": "uM5sE33kgp4y"
      }
    },
    {
      "cell_type": "code",
      "source": [],
      "metadata": {
        "id": "n7YAJarr-jYP"
      },
      "execution_count": null,
      "outputs": []
    },
    {
      "cell_type": "code",
      "source": [
        " query = 'Legal'"
      ],
      "metadata": {
        "id": "UB7qXoes_KRV"
      },
      "execution_count": null,
      "outputs": []
    },
    {
      "cell_type": "code",
      "source": [
        "post_json = (\n",
        "\n",
        "    \"{\"  #first curly bracket\n",
        "    \"\\\"activeOnly\\\": true,\"  #--> key, value begins and ends with \\\" except for bool\n",
        "     f\"\\\"name\\\": \\\"{query}\\\"\"\n",
        "     \"}\" #last curly bracket\n",
        "     \n",
        "     )"
      ],
      "metadata": {
        "id": "fEhwqiP6IHsp"
      },
      "execution_count": null,
      "outputs": []
    },
    {
      "cell_type": "code",
      "source": [
        "json.loads(post_json)"
      ],
      "metadata": {
        "colab": {
          "base_uri": "https://localhost:8080/"
        },
        "id": "B3OzvaQsNOG-",
        "outputId": "14afa0b6-dcf8-44a1-80c8-1588765625e7"
      },
      "execution_count": null,
      "outputs": [
        {
          "output_type": "execute_result",
          "data": {
            "text/plain": [
              "{'activeOnly': True, 'name': 'Legal'}"
            ]
          },
          "metadata": {},
          "execution_count": 29
        }
      ]
    },
    {
      "cell_type": "code",
      "source": [
        "# post_json = (\"{\"\n",
        "#     \"\\\"activeOnly\\\": true,\"\n",
        "#     f\"\\\"name\\\": \\\"{query}\\\"\"\n",
        "#         \"}\"\n",
        "# )"
      ],
      "metadata": {
        "id": "Yn5SaT6x_GrT"
      },
      "execution_count": null,
      "outputs": []
    },
    {
      "cell_type": "code",
      "source": [
        "\n",
        "payload = json.loads(post_json)"
      ],
      "metadata": {
        "id": "OX6puhmQ_XFI"
      },
      "execution_count": null,
      "outputs": []
    },
    {
      "cell_type": "code",
      "source": [
        "headers = {\n",
        "    \"accept\": \"application/json\",\n",
        "    \"Content-Type\": \"application/json\"\n",
        "}"
      ],
      "metadata": {
        "id": "8F0fpJiJ_cDA"
      },
      "execution_count": null,
      "outputs": []
    },
    {
      "cell_type": "code",
      "source": [
        "response = requests.post(url, \n",
        "                         headers=headers,\n",
        "                         auth=(username, password), \n",
        "                         json=payload)"
      ],
      "metadata": {
        "id": "O4qPyWjH_fGP"
      },
      "execution_count": null,
      "outputs": []
    },
    {
      "cell_type": "code",
      "source": [
        "response.status_code"
      ],
      "metadata": {
        "colab": {
          "base_uri": "https://localhost:8080/"
        },
        "id": "rdUw6B7V_jyU",
        "outputId": "bb014dd7-f19c-4a17-d070-f146d5ae4db9"
      },
      "execution_count": null,
      "outputs": [
        {
          "output_type": "execute_result",
          "data": {
            "text/plain": [
              "200"
            ]
          },
          "metadata": {},
          "execution_count": 150
        }
      ]
    },
    {
      "cell_type": "code",
      "source": [
        "commerce_search = response.json()"
      ],
      "metadata": {
        "id": "Wvkm5yuq9Ioy"
      },
      "execution_count": null,
      "outputs": []
    },
    {
      "cell_type": "code",
      "source": [
        "df = json_normalize(commerce_search)\n",
        "df"
      ],
      "metadata": {
        "colab": {
          "base_uri": "https://localhost:8080/",
          "height": 80
        },
        "id": "Ywf0TfYip6f6",
        "outputId": "a982eb5c-83ce-4ba8-811a-b2675c548f24"
      },
      "execution_count": null,
      "outputs": [
        {
          "output_type": "execute_result",
          "data": {
            "text/plain": [
              "    code                                   exceptionMessage  \\\n",
              "0  Error  405 METHOD_NOT_ALLOWED (exceptionid=5416400968...   \n",
              "\n",
              "               i18nTitleKey        i18nMessageKey                   id  \n",
              "0  global.error.title.Error  global.error.message  5416400968924540209  "
            ],
            "text/html": [
              "\n",
              "  <div id=\"df-d147b778-4231-411b-9455-42d3a48f83ea\">\n",
              "    <div class=\"colab-df-container\">\n",
              "      <div>\n",
              "<style scoped>\n",
              "    .dataframe tbody tr th:only-of-type {\n",
              "        vertical-align: middle;\n",
              "    }\n",
              "\n",
              "    .dataframe tbody tr th {\n",
              "        vertical-align: top;\n",
              "    }\n",
              "\n",
              "    .dataframe thead th {\n",
              "        text-align: right;\n",
              "    }\n",
              "</style>\n",
              "<table border=\"1\" class=\"dataframe\">\n",
              "  <thead>\n",
              "    <tr style=\"text-align: right;\">\n",
              "      <th></th>\n",
              "      <th>code</th>\n",
              "      <th>exceptionMessage</th>\n",
              "      <th>i18nTitleKey</th>\n",
              "      <th>i18nMessageKey</th>\n",
              "      <th>id</th>\n",
              "    </tr>\n",
              "  </thead>\n",
              "  <tbody>\n",
              "    <tr>\n",
              "      <th>0</th>\n",
              "      <td>Error</td>\n",
              "      <td>405 METHOD_NOT_ALLOWED (exceptionid=5416400968...</td>\n",
              "      <td>global.error.title.Error</td>\n",
              "      <td>global.error.message</td>\n",
              "      <td>5416400968924540209</td>\n",
              "    </tr>\n",
              "  </tbody>\n",
              "</table>\n",
              "</div>\n",
              "      <button class=\"colab-df-convert\" onclick=\"convertToInteractive('df-d147b778-4231-411b-9455-42d3a48f83ea')\"\n",
              "              title=\"Convert this dataframe to an interactive table.\"\n",
              "              style=\"display:none;\">\n",
              "        \n",
              "  <svg xmlns=\"http://www.w3.org/2000/svg\" height=\"24px\"viewBox=\"0 0 24 24\"\n",
              "       width=\"24px\">\n",
              "    <path d=\"M0 0h24v24H0V0z\" fill=\"none\"/>\n",
              "    <path d=\"M18.56 5.44l.94 2.06.94-2.06 2.06-.94-2.06-.94-.94-2.06-.94 2.06-2.06.94zm-11 1L8.5 8.5l.94-2.06 2.06-.94-2.06-.94L8.5 2.5l-.94 2.06-2.06.94zm10 10l.94 2.06.94-2.06 2.06-.94-2.06-.94-.94-2.06-.94 2.06-2.06.94z\"/><path d=\"M17.41 7.96l-1.37-1.37c-.4-.4-.92-.59-1.43-.59-.52 0-1.04.2-1.43.59L10.3 9.45l-7.72 7.72c-.78.78-.78 2.05 0 2.83L4 21.41c.39.39.9.59 1.41.59.51 0 1.02-.2 1.41-.59l7.78-7.78 2.81-2.81c.8-.78.8-2.07 0-2.86zM5.41 20L4 18.59l7.72-7.72 1.47 1.35L5.41 20z\"/>\n",
              "  </svg>\n",
              "      </button>\n",
              "      \n",
              "  <style>\n",
              "    .colab-df-container {\n",
              "      display:flex;\n",
              "      flex-wrap:wrap;\n",
              "      gap: 12px;\n",
              "    }\n",
              "\n",
              "    .colab-df-convert {\n",
              "      background-color: #E8F0FE;\n",
              "      border: none;\n",
              "      border-radius: 50%;\n",
              "      cursor: pointer;\n",
              "      display: none;\n",
              "      fill: #1967D2;\n",
              "      height: 32px;\n",
              "      padding: 0 0 0 0;\n",
              "      width: 32px;\n",
              "    }\n",
              "\n",
              "    .colab-df-convert:hover {\n",
              "      background-color: #E2EBFA;\n",
              "      box-shadow: 0px 1px 2px rgba(60, 64, 67, 0.3), 0px 1px 3px 1px rgba(60, 64, 67, 0.15);\n",
              "      fill: #174EA6;\n",
              "    }\n",
              "\n",
              "    [theme=dark] .colab-df-convert {\n",
              "      background-color: #3B4455;\n",
              "      fill: #D2E3FC;\n",
              "    }\n",
              "\n",
              "    [theme=dark] .colab-df-convert:hover {\n",
              "      background-color: #434B5C;\n",
              "      box-shadow: 0px 1px 3px 1px rgba(0, 0, 0, 0.15);\n",
              "      filter: drop-shadow(0px 1px 2px rgba(0, 0, 0, 0.3));\n",
              "      fill: #FFFFFF;\n",
              "    }\n",
              "  </style>\n",
              "\n",
              "      <script>\n",
              "        const buttonEl =\n",
              "          document.querySelector('#df-d147b778-4231-411b-9455-42d3a48f83ea button.colab-df-convert');\n",
              "        buttonEl.style.display =\n",
              "          google.colab.kernel.accessAllowed ? 'block' : 'none';\n",
              "\n",
              "        async function convertToInteractive(key) {\n",
              "          const element = document.querySelector('#df-d147b778-4231-411b-9455-42d3a48f83ea');\n",
              "          const dataTable =\n",
              "            await google.colab.kernel.invokeFunction('convertToInteractive',\n",
              "                                                     [key], {});\n",
              "          if (!dataTable) return;\n",
              "\n",
              "          const docLinkHtml = 'Like what you see? Visit the ' +\n",
              "            '<a target=\"_blank\" href=https://colab.research.google.com/notebooks/data_table.ipynb>data table notebook</a>'\n",
              "            + ' to learn more about interactive tables.';\n",
              "          element.innerHTML = '';\n",
              "          dataTable['output_type'] = 'display_data';\n",
              "          await google.colab.output.renderOutput(dataTable, element);\n",
              "          const docLink = document.createElement('div');\n",
              "          docLink.innerHTML = docLinkHtml;\n",
              "          element.appendChild(docLink);\n",
              "        }\n",
              "      </script>\n",
              "    </div>\n",
              "  </div>\n",
              "  "
            ]
          },
          "metadata": {},
          "execution_count": 34
        }
      ]
    },
    {
      "cell_type": "code",
      "source": [
        "#function to search for company name and return dataframe\n",
        "import json\n",
        "import requests\n",
        "#import pandas\n",
        "from pandas import json_normalize\n",
        "\n",
        "def commmerce_name_search(query):\n",
        "\n",
        "    username = \"****\"\n",
        "    password = \"****\"\n",
        "    url = 'https://www.zefix.admin.ch/ZefixPublicREST/api/v1/company/search'\n",
        "\n",
        "\n",
        "    #String Formatting\n",
        "    post_json = (\n",
        "\n",
        "    \"{\"  #first curly bracket\n",
        "    \"\\\"activeOnly\\\": true,\"  #--> key, value begins and ends with \\\" except for bool\n",
        "     f\"\\\"name\\\": \\\"{query}\\\"\"\n",
        "     \"}\" #last curly bracket\n",
        "     \n",
        "     )\n",
        "    #convert formatted string to json\n",
        "    payload = json.loads(post_json)\n",
        "\n",
        "    #define headers\n",
        "    headers = {\n",
        "    \"accept\": \"application/json\",\n",
        "    \"Content-Type\": \"application/json\"\n",
        "    }\n",
        "\n",
        "    #post request using above params\n",
        "    response = requests.post(url, \n",
        "                         headers=headers,\n",
        "                         auth=(username, password), \n",
        "                         json=payload)\n",
        "    \n",
        "    if response.status_code == 200:\n",
        "        commerce_search = response.json()\n",
        "        df = json_normalize(commerce_search)\n",
        "\n",
        "        #drop unwanted columns\n",
        "        df.drop(['ehraid','chid', 'legalSeatId',\n",
        "       'registryOfCommerceId', 'status', 'sogcDate', 'deletionDate',\n",
        "       'legalForm.id', 'legalForm.uid', 'legalForm.name.de',\n",
        "       'legalForm.name.fr', 'legalForm.name.it', 'legalForm.name.en',\n",
        "       'legalForm.shortName.de',\n",
        "       'legalForm.shortName.it', 'legalForm.shortName.en'], axis=1, inplace=True)\n",
        "        \n",
        "        #rename cols with new names\n",
        "        df[['Marques', 'IDE', 'Forme', 'Siège']] = df[['name', 'uid','legalSeat','legalForm.shortName.fr']]\n",
        "\n",
        "        #drop old names\n",
        "        df.drop([\"name\", \"uid\", \"legalSeat\", \"legalForm.shortName.fr\"], axis=1, inplace=True)\n",
        "\n",
        "        return df\n",
        "\n",
        "    else: \n",
        "        print(f\"Invalid User Authentification: {response.status_code}\")"
      ],
      "metadata": {
        "id": "aO2JZKXpgpXK"
      },
      "execution_count": null,
      "outputs": []
    },
    {
      "cell_type": "code",
      "source": [
        "commmerce_name_search('vaya')"
      ],
      "metadata": {
        "colab": {
          "base_uri": "https://localhost:8080/",
          "height": 175
        },
        "id": "pMjX1uiEB7_S",
        "outputId": "2c4b2e44-be19-43ad-a664-8b49671ffa15"
      },
      "execution_count": null,
      "outputs": [
        {
          "output_type": "execute_result",
          "data": {
            "text/plain": [
              "                      Marques           IDE      Forme Siège\n",
              "0                     Vaya AG  CHE386910268  Muntelier    SA\n",
              "1  Vaya Group, Joannis Vagias  CHE259794131   Zollikon    EI\n",
              "2                  Vayan Sàrl  CHE108542877       Broc  Sàrl\n",
              "3               vayatela GmbH  CHE175886713       Bern  Sàrl"
            ],
            "text/html": [
              "\n",
              "  <div id=\"df-25570bdb-7f8b-4221-874d-1df3473d2106\">\n",
              "    <div class=\"colab-df-container\">\n",
              "      <div>\n",
              "<style scoped>\n",
              "    .dataframe tbody tr th:only-of-type {\n",
              "        vertical-align: middle;\n",
              "    }\n",
              "\n",
              "    .dataframe tbody tr th {\n",
              "        vertical-align: top;\n",
              "    }\n",
              "\n",
              "    .dataframe thead th {\n",
              "        text-align: right;\n",
              "    }\n",
              "</style>\n",
              "<table border=\"1\" class=\"dataframe\">\n",
              "  <thead>\n",
              "    <tr style=\"text-align: right;\">\n",
              "      <th></th>\n",
              "      <th>Marques</th>\n",
              "      <th>IDE</th>\n",
              "      <th>Forme</th>\n",
              "      <th>Siège</th>\n",
              "    </tr>\n",
              "  </thead>\n",
              "  <tbody>\n",
              "    <tr>\n",
              "      <th>0</th>\n",
              "      <td>Vaya AG</td>\n",
              "      <td>CHE386910268</td>\n",
              "      <td>Muntelier</td>\n",
              "      <td>SA</td>\n",
              "    </tr>\n",
              "    <tr>\n",
              "      <th>1</th>\n",
              "      <td>Vaya Group, Joannis Vagias</td>\n",
              "      <td>CHE259794131</td>\n",
              "      <td>Zollikon</td>\n",
              "      <td>EI</td>\n",
              "    </tr>\n",
              "    <tr>\n",
              "      <th>2</th>\n",
              "      <td>Vayan Sàrl</td>\n",
              "      <td>CHE108542877</td>\n",
              "      <td>Broc</td>\n",
              "      <td>Sàrl</td>\n",
              "    </tr>\n",
              "    <tr>\n",
              "      <th>3</th>\n",
              "      <td>vayatela GmbH</td>\n",
              "      <td>CHE175886713</td>\n",
              "      <td>Bern</td>\n",
              "      <td>Sàrl</td>\n",
              "    </tr>\n",
              "  </tbody>\n",
              "</table>\n",
              "</div>\n",
              "      <button class=\"colab-df-convert\" onclick=\"convertToInteractive('df-25570bdb-7f8b-4221-874d-1df3473d2106')\"\n",
              "              title=\"Convert this dataframe to an interactive table.\"\n",
              "              style=\"display:none;\">\n",
              "        \n",
              "  <svg xmlns=\"http://www.w3.org/2000/svg\" height=\"24px\"viewBox=\"0 0 24 24\"\n",
              "       width=\"24px\">\n",
              "    <path d=\"M0 0h24v24H0V0z\" fill=\"none\"/>\n",
              "    <path d=\"M18.56 5.44l.94 2.06.94-2.06 2.06-.94-2.06-.94-.94-2.06-.94 2.06-2.06.94zm-11 1L8.5 8.5l.94-2.06 2.06-.94-2.06-.94L8.5 2.5l-.94 2.06-2.06.94zm10 10l.94 2.06.94-2.06 2.06-.94-2.06-.94-.94-2.06-.94 2.06-2.06.94z\"/><path d=\"M17.41 7.96l-1.37-1.37c-.4-.4-.92-.59-1.43-.59-.52 0-1.04.2-1.43.59L10.3 9.45l-7.72 7.72c-.78.78-.78 2.05 0 2.83L4 21.41c.39.39.9.59 1.41.59.51 0 1.02-.2 1.41-.59l7.78-7.78 2.81-2.81c.8-.78.8-2.07 0-2.86zM5.41 20L4 18.59l7.72-7.72 1.47 1.35L5.41 20z\"/>\n",
              "  </svg>\n",
              "      </button>\n",
              "      \n",
              "  <style>\n",
              "    .colab-df-container {\n",
              "      display:flex;\n",
              "      flex-wrap:wrap;\n",
              "      gap: 12px;\n",
              "    }\n",
              "\n",
              "    .colab-df-convert {\n",
              "      background-color: #E8F0FE;\n",
              "      border: none;\n",
              "      border-radius: 50%;\n",
              "      cursor: pointer;\n",
              "      display: none;\n",
              "      fill: #1967D2;\n",
              "      height: 32px;\n",
              "      padding: 0 0 0 0;\n",
              "      width: 32px;\n",
              "    }\n",
              "\n",
              "    .colab-df-convert:hover {\n",
              "      background-color: #E2EBFA;\n",
              "      box-shadow: 0px 1px 2px rgba(60, 64, 67, 0.3), 0px 1px 3px 1px rgba(60, 64, 67, 0.15);\n",
              "      fill: #174EA6;\n",
              "    }\n",
              "\n",
              "    [theme=dark] .colab-df-convert {\n",
              "      background-color: #3B4455;\n",
              "      fill: #D2E3FC;\n",
              "    }\n",
              "\n",
              "    [theme=dark] .colab-df-convert:hover {\n",
              "      background-color: #434B5C;\n",
              "      box-shadow: 0px 1px 3px 1px rgba(0, 0, 0, 0.15);\n",
              "      filter: drop-shadow(0px 1px 2px rgba(0, 0, 0, 0.3));\n",
              "      fill: #FFFFFF;\n",
              "    }\n",
              "  </style>\n",
              "\n",
              "      <script>\n",
              "        const buttonEl =\n",
              "          document.querySelector('#df-25570bdb-7f8b-4221-874d-1df3473d2106 button.colab-df-convert');\n",
              "        buttonEl.style.display =\n",
              "          google.colab.kernel.accessAllowed ? 'block' : 'none';\n",
              "\n",
              "        async function convertToInteractive(key) {\n",
              "          const element = document.querySelector('#df-25570bdb-7f8b-4221-874d-1df3473d2106');\n",
              "          const dataTable =\n",
              "            await google.colab.kernel.invokeFunction('convertToInteractive',\n",
              "                                                     [key], {});\n",
              "          if (!dataTable) return;\n",
              "\n",
              "          const docLinkHtml = 'Like what you see? Visit the ' +\n",
              "            '<a target=\"_blank\" href=https://colab.research.google.com/notebooks/data_table.ipynb>data table notebook</a>'\n",
              "            + ' to learn more about interactive tables.';\n",
              "          element.innerHTML = '';\n",
              "          dataTable['output_type'] = 'display_data';\n",
              "          await google.colab.output.renderOutput(dataTable, element);\n",
              "          const docLink = document.createElement('div');\n",
              "          docLink.innerHTML = docLinkHtml;\n",
              "          element.appendChild(docLink);\n",
              "        }\n",
              "      </script>\n",
              "    </div>\n",
              "  </div>\n",
              "  "
            ]
          },
          "metadata": {},
          "execution_count": 51
        }
      ]
    },
    {
      "cell_type": "code",
      "source": [],
      "metadata": {
        "id": "FzldeSTWAV9L"
      },
      "execution_count": null,
      "outputs": []
    }
  ]
}