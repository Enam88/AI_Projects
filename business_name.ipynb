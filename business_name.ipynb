{
  "nbformat": 4,
  "nbformat_minor": 0,
  "metadata": {
    "colab": {
      "provenance": [],
      "collapsed_sections": [],
      "authorship_tag": "ABX9TyNdD0pyRZNnd3ap7DfKfY0g"
    },
    "kernelspec": {
      "name": "python3",
      "display_name": "Python 3"
    },
    "language_info": {
      "name": "python"
    }
  },
  "cells": [
    {
      "cell_type": "code",
      "execution_count": null,
      "metadata": {
        "id": "Y9De57_gPaW3"
      },
      "outputs": [],
      "source": [
        "import requests\n",
        "import pandas as pd"
      ]
    },
    {
      "cell_type": "code",
      "source": [
        "username = \"****\"\n",
        "password = \"****\""
      ],
      "metadata": {
        "id": "uVri-6NYPdjc"
      },
      "execution_count": null,
      "outputs": []
    },
    {
      "cell_type": "markdown",
      "source": [
        "#Test Community"
      ],
      "metadata": {
        "id": "LirCJHsvYJyH"
      }
    },
    {
      "cell_type": "code",
      "source": [
        "url = 'https://www.zefix.admin.ch/ZefixPublicREST/api/v1/community'"
      ],
      "metadata": {
        "id": "FpPeCd5_SBFw"
      },
      "execution_count": null,
      "outputs": []
    },
    {
      "cell_type": "code",
      "source": [
        "response = requests.get(url, auth=(username, password))\n",
        "print(response.json())"
      ],
      "metadata": {
        "id": "6FVS-HqeSEKU"
      },
      "execution_count": null,
      "outputs": []
    },
    {
      "cell_type": "code",
      "source": [
        "response.headers"
      ],
      "metadata": {
        "colab": {
          "base_uri": "https://localhost:8080/"
        },
        "id": "iSokjcTEeCn1",
        "outputId": "77690f7e-9775-47cf-f7d5-fafc3a22005b"
      },
      "execution_count": null,
      "outputs": [
        {
          "output_type": "execute_result",
          "data": {
            "text/plain": [
              "{'X-Content-Type-Options': 'nosniff', 'X-XSS-Protection': '1; mode=block', 'Cache-Control': 'no-cache, no-store, max-age=0, must-revalidate', 'Pragma': 'no-cache', 'Expires': '0', 'Strict-Transport-Security': 'max-age=31536000 ; includeSubDomains', 'Date': 'Tue, 23 Aug 2022 13:47:32 GMT', 'Content-Type': 'application/json', 'Transfer-Encoding': 'chunked', 'X-Frame-Options': 'sameorigin', 'Connection': 'Keep-Alive'}"
            ]
          },
          "metadata": {},
          "execution_count": 8
        }
      ]
    },
    {
      "cell_type": "code",
      "source": [
        "test_data = response.json()"
      ],
      "metadata": {
        "id": "UhEYCpKQW280"
      },
      "execution_count": null,
      "outputs": []
    },
    {
      "cell_type": "code",
      "source": [
        "test_data"
      ],
      "metadata": {
        "id": "fAC35M0EzNVd"
      },
      "execution_count": null,
      "outputs": []
    },
    {
      "cell_type": "code",
      "source": [
        "from pandas import json_normalize \n",
        "\n",
        "df = json_normalize(test_data)\n",
        "df"
      ],
      "metadata": {
        "colab": {
          "base_uri": "https://localhost:8080/",
          "height": 423
        },
        "id": "ZpsZ6xmOWgtg",
        "outputId": "086b41be-2756-4b96-96f7-8569622ae6f1"
      },
      "execution_count": null,
      "outputs": [
        {
          "output_type": "execute_result",
          "data": {
            "text/plain": [
              "      bfsId canton          name  registryOfCommerceId\n",
              "0      4551     TG        Aadorf                   440\n",
              "1      4001     AG         Aarau                   400\n",
              "2       301     BE       Aarberg                    36\n",
              "3      4271     AG       Aarburg                   400\n",
              "4       321     BE     Aarwangen                    36\n",
              "...     ...    ...           ...                   ...\n",
              "2141   3426     SG   Zuzwil (SG)                   320\n",
              "2142    794     BE    Zweisimmen                    36\n",
              "2143    947     BE   Zwieselberg                    36\n",
              "2144   2793     BL       Zwingen                   280\n",
              "2145   6011     VS  Zwischbergen                   600\n",
              "\n",
              "[2146 rows x 4 columns]"
            ],
            "text/html": [
              "\n",
              "  <div id=\"df-4f7b55b3-f004-44c2-b98d-81a6a098c198\">\n",
              "    <div class=\"colab-df-container\">\n",
              "      <div>\n",
              "<style scoped>\n",
              "    .dataframe tbody tr th:only-of-type {\n",
              "        vertical-align: middle;\n",
              "    }\n",
              "\n",
              "    .dataframe tbody tr th {\n",
              "        vertical-align: top;\n",
              "    }\n",
              "\n",
              "    .dataframe thead th {\n",
              "        text-align: right;\n",
              "    }\n",
              "</style>\n",
              "<table border=\"1\" class=\"dataframe\">\n",
              "  <thead>\n",
              "    <tr style=\"text-align: right;\">\n",
              "      <th></th>\n",
              "      <th>bfsId</th>\n",
              "      <th>canton</th>\n",
              "      <th>name</th>\n",
              "      <th>registryOfCommerceId</th>\n",
              "    </tr>\n",
              "  </thead>\n",
              "  <tbody>\n",
              "    <tr>\n",
              "      <th>0</th>\n",
              "      <td>4551</td>\n",
              "      <td>TG</td>\n",
              "      <td>Aadorf</td>\n",
              "      <td>440</td>\n",
              "    </tr>\n",
              "    <tr>\n",
              "      <th>1</th>\n",
              "      <td>4001</td>\n",
              "      <td>AG</td>\n",
              "      <td>Aarau</td>\n",
              "      <td>400</td>\n",
              "    </tr>\n",
              "    <tr>\n",
              "      <th>2</th>\n",
              "      <td>301</td>\n",
              "      <td>BE</td>\n",
              "      <td>Aarberg</td>\n",
              "      <td>36</td>\n",
              "    </tr>\n",
              "    <tr>\n",
              "      <th>3</th>\n",
              "      <td>4271</td>\n",
              "      <td>AG</td>\n",
              "      <td>Aarburg</td>\n",
              "      <td>400</td>\n",
              "    </tr>\n",
              "    <tr>\n",
              "      <th>4</th>\n",
              "      <td>321</td>\n",
              "      <td>BE</td>\n",
              "      <td>Aarwangen</td>\n",
              "      <td>36</td>\n",
              "    </tr>\n",
              "    <tr>\n",
              "      <th>...</th>\n",
              "      <td>...</td>\n",
              "      <td>...</td>\n",
              "      <td>...</td>\n",
              "      <td>...</td>\n",
              "    </tr>\n",
              "    <tr>\n",
              "      <th>2141</th>\n",
              "      <td>3426</td>\n",
              "      <td>SG</td>\n",
              "      <td>Zuzwil (SG)</td>\n",
              "      <td>320</td>\n",
              "    </tr>\n",
              "    <tr>\n",
              "      <th>2142</th>\n",
              "      <td>794</td>\n",
              "      <td>BE</td>\n",
              "      <td>Zweisimmen</td>\n",
              "      <td>36</td>\n",
              "    </tr>\n",
              "    <tr>\n",
              "      <th>2143</th>\n",
              "      <td>947</td>\n",
              "      <td>BE</td>\n",
              "      <td>Zwieselberg</td>\n",
              "      <td>36</td>\n",
              "    </tr>\n",
              "    <tr>\n",
              "      <th>2144</th>\n",
              "      <td>2793</td>\n",
              "      <td>BL</td>\n",
              "      <td>Zwingen</td>\n",
              "      <td>280</td>\n",
              "    </tr>\n",
              "    <tr>\n",
              "      <th>2145</th>\n",
              "      <td>6011</td>\n",
              "      <td>VS</td>\n",
              "      <td>Zwischbergen</td>\n",
              "      <td>600</td>\n",
              "    </tr>\n",
              "  </tbody>\n",
              "</table>\n",
              "<p>2146 rows × 4 columns</p>\n",
              "</div>\n",
              "      <button class=\"colab-df-convert\" onclick=\"convertToInteractive('df-4f7b55b3-f004-44c2-b98d-81a6a098c198')\"\n",
              "              title=\"Convert this dataframe to an interactive table.\"\n",
              "              style=\"display:none;\">\n",
              "        \n",
              "  <svg xmlns=\"http://www.w3.org/2000/svg\" height=\"24px\"viewBox=\"0 0 24 24\"\n",
              "       width=\"24px\">\n",
              "    <path d=\"M0 0h24v24H0V0z\" fill=\"none\"/>\n",
              "    <path d=\"M18.56 5.44l.94 2.06.94-2.06 2.06-.94-2.06-.94-.94-2.06-.94 2.06-2.06.94zm-11 1L8.5 8.5l.94-2.06 2.06-.94-2.06-.94L8.5 2.5l-.94 2.06-2.06.94zm10 10l.94 2.06.94-2.06 2.06-.94-2.06-.94-.94-2.06-.94 2.06-2.06.94z\"/><path d=\"M17.41 7.96l-1.37-1.37c-.4-.4-.92-.59-1.43-.59-.52 0-1.04.2-1.43.59L10.3 9.45l-7.72 7.72c-.78.78-.78 2.05 0 2.83L4 21.41c.39.39.9.59 1.41.59.51 0 1.02-.2 1.41-.59l7.78-7.78 2.81-2.81c.8-.78.8-2.07 0-2.86zM5.41 20L4 18.59l7.72-7.72 1.47 1.35L5.41 20z\"/>\n",
              "  </svg>\n",
              "      </button>\n",
              "      \n",
              "  <style>\n",
              "    .colab-df-container {\n",
              "      display:flex;\n",
              "      flex-wrap:wrap;\n",
              "      gap: 12px;\n",
              "    }\n",
              "\n",
              "    .colab-df-convert {\n",
              "      background-color: #E8F0FE;\n",
              "      border: none;\n",
              "      border-radius: 50%;\n",
              "      cursor: pointer;\n",
              "      display: none;\n",
              "      fill: #1967D2;\n",
              "      height: 32px;\n",
              "      padding: 0 0 0 0;\n",
              "      width: 32px;\n",
              "    }\n",
              "\n",
              "    .colab-df-convert:hover {\n",
              "      background-color: #E2EBFA;\n",
              "      box-shadow: 0px 1px 2px rgba(60, 64, 67, 0.3), 0px 1px 3px 1px rgba(60, 64, 67, 0.15);\n",
              "      fill: #174EA6;\n",
              "    }\n",
              "\n",
              "    [theme=dark] .colab-df-convert {\n",
              "      background-color: #3B4455;\n",
              "      fill: #D2E3FC;\n",
              "    }\n",
              "\n",
              "    [theme=dark] .colab-df-convert:hover {\n",
              "      background-color: #434B5C;\n",
              "      box-shadow: 0px 1px 3px 1px rgba(0, 0, 0, 0.15);\n",
              "      filter: drop-shadow(0px 1px 2px rgba(0, 0, 0, 0.3));\n",
              "      fill: #FFFFFF;\n",
              "    }\n",
              "  </style>\n",
              "\n",
              "      <script>\n",
              "        const buttonEl =\n",
              "          document.querySelector('#df-4f7b55b3-f004-44c2-b98d-81a6a098c198 button.colab-df-convert');\n",
              "        buttonEl.style.display =\n",
              "          google.colab.kernel.accessAllowed ? 'block' : 'none';\n",
              "\n",
              "        async function convertToInteractive(key) {\n",
              "          const element = document.querySelector('#df-4f7b55b3-f004-44c2-b98d-81a6a098c198');\n",
              "          const dataTable =\n",
              "            await google.colab.kernel.invokeFunction('convertToInteractive',\n",
              "                                                     [key], {});\n",
              "          if (!dataTable) return;\n",
              "\n",
              "          const docLinkHtml = 'Like what you see? Visit the ' +\n",
              "            '<a target=\"_blank\" href=https://colab.research.google.com/notebooks/data_table.ipynb>data table notebook</a>'\n",
              "            + ' to learn more about interactive tables.';\n",
              "          element.innerHTML = '';\n",
              "          dataTable['output_type'] = 'display_data';\n",
              "          await google.colab.output.renderOutput(dataTable, element);\n",
              "          const docLink = document.createElement('div');\n",
              "          docLink.innerHTML = docLinkHtml;\n",
              "          element.appendChild(docLink);\n",
              "        }\n",
              "      </script>\n",
              "    </div>\n",
              "  </div>\n",
              "  "
            ]
          },
          "metadata": {},
          "execution_count": 11
        }
      ]
    },
    {
      "cell_type": "code",
      "source": [
        "commerce_name = response.json()"
      ],
      "metadata": {
        "id": "fRi6mvvmSUgK"
      },
      "execution_count": null,
      "outputs": []
    },
    {
      "cell_type": "code",
      "source": [
        "print(len(commerce_name))"
      ],
      "metadata": {
        "colab": {
          "base_uri": "https://localhost:8080/"
        },
        "id": "7bF_OdnST98h",
        "outputId": "44046a02-6884-4409-ca40-905285769796"
      },
      "execution_count": null,
      "outputs": [
        {
          "output_type": "stream",
          "name": "stdout",
          "text": [
            "2146\n"
          ]
        }
      ]
    },
    {
      "cell_type": "code",
      "source": [
        "print(type(commerce_name))"
      ],
      "metadata": {
        "colab": {
          "base_uri": "https://localhost:8080/"
        },
        "id": "f6xL3DmDSk-g",
        "outputId": "4813c250-dbfb-4a4c-e6bf-5e4effcb5057"
      },
      "execution_count": null,
      "outputs": [
        {
          "output_type": "stream",
          "name": "stdout",
          "text": [
            "<class 'list'>\n"
          ]
        }
      ]
    },
    {
      "cell_type": "markdown",
      "source": [
        "#Retrieve by business name or UID\n"
      ],
      "metadata": {
        "id": "BZWv0EkwTdLJ"
      }
    },
    {
      "cell_type": "code",
      "source": [
        "# {\n",
        "#   \"name\": \"Enam\",\n",
        "#   \"legalFormId\": 4,\n",
        "#   \"legalFormUid\": \"0107\",\n",
        "#   \"registryOfCommerceId\": 36,\n",
        "#   \"legalSeatId\": 623,\n",
        "#   \"canton\": \"BE\",\n",
        "#   \"activeOnly\": true\n",
        "# }url = 'https://www.zefix.admin.ch/ZefixPublicREST/api/v1/company/uid/CHE477413422'"
      ],
      "metadata": {
        "id": "HU_iCEsKSmUa"
      },
      "execution_count": null,
      "outputs": []
    },
    {
      "cell_type": "code",
      "source": [
        "query = 'legal'\n",
        "payload = {'name': 'Legal', 'activeOnly': True}"
      ],
      "metadata": {
        "id": "qZhyv0VQqA96"
      },
      "execution_count": null,
      "outputs": []
    },
    {
      "cell_type": "code",
      "source": [
        "r = requests.get(url, auth=(username, password))"
      ],
      "metadata": {
        "id": "abR56yvYU1xk"
      },
      "execution_count": null,
      "outputs": []
    },
    {
      "cell_type": "code",
      "source": [
        "print(r.json())"
      ],
      "metadata": {
        "colab": {
          "base_uri": "https://localhost:8080/"
        },
        "id": "Ny9_ewgvfsxQ",
        "outputId": "e156c3c6-db9a-43a8-8368-cb07d7dcaa18"
      },
      "execution_count": null,
      "outputs": [
        {
          "output_type": "stream",
          "name": "stdout",
          "text": [
            "[{'bfsId': 4551, 'canton': 'TG', 'name': 'Aadorf', 'registryOfCommerceId': 440}, {'bfsId': 4001, 'canton': 'AG', 'name': 'Aarau', 'registryOfCommerceId': 400}, {'bfsId': 301, 'canton': 'BE', 'name': 'Aarberg', 'registryOfCommerceId': 36}, {'bfsId': 4271, 'canton': 'AG', 'name': 'Aarburg', 'registryOfCommerceId': 400}, {'bfsId': 321, 'canton': 'BE', 'name': 'Aarwangen', 'registryOfCommerceId': 36}, {'bfsId': 4221, 'canton': 'AG', 'name': 'Abtwil', 'registryOfCommerceId': 400}, {'bfsId': 5621, 'canton': 'VD', 'name': 'Aclens', 'registryOfCommerceId': 550}, {'bfsId': 5048, 'canton': 'TI', 'name': 'Acquarossa', 'registryOfCommerceId': 501}, {'bfsId': 561, 'canton': 'BE', 'name': 'Adelboden', 'registryOfCommerceId': 36}, {'bfsId': 1051, 'canton': 'LU', 'name': 'Adligenswil', 'registryOfCommerceId': 100}, {'bfsId': 21, 'canton': 'ZH', 'name': 'Adlikon', 'registryOfCommerceId': 20}, {'bfsId': 131, 'canton': 'ZH', 'name': 'Adliswil', 'registryOfCommerceId': 20}, {'bfsId': 2421, 'canton': 'SO', 'name': 'Aedermannsdorf', 'registryOfCommerceId': 241}, {'bfsId': 401, 'canton': 'BE', 'name': 'Aefligen', 'registryOfCommerceId': 36}, {'bfsId': 731, 'canton': 'BE', 'name': 'Aegerten', 'registryOfCommerceId': 36}, {'bfsId': 2761, 'canton': 'BL', 'name': 'Aesch (BL)', 'registryOfCommerceId': 280}, {'bfsId': 562, 'canton': 'BE', 'name': 'Aeschi bei Spiez', 'registryOfCommerceId': 36}, {'bfsId': 2511, 'canton': 'SO', 'name': 'Aeschi (SO)', 'registryOfCommerceId': 241}, {'bfsId': 1021, 'canton': 'LU', 'name': 'Aesch (LU)', 'registryOfCommerceId': 100}, {'bfsId': 241, 'canton': 'ZH', 'name': 'Aesch (ZH)', 'registryOfCommerceId': 20}, {'bfsId': 1, 'canton': 'ZH', 'name': 'Aeugst am Albis', 'registryOfCommerceId': 20}, {'bfsId': 4711, 'canton': 'TG', 'name': 'Affeltrangen', 'registryOfCommerceId': 440}, {'bfsId': 2, 'canton': 'ZH', 'name': 'Affoltern am Albis', 'registryOfCommerceId': 20}, {'bfsId': 951, 'canton': 'BE', 'name': 'Affoltern im Emmental', 'registryOfCommerceId': 36}, {'bfsId': 6101, 'canton': 'VS', 'name': 'Agarn', 'registryOfCommerceId': 600}, {'bfsId': 5742, 'canton': 'VD', 'name': 'Agiez', 'registryOfCommerceId': 550}, {'bfsId': 5141, 'canton': 'TI', 'name': 'Agno', 'registryOfCommerceId': 501}, {'bfsId': 5401, 'canton': 'VD', 'name': 'Aigle', 'registryOfCommerceId': 550}, {'bfsId': 6601, 'canton': 'GE', 'name': 'Aire-la-Ville', 'registryOfCommerceId': 660}, {'bfsId': 5061, 'canton': 'TI', 'name': 'Airolo', 'registryOfCommerceId': 501}, {'bfsId': 1121, 'canton': 'LU', 'name': 'Alberswil', 'registryOfCommerceId': 100}, {'bfsId': 6102, 'canton': 'VS', 'name': 'Albinen', 'registryOfCommerceId': 600}, {'bfsId': 3542, 'canton': 'GR', 'name': 'Albula/Alvra', 'registryOfCommerceId': 350}, {'bfsId': 402, 'canton': 'BE', 'name': 'Alchenstorf', 'registryOfCommerceId': 36}, {'bfsId': 5851, 'canton': 'VD', 'name': 'Allaman', 'registryOfCommerceId': 550}, {'bfsId': 6771, 'canton': 'JU', 'name': 'Alle', 'registryOfCommerceId': 670}, {'bfsId': 630, 'canton': 'BE', 'name': 'Allmendingen', 'registryOfCommerceId': 36}, {'bfsId': 2762, 'canton': 'BL', 'name': 'Allschwil', 'registryOfCommerceId': 280}, {'bfsId': 1401, 'canton': 'OW', 'name': 'Alpnach', 'registryOfCommerceId': 140}, {'bfsId': 1361, 'canton': 'SZ', 'name': 'Alpthal', 'registryOfCommerceId': 130}, {'bfsId': 1122, 'canton': 'LU', 'name': 'Altbüron', 'registryOfCommerceId': 100}, {'bfsId': 1201, 'canton': 'UR', 'name': 'Altdorf (UR)', 'registryOfCommerceId': 120}, {'bfsId': 1341, 'canton': 'SZ', 'name': 'Altendorf', 'registryOfCommerceId': 130}, {'bfsId': 211, 'canton': 'ZH', 'name': 'Altikon', 'registryOfCommerceId': 20}, {'bfsId': 1123, 'canton': 'LU', 'name': 'Altishofen', 'registryOfCommerceId': 100}, {'bfsId': 4641, 'canton': 'TG', 'name': 'Altnau', 'registryOfCommerceId': 440}, {'bfsId': 5237, 'canton': 'TI', 'name': 'Alto Malcantone', 'registryOfCommerceId': 501}, {'bfsId': 3251, 'canton': 'SG', 'name': 'Altstätten', 'registryOfCommerceId': 320}, {'bfsId': 3311, 'canton': 'SG', 'name': 'Amden', 'registryOfCommerceId': 320}, {'bfsId': 4881, 'canton': 'TG', 'name': 'Amlikon-Bissegg', 'registryOfCommerceId': 440}, {'bfsId': 4191, 'canton': 'AG', 'name': 'Ammerswil', 'registryOfCommerceId': 400}, {'bfsId': 4461, 'canton': 'TG', 'name': 'Amriswil', 'registryOfCommerceId': 440}, {'bfsId': 921, 'canton': 'BE', 'name': 'Amsoldingen', 'registryOfCommerceId': 36}, {'bfsId': 3701, 'canton': 'GR', 'name': 'Andeer', 'registryOfCommerceId': 350}, {'bfsId': 30, 'canton': 'ZH', 'name': 'Andelfingen', 'registryOfCommerceId': 20}, {'bfsId': 1202, 'canton': 'UR', 'name': 'Andermatt', 'registryOfCommerceId': 120}, {'bfsId': 3441, 'canton': 'SG', 'name': 'Andwil (SG)', 'registryOfCommerceId': 320}, {'bfsId': 6602, 'canton': 'GE', 'name': 'Anières', 'registryOfCommerceId': 660}, {'bfsId': 6252, 'canton': 'VS', 'name': 'Anniviers', 'registryOfCommerceId': 626}, {'bfsId': 2841, 'canton': 'BL', 'name': 'Anwil', 'registryOfCommerceId': 280}, {'bfsId': 3101, 'canton': 'AI', 'name': 'Appenzell', 'registryOfCommerceId': 310}, {'bfsId': 5143, 'canton': 'TI', 'name': 'Aranno', 'registryOfCommerceId': 501}, {'bfsId': 6261, 'canton': 'VS', 'name': 'Arbaz', 'registryOfCommerceId': 626}, {'bfsId': 5001, 'canton': 'TI', 'name': 'Arbedo-Castione', 'registryOfCommerceId': 501}, {'bfsId': 2881, 'canton': 'BL', 'name': 'Arboldswil', 'registryOfCommerceId': 280}, {'bfsId': 4401, 'canton': 'TG', 'name': 'Arbon', 'registryOfCommerceId': 440}, {'bfsId': 381, 'canton': 'BE', 'name': 'Arch', 'registryOfCommerceId': 36}, {'bfsId': 6021, 'canton': 'VS', 'name': 'Ardon', 'registryOfCommerceId': 626}, {'bfsId': 2821, 'canton': 'BL', 'name': 'Arisdorf', 'registryOfCommerceId': 280}, {'bfsId': 4222, 'canton': 'AG', 'name': 'Aristau', 'registryOfCommerceId': 400}, {'bfsId': 2763, 'canton': 'BL', 'name': 'Arlesheim', 'registryOfCommerceId': 280}, {'bfsId': 5701, 'canton': 'VD', 'name': 'Arnex-sur-Nyon', 'registryOfCommerceId': 550}, {'bfsId': 5743, 'canton': 'VD', 'name': 'Arnex-sur-Orbe', 'registryOfCommerceId': 550}, {'bfsId': 4061, 'canton': 'AG', 'name': 'Arni (AG)', 'registryOfCommerceId': 400}, {'bfsId': 602, 'canton': 'BE', 'name': 'Arni (BE)', 'registryOfCommerceId': 36}, {'bfsId': 5144, 'canton': 'TI', 'name': 'Arogno', 'registryOfCommerceId': 501}, {'bfsId': 3921, 'canton': 'GR', 'name': 'Arosa', 'registryOfCommerceId': 350}, {'bfsId': 1362, 'canton': 'SZ', 'name': 'Arth', 'registryOfCommerceId': 130}, {'bfsId': 5702, 'canton': 'VD', 'name': 'Arzier-Le Muids', 'registryOfCommerceId': 550}, {'bfsId': 5091, 'canton': 'TI', 'name': 'Ascona', 'registryOfCommerceId': 501}, {'bfsId': 5511, 'canton': 'VD', 'name': 'Assens', 'registryOfCommerceId': 550}, {'bfsId': 5146, 'canton': 'TI', 'name': 'Astano', 'registryOfCommerceId': 501}, {'bfsId': 2321, 'canton': 'FR', 'name': 'Attalens', 'registryOfCommerceId': 217}, {'bfsId': 1203, 'canton': 'UR', 'name': 'Attinghausen', 'registryOfCommerceId': 120}, {'bfsId': 971, 'canton': 'BE', 'name': 'Attiswil', 'registryOfCommerceId': 36}, {'bfsId': 5422, 'canton': 'VD', 'name': 'Aubonne', 'registryOfCommerceId': 550}, {'bfsId': 2061, 'canton': 'FR', 'name': 'Auboranges', 'registryOfCommerceId': 217}, {'bfsId': 4091, 'canton': 'AG', 'name': 'Auenstein', 'registryOfCommerceId': 400}, {'bfsId': 2822, 'canton': 'BL', 'name': 'Augst', 'registryOfCommerceId': 280}, {'bfsId': 3231, 'canton': 'SG', 'name': 'Au (SG)', 'registryOfCommerceId': 320}, {'bfsId': 6191, 'canton': 'VS', 'name': 'Ausserberg', 'registryOfCommerceId': 600}, {'bfsId': 322, 'canton': 'BE', 'name': 'Auswil', 'registryOfCommerceId': 36}, {'bfsId': 2173, 'canton': 'FR', 'name': 'Autigny', 'registryOfCommerceId': 217}, {'bfsId': 4223, 'canton': 'AG', 'name': 'Auw', 'registryOfCommerceId': 400}, {'bfsId': 5324, 'canton': 'TI', 'name': 'Avegno Gordevio', 'registryOfCommerceId': 501}, {'bfsId': 5451, 'canton': 'VD', 'name': 'Avenches', 'registryOfCommerceId': 550}, {'bfsId': 3681, 'canton': 'GR', 'name': 'Avers', 'registryOfCommerceId': 350}, {'bfsId': 2174, 'canton': 'FR', 'name': 'Avry', 'registryOfCommerceId': 217}, {'bfsId': 6603, 'canton': 'GE', 'name': 'Avully', 'registryOfCommerceId': 660}, {'bfsId': 6604, 'canton': 'GE', 'name': 'Avusy', 'registryOfCommerceId': 660}, {'bfsId': 6082, 'canton': 'VS', 'name': 'Ayent', 'registryOfCommerceId': 626}, {'bfsId': 1701, 'canton': 'ZG', 'name': 'Baar', 'registryOfCommerceId': 170}, {'bfsId': 51, 'canton': 'ZH', 'name': 'Bachenbülach', 'registryOfCommerceId': 20}, {'bfsId': 81, 'canton': 'ZH', 'name': 'Bachs', 'registryOfCommerceId': 20}, {'bfsId': 4021, 'canton': 'AG', 'name': 'Baden', 'registryOfCommerceId': 400}, {'bfsId': 3291, 'canton': 'SG', 'name': 'Bad Ragaz', 'registryOfCommerceId': 320}, {'bfsId': 5242, 'canton': 'TI', 'name': 'Balerna', 'registryOfCommerceId': 501}, {'bfsId': 3232, 'canton': 'SG', 'name': 'Balgach', 'registryOfCommerceId': 320}, {'bfsId': 5744, 'canton': 'VD', 'name': 'Ballaigues', 'registryOfCommerceId': 550}, {'bfsId': 5423, 'canton': 'VD', 'name': 'Ballens', 'registryOfCommerceId': 550}, {'bfsId': 1023, 'canton': 'LU', 'name': 'Ballwil', 'registryOfCommerceId': 100}, {'bfsId': 2541, 'canton': 'SO', 'name': 'Balm bei Günsberg', 'registryOfCommerceId': 241}, {'bfsId': 2422, 'canton': 'SO', 'name': 'Balsthal', 'registryOfCommerceId': 241}, {'bfsId': 6281, 'canton': 'VS', 'name': 'Baltschieder', 'registryOfCommerceId': 600}, {'bfsId': 323, 'canton': 'BE', 'name': 'Bannwil', 'registryOfCommerceId': 36}, {'bfsId': 6605, 'canton': 'GE', 'name': 'Bardonnex', 'registryOfCommerceId': 660}, {'bfsId': 111, 'canton': 'ZH', 'name': 'Bäretswil', 'registryOfCommerceId': 20}, {'bfsId': 302, 'canton': 'BE', 'name': 'Bargen (BE)', 'registryOfCommerceId': 36}, {'bfsId': 2931, 'canton': 'SH', 'name': 'Bargen (SH)', 'registryOfCommerceId': 290}, {'bfsId': 403, 'canton': 'BE', 'name': 'Bäriswil', 'registryOfCommerceId': 36}, {'bfsId': 2611, 'canton': 'SO', 'name': 'Bärschwil', 'registryOfCommerceId': 241}, {'bfsId': 4536, 'canton': 'TG', 'name': 'Basadingen-Schlattingen', 'registryOfCommerceId': 440}, {'bfsId': 2701, 'canton': 'BS', 'name': 'Basel', 'registryOfCommerceId': 270}, {'bfsId': 2162, 'canton': 'FR', 'name': 'Bas-Intyamon', 'registryOfCommerceId': 217}, {'bfsId': 6807, 'canton': 'JU', 'name': 'Basse-Allaine', 'registryOfCommerceId': 670}, {'bfsId': 52, 'canton': 'ZH', 'name': 'Bassersdorf', 'registryOfCommerceId': 20}, {'bfsId': 5703, 'canton': 'VD', 'name': 'Bassins', 'registryOfCommerceId': 550}, {'bfsId': 533, 'canton': 'BE', 'name': 'Bätterkinden', 'registryOfCommerceId': 36}, {'bfsId': 2471, 'canton': 'SO', 'name': 'Bättwil', 'registryOfCommerceId': 241}, {'bfsId': 5745, 'canton': 'VD', 'name': 'Baulmes', 'registryOfCommerceId': 550}, {'bfsId': 297, 'canton': 'ZH', 'name': 'Bauma', 'registryOfCommerceId': 20}, {'bfsId': 5746, 'canton': 'VD', 'name': 'Bavois', 'registryOfCommerceId': 550}, {'bfsId': 571, 'canton': 'BE', 'name': 'Beatenberg', 'registryOfCommerceId': 36}, {'bfsId': 1501, 'canton': 'NW', 'name': 'Beckenried', 'registryOfCommerceId': 150}, {'bfsId': 5148, 'canton': 'TI', 'name': 'Bedano', 'registryOfCommerceId': 501}, {'bfsId': 5149, 'canton': 'TI', 'name': 'Bedigliora', 'registryOfCommerceId': 501}, {'bfsId': 5063, 'canton': 'TI', 'name': 'Bedretto', 'registryOfCommerceId': 501}, {'bfsId': 2951, 'canton': 'SH', 'name': 'Beggingen', 'registryOfCommerceId': 290}, {'bfsId': 5704, 'canton': 'VD', 'name': 'Begnins', 'registryOfCommerceId': 550}, {'bfsId': 4131, 'canton': 'AG', 'name': 'Beinwil am See', 'registryOfCommerceId': 400}, {'bfsId': 4224, 'canton': 'AG', 'name': 'Beinwil (Freiamt)', 'registryOfCommerceId': 400}, {'bfsId': 2612, 'canton': 'SO', 'name': 'Beinwil (SO)', 'registryOfCommerceId': 241}, {'bfsId': 2175, 'canton': 'FR', 'name': 'Belfaux', 'registryOfCommerceId': 217}, {'bfsId': 2542, 'canton': 'SO', 'name': 'Bellach', 'registryOfCommerceId': 241}, {'bfsId': 6606, 'canton': 'GE', 'name': 'Bellevue', 'registryOfCommerceId': 660}, {'bfsId': 4022, 'canton': 'AG', 'name': 'Bellikon', 'registryOfCommerceId': 400}, {'bfsId': 5002, 'canton': 'TI', 'name': 'Bellinzona', 'registryOfCommerceId': 501}, {'bfsId': 732, 'canton': 'BE', 'name': 'Bellmund', 'registryOfCommerceId': 36}, {'bfsId': 6052, 'canton': 'VS', 'name': 'Bellwald', 'registryOfCommerceId': 600}, {'bfsId': 2053, 'canton': 'FR', 'name': 'Belmont-Broye', 'registryOfCommerceId': 217}, {'bfsId': 5581, 'canton': 'VD', 'name': 'Belmont-sur-Lausanne', 'registryOfCommerceId': 550}, {'bfsId': 5902, 'canton': 'VD', 'name': 'Belmont-sur-Yverdon', 'registryOfCommerceId': 550}, {'bfsId': 861, 'canton': 'BE', 'name': 'Belp', 'registryOfCommerceId': 36}, {'bfsId': 681, 'canton': 'BE', 'name': 'Belprahon', 'registryOfCommerceId': 36}, {'bfsId': 3312, 'canton': 'SG', 'name': 'Benken (SG)', 'registryOfCommerceId': 320}, {'bfsId': 22, 'canton': 'ZH', 'name': 'Benken (ZH)', 'registryOfCommerceId': 20}, {'bfsId': 2882, 'canton': 'BL', 'name': 'Bennwil', 'registryOfCommerceId': 280}, {'bfsId': 5512, 'canton': 'VD', 'name': 'Bercher', 'registryOfCommerceId': 550}, {'bfsId': 23, 'canton': 'ZH', 'name': 'Berg am Irchel', 'registryOfCommerceId': 20}, {'bfsId': 4023, 'canton': 'AG', 'name': 'Bergdietikon', 'registryOfCommerceId': 400}, {'bfsId': 3211, 'canton': 'SG', 'name': 'Berg (SG)', 'registryOfCommerceId': 320}, {'bfsId': 4891, 'canton': 'TG', 'name': 'Berg (TG)', 'registryOfCommerceId': 440}, {'bfsId': 3544, 'canton': 'GR', 'name': 'Bergün Filisur', 'registryOfCommerceId': 350}, {'bfsId': 4062, 'canton': 'AG', 'name': 'Berikon', 'registryOfCommerceId': 400}, {'bfsId': 2932, 'canton': 'SH', 'name': 'Beringen', 'registryOfCommerceId': 290}, {'bfsId': 972, 'canton': 'BE', 'name': 'Berken', 'registryOfCommerceId': 36}, {'bfsId': 4801, 'canton': 'TG', 'name': 'Berlingen', 'registryOfCommerceId': 440}, {'bfsId': 351, 'canton': 'BE', 'name': 'Bern', 'registryOfCommerceId': 36}, {'bfsId': 3233, 'canton': 'SG', 'name': 'Berneck', 'registryOfCommerceId': 320}, {'bfsId': 6607, 'canton': 'GE', 'name': 'Bernex', 'registryOfCommerceId': 660}, {'bfsId': 5424, 'canton': 'VD', 'name': 'Berolle', 'registryOfCommerceId': 550}, {'bfsId': 1081, 'canton': 'LU', 'name': 'Beromünster', 'registryOfCommerceId': 100}, {'bfsId': 4226, 'canton': 'AG', 'name': 'Besenbüren', 'registryOfCommerceId': 400}, {'bfsId': 973, 'canton': 'BE', 'name': 'Bettenhausen', 'registryOfCommerceId': 36}, {'bfsId': 5471, 'canton': 'VD', 'name': 'Bettens', 'registryOfCommerceId': 550}, {'bfsId': 2702, 'canton': 'BS', 'name': 'Bettingen', 'registryOfCommerceId': 270}, {'bfsId': 2543, 'canton': 'SO', 'name': 'Bettlach', 'registryOfCommerceId': 241}, {'bfsId': 6205, 'canton': 'VS', 'name': 'Bettmeralp', 'registryOfCommerceId': 600}, {'bfsId': 4716, 'canton': 'TG', 'name': 'Bettwiesen', 'registryOfCommerceId': 440}, {'bfsId': 4227, 'canton': 'AG', 'name': 'Bettwil', 'registryOfCommerceId': 400}, {'bfsId': 6773, 'canton': 'JU', 'name': 'Beurnevésin', 'registryOfCommerceId': 670}, {'bfsId': 3781, 'canton': 'GR', 'name': 'Bever', 'registryOfCommerceId': 350}, {'bfsId': 5402, 'canton': 'VD', 'name': 'Bex', 'registryOfCommerceId': 550}, {'bfsId': 5281, 'canton': 'TI', 'name': 'Biasca', 'registryOfCommerceId': 501}, {'bfsId': 2513, 'canton': 'SO', 'name': 'Biberist', 'registryOfCommerceId': 241}, {'bfsId': 4002, 'canton': 'AG', 'name': 'Biberstein', 'registryOfCommerceId': 400}, {'bfsId': 4721, 'canton': 'TG', 'name': 'Bichelsee-Balterswil', 'registryOfCommerceId': 440}, {'bfsId': 2764, 'canton': 'BL', 'name': 'Biel-Benken', 'registryOfCommerceId': 280}, {'bfsId': 371, 'canton': 'BE', 'name': 'Biel/Bienne', 'registryOfCommerceId': 36}, {'bfsId': 5425, 'canton': 'VD', 'name': 'Bière', 'registryOfCommerceId': 550}, {'bfsId': 2445, 'canton': 'SO', 'name': 'Biezwil', 'registryOfCommerceId': 241}, {'bfsId': 603, 'canton': 'BE', 'name': 'Biglen', 'registryOfCommerceId': 36}, {'bfsId': 2063, 'canton': 'FR', 'name': 'Billens-Hennens', 'registryOfCommerceId': 217}, {'bfsId': 6054, 'canton': 'VS', 'name': 'Binn', 'registryOfCommerceId': 600}, {'bfsId': 2765, 'canton': 'BL', 'name': 'Binningen', 'registryOfCommerceId': 280}, {'bfsId': 5151, 'canton': 'TI', 'name': 'Bioggio', 'registryOfCommerceId': 501}, {'bfsId': 5903, 'canton': 'VD', 'name': 'Bioley-Magnoux', 'registryOfCommerceId': 550}, {'bfsId': 242, 'canton': 'ZH', 'name': 'Birmensdorf (ZH)', 'registryOfCommerceId': 20}, {'bfsId': 4024, 'canton': 'AG', 'name': 'Birmenstorf (AG)', 'registryOfCommerceId': 400}, {'bfsId': 4092, 'canton': 'AG', 'name': 'Birr', 'registryOfCommerceId': 400}, {'bfsId': 4093, 'canton': 'AG', 'name': 'Birrhard', 'registryOfCommerceId': 400}, {'bfsId': 4132, 'canton': 'AG', 'name': 'Birrwil', 'registryOfCommerceId': 400}, {'bfsId': 2766, 'canton': 'BL', 'name': 'Birsfelden', 'registryOfCommerceId': 280}, {'bfsId': 4901, 'canton': 'TG', 'name': 'Birwinken', 'registryOfCommerceId': 440}, {'bfsId': 4471, 'canton': 'TG', 'name': 'Bischofszell', 'registryOfCommerceId': 440}, {'bfsId': 5154, 'canton': 'TI', 'name': 'Bissone', 'registryOfCommerceId': 501}, {'bfsId': 6172, 'canton': 'VS', 'name': 'Bister', 'registryOfCommerceId': 600}, {'bfsId': 6173, 'canton': 'VS', 'name': 'Bitsch', 'registryOfCommerceId': 600}, {'bfsId': 6192, 'canton': 'VS', 'name': 'Blatten', 'registryOfCommerceId': 600}, {'bfsId': 2781, 'canton': 'BL', 'name': 'Blauen', 'registryOfCommerceId': 280}, {'bfsId': 324, 'canton': 'BE', 'name': 'Bleienbach', 'registryOfCommerceId': 36}, {'bfsId': 5049, 'canton': 'TI', 'name': 'Blenio', 'registryOfCommerceId': 501}, {'bfsId': 5892, 'canton': 'VD', 'name': 'Blonay - Saint-Légier', 'registryOfCommerceId': 550}, {'bfsId': 922, 'canton': 'BE', 'name': 'Blumenstein', 'registryOfCommerceId': 36}, {'bfsId': 2842, 'canton': 'BL', 'name': 'Böckten', 'registryOfCommerceId': 280}, {'bfsId': 5064, 'canton': 'TI', 'name': 'Bodio', 'registryOfCommerceId': 501}, {'bfsId': 6702, 'canton': 'JU', 'name': 'Boécourt', 'registryOfCommerceId': 670}, {'bfsId': 5747, 'canton': 'VD', 'name': 'Bofflens', 'registryOfCommerceId': 550}, {'bfsId': 5705, 'canton': 'VD', 'name': 'Bogis-Bossey', 'registryOfCommerceId': 550}, {'bfsId': 2238, 'canton': 'FR', 'name': \"Bois-d'Amont\", 'registryOfCommerceId': 217}, {'bfsId': 2514, 'canton': 'SO', 'name': 'Bolken', 'registryOfCommerceId': 241}, {'bfsId': 352, 'canton': 'BE', 'name': 'Bolligen', 'registryOfCommerceId': 36}, {'bfsId': 791, 'canton': 'BE', 'name': 'Boltigen', 'registryOfCommerceId': 36}, {'bfsId': 3721, 'canton': 'GR', 'name': 'Bonaduz', 'registryOfCommerceId': 350}, {'bfsId': 6774, 'canton': 'JU', 'name': 'Boncourt', 'registryOfCommerceId': 670}, {'bfsId': 6775, 'canton': 'JU', 'name': 'Bonfol', 'registryOfCommerceId': 670}, {'bfsId': 572, 'canton': 'BE', 'name': 'Bönigen', 'registryOfCommerceId': 36}, {'bfsId': 2571, 'canton': 'SO', 'name': 'Boningen', 'registryOfCommerceId': 241}, {'bfsId': 4192, 'canton': 'AG', 'name': 'Boniswil', 'registryOfCommerceId': 400}, {'bfsId': 3, 'canton': 'ZH', 'name': 'Bonstetten', 'registryOfCommerceId': 20}, {'bfsId': 5551, 'canton': 'VD', 'name': 'Bonvillars', 'registryOfCommerceId': 550}, {'bfsId': 82, 'canton': 'ZH', 'name': 'Boppelsen', 'registryOfCommerceId': 20}, {'bfsId': 5706, 'canton': 'VD', 'name': 'Borex', 'registryOfCommerceId': 550}, {'bfsId': 5304, 'canton': 'TI', 'name': 'Bosco/Gurin', 'registryOfCommerceId': 501}, {'bfsId': 2295, 'canton': 'FR', 'name': 'Bösingen', 'registryOfCommerceId': 217}, {'bfsId': 2323, 'canton': 'FR', 'name': 'Bossonnens', 'registryOfCommerceId': 217}, {'bfsId': 4228, 'canton': 'AG', 'name': 'Boswil', 'registryOfCommerceId': 400}, {'bfsId': 5514, 'canton': 'VD', 'name': 'Bottens', 'registryOfCommerceId': 550}, {'bfsId': 4273, 'canton': 'AG', 'name': 'Bottenwil', 'registryOfCommerceId': 400}, {'bfsId': 2123, 'canton': 'FR', 'name': 'Botterens', 'registryOfCommerceId': 217}, {'bfsId': 4643, 'canton': 'TG', 'name': 'Bottighofen', 'registryOfCommerceId': 440}, {'bfsId': 2767, 'canton': 'BL', 'name': 'Bottmingen', 'registryOfCommerceId': 280}, {'bfsId': 4303, 'canton': 'AG', 'name': 'Böttstein', 'registryOfCommerceId': 400}, {'bfsId': 6404, 'canton': 'NE', 'name': 'Boudry', 'registryOfCommerceId': 645}, {'bfsId': 5426, 'canton': 'VD', 'name': 'Bougy-Villars', 'registryOfCommerceId': 550}, {'bfsId': 5661, 'canton': 'VD', 'name': 'Boulens', 'registryOfCommerceId': 550}, {'bfsId': 5613, 'canton': 'VD', 'name': 'Bourg-en-Lavaux', 'registryOfCommerceId': 550}, {'bfsId': 6032, 'canton': 'VS', 'name': 'Bourg-Saint-Pierre', 'registryOfCommerceId': 621}, {'bfsId': 5472, 'canton': 'VD', 'name': 'Bournens', 'registryOfCommerceId': 550}, {'bfsId': 6703, 'canton': 'JU', 'name': 'Bourrignon', 'registryOfCommerceId': 670}, {'bfsId': 5473, 'canton': 'VD', 'name': 'Boussens', 'registryOfCommerceId': 550}, {'bfsId': 6131, 'canton': 'VS', 'name': 'Bovernier', 'registryOfCommerceId': 621}, {'bfsId': 605, 'canton': 'BE', 'name': 'Bowil', 'registryOfCommerceId': 36}, {'bfsId': 4124, 'canton': 'AG', 'name': 'Bözberg', 'registryOfCommerceId': 400}, {'bfsId': 4185, 'canton': 'AG', 'name': 'Böztal', 'registryOfCommerceId': 400}, {'bfsId': 4723, 'canton': 'TG', 'name': 'Braunau', 'registryOfCommerceId': 440}, {'bfsId': 3792, 'canton': 'GR', 'name': 'Bregaglia', 'registryOfCommerceId': 350}, {'bfsId': 5269, 'canton': 'TI', 'name': 'Breggia', 'registryOfCommerceId': 501}, {'bfsId': 3981, 'canton': 'GR', 'name': 'Breil/Brigels', 'registryOfCommerceId': 350}, {'bfsId': 2613, 'canton': 'SO', 'name': 'Breitenbach', 'registryOfCommerceId': 241}, {'bfsId': 5622, 'canton': 'VD', 'name': 'Bremblens', 'registryOfCommerceId': 550}, {'bfsId': 4063, 'canton': 'AG', 'name': 'Bremgarten (AG)', 'registryOfCommerceId': 400}, {'bfsId': 353, 'canton': 'BE', 'name': 'Bremgarten bei Bern', 'registryOfCommerceId': 36}, {'bfsId': 606, 'canton': 'BE', 'name': 'Brenzikofen', 'registryOfCommerceId': 36}, {'bfsId': 5515, 'canton': 'VD', 'name': 'Bretigny-sur-Morrens', 'registryOfCommerceId': 550}, {'bfsId': 5748, 'canton': 'VD', 'name': 'Bretonnières', 'registryOfCommerceId': 550}, {'bfsId': 2883, 'canton': 'BL', 'name': 'Bretzwil', 'registryOfCommerceId': 280}, {'bfsId': 573, 'canton': 'BE', 'name': 'Brienz (BE)', 'registryOfCommerceId': 36}, {'bfsId': 574, 'canton': 'BE', 'name': 'Brienzwiler', 'registryOfCommerceId': 36}, {'bfsId': 6002, 'canton': 'VS', 'name': 'Brig-Glis', 'registryOfCommerceId': 600}, {'bfsId': 5096, 'canton': 'TI', 'name': 'Brione sopra Minusio', 'registryOfCommerceId': 501}, {'bfsId': 2782, 'canton': 'BL', 'name': 'Brislach', 'registryOfCommerceId': 280}, {'bfsId': 5097, 'canton': 'TI', 'name': 'Brissago', 'registryOfCommerceId': 501}, {'bfsId': 4274, 'canton': 'AG', 'name': 'Brittnau', 'registryOfCommerceId': 400}, {'bfsId': 2124, 'canton': 'FR', 'name': 'Broc', 'registryOfCommerceId': 217}, {'bfsId': 6433, 'canton': 'NE', 'name': 'Brot-Plamboz', 'registryOfCommerceId': 645}, {'bfsId': 4095, 'canton': 'AG', 'name': 'Brugg', 'registryOfCommerceId': 400}, {'bfsId': 733, 'canton': 'BE', 'name': 'Brügg', 'registryOfCommerceId': 36}, {'bfsId': 4193, 'canton': 'AG', 'name': 'Brunegg', 'registryOfCommerceId': 400}, {'bfsId': 2292, 'canton': 'FR', 'name': 'Brünisried', 'registryOfCommerceId': 217}, {'bfsId': 5160, 'canton': 'TI', 'name': 'Brusino Arsizio', 'registryOfCommerceId': 501}, {'bfsId': 3551, 'canton': 'GR', 'name': 'Brusio', 'registryOfCommerceId': 350}, {'bfsId': 491, 'canton': 'BE', 'name': 'Brüttelen', 'registryOfCommerceId': 36}, {'bfsId': 213, 'canton': 'ZH', 'name': 'Brütten', 'registryOfCommerceId': 20}, {'bfsId': 2823, 'canton': 'BL', 'name': 'Bubendorf', 'registryOfCommerceId': 280}, {'bfsId': 112, 'canton': 'ZH', 'name': 'Bubikon', 'registryOfCommerceId': 20}, {'bfsId': 24, 'canton': 'ZH', 'name': 'Buch am Irchel', 'registryOfCommerceId': 20}, {'bfsId': 2933, 'canton': 'SH', 'name': 'Buchberg', 'registryOfCommerceId': 290}, {'bfsId': 2465, 'canton': 'SO', 'name': 'Buchegg', 'registryOfCommerceId': 241}, {'bfsId': 923, 'canton': 'BE', 'name': 'Buchholterberg', 'registryOfCommerceId': 36}, {'bfsId': 5623, 'canton': 'VD', 'name': 'Buchillon', 'registryOfCommerceId': 550}, {'bfsId': 1052, 'canton': 'LU', 'name': 'Buchrain', 'registryOfCommerceId': 100}, {'bfsId': 4003, 'canton': 'AG', 'name': 'Buchs (AG)', 'registryOfCommerceId': 400}, {'bfsId': 2961, 'canton': 'SH', 'name': 'Buch (SH)', 'registryOfCommerceId': 290}, {'bfsId': 3271, 'canton': 'SG', 'name': 'Buchs (SG)', 'registryOfCommerceId': 320}, {'bfsId': 83, 'canton': 'ZH', 'name': 'Buchs (ZH)', 'registryOfCommerceId': 20}, {'bfsId': 2843, 'canton': 'BL', 'name': 'Buckten', 'registryOfCommerceId': 280}, {'bfsId': 382, 'canton': 'BE', 'name': 'Büetigen', 'registryOfCommerceId': 36}, {'bfsId': 734, 'canton': 'BE', 'name': 'Bühl', 'registryOfCommerceId': 36}, {'bfsId': 3021, 'canton': 'AR', 'name': 'Bühler', 'registryOfCommerceId': 300}, {'bfsId': 53, 'canton': 'ZH', 'name': 'Bülach', 'registryOfCommerceId': 20}, {'bfsId': 2125, 'canton': 'FR', 'name': 'Bulle', 'registryOfCommerceId': 217}, {'bfsId': 5552, 'canton': 'VD', 'name': 'Bullet', 'registryOfCommerceId': 550}, {'bfsId': 4229, 'canton': 'AG', 'name': 'Bünzen', 'registryOfCommerceId': 400}, {'bfsId': 1502, 'canton': 'NW', 'name': 'Buochs', 'registryOfCommerceId': 150}, {'bfsId': 6193, 'canton': 'VS', 'name': 'Bürchen', 'registryOfCommerceId': 600}, {'bfsId': 6778, 'canton': 'JU', 'name': 'Bure', 'registryOfCommerceId': 670}, {'bfsId': 383, 'canton': 'BE', 'name': 'Büren an der Aare', 'registryOfCommerceId': 36}, {'bfsId': 2472, 'canton': 'SO', 'name': 'Büren (SO)', 'registryOfCommerceId': 241}, {'bfsId': 4133, 'canton': 'AG', 'name': 'Burg (AG)', 'registryOfCommerceId': 400}, {'bfsId': 404, 'canton': 'BE', 'name': 'Burgdorf', 'registryOfCommerceId': 36}, {'bfsId': 2783, 'canton': 'BL', 'name': 'Burg im Leimental', 'registryOfCommerceId': 280}, {'bfsId': 863, 'canton': 'BE', 'name': 'Burgistein', 'registryOfCommerceId': 36}, {'bfsId': 4911, 'canton': 'TG', 'name': 'Bürglen (TG)', 'registryOfCommerceId': 440}, {'bfsId': 1205, 'canton': 'UR', 'name': 'Bürglen (UR)', 'registryOfCommerceId': 120}, {'bfsId': 1082, 'canton': 'LU', 'name': 'Büron', 'registryOfCommerceId': 100}, {'bfsId': 5852, 'canton': 'VD', 'name': 'Bursinel', 'registryOfCommerceId': 550}, {'bfsId': 5853, 'canton': 'VD', 'name': 'Bursins', 'registryOfCommerceId': 550}, {'bfsId': 5854, 'canton': 'VD', 'name': 'Burtigny', 'registryOfCommerceId': 550}, {'bfsId': 3804, 'canton': 'GR', 'name': 'Buseno', 'registryOfCommerceId': 350}, {'bfsId': 2614, 'canton': 'SO', 'name': 'Büsserach', 'registryOfCommerceId': 241}, {'bfsId': 5624, 'canton': 'VD', 'name': 'Bussigny', 'registryOfCommerceId': 550}, {'bfsId': 4921, 'canton': 'TG', 'name': 'Bussnang', 'registryOfCommerceId': 440}, {'bfsId': 325, 'canton': 'BE', 'name': 'Busswil bei Melchnau', 'registryOfCommerceId': 36}, {'bfsId': 5663, 'canton': 'VD', 'name': 'Bussy-sur-Moudon', 'registryOfCommerceId': 550}, {'bfsId': 3395, 'canton': 'SG', 'name': 'Bütschwil-Ganterschwil', 'registryOfCommerceId': 320}, {'bfsId': 2914, 'canton': 'SH', 'name': 'Büttenhardt', 'registryOfCommerceId': 290}, {'bfsId': 4064, 'canton': 'AG', 'name': 'Büttikon', 'registryOfCommerceId': 400}, {'bfsId': 1083, 'canton': 'LU', 'name': 'Buttisholz', 'registryOfCommerceId': 100}, {'bfsId': 4230, 'canton': 'AG', 'name': 'Buttwil', 'registryOfCommerceId': 400}, {'bfsId': 2844, 'canton': 'BL', 'name': 'Buus', 'registryOfCommerceId': 280}, {'bfsId': 5161, 'canton': 'TI', 'name': 'Cademario', 'registryOfCommerceId': 501}, {'bfsId': 5162, 'canton': 'TI', 'name': 'Cadempino', 'registryOfCommerceId': 501}, {'bfsId': 5003, 'canton': 'TI', 'name': 'Cadenazzo', 'registryOfCommerceId': 501}, {'bfsId': 3837, 'canton': 'GR', 'name': 'Calanca', 'registryOfCommerceId': 350}, {'bfsId': 3831, 'canton': 'GR', 'name': 'Cama', 'registryOfCommerceId': 350}, {'bfsId': 5307, 'canton': 'TI', 'name': 'Campo (Vallemaggia)', 'registryOfCommerceId': 501}, {'bfsId': 5167, 'canton': 'TI', 'name': 'Canobbio', 'registryOfCommerceId': 501}, {'bfsId': 5226, 'canton': 'TI', 'name': 'Capriasca', 'registryOfCommerceId': 501}, {'bfsId': 6608, 'canton': 'GE', 'name': 'Carouge (GE)', 'registryOfCommerceId': 660}, {'bfsId': 6609, 'canton': 'GE', 'name': 'Cartigny', 'registryOfCommerceId': 660}, {'bfsId': 5171, 'canton': 'TI', 'name': 'Caslano', 'registryOfCommerceId': 501}, {'bfsId': 3805, 'canton': 'GR', 'name': 'Castaneda', 'registryOfCommerceId': 350}, {'bfsId': 5249, 'canton': 'TI', 'name': 'Castel San Pietro', 'registryOfCommerceId': 501}, {'bfsId': 3661, 'canton': 'GR', 'name': 'Cazis', 'registryOfCommerceId': 350}, {'bfsId': 3782, 'canton': 'GR', 'name': 'Celerina/Schlarigna', 'registryOfCommerceId': 350}, {'bfsId': 6610, 'canton': 'GE', 'name': 'Céligny', 'registryOfCommerceId': 660}, {'bfsId': 5397, 'canton': 'TI', 'name': 'Centovalli', 'registryOfCommerceId': 501}, {'bfsId': 5309, 'canton': 'TI', 'name': 'Cerentino', 'registryOfCommerceId': 501}, {'bfsId': 5310, 'canton': 'TI', 'name': 'Cevio', 'registryOfCommerceId': 501}, {'bfsId': 6232, 'canton': 'VS', 'name': 'Chalais', 'registryOfCommerceId': 626}, {'bfsId': 1702, 'canton': 'ZG', 'name': 'Cham', 'registryOfCommerceId': 170}, {'bfsId': 5904, 'canton': 'VD', 'name': 'Chamblon', 'registryOfCommerceId': 550}, {'bfsId': 6022, 'canton': 'VS', 'name': 'Chamoson', 'registryOfCommerceId': 626}, {'bfsId': 5553, 'canton': 'VD', 'name': 'Champagne', 'registryOfCommerceId': 550}, {'bfsId': 6151, 'canton': 'VS', 'name': 'Champéry', 'registryOfCommerceId': 621}, {'bfsId': 683, 'canton': 'BE', 'name': 'Champoz', 'registryOfCommerceId': 36}, {'bfsId': 5812, 'canton': 'VD', 'name': 'Champtauroz', 'registryOfCommerceId': 550}, {'bfsId': 5905, 'canton': 'VD', 'name': 'Champvent', 'registryOfCommerceId': 550}, {'bfsId': 6611, 'canton': 'GE', 'name': 'Chancy', 'registryOfCommerceId': 660}, {'bfsId': 2066, 'canton': 'FR', 'name': 'Chapelle (Glâne)', 'registryOfCommerceId': 217}, {'bfsId': 5882, 'canton': 'VD', 'name': 'Chardonne', 'registryOfCommerceId': 550}, {'bfsId': 5841, 'canton': 'VD', 'name': \"Château-d'Oex\", 'registryOfCommerceId': 550}, {'bfsId': 2325, 'canton': 'FR', 'name': 'Châtel-Saint-Denis', 'registryOfCommerceId': 217}, {'bfsId': 2128, 'canton': 'FR', 'name': 'Châtel-sur-Montsalvens', 'registryOfCommerceId': 217}, {'bfsId': 2008, 'canton': 'FR', 'name': 'Châtillon (FR)', 'registryOfCommerceId': 217}, {'bfsId': 6704, 'canton': 'JU', 'name': 'Châtillon (JU)', 'registryOfCommerceId': 670}, {'bfsId': 2068, 'canton': 'FR', 'name': 'Châtonnaye', 'registryOfCommerceId': 217}, {'bfsId': 5707, 'canton': 'VD', 'name': 'Chavannes-de-Bogis', 'registryOfCommerceId': 550}, {'bfsId': 5708, 'canton': 'VD', 'name': 'Chavannes-des-Bois', 'registryOfCommerceId': 550}, {'bfsId': 5907, 'canton': 'VD', 'name': 'Chavannes-le-Chêne', 'registryOfCommerceId': 550}, {'bfsId': 5475, 'canton': 'VD', 'name': 'Chavannes-le-Veyron', 'registryOfCommerceId': 550}, {'bfsId': 5627, 'canton': 'VD', 'name': 'Chavannes-près-Renens', 'registryOfCommerceId': 550}, {'bfsId': 5665, 'canton': 'VD', 'name': 'Chavannes-sur-Moudon', 'registryOfCommerceId': 550}, {'bfsId': 5749, 'canton': 'VD', 'name': 'Chavornay', 'registryOfCommerceId': 550}, {'bfsId': 6612, 'canton': 'GE', 'name': 'Chêne-Bougeries', 'registryOfCommerceId': 660}, {'bfsId': 6613, 'canton': 'GE', 'name': 'Chêne-Bourg', 'registryOfCommerceId': 660}, {'bfsId': 2177, 'canton': 'FR', 'name': 'Chénens', 'registryOfCommerceId': 217}, {'bfsId': 5908, 'canton': 'VD', 'name': 'Chêne-Pâquier', 'registryOfCommerceId': 550}, {'bfsId': 5909, 'canton': 'VD', 'name': 'Cheseaux-Noréaz', 'registryOfCommerceId': 550}, {'bfsId': 5582, 'canton': 'VD', 'name': 'Cheseaux-sur-Lausanne', 'registryOfCommerceId': 550}, {'bfsId': 5709, 'canton': 'VD', 'name': 'Chéserex', 'registryOfCommerceId': 550}, {'bfsId': 5403, 'canton': 'VD', 'name': 'Chessel', 'registryOfCommerceId': 550}, {'bfsId': 5476, 'canton': 'VD', 'name': 'Chevilly', 'registryOfCommerceId': 550}, {'bfsId': 5813, 'canton': 'VD', 'name': 'Chevroux', 'registryOfCommerceId': 550}, {'bfsId': 5601, 'canton': 'VD', 'name': 'Chexbres', 'registryOfCommerceId': 550}, {'bfsId': 2055, 'canton': 'FR', 'name': 'Cheyres-Châbles', 'registryOfCommerceId': 217}, {'bfsId': 5250, 'canton': 'TI', 'name': 'Chiasso', 'registryOfCommerceId': 501}, {'bfsId': 5628, 'canton': 'VD', 'name': 'Chigny', 'registryOfCommerceId': 550}, {'bfsId': 6235, 'canton': 'VS', 'name': 'Chippis', 'registryOfCommerceId': 626}, {'bfsId': 6614, 'canton': 'GE', 'name': 'Choulex', 'registryOfCommerceId': 660}, {'bfsId': 3901, 'canton': 'GR', 'name': 'Chur', 'registryOfCommerceId': 350}, {'bfsId': 3911, 'canton': 'GR', 'name': 'Churwalden', 'registryOfCommerceId': 350}, {'bfsId': 5629, 'canton': 'VD', 'name': 'Clarmont', 'registryOfCommerceId': 550}, {'bfsId': 6808, 'canton': 'JU', 'name': 'Clos du Doubs', 'registryOfCommerceId': 670}, {'bfsId': 6781, 'canton': 'JU', 'name': 'Coeuve', 'registryOfCommerceId': 670}, {'bfsId': 5710, 'canton': 'VD', 'name': 'Coinsins', 'registryOfCommerceId': 550}, {'bfsId': 5251, 'canton': 'TI', 'name': 'Coldrerio', 'registryOfCommerceId': 501}, {'bfsId': 6615, 'canton': 'GE', 'name': 'Collex-Bossy', 'registryOfCommerceId': 660}, {'bfsId': 5236, 'canton': 'TI', 'name': \"Collina d'Oro\", 'registryOfCommerceId': 501}, {'bfsId': 6152, 'canton': 'VS', 'name': 'Collombey-Muraz', 'registryOfCommerceId': 621}, {'bfsId': 6616, 'canton': 'GE', 'name': 'Collonge-Bellerive', 'registryOfCommerceId': 660}, {'bfsId': 6211, 'canton': 'VS', 'name': 'Collonges', 'registryOfCommerceId': 621}, {'bfsId': 6617, 'canton': 'GE', 'name': 'Cologny', 'registryOfCommerceId': 660}, {'bfsId': 5176, 'canton': 'TI', 'name': 'Comano', 'registryOfCommerceId': 501}, {'bfsId': 5711, 'canton': 'VD', 'name': 'Commugny', 'registryOfCommerceId': 550}, {'bfsId': 5554, 'canton': 'VD', 'name': 'Concise', 'registryOfCommerceId': 550}, {'bfsId': 6618, 'canton': 'GE', 'name': 'Confignon', 'registryOfCommerceId': 660}, {'bfsId': 3881, 'canton': 'GR', 'name': 'Conters im Prättigau', 'registryOfCommerceId': 350}, {'bfsId': 6023, 'canton': 'VS', 'name': 'Conthey', 'registryOfCommerceId': 626}, {'bfsId': 5712, 'canton': 'VD', 'name': 'Coppet', 'registryOfCommerceId': 550}, {'bfsId': 5404, 'canton': 'VD', 'name': 'Corbeyrier', 'registryOfCommerceId': 550}, {'bfsId': 2129, 'canton': 'FR', 'name': 'Corbières', 'registryOfCommerceId': 217}, {'bfsId': 687, 'canton': 'BE', 'name': 'Corcelles (BE)', 'registryOfCommerceId': 36}, {'bfsId': 5785, 'canton': 'VD', 'name': 'Corcelles-le-Jorat', 'registryOfCommerceId': 550}, {'bfsId': 5555, 'canton': 'VD', 'name': 'Corcelles-près-Concise', 'registryOfCommerceId': 550}, {'bfsId': 5816, 'canton': 'VD', 'name': 'Corcelles-près-Payerne', 'registryOfCommerceId': 550}, {'bfsId': 431, 'canton': 'BE', 'name': 'Corgémont', 'registryOfCommerceId': 36}, {'bfsId': 2183, 'canton': 'FR', 'name': 'Corminboeuf', 'registryOfCommerceId': 217}, {'bfsId': 432, 'canton': 'BE', 'name': 'Cormoret', 'registryOfCommerceId': 36}, {'bfsId': 6451, 'canton': 'NE', 'name': 'Cornaux', 'registryOfCommerceId': 645}, {'bfsId': 6782, 'canton': 'JU', 'name': 'Cornol', 'registryOfCommerceId': 670}, {'bfsId': 5883, 'canton': 'VD', 'name': 'Corseaux', 'registryOfCommerceId': 550}, {'bfsId': 6619, 'canton': 'GE', 'name': 'Corsier (GE)', 'registryOfCommerceId': 660}, {'bfsId': 5884, 'canton': 'VD', 'name': 'Corsier-sur-Vevey', 'registryOfCommerceId': 550}, {'bfsId': 6408, 'canton': 'NE', 'name': 'Cortaillod', 'registryOfCommerceId': 645}, {'bfsId': 433, 'canton': 'BE', 'name': 'Cortébert', 'registryOfCommerceId': 36}, {'bfsId': 5477, 'canton': 'VD', 'name': 'Cossonay', 'registryOfCommerceId': 550}, {'bfsId': 2186, 'canton': 'FR', 'name': 'Cottens (FR)', 'registryOfCommerceId': 217}, {'bfsId': 6706, 'canton': 'JU', 'name': 'Courchapoix', 'registryOfCommerceId': 670}, {'bfsId': 6783, 'canton': 'JU', 'name': 'Courchavon', 'registryOfCommerceId': 670}, {'bfsId': 6784, 'canton': 'JU', 'name': 'Courgenay', 'registryOfCommerceId': 670}, {'bfsId': 2250, 'canton': 'FR', 'name': 'Courgevaux', 'registryOfCommerceId': 217}, {'bfsId': 6708, 'canton': 'JU', 'name': 'Courrendlin', 'registryOfCommerceId': 670}, {'bfsId': 6709, 'canton': 'JU', 'name': 'Courroux', 'registryOfCommerceId': 670}, {'bfsId': 690, 'canton': 'BE', 'name': 'Court', 'registryOfCommerceId': 36}, {'bfsId': 6785, 'canton': 'JU', 'name': 'Courtedoux', 'registryOfCommerceId': 670}, {'bfsId': 434, 'canton': 'BE', 'name': 'Courtelary', 'registryOfCommerceId': 36}, {'bfsId': 2254, 'canton': 'FR', 'name': 'Courtepin', 'registryOfCommerceId': 217}, {'bfsId': 6710, 'canton': 'JU', 'name': 'Courtételle', 'registryOfCommerceId': 670}, {'bfsId': 6253, 'canton': 'VS', 'name': 'Crans-Montana', 'registryOfCommerceId': 626}, {'bfsId': 5713, 'canton': 'VD', 'name': 'Crans (VD)', 'registryOfCommerceId': 550}, {'bfsId': 5714, 'canton': 'VD', 'name': 'Crassier', 'registryOfCommerceId': 550}, {'bfsId': 691, 'canton': 'BE', 'name': 'Crémines', 'registryOfCommerceId': 36}, {'bfsId': 2257, 'canton': 'FR', 'name': 'Cressier (FR)', 'registryOfCommerceId': 217}, {'bfsId': 6452, 'canton': 'NE', 'name': 'Cressier (NE)', 'registryOfCommerceId': 645}, {'bfsId': 2130, 'canton': 'FR', 'name': 'Crésuz', 'registryOfCommerceId': 217}, {'bfsId': 5583, 'canton': 'VD', 'name': 'Crissier', 'registryOfCommerceId': 550}, {'bfsId': 5910, 'canton': 'VD', 'name': 'Cronay', 'registryOfCommerceId': 550}, {'bfsId': 5752, 'canton': 'VD', 'name': 'Croy', 'registryOfCommerceId': 550}, {'bfsId': 5479, 'canton': 'VD', 'name': 'Cuarnens', 'registryOfCommerceId': 550}, {'bfsId': 5911, 'canton': 'VD', 'name': 'Cuarny', 'registryOfCommerceId': 550}, {'bfsId': 5456, 'canton': 'VD', 'name': 'Cudrefin', 'registryOfCommerceId': 550}, {'bfsId': 5138, 'canton': 'TI', 'name': 'Cugnasco-Gerra', 'registryOfCommerceId': 501}, {'bfsId': 2011, 'canton': 'FR', 'name': 'Cugy (FR)', 'registryOfCommerceId': 217}, {'bfsId': 5516, 'canton': 'VD', 'name': 'Cugy (VD)', 'registryOfCommerceId': 550}, {'bfsId': 5180, 'canton': 'TI', 'name': 'Cureglia', 'registryOfCommerceId': 501}, {'bfsId': 5181, 'canton': 'TI', 'name': 'Curio', 'registryOfCommerceId': 501}, {'bfsId': 5669, 'canton': 'VD', 'name': 'Curtilles', 'registryOfCommerceId': 550}, {'bfsId': 25, 'canton': 'ZH', 'name': 'Dachsen', 'registryOfCommerceId': 20}, {'bfsId': 214, 'canton': 'ZH', 'name': 'Dägerlen', 'registryOfCommerceId': 20}, {'bfsId': 1125, 'canton': 'LU', 'name': 'Dagmersellen', 'registryOfCommerceId': 100}, {'bfsId': 5480, 'canton': 'VD', 'name': 'Daillens', 'registryOfCommerceId': 550}, {'bfsId': 1503, 'canton': 'NW', 'name': 'Dallenwil', 'registryOfCommerceId': 150}, {'bfsId': 84, 'canton': 'ZH', 'name': 'Dällikon', 'registryOfCommerceId': 20}, {'bfsId': 5071, 'canton': 'TI', 'name': 'Dalpe', 'registryOfCommerceId': 501}, {'bfsId': 6787, 'canton': 'JU', 'name': 'Damphreux', 'registryOfCommerceId': 670}, {'bfsId': 2572, 'canton': 'SO', 'name': 'Däniken', 'registryOfCommerceId': 241}, {'bfsId': 85, 'canton': 'ZH', 'name': 'Dänikon', 'registryOfCommerceId': 20}, {'bfsId': 6620, 'canton': 'GE', 'name': 'Dardagny', 'registryOfCommerceId': 660}, {'bfsId': 575, 'canton': 'BE', 'name': 'Därligen', 'registryOfCommerceId': 36}, {'bfsId': 761, 'canton': 'BE', 'name': 'Därstetten', 'registryOfCommerceId': 36}, {'bfsId': 215, 'canton': 'ZH', 'name': 'Dättlikon', 'registryOfCommerceId': 20}, {'bfsId': 3851, 'canton': 'GR', 'name': 'Davos', 'registryOfCommerceId': 350}, {'bfsId': 3401, 'canton': 'SG', 'name': 'Degersheim', 'registryOfCommerceId': 320}, {'bfsId': 535, 'canton': 'BE', 'name': 'Deisswil bei Münchenbuchsee', 'registryOfCommerceId': 36}, {'bfsId': 2516, 'canton': 'SO', 'name': 'Deitingen', 'registryOfCommerceId': 241}, {'bfsId': 6711, 'canton': 'JU', 'name': 'Delémont', 'registryOfCommerceId': 670}, {'bfsId': 2051, 'canton': 'FR', 'name': 'Delley-Portalban', 'registryOfCommerceId': 217}, {'bfsId': 5912, 'canton': 'VD', 'name': 'Démoret', 'registryOfCommerceId': 550}, {'bfsId': 5631, 'canton': 'VD', 'name': 'Denens', 'registryOfCommerceId': 550}, {'bfsId': 5632, 'canton': 'VD', 'name': 'Denges', 'registryOfCommerceId': 550}, {'bfsId': 4004, 'canton': 'AG', 'name': 'Densbüren', 'registryOfCommerceId': 400}, {'bfsId': 2517, 'canton': 'SO', 'name': 'Derendingen', 'registryOfCommerceId': 241}, {'bfsId': 6712, 'canton': 'JU', 'name': 'Develier', 'registryOfCommerceId': 670}, {'bfsId': 2884, 'canton': 'BL', 'name': 'Diegten', 'registryOfCommerceId': 280}, {'bfsId': 86, 'canton': 'ZH', 'name': 'Dielsdorf', 'registryOfCommerceId': 20}, {'bfsId': 536, 'canton': 'BE', 'name': 'Diemerswil', 'registryOfCommerceId': 36}, {'bfsId': 762, 'canton': 'BE', 'name': 'Diemtigen', 'registryOfCommerceId': 36}, {'bfsId': 2845, 'canton': 'BL', 'name': 'Diepflingen', 'registryOfCommerceId': 280}, {'bfsId': 3234, 'canton': 'SG', 'name': 'Diepoldsau', 'registryOfCommerceId': 320}, {'bfsId': 1053, 'canton': 'LU', 'name': 'Dierikon', 'registryOfCommerceId': 100}, {'bfsId': 385, 'canton': 'BE', 'name': 'Diessbach bei Büren', 'registryOfCommerceId': 36}, {'bfsId': 4545, 'canton': 'TG', 'name': 'Diessenhofen', 'registryOfCommerceId': 440}, {'bfsId': 243, 'canton': 'ZH', 'name': 'Dietikon', 'registryOfCommerceId': 20}, {'bfsId': 54, 'canton': 'ZH', 'name': 'Dietlikon', 'registryOfCommerceId': 20}, {'bfsId': 4231, 'canton': 'AG', 'name': 'Dietwil', 'registryOfCommerceId': 400}, {'bfsId': 216, 'canton': 'ZH', 'name': 'Dinhard', 'registryOfCommerceId': 20}, {'bfsId': 4194, 'canton': 'AG', 'name': 'Dintikon', 'registryOfCommerceId': 400}, {'bfsId': 3982, 'canton': 'GR', 'name': 'Disentis/Mustér', 'registryOfCommerceId': 350}, {'bfsId': 2784, 'canton': 'BL', 'name': 'Dittingen', 'registryOfCommerceId': 280}, {'bfsId': 5481, 'canton': 'VD', 'name': 'Dizy', 'registryOfCommerceId': 550}, {'bfsId': 3722, 'canton': 'GR', 'name': 'Domat/Ems', 'registryOfCommerceId': 350}, {'bfsId': 3673, 'canton': 'GR', 'name': 'Domleschg', 'registryOfCommerceId': 350}, {'bfsId': 5671, 'canton': 'VD', 'name': 'Dompierre (VD)', 'registryOfCommerceId': 550}, {'bfsId': 5913, 'canton': 'VD', 'name': 'Donneloye', 'registryOfCommerceId': 550}, {'bfsId': 1001, 'canton': 'LU', 'name': 'Doppleschwand', 'registryOfCommerceId': 100}, {'bfsId': 6212, 'canton': 'VS', 'name': 'Dorénaz', 'registryOfCommerceId': 621}, {'bfsId': 26, 'canton': 'ZH', 'name': 'Dorf', 'registryOfCommerceId': 20}, {'bfsId': 2915, 'canton': 'SH', 'name': 'Dörflingen', 'registryOfCommerceId': 290}, {'bfsId': 2473, 'canton': 'SO', 'name': 'Dornach', 'registryOfCommerceId': 241}, {'bfsId': 4065, 'canton': 'AG', 'name': 'Dottikon', 'registryOfCommerceId': 400}, {'bfsId': 4304, 'canton': 'AG', 'name': 'Döttingen', 'registryOfCommerceId': 400}, {'bfsId': 386, 'canton': 'BE', 'name': 'Dotzigen', 'registryOfCommerceId': 36}, {'bfsId': 4406, 'canton': 'TG', 'name': 'Dozwil', 'registryOfCommerceId': 440}, {'bfsId': 2535, 'canton': 'SO', 'name': 'Drei Höfe', 'registryOfCommerceId': 241}, {'bfsId': 191, 'canton': 'ZH', 'name': 'Dübendorf', 'registryOfCommerceId': 20}, {'bfsId': 2293, 'canton': 'FR', 'name': 'Düdingen', 'registryOfCommerceId': 217}, {'bfsId': 2785, 'canton': 'BL', 'name': 'Duggingen', 'registryOfCommerceId': 280}, {'bfsId': 5715, 'canton': 'VD', 'name': 'Duillier', 'registryOfCommerceId': 550}, {'bfsId': 2573, 'canton': 'SO', 'name': 'Dulliken', 'registryOfCommerceId': 241}, {'bfsId': 5855, 'canton': 'VD', 'name': 'Dully', 'registryOfCommerceId': 550}, {'bfsId': 113, 'canton': 'ZH', 'name': 'Dürnten', 'registryOfCommerceId': 20}, {'bfsId': 4134, 'canton': 'AG', 'name': 'Dürrenäsch', 'registryOfCommerceId': 400}, {'bfsId': 952, 'canton': 'BE', 'name': 'Dürrenroth', 'registryOfCommerceId': 36}, {'bfsId': 1054, 'canton': 'LU', 'name': 'Ebikon', 'registryOfCommerceId': 100}, {'bfsId': 3352, 'canton': 'SG', 'name': 'Ebnat-Kappel', 'registryOfCommerceId': 320}, {'bfsId': 5518, 'canton': 'VD', 'name': 'Echallens', 'registryOfCommerceId': 550}, {'bfsId': 5633, 'canton': 'VD', 'name': 'Echandens', 'registryOfCommerceId': 550}, {'bfsId': 2131, 'canton': 'FR', 'name': 'Echarlens', 'registryOfCommerceId': 217}, {'bfsId': 5634, 'canton': 'VD', 'name': 'Echichens', 'registryOfCommerceId': 550}, {'bfsId': 5482, 'canton': 'VD', 'name': 'Eclépens', 'registryOfCommerceId': 550}, {'bfsId': 2072, 'canton': 'FR', 'name': 'Ecublens (FR)', 'registryOfCommerceId': 217}, {'bfsId': 5635, 'canton': 'VD', 'name': 'Ecublens (VD)', 'registryOfCommerceId': 550}, {'bfsId': 6713, 'canton': 'JU', 'name': 'Ederswiler', 'registryOfCommerceId': 670}, {'bfsId': 2401, 'canton': 'SO', 'name': 'Egerkingen', 'registryOfCommerceId': 241}, {'bfsId': 192, 'canton': 'ZH', 'name': 'Egg', 'registryOfCommerceId': 20}, {'bfsId': 4066, 'canton': 'AG', 'name': 'Eggenwil', 'registryOfCommerceId': 400}, {'bfsId': 6004, 'canton': 'VS', 'name': 'Eggerberg', 'registryOfCommerceId': 600}, {'bfsId': 3212, 'canton': 'SG', 'name': 'Eggersriet', 'registryOfCommerceId': 320}, {'bfsId': 901, 'canton': 'BE', 'name': 'Eggiwil', 'registryOfCommerceId': 36}, {'bfsId': 55, 'canton': 'ZH', 'name': 'Eglisau', 'registryOfCommerceId': 20}, {'bfsId': 4195, 'canton': 'AG', 'name': 'Egliswil', 'registryOfCommerceId': 400}, {'bfsId': 4411, 'canton': 'TG', 'name': 'Egnach', 'registryOfCommerceId': 440}, {'bfsId': 1127, 'canton': 'LU', 'name': 'Egolzwil', 'registryOfCommerceId': 100}, {'bfsId': 4049, 'canton': 'AG', 'name': 'Ehrendingen', 'registryOfCommerceId': 400}, {'bfsId': 1084, 'canton': 'LU', 'name': 'Eich', 'registryOfCommerceId': 100}, {'bfsId': 3252, 'canton': 'SG', 'name': 'Eichberg', 'registryOfCommerceId': 320}, {'bfsId': 4161, 'canton': 'AG', 'name': 'Eiken', 'registryOfCommerceId': 400}, {'bfsId': 1301, 'canton': 'SZ', 'name': 'Einsiedeln', 'registryOfCommerceId': 130}, {'bfsId': 6194, 'canton': 'VS', 'name': 'Eischoll', 'registryOfCommerceId': 600}, {'bfsId': 6282, 'canton': 'VS', 'name': 'Eisten', 'registryOfCommerceId': 600}, {'bfsId': 4097, 'canton': 'AG', 'name': 'Elfingen', 'registryOfCommerceId': 400}, {'bfsId': 294, 'canton': 'ZH', 'name': 'Elgg', 'registryOfCommerceId': 20}, {'bfsId': 218, 'canton': 'ZH', 'name': 'Ellikon an der Thur', 'registryOfCommerceId': 20}, {'bfsId': 219, 'canton': 'ZH', 'name': 'Elsau', 'registryOfCommerceId': 20}, {'bfsId': 6283, 'canton': 'VS', 'name': 'Embd', 'registryOfCommerceId': 600}, {'bfsId': 56, 'canton': 'ZH', 'name': 'Embrach', 'registryOfCommerceId': 20}, {'bfsId': 1024, 'canton': 'LU', 'name': 'Emmen', 'registryOfCommerceId': 100}, {'bfsId': 1504, 'canton': 'NW', 'name': 'Emmetten', 'registryOfCommerceId': 150}, {'bfsId': 4305, 'canton': 'AG', 'name': 'Endingen', 'registryOfCommerceId': 400}, {'bfsId': 1402, 'canton': 'OW', 'name': 'Engelberg', 'registryOfCommerceId': 140}, {'bfsId': 6453, 'canton': 'NE', 'name': 'Enges', 'registryOfCommerceId': 645}, {'bfsId': 4026, 'canton': 'AG', 'name': 'Ennetbaden', 'registryOfCommerceId': 400}, {'bfsId': 1505, 'canton': 'NW', 'name': 'Ennetbürgen', 'registryOfCommerceId': 150}, {'bfsId': 1506, 'canton': 'NW', 'name': 'Ennetmoos', 'registryOfCommerceId': 150}, {'bfsId': 1002, 'canton': 'LU', 'name': 'Entlebuch', 'registryOfCommerceId': 100}, {'bfsId': 5584, 'canton': 'VD', 'name': 'Epalinges', 'registryOfCommerceId': 550}, {'bfsId': 5914, 'canton': 'VD', 'name': 'Ependes (VD)', 'registryOfCommerceId': 550}, {'bfsId': 2574, 'canton': 'SO', 'name': 'Eppenberg-Wöschnau', 'registryOfCommerceId': 241}, {'bfsId': 735, 'canton': 'BE', 'name': 'Epsach', 'registryOfCommerceId': 36}, {'bfsId': 2885, 'canton': 'BL', 'name': 'Eptingen', 'registryOfCommerceId': 280}, {'bfsId': 6104, 'canton': 'VS', 'name': 'Ergisch', 'registryOfCommerceId': 600}, {'bfsId': 953, 'canton': 'BE', 'name': 'Eriswil', 'registryOfCommerceId': 36}, {'bfsId': 924, 'canton': 'BE', 'name': 'Eriz', 'registryOfCommerceId': 36}, {'bfsId': 492, 'canton': 'BE', 'name': 'Erlach', 'registryOfCommerceId': 36}, {'bfsId': 4476, 'canton': 'TG', 'name': 'Erlen', 'registryOfCommerceId': 440}, {'bfsId': 763, 'canton': 'BE', 'name': 'Erlenbach im Simmental', 'registryOfCommerceId': 36}, {'bfsId': 151, 'canton': 'ZH', 'name': 'Erlenbach (ZH)', 'registryOfCommerceId': 20}, {'bfsId': 4005, 'canton': 'AG', 'name': 'Erlinsbach (AG)', 'registryOfCommerceId': 400}, {'bfsId': 2503, 'canton': 'SO', 'name': 'Erlinsbach (SO)', 'registryOfCommerceId': 241}, {'bfsId': 4646, 'canton': 'TG', 'name': 'Ermatingen', 'registryOfCommerceId': 440}, {'bfsId': 1025, 'canton': 'LU', 'name': 'Ermensee', 'registryOfCommerceId': 100}, {'bfsId': 6056, 'canton': 'VS', 'name': 'Ernen', 'registryOfCommerceId': 600}, {'bfsId': 2615, 'canton': 'SO', 'name': 'Erschwil', 'registryOfCommerceId': 241}, {'bfsId': 405, 'canton': 'BE', 'name': 'Ersigen', 'registryOfCommerceId': 36}, {'bfsId': 1206, 'canton': 'UR', 'name': 'Erstfeld', 'registryOfCommerceId': 120}, {'bfsId': 1026, 'canton': 'LU', 'name': 'Eschenbach (LU)', 'registryOfCommerceId': 100}, {'bfsId': 3342, 'canton': 'SG', 'name': 'Eschenbach (SG)', 'registryOfCommerceId': 320}, {'bfsId': 4806, 'canton': 'TG', 'name': 'Eschenz', 'registryOfCommerceId': 440}, {'bfsId': 692, 'canton': 'BE', 'name': 'Eschert', 'registryOfCommerceId': 36}, {'bfsId': 4724, 'canton': 'TG', 'name': 'Eschlikon', 'registryOfCommerceId': 440}, {'bfsId': 1010, 'canton': 'LU', 'name': 'Escholzmatt-Marbach', 'registryOfCommerceId': 100}, {'bfsId': 5856, 'canton': 'VD', 'name': 'Essertines-sur-Rolle', 'registryOfCommerceId': 550}, {'bfsId': 5520, 'canton': 'VD', 'name': 'Essertines-sur-Yverdon', 'registryOfCommerceId': 550}, {'bfsId': 2054, 'canton': 'FR', 'name': 'Estavayer', 'registryOfCommerceId': 217}, {'bfsId': 5521, 'canton': 'VD', 'name': 'Etagnières', 'registryOfCommerceId': 550}, {'bfsId': 5636, 'canton': 'VD', 'name': 'Etoy', 'registryOfCommerceId': 550}, {'bfsId': 2768, 'canton': 'BL', 'name': 'Ettingen', 'registryOfCommerceId': 280}, {'bfsId': 1128, 'canton': 'LU', 'name': 'Ettiswil', 'registryOfCommerceId': 100}, {'bfsId': 2518, 'canton': 'SO', 'name': 'Etziken', 'registryOfCommerceId': 241}, {'bfsId': 372, 'canton': 'BE', 'name': 'Evilard', 'registryOfCommerceId': 36}, {'bfsId': 6213, 'canton': 'VS', 'name': 'Evionnaz', 'registryOfCommerceId': 621}, {'bfsId': 6083, 'canton': 'VS', 'name': 'Evolène', 'registryOfCommerceId': 626}, {'bfsId': 5716, 'canton': 'VD', 'name': 'Eysins', 'registryOfCommerceId': 550}, {'bfsId': 925, 'canton': 'BE', 'name': 'Fahrni', 'registryOfCommerceId': 36}, {'bfsId': 4196, 'canton': 'AG', 'name': 'Fahrwangen', 'registryOfCommerceId': 400}, {'bfsId': 6789, 'canton': 'JU', 'name': 'Fahy', 'registryOfCommerceId': 670}, {'bfsId': 5072, 'canton': 'TI', 'name': 'Faido', 'registryOfCommerceId': 501}, {'bfsId': 3572, 'canton': 'GR', 'name': 'Falera', 'registryOfCommerceId': 350}, {'bfsId': 193, 'canton': 'ZH', 'name': 'Fällanden', 'registryOfCommerceId': 20}, {'bfsId': 5458, 'canton': 'VD', 'name': 'Faoug', 'registryOfCommerceId': 550}, {'bfsId': 975, 'canton': 'BE', 'name': 'Farnern', 'registryOfCommerceId': 36}, {'bfsId': 5427, 'canton': 'VD', 'name': 'Féchy', 'registryOfCommerceId': 550}, {'bfsId': 172, 'canton': 'ZH', 'name': 'Fehraltorf', 'registryOfCommerceId': 20}, {'bfsId': 2616, 'canton': 'SO', 'name': 'Fehren', 'registryOfCommerceId': 241}, {'bfsId': 4561, 'canton': 'TG', 'name': 'Felben-Wellhausen', 'registryOfCommerceId': 440}, {'bfsId': 2544, 'canton': 'SO', 'name': 'Feldbrunnen-St. Niklaus', 'registryOfCommerceId': 241}, {'bfsId': 3731, 'canton': 'GR', 'name': 'Felsberg', 'registryOfCommerceId': 350}, {'bfsId': 6195, 'canton': 'VS', 'name': 'Ferden', 'registryOfCommerceId': 600}, {'bfsId': 662, 'canton': 'BE', 'name': 'Ferenbalm', 'registryOfCommerceId': 36}, {'bfsId': 2194, 'canton': 'FR', 'name': 'Ferpicloz', 'registryOfCommerceId': 217}, {'bfsId': 3713, 'canton': 'GR', 'name': 'Ferrera', 'registryOfCommerceId': 350}, {'bfsId': 5483, 'canton': 'VD', 'name': 'Ferreyres', 'registryOfCommerceId': 550}, {'bfsId': 2016, 'canton': 'FR', 'name': 'Fétigny', 'registryOfCommerceId': 217}, {'bfsId': 27, 'canton': 'ZH', 'name': 'Feuerthalen', 'registryOfCommerceId': 20}, {'bfsId': 1321, 'canton': 'SZ', 'name': 'Feusisberg', 'registryOfCommerceId': 130}, {'bfsId': 5522, 'canton': 'VD', 'name': 'Fey', 'registryOfCommerceId': 550}, {'bfsId': 3861, 'canton': 'GR', 'name': 'Fideris', 'registryOfCommerceId': 350}, {'bfsId': 6057, 'canton': 'VS', 'name': 'Fiesch', 'registryOfCommerceId': 600}, {'bfsId': 6058, 'canton': 'VS', 'name': 'Fieschertal', 'registryOfCommerceId': 600}, {'bfsId': 5556, 'canton': 'VD', 'name': 'Fiez', 'registryOfCommerceId': 550}, {'bfsId': 6214, 'canton': 'VS', 'name': 'Finhaut', 'registryOfCommerceId': 621}, {'bfsId': 493, 'canton': 'BE', 'name': 'Finsterhennen', 'registryOfCommerceId': 36}, {'bfsId': 1129, 'canton': 'LU', 'name': 'Fischbach', 'registryOfCommerceId': 100}, {'bfsId': 4067, 'canton': 'AG', 'name': 'Fischbach-Göslikon', 'registryOfCommerceId': 400}, {'bfsId': 114, 'canton': 'ZH', 'name': 'Fischenthal', 'registryOfCommerceId': 20}, {'bfsId': 4726, 'canton': 'TG', 'name': 'Fischingen', 'registryOfCommerceId': 440}, {'bfsId': 4306, 'canton': 'AG', 'name': 'Fisibach', 'registryOfCommerceId': 400}, {'bfsId': 4027, 'canton': 'AG', 'name': 'Fislisbach', 'registryOfCommerceId': 400}, {'bfsId': 28, 'canton': 'ZH', 'name': 'Flaach', 'registryOfCommerceId': 20}, {'bfsId': 3951, 'canton': 'GR', 'name': 'Fläsch', 'registryOfCommerceId': 350}, {'bfsId': 3402, 'canton': 'SG', 'name': 'Flawil', 'registryOfCommerceId': 320}, {'bfsId': 3662, 'canton': 'GR', 'name': 'Flerden', 'registryOfCommerceId': 350}, {'bfsId': 3732, 'canton': 'GR', 'name': 'Flims', 'registryOfCommerceId': 350}, {'bfsId': 1207, 'canton': 'UR', 'name': 'Flüelen', 'registryOfCommerceId': 120}, {'bfsId': 1004, 'canton': 'LU', 'name': 'Flühli', 'registryOfCommerceId': 100}, {'bfsId': 2545, 'canton': 'SO', 'name': 'Flumenthal', 'registryOfCommerceId': 241}, {'bfsId': 3292, 'canton': 'SG', 'name': 'Flums', 'registryOfCommerceId': 320}, {'bfsId': 29, 'canton': 'ZH', 'name': 'Flurlingen', 'registryOfCommerceId': 20}, {'bfsId': 5557, 'canton': 'VD', 'name': 'Fontaines-sur-Grandson', 'registryOfCommerceId': 550}, {'bfsId': 6790, 'canton': 'JU', 'name': 'Fontenais', 'registryOfCommerceId': 670}, {'bfsId': 5604, 'canton': 'VD', 'name': 'Forel (Lavaux)', 'registryOfCommerceId': 550}, {'bfsId': 948, 'canton': 'BE', 'name': 'Forst-Längenbühl', 'registryOfCommerceId': 36}, {'bfsId': 5717, 'canton': 'VD', 'name': 'Founex', 'registryOfCommerceId': 550}, {'bfsId': 2258, 'canton': 'FR', 'name': 'Fräschels', 'registryOfCommerceId': 217}, {'bfsId': 538, 'canton': 'BE', 'name': 'Fraubrunnen', 'registryOfCommerceId': 36}, {'bfsId': 4566, 'canton': 'TG', 'name': 'Frauenfeld', 'registryOfCommerceId': 440}, {'bfsId': 663, 'canton': 'BE', 'name': 'Frauenkappelen', 'registryOfCommerceId': 36}, {'bfsId': 1322, 'canton': 'SZ', 'name': 'Freienbach', 'registryOfCommerceId': 130}, {'bfsId': 57, 'canton': 'ZH', 'name': 'Freienstein-Teufen', 'registryOfCommerceId': 20}, {'bfsId': 4028, 'canton': 'AG', 'name': 'Freienwil', 'registryOfCommerceId': 400}, {'bfsId': 607, 'canton': 'BE', 'name': 'Freimettigen', 'registryOfCommerceId': 36}, {'bfsId': 2824, 'canton': 'BL', 'name': 'Frenkendorf', 'registryOfCommerceId': 280}, {'bfsId': 2196, 'canton': 'FR', 'name': 'Fribourg', 'registryOfCommerceId': 217}, {'bfsId': 4163, 'canton': 'AG', 'name': 'Frick', 'registryOfCommerceId': 400}, {'bfsId': 5523, 'canton': 'VD', 'name': 'Froideville', 'registryOfCommerceId': 550}, {'bfsId': 563, 'canton': 'BE', 'name': 'Frutigen', 'registryOfCommerceId': 36}, {'bfsId': 2575, 'canton': 'SO', 'name': 'Fulenbach', 'registryOfCommerceId': 241}, {'bfsId': 2825, 'canton': 'BL', 'name': 'Füllinsdorf', 'registryOfCommerceId': 280}, {'bfsId': 4307, 'canton': 'AG', 'name': 'Full-Reuenthal', 'registryOfCommerceId': 400}, {'bfsId': 6133, 'canton': 'VS', 'name': 'Fully', 'registryOfCommerceId': 621}, {'bfsId': 3862, 'canton': 'GR', 'name': 'Furna', 'registryOfCommerceId': 350}, {'bfsId': 3633, 'canton': 'GR', 'name': 'Fürstenau', 'registryOfCommerceId': 350}, {'bfsId': 2901, 'canton': 'SH', 'name': 'Gächlingen', 'registryOfCommerceId': 290}, {'bfsId': 4571, 'canton': 'TG', 'name': 'Gachnang', 'registryOfCommerceId': 440}, {'bfsId': 3022, 'canton': 'AR', 'name': 'Gais', 'registryOfCommerceId': 300}, {'bfsId': 3442, 'canton': 'SG', 'name': 'Gaiserwald', 'registryOfCommerceId': 320}, {'bfsId': 1342, 'canton': 'SZ', 'name': 'Galgenen', 'registryOfCommerceId': 130}, {'bfsId': 494, 'canton': 'BE', 'name': 'Gals', 'registryOfCommerceId': 36}, {'bfsId': 5398, 'canton': 'TI', 'name': 'Gambarogno', 'registryOfCommerceId': 501}, {'bfsId': 6118, 'canton': 'VS', 'name': 'Gampel-Bratsch', 'registryOfCommerceId': 600}, {'bfsId': 495, 'canton': 'BE', 'name': 'Gampelen', 'registryOfCommerceId': 36}, {'bfsId': 3272, 'canton': 'SG', 'name': 'Gams', 'registryOfCommerceId': 320}, {'bfsId': 4164, 'canton': 'AG', 'name': 'Gansingen', 'registryOfCommerceId': 400}, {'bfsId': 4029, 'canton': 'AG', 'name': 'Gebenstorf', 'registryOfCommerceId': 400}, {'bfsId': 2846, 'canton': 'BL', 'name': 'Gelterkinden', 'registryOfCommerceId': 280}, {'bfsId': 4232, 'canton': 'AG', 'name': 'Geltwil', 'registryOfCommerceId': 400}, {'bfsId': 2474, 'canton': 'SO', 'name': 'Gempen', 'registryOfCommerceId': 241}, {'bfsId': 6621, 'canton': 'GE', 'name': 'Genève', 'registryOfCommerceId': 660}, {'bfsId': 5718, 'canton': 'VD', 'name': 'Genolier', 'registryOfCommerceId': 550}, {'bfsId': 6622, 'canton': 'GE', 'name': 'Genthod', 'registryOfCommerceId': 660}, {'bfsId': 2519, 'canton': 'SO', 'name': 'Gerlafingen', 'registryOfCommerceId': 241}, {'bfsId': 244, 'canton': 'ZH', 'name': 'Geroldswil', 'registryOfCommerceId': 20}, {'bfsId': 1311, 'canton': 'SZ', 'name': 'Gersau', 'registryOfCommerceId': 130}, {'bfsId': 866, 'canton': 'BE', 'name': 'Gerzensee', 'registryOfCommerceId': 36}, {'bfsId': 1085, 'canton': 'LU', 'name': 'Geuensee', 'registryOfCommerceId': 100}, {'bfsId': 2236, 'canton': 'FR', 'name': 'Gibloux', 'registryOfCommerceId': 217}, {'bfsId': 2826, 'canton': 'BL', 'name': 'Giebenach', 'registryOfCommerceId': 280}, {'bfsId': 5559, 'canton': 'VD', 'name': 'Giez', 'registryOfCommerceId': 550}, {'bfsId': 2294, 'canton': 'FR', 'name': 'Giffers', 'registryOfCommerceId': 217}, {'bfsId': 5857, 'canton': 'VD', 'name': 'Gilly', 'registryOfCommerceId': 550}, {'bfsId': 5428, 'canton': 'VD', 'name': 'Gimel', 'registryOfCommerceId': 550}, {'bfsId': 5719, 'canton': 'VD', 'name': 'Gingins', 'registryOfCommerceId': 550}, {'bfsId': 5073, 'canton': 'TI', 'name': 'Giornico', 'registryOfCommerceId': 501}, {'bfsId': 4165, 'canton': 'AG', 'name': 'Gipf-Oberfrick', 'registryOfCommerceId': 400}, {'bfsId': 1055, 'canton': 'LU', 'name': 'Gisikon', 'registryOfCommerceId': 100}, {'bfsId': 1403, 'canton': 'OW', 'name': 'Giswil', 'registryOfCommerceId': 140}, {'bfsId': 2197, 'canton': 'FR', 'name': 'Givisiez', 'registryOfCommerceId': 217}, {'bfsId': 5720, 'canton': 'VD', 'name': 'Givrins', 'registryOfCommerceId': 550}, {'bfsId': 5721, 'canton': 'VD', 'name': 'Gland', 'registryOfCommerceId': 550}, {'bfsId': 1632, 'canton': 'GL', 'name': 'Glarus', 'registryOfCommerceId': 160}, {'bfsId': 1630, 'canton': 'GL', 'name': 'Glarus Nord', 'registryOfCommerceId': 160}, {'bfsId': 1631, 'canton': 'GL', 'name': 'Glarus Süd', 'registryOfCommerceId': 160}, {'bfsId': 58, 'canton': 'ZH', 'name': 'Glattfelden', 'registryOfCommerceId': 20}, {'bfsId': 2022, 'canton': 'FR', 'name': 'Gletterens', 'registryOfCommerceId': 217}, {'bfsId': 3213, 'canton': 'SG', 'name': 'Goldach', 'registryOfCommerceId': 320}, {'bfsId': 5484, 'canton': 'VD', 'name': 'Gollion', 'registryOfCommerceId': 550}, {'bfsId': 3341, 'canton': 'SG', 'name': 'Gommiswald', 'registryOfCommerceId': 320}, {'bfsId': 6077, 'canton': 'VS', 'name': 'Goms', 'registryOfCommerceId': 600}, {'bfsId': 326, 'canton': 'BE', 'name': 'Gondiswil', 'registryOfCommerceId': 36}, {'bfsId': 3102, 'canton': 'AI', 'name': 'Gonten', 'registryOfCommerceId': 310}, {'bfsId': 4135, 'canton': 'AG', 'name': 'Gontenschwil', 'registryOfCommerceId': 400}, {'bfsId': 5108, 'canton': 'TI', 'name': 'Gordola', 'registryOfCommerceId': 501}, {'bfsId': 1208, 'canton': 'UR', 'name': 'Göschenen', 'registryOfCommerceId': 120}, {'bfsId': 3443, 'canton': 'SG', 'name': 'Gossau (SG)', 'registryOfCommerceId': 320}, {'bfsId': 115, 'canton': 'ZH', 'name': 'Gossau (ZH)', 'registryOfCommerceId': 20}, {'bfsId': 4651, 'canton': 'TG', 'name': 'Gottlieben', 'registryOfCommerceId': 440}, {'bfsId': 5541, 'canton': 'VD', 'name': 'Goumoëns', 'registryOfCommerceId': 550}, {'bfsId': 976, 'canton': 'BE', 'name': 'Graben', 'registryOfCommerceId': 36}, {'bfsId': 3273, 'canton': 'SG', 'name': 'Grabs', 'registryOfCommerceId': 320}, {'bfsId': 6285, 'canton': 'VS', 'name': 'Grächen', 'registryOfCommerceId': 600}, {'bfsId': 5186, 'canton': 'TI', 'name': 'Grancia', 'registryOfCommerceId': 501}, {'bfsId': 5485, 'canton': 'VD', 'name': 'Grancy', 'registryOfCommerceId': 550}, {'bfsId': 5817, 'canton': 'VD', 'name': 'Grandcour', 'registryOfCommerceId': 550}, {'bfsId': 5560, 'canton': 'VD', 'name': 'Grandevent', 'registryOfCommerceId': 550}, {'bfsId': 6792, 'canton': 'JU', 'name': 'Grandfontaine', 'registryOfCommerceId': 670}, {'bfsId': 5561, 'canton': 'VD', 'name': 'Grandson', 'registryOfCommerceId': 550}, {'bfsId': 694, 'canton': 'BE', 'name': 'Grandval', 'registryOfCommerceId': 36}, {'bfsId': 2134, 'canton': 'FR', 'name': 'Grandvillard', 'registryOfCommerceId': 217}, {'bfsId': 2198, 'canton': 'FR', 'name': 'Granges-Paccot', 'registryOfCommerceId': 217}, {'bfsId': 2328, 'canton': 'FR', 'name': 'Granges (Veveyse)', 'registryOfCommerceId': 217}, {'bfsId': 2079, 'canton': 'FR', 'name': 'Grangettes', 'registryOfCommerceId': 217}, {'bfsId': 4006, 'canton': 'AG', 'name': 'Gränichen', 'registryOfCommerceId': 400}, {'bfsId': 5187, 'canton': 'TI', 'name': 'Gravesano', 'registryOfCommerceId': 501}, {'bfsId': 194, 'canton': 'ZH', 'name': 'Greifensee', 'registryOfCommerceId': 20}, {'bfsId': 2786, 'canton': 'BL', 'name': 'Grellingen', 'registryOfCommerceId': 280}, {'bfsId': 2546, 'canton': 'SO', 'name': 'Grenchen', 'registryOfCommerceId': 241}, {'bfsId': 2261, 'canton': 'FR', 'name': 'Greng', 'registryOfCommerceId': 217}, {'bfsId': 6177, 'canton': 'VS', 'name': 'Grengiols', 'registryOfCommerceId': 600}, {'bfsId': 5722, 'canton': 'VD', 'name': 'Grens', 'registryOfCommerceId': 550}, {'bfsId': 1056, 'canton': 'LU', 'name': 'Greppen', 'registryOfCommerceId': 100}, {'bfsId': 2576, 'canton': 'SO', 'name': 'Gretzenbach', 'registryOfCommerceId': 241}, {'bfsId': 6263, 'canton': 'VS', 'name': 'Grimisuat', 'registryOfCommerceId': 626}, {'bfsId': 2617, 'canton': 'SO', 'name': 'Grindel', 'registryOfCommerceId': 241}, {'bfsId': 576, 'canton': 'BE', 'name': 'Grindelwald', 'registryOfCommerceId': 36}, {'bfsId': 2200, 'canton': 'FR', 'name': 'Grolley', 'registryOfCommerceId': 217}, {'bfsId': 6238, 'canton': 'VS', 'name': 'Grône', 'registryOfCommerceId': 626}, {'bfsId': 3832, 'canton': 'GR', 'name': 'Grono', 'registryOfCommerceId': 350}, {'bfsId': 303, 'canton': 'BE', 'name': 'Grossaffoltern', 'registryOfCommerceId': 36}, {'bfsId': 1131, 'canton': 'LU', 'name': 'Grossdietwil', 'registryOfCommerceId': 100}, {'bfsId': 608, 'canton': 'BE', 'name': 'Grosshöchstetten', 'registryOfCommerceId': 36}, {'bfsId': 1086, 'canton': 'LU', 'name': 'Grosswangen', 'registryOfCommerceId': 100}, {'bfsId': 3031, 'canton': 'AR', 'name': 'Grub (AR)', 'registryOfCommerceId': 300}, {'bfsId': 116, 'canton': 'ZH', 'name': 'Grüningen', 'registryOfCommerceId': 20}, {'bfsId': 3961, 'canton': 'GR', 'name': 'Grüsch', 'registryOfCommerceId': 350}, {'bfsId': 2135, 'canton': 'FR', 'name': 'Gruyères', 'registryOfCommerceId': 217}, {'bfsId': 5405, 'canton': 'VD', 'name': 'Gryon', 'registryOfCommerceId': 550}, {'bfsId': 841, 'canton': 'BE', 'name': 'Gsteig', 'registryOfCommerceId': 36}, {'bfsId': 577, 'canton': 'BE', 'name': 'Gsteigwiler', 'registryOfCommerceId': 36}, {'bfsId': 852, 'canton': 'BE', 'name': 'Guggisberg', 'registryOfCommerceId': 36}, {'bfsId': 578, 'canton': 'BE', 'name': 'Gündlischwand', 'registryOfCommerceId': 36}, {'bfsId': 2547, 'canton': 'SO', 'name': 'Günsberg', 'registryOfCommerceId': 241}, {'bfsId': 2578, 'canton': 'SO', 'name': 'Gunzgen', 'registryOfCommerceId': 241}, {'bfsId': 665, 'canton': 'BE', 'name': 'Gurbrü', 'registryOfCommerceId': 36}, {'bfsId': 2262, 'canton': 'FR', 'name': 'Gurmels', 'registryOfCommerceId': 217}, {'bfsId': 1209, 'canton': 'UR', 'name': 'Gurtnellen', 'registryOfCommerceId': 120}, {'bfsId': 867, 'canton': 'BE', 'name': 'Gurzelen', 'registryOfCommerceId': 36}, {'bfsId': 782, 'canton': 'BE', 'name': 'Guttannen', 'registryOfCommerceId': 36}, {'bfsId': 6117, 'canton': 'VS', 'name': 'Guttet-Feschel', 'registryOfCommerceId': 600}, {'bfsId': 4656, 'canton': 'TG', 'name': 'Güttingen', 'registryOfCommerceId': 440}, {'bfsId': 6624, 'canton': 'GE', 'name': 'Gy', 'registryOfCommerceId': 660}, {'bfsId': 579, 'canton': 'BE', 'name': 'Habkern', 'registryOfCommerceId': 36}, {'bfsId': 4099, 'canton': 'AG', 'name': 'Habsburg', 'registryOfCommerceId': 400}, {'bfsId': 2847, 'canton': 'BL', 'name': 'Häfelfingen', 'registryOfCommerceId': 280}, {'bfsId': 220, 'canton': 'ZH', 'name': 'Hagenbuch', 'registryOfCommerceId': 20}, {'bfsId': 2579, 'canton': 'SO', 'name': 'Hägendorf', 'registryOfCommerceId': 241}, {'bfsId': 3201, 'canton': 'SG', 'name': 'Häggenschwil', 'registryOfCommerceId': 320}, {'bfsId': 4068, 'canton': 'AG', 'name': 'Hägglingen', 'registryOfCommerceId': 400}, {'bfsId': 736, 'canton': 'BE', 'name': 'Hagneck', 'registryOfCommerceId': 36}, {'bfsId': 2971, 'canton': 'SH', 'name': 'Hallau', 'registryOfCommerceId': 290}, {'bfsId': 4197, 'canton': 'AG', 'name': 'Hallwil', 'registryOfCommerceId': 400}, {'bfsId': 2520, 'canton': 'SO', 'name': 'Halten', 'registryOfCommerceId': 241}, {'bfsId': 2402, 'canton': 'SO', 'name': 'Härkingen', 'registryOfCommerceId': 241}, {'bfsId': 406, 'canton': 'BE', 'name': 'Hasle bei Burgdorf', 'registryOfCommerceId': 36}, {'bfsId': 1005, 'canton': 'LU', 'name': 'Hasle (LU)', 'registryOfCommerceId': 100}, {'bfsId': 783, 'canton': 'BE', 'name': 'Hasliberg', 'registryOfCommerceId': 36}, {'bfsId': 2491, 'canton': 'SO', 'name': 'Hauenstein-Ifenthal', 'registryOfCommerceId': 241}, {'bfsId': 4486, 'canton': 'TG', 'name': 'Hauptwil-Gottshaus', 'registryOfCommerceId': 440}, {'bfsId': 4100, 'canton': 'AG', 'name': 'Hausen (AG)', 'registryOfCommerceId': 400}, {'bfsId': 4, 'canton': 'ZH', 'name': 'Hausen am Albis', 'registryOfCommerceId': 20}, {'bfsId': 6809, 'canton': 'JU', 'name': 'Haute-Ajoie', 'registryOfCommerceId': 670}, {'bfsId': 5656, 'canton': 'VD', 'name': 'Hautemorges', 'registryOfCommerceId': 550}, {'bfsId': 2233, 'canton': 'FR', 'name': 'Hauterive (FR)', 'registryOfCommerceId': 217}, {'bfsId': 6454, 'canton': 'NE', 'name': 'Hauterive (NE)', 'registryOfCommerceId': 645}, {'bfsId': 6729, 'canton': 'JU', 'name': 'Haute-Sorne', 'registryOfCommerceId': 670}, {'bfsId': 2137, 'canton': 'FR', 'name': 'Hauteville', 'registryOfCommerceId': 217}, {'bfsId': 2121, 'canton': 'FR', 'name': 'Haut-Intyamon', 'registryOfCommerceId': 217}, {'bfsId': 609, 'canton': 'BE', 'name': 'Häutligen', 'registryOfCommerceId': 36}, {'bfsId': 5, 'canton': 'ZH', 'name': 'Hedingen', 'registryOfCommerceId': 20}, {'bfsId': 4416, 'canton': 'TG', 'name': 'Hefenhofen', 'registryOfCommerceId': 440}, {'bfsId': 3032, 'canton': 'AR', 'name': 'Heiden', 'registryOfCommerceId': 300}, {'bfsId': 927, 'canton': 'BE', 'name': 'Heiligenschwendi', 'registryOfCommerceId': 36}, {'bfsId': 928, 'canton': 'BE', 'name': 'Heimberg', 'registryOfCommerceId': 36}, {'bfsId': 977, 'canton': 'BE', 'name': 'Heimenhausen', 'registryOfCommerceId': 36}, {'bfsId': 407, 'canton': 'BE', 'name': 'Heimiswil', 'registryOfCommerceId': 36}, {'bfsId': 2296, 'canton': 'FR', 'name': 'Heitenried', 'registryOfCommerceId': 217}, {'bfsId': 4251, 'canton': 'AG', 'name': 'Hellikon', 'registryOfCommerceId': 400}, {'bfsId': 408, 'canton': 'BE', 'name': 'Hellsau', 'registryOfCommerceId': 36}, {'bfsId': 3372, 'canton': 'SG', 'name': 'Hemberg', 'registryOfCommerceId': 320}, {'bfsId': 2962, 'canton': 'SH', 'name': 'Hemishofen', 'registryOfCommerceId': 290}, {'bfsId': 2848, 'canton': 'BL', 'name': 'Hemmiken', 'registryOfCommerceId': 280}, {'bfsId': 4198, 'canton': 'AG', 'name': 'Hendschiken', 'registryOfCommerceId': 400}, {'bfsId': 31, 'canton': 'ZH', 'name': 'Henggart', 'registryOfCommerceId': 20}, {'bfsId': 5819, 'canton': 'VD', 'name': 'Henniez', 'registryOfCommerceId': 550}, {'bfsId': 2424, 'canton': 'SO', 'name': 'Herbetswil', 'registryOfCommerceId': 241}, {'bfsId': 610, 'canton': 'BE', 'name': 'Herbligen', 'registryOfCommerceId': 36}, {'bfsId': 4811, 'canton': 'TG', 'name': 'Herdern', 'registryOfCommerceId': 440}, {'bfsId': 6084, 'canton': 'VS', 'name': 'Hérémence', 'registryOfCommerceId': 626}, {'bfsId': 1132, 'canton': 'LU', 'name': 'Hergiswil bei Willisau', 'registryOfCommerceId': 100}, {'bfsId': 1507, 'canton': 'NW', 'name': 'Hergiswil (NW)', 'registryOfCommerceId': 150}, {'bfsId': 3001, 'canton': 'AR', 'name': 'Herisau', 'registryOfCommerceId': 300}, {'bfsId': 6625, 'canton': 'GE', 'name': 'Hermance', 'registryOfCommerceId': 660}, {'bfsId': 5673, 'canton': 'VD', 'name': 'Hermenches', 'registryOfCommerceId': 550}, {'bfsId': 737, 'canton': 'BE', 'name': 'Hermrigen', 'registryOfCommerceId': 36}, {'bfsId': 152, 'canton': 'ZH', 'name': 'Herrliberg', 'registryOfCommerceId': 20}, {'bfsId': 2827, 'canton': 'BL', 'name': 'Hersberg', 'registryOfCommerceId': 280}, {'bfsId': 4166, 'canton': 'AG', 'name': 'Herznach', 'registryOfCommerceId': 400}, {'bfsId': 979, 'canton': 'BE', 'name': 'Herzogenbuchsee', 'registryOfCommerceId': 36}, {'bfsId': 221, 'canton': 'ZH', 'name': 'Hettlingen', 'registryOfCommerceId': 20}, {'bfsId': 1088, 'canton': 'LU', 'name': 'Hildisrieden', 'registryOfCommerceId': 100}, {'bfsId': 929, 'canton': 'BE', 'name': 'Hilterfingen', 'registryOfCommerceId': 36}, {'bfsId': 2618, 'canton': 'SO', 'name': 'Himmelried', 'registryOfCommerceId': 241}, {'bfsId': 409, 'canton': 'BE', 'name': 'Hindelbank', 'registryOfCommerceId': 36}, {'bfsId': 117, 'canton': 'ZH', 'name': 'Hinwil', 'registryOfCommerceId': 20}, {'bfsId': 4007, 'canton': 'AG', 'name': 'Hirschthal', 'registryOfCommerceId': 400}, {'bfsId': 173, 'canton': 'ZH', 'name': 'Hittnau', 'registryOfCommerceId': 20}, {'bfsId': 1030, 'canton': 'LU', 'name': 'Hitzkirch', 'registryOfCommerceId': 100}, {'bfsId': 1031, 'canton': 'LU', 'name': 'Hochdorf', 'registryOfCommerceId': 100}, {'bfsId': 59, 'canton': 'ZH', 'name': 'Hochfelden', 'registryOfCommerceId': 20}, {'bfsId': 410, 'canton': 'BE', 'name': 'Höchstetten', 'registryOfCommerceId': 36}, {'bfsId': 2475, 'canton': 'SO', 'name': 'Hochwald', 'registryOfCommerceId': 241}, {'bfsId': 580, 'canton': 'BE', 'name': 'Hofstetten bei Brienz', 'registryOfCommerceId': 36}, {'bfsId': 2476, 'canton': 'SO', 'name': 'Hofstetten-Flüh', 'registryOfCommerceId': 241}, {'bfsId': 1032, 'canton': 'LU', 'name': 'Hohenrain', 'registryOfCommerceId': 100}, {'bfsId': 4495, 'canton': 'TG', 'name': 'Hohentannen', 'registryOfCommerceId': 440}, {'bfsId': 4199, 'canton': 'AG', 'name': 'Holderbank (AG)', 'registryOfCommerceId': 400}, {'bfsId': 2425, 'canton': 'SO', 'name': 'Holderbank (SO)', 'registryOfCommerceId': 241}, {'bfsId': 2886, 'canton': 'BL', 'name': 'Hölstein', 'registryOfCommerceId': 280}, {'bfsId': 4136, 'canton': 'AG', 'name': 'Holziken', 'registryOfCommerceId': 400}, {'bfsId': 931, 'canton': 'BE', 'name': 'Homberg', 'registryOfCommerceId': 36}, {'bfsId': 153, 'canton': 'ZH', 'name': 'Hombrechtikon', 'registryOfCommerceId': 20}, {'bfsId': 4816, 'canton': 'TG', 'name': 'Homburg', 'registryOfCommerceId': 440}, {'bfsId': 1057, 'canton': 'LU', 'name': 'Honau', 'registryOfCommerceId': 100}, {'bfsId': 295, 'canton': 'ZH', 'name': 'Horgen', 'registryOfCommerceId': 20}, {'bfsId': 60, 'canton': 'ZH', 'name': 'Höri', 'registryOfCommerceId': 20}, {'bfsId': 4421, 'canton': 'TG', 'name': 'Horn', 'registryOfCommerceId': 440}, {'bfsId': 932, 'canton': 'BE', 'name': 'Horrenbach-Buchen', 'registryOfCommerceId': 36}, {'bfsId': 2523, 'canton': 'SO', 'name': 'Horriwil', 'registryOfCommerceId': 241}, {'bfsId': 1058, 'canton': 'LU', 'name': 'Horw', 'registryOfCommerceId': 100}, {'bfsId': 1210, 'canton': 'UR', 'name': 'Hospental', 'registryOfCommerceId': 120}, {'bfsId': 2548, 'canton': 'SO', 'name': 'Hubersdorf', 'registryOfCommerceId': 241}, {'bfsId': 32, 'canton': 'ZH', 'name': 'Humlikon', 'registryOfCommerceId': 20}, {'bfsId': 3002, 'canton': 'AR', 'name': 'Hundwil', 'registryOfCommerceId': 300}, {'bfsId': 1703, 'canton': 'ZG', 'name': 'Hünenberg', 'registryOfCommerceId': 170}, {'bfsId': 2524, 'canton': 'SO', 'name': 'Hüniken', 'registryOfCommerceId': 241}, {'bfsId': 61, 'canton': 'ZH', 'name': 'Hüntwangen', 'registryOfCommerceId': 20}, {'bfsId': 4200, 'canton': 'AG', 'name': 'Hunzenschwil', 'registryOfCommerceId': 400}, {'bfsId': 87, 'canton': 'ZH', 'name': 'Hüttikon', 'registryOfCommerceId': 20}, {'bfsId': 4590, 'canton': 'TG', 'name': 'Hüttlingen', 'registryOfCommerceId': 440}, {'bfsId': 954, 'canton': 'BE', 'name': 'Huttwil', 'registryOfCommerceId': 36}, {'bfsId': 4821, 'canton': 'TG', 'name': 'Hüttwilen', 'registryOfCommerceId': 440}, {'bfsId': 6239, 'canton': 'VS', 'name': 'Icogne', 'registryOfCommerceId': 626}, {'bfsId': 541, 'canton': 'BE', 'name': 'Iffwil', 'registryOfCommerceId': 36}, {'bfsId': 3619, 'canton': 'GR', 'name': 'Ilanz/Glion', 'registryOfCommerceId': 350}, {'bfsId': 1363, 'canton': 'SZ', 'name': 'Illgau', 'registryOfCommerceId': 130}, {'bfsId': 296, 'canton': 'ZH', 'name': 'Illnau-Effretikon', 'registryOfCommerceId': 20}, {'bfsId': 6109, 'canton': 'VS', 'name': 'Inden', 'registryOfCommerceId': 600}, {'bfsId': 1364, 'canton': 'SZ', 'name': 'Ingenbohl', 'registryOfCommerceId': 130}, {'bfsId': 980, 'canton': 'BE', 'name': 'Inkwil', 'registryOfCommerceId': 36}, {'bfsId': 1343, 'canton': 'SZ', 'name': 'Innerthal', 'registryOfCommerceId': 130}, {'bfsId': 784, 'canton': 'BE', 'name': 'Innertkirchen', 'registryOfCommerceId': 36}, {'bfsId': 496, 'canton': 'BE', 'name': 'Ins', 'registryOfCommerceId': 36}, {'bfsId': 581, 'canton': 'BE', 'name': 'Interlaken', 'registryOfCommerceId': 36}, {'bfsId': 1033, 'canton': 'LU', 'name': 'Inwil', 'registryOfCommerceId': 100}, {'bfsId': 739, 'canton': 'BE', 'name': 'Ipsach', 'registryOfCommerceId': 36}, {'bfsId': 582, 'canton': 'BE', 'name': 'Iseltwald', 'registryOfCommerceId': 36}, {'bfsId': 1211, 'canton': 'UR', 'name': 'Isenthal', 'registryOfCommerceId': 120}, {'bfsId': 6134, 'canton': 'VS', 'name': 'Isérables', 'registryOfCommerceId': 621}, {'bfsId': 4084, 'canton': 'AG', 'name': 'Islisberg', 'registryOfCommerceId': 400}, {'bfsId': 5009, 'canton': 'TI', 'name': 'Isone', 'registryOfCommerceId': 501}, {'bfsId': 2849, 'canton': 'BL', 'name': 'Itingen', 'registryOfCommerceId': 280}, {'bfsId': 362, 'canton': 'BE', 'name': 'Ittigen', 'registryOfCommerceId': 36}, {'bfsId': 868, 'canton': 'BE', 'name': 'Jaberg', 'registryOfCommerceId': 36}, {'bfsId': 2138, 'canton': 'FR', 'name': 'Jaun', 'registryOfCommerceId': 217}, {'bfsId': 540, 'canton': 'BE', 'name': 'Jegenstorf', 'registryOfCommerceId': 36}, {'bfsId': 3863, 'canton': 'GR', 'name': 'Jenaz', 'registryOfCommerceId': 350}, {'bfsId': 3952, 'canton': 'GR', 'name': 'Jenins', 'registryOfCommerceId': 350}, {'bfsId': 738, 'canton': 'BE', 'name': 'Jens', 'registryOfCommerceId': 36}, {'bfsId': 4071, 'canton': 'AG', 'name': 'Jonen', 'registryOfCommerceId': 400}, {'bfsId': 5885, 'canton': 'VD', 'name': 'Jongny', 'registryOfCommerceId': 550}, {'bfsId': 3405, 'canton': 'SG', 'name': 'Jonschwil', 'registryOfCommerceId': 320}, {'bfsId': 5804, 'canton': 'VD', 'name': 'Jorat-Menthue', 'registryOfCommerceId': 550}, {'bfsId': 5806, 'canton': 'VD', 'name': 'Jorat-Mézières', 'registryOfCommerceId': 550}, {'bfsId': 5585, 'canton': 'VD', 'name': 'Jouxtens-Mézery', 'registryOfCommerceId': 550}, {'bfsId': 5754, 'canton': 'VD', 'name': 'Juriens', 'registryOfCommerceId': 550}, {'bfsId': 6626, 'canton': 'GE', 'name': 'Jussy', 'registryOfCommerceId': 660}, {'bfsId': 4252, 'canton': 'AG', 'name': 'Kaiseraugst', 'registryOfCommerceId': 400}, {'bfsId': 4169, 'canton': 'AG', 'name': 'Kaisten', 'registryOfCommerceId': 400}, {'bfsId': 4233, 'canton': 'AG', 'name': 'Kallern', 'registryOfCommerceId': 400}, {'bfsId': 304, 'canton': 'BE', 'name': 'Kallnach', 'registryOfCommerceId': 36}, {'bfsId': 3313, 'canton': 'SG', 'name': 'Kaltbrunn', 'registryOfCommerceId': 320}, {'bfsId': 2549, 'canton': 'SO', 'name': 'Kammersrohr', 'registryOfCommerceId': 241}, {'bfsId': 564, 'canton': 'BE', 'name': 'Kandergrund', 'registryOfCommerceId': 36}, {'bfsId': 565, 'canton': 'BE', 'name': 'Kandersteg', 'registryOfCommerceId': 36}, {'bfsId': 2850, 'canton': 'BL', 'name': 'Känerkinden', 'registryOfCommerceId': 280}, {'bfsId': 6, 'canton': 'ZH', 'name': 'Kappel am Albis', 'registryOfCommerceId': 20}, {'bfsId': 305, 'canton': 'BE', 'name': 'Kappelen', 'registryOfCommerceId': 36}, {'bfsId': 2580, 'canton': 'SO', 'name': 'Kappel (SO)', 'registryOfCommerceId': 241}, {'bfsId': 869, 'canton': 'BE', 'name': 'Kaufdorf', 'registryOfCommerceId': 36}, {'bfsId': 870, 'canton': 'BE', 'name': 'Kehrsatz', 'registryOfCommerceId': 36}, {'bfsId': 4666, 'canton': 'TG', 'name': 'Kemmental', 'registryOfCommerceId': 440}, {'bfsId': 411, 'canton': 'BE', 'name': 'Kernenried', 'registryOfCommerceId': 36}, {'bfsId': 1404, 'canton': 'OW', 'name': 'Kerns', 'registryOfCommerceId': 140}, {'bfsId': 2265, 'canton': 'FR', 'name': 'Kerzers', 'registryOfCommerceId': 217}, {'bfsId': 4426, 'canton': 'TG', 'name': 'Kesswil', 'registryOfCommerceId': 440}, {'bfsId': 2403, 'canton': 'SO', 'name': 'Kestenholz', 'registryOfCommerceId': 241}, {'bfsId': 2492, 'canton': 'SO', 'name': 'Kienberg', 'registryOfCommerceId': 241}, {'bfsId': 611, 'canton': 'BE', 'name': 'Kiesen', 'registryOfCommerceId': 36}, {'bfsId': 2851, 'canton': 'BL', 'name': 'Kilchberg (BL)', 'registryOfCommerceId': 280}, {'bfsId': 135, 'canton': 'ZH', 'name': 'Kilchberg (ZH)', 'registryOfCommerceId': 20}, {'bfsId': 4030, 'canton': 'AG', 'name': 'Killwangen', 'registryOfCommerceId': 400}, {'bfsId': 6197, 'canton': 'VS', 'name': 'Kippel', 'registryOfCommerceId': 600}, {'bfsId': 412, 'canton': 'BE', 'name': 'Kirchberg (BE)', 'registryOfCommerceId': 36}, {'bfsId': 3392, 'canton': 'SG', 'name': 'Kirchberg (SG)', 'registryOfCommerceId': 320}, {'bfsId': 872, 'canton': 'BE', 'name': 'Kirchdorf (BE)', 'registryOfCommerceId': 36}, {'bfsId': 4275, 'canton': 'AG', 'name': 'Kirchleerau', 'registryOfCommerceId': 400}, {'bfsId': 354, 'canton': 'BE', 'name': 'Kirchlindach', 'registryOfCommerceId': 36}, {'bfsId': 33, 'canton': 'ZH', 'name': 'Kleinandelfingen', 'registryOfCommerceId': 20}, {'bfsId': 2266, 'canton': 'FR', 'name': 'Kleinbösingen', 'registryOfCommerceId': 217}, {'bfsId': 2619, 'canton': 'SO', 'name': 'Kleinlützel', 'registryOfCommerceId': 241}, {'bfsId': 4309, 'canton': 'AG', 'name': 'Klingnau', 'registryOfCommerceId': 400}, {'bfsId': 3871, 'canton': 'GR', 'name': 'Klosters', 'registryOfCommerceId': 350}, {'bfsId': 62, 'canton': 'ZH', 'name': 'Kloten', 'registryOfCommerceId': 20}, {'bfsId': 7, 'canton': 'ZH', 'name': 'Knonau', 'registryOfCommerceId': 20}, {'bfsId': 1089, 'canton': 'LU', 'name': 'Knutwil', 'registryOfCommerceId': 100}, {'bfsId': 4310, 'canton': 'AG', 'name': 'Koblenz', 'registryOfCommerceId': 400}, {'bfsId': 4276, 'canton': 'AG', 'name': 'Kölliken', 'registryOfCommerceId': 400}, {'bfsId': 355, 'canton': 'BE', 'name': 'Köniz', 'registryOfCommerceId': 36}, {'bfsId': 612, 'canton': 'BE', 'name': 'Konolfingen', 'registryOfCommerceId': 36}, {'bfsId': 413, 'canton': 'BE', 'name': 'Koppigen', 'registryOfCommerceId': 36}, {'bfsId': 4501, 'canton': 'TG', 'name': 'Kradolf-Schönenberg', 'registryOfCommerceId': 440}, {'bfsId': 566, 'canton': 'BE', 'name': 'Krattigen', 'registryOfCommerceId': 36}, {'bfsId': 414, 'canton': 'BE', 'name': 'Krauchthal', 'registryOfCommerceId': 36}, {'bfsId': 4671, 'canton': 'TG', 'name': 'Kreuzlingen', 'registryOfCommerceId': 440}, {'bfsId': 666, 'canton': 'BE', 'name': 'Kriechenwil', 'registryOfCommerceId': 36}, {'bfsId': 2525, 'canton': 'SO', 'name': 'Kriegstetten', 'registryOfCommerceId': 241}, {'bfsId': 1059, 'canton': 'LU', 'name': 'Kriens', 'registryOfCommerceId': 100}, {'bfsId': 3882, 'canton': 'GR', 'name': 'Küblis', 'registryOfCommerceId': 350}, {'bfsId': 4031, 'canton': 'AG', 'name': 'Künten', 'registryOfCommerceId': 400}, {'bfsId': 154, 'canton': 'ZH', 'name': 'Küsnacht (ZH)', 'registryOfCommerceId': 20}, {'bfsId': 1331, 'canton': 'SZ', 'name': 'Küssnacht (SZ)', 'registryOfCommerceId': 130}, {'bfsId': 4008, 'canton': 'AG', 'name': 'Küttigen', 'registryOfCommerceId': 400}, {'bfsId': 3575, 'canton': 'GR', 'name': 'Laax', 'registryOfCommerceId': 350}, {'bfsId': 6810, 'canton': 'JU', 'name': 'La Baroche', 'registryOfCommerceId': 670}, {'bfsId': 5871, 'canton': 'VD', 'name': \"L'Abbaye\", 'registryOfCommerceId': 550}, {'bfsId': 5741, 'canton': 'VD', 'name': \"L'Abergement\", 'registryOfCommerceId': 550}, {'bfsId': 6432, 'canton': 'NE', 'name': 'La Brévine', 'registryOfCommerceId': 645}, {'bfsId': 2234, 'canton': 'FR', 'name': 'La Brillaz', 'registryOfCommerceId': 217}, {'bfsId': 5474, 'canton': 'VD', 'name': 'La Chaux (Cossonay)', 'registryOfCommerceId': 550}, {'bfsId': 6421, 'canton': 'NE', 'name': 'La Chaux-de-Fonds', 'registryOfCommerceId': 645}, {'bfsId': 6744, 'canton': 'JU', 'name': 'La Chaux-des-Breuleux', 'registryOfCommerceId': 670}, {'bfsId': 6435, 'canton': 'NE', 'name': 'La Chaux-du-Milieu', 'registryOfCommerceId': 645}, {'bfsId': 1344, 'canton': 'SZ', 'name': 'Lachen', 'registryOfCommerceId': 130}, {'bfsId': 6627, 'canton': 'GE', 'name': 'Laconnex', 'registryOfCommerceId': 660}, {'bfsId': 6504, 'canton': 'NE', 'name': 'La Côte-aux-Fées', 'registryOfCommerceId': 645}, {'bfsId': 435, 'canton': 'BE', 'name': 'La Ferrière', 'registryOfCommerceId': 36}, {'bfsId': 6417, 'canton': 'NE', 'name': 'La Grande Béroche', 'registryOfCommerceId': 645}, {'bfsId': 6750, 'canton': 'JU', 'name': 'Lajoux (JU)', 'registryOfCommerceId': 670}, {'bfsId': 6286, 'canton': 'VS', 'name': 'Lalden', 'registryOfCommerceId': 600}, {'bfsId': 5189, 'canton': 'TI', 'name': 'Lamone', 'registryOfCommerceId': 501}, {'bfsId': 2887, 'canton': 'BL', 'name': 'Lampenberg', 'registryOfCommerceId': 280}, {'bfsId': 6628, 'canton': 'GE', 'name': 'Lancy', 'registryOfCommerceId': 660}, {'bfsId': 613, 'canton': 'BE', 'name': 'Landiswil', 'registryOfCommerceId': 36}, {'bfsId': 3955, 'canton': 'GR', 'name': 'Landquart', 'registryOfCommerceId': 350}, {'bfsId': 723, 'canton': 'BE', 'name': 'La Neuveville', 'registryOfCommerceId': 36}, {'bfsId': 2888, 'canton': 'BL', 'name': 'Langenbruck', 'registryOfCommerceId': 280}, {'bfsId': 2550, 'canton': 'SO', 'name': 'Langendorf', 'registryOfCommerceId': 241}, {'bfsId': 329, 'canton': 'BE', 'name': 'Langenthal', 'registryOfCommerceId': 36}, {'bfsId': 136, 'canton': 'ZH', 'name': 'Langnau am Albis', 'registryOfCommerceId': 20}, {'bfsId': 902, 'canton': 'BE', 'name': 'Langnau im Emmental', 'registryOfCommerceId': 36}, {'bfsId': 4681, 'canton': 'TG', 'name': 'Langrickenbach', 'registryOfCommerceId': 440}, {'bfsId': 3513, 'canton': 'GR', 'name': 'Lantsch/Lenz', 'registryOfCommerceId': 350}, {'bfsId': 5758, 'canton': 'VD', 'name': 'La Praz', 'registryOfCommerceId': 550}, {'bfsId': 3785, 'canton': 'GR', 'name': 'La Punt Chamues-ch', 'registryOfCommerceId': 350}, {'bfsId': 5726, 'canton': 'VD', 'name': 'La Rippe', 'registryOfCommerceId': 550}, {'bfsId': 2149, 'canton': 'FR', 'name': 'La Roche', 'registryOfCommerceId': 217}, {'bfsId': 6423, 'canton': 'NE', 'name': 'La Sagne', 'registryOfCommerceId': 645}, {'bfsId': 5498, 'canton': 'VD', 'name': 'La Sarraz', 'registryOfCommerceId': 550}, {'bfsId': 2235, 'canton': 'FR', 'name': 'La Sonnaz', 'registryOfCommerceId': 217}, {'bfsId': 6461, 'canton': 'NE', 'name': 'La Tène', 'registryOfCommerceId': 645}, {'bfsId': 5889, 'canton': 'VD', 'name': 'La Tour-de-Peilz', 'registryOfCommerceId': 550}, {'bfsId': 842, 'canton': 'BE', 'name': 'Lauenen', 'registryOfCommerceId': 36}, {'bfsId': 1365, 'canton': 'SZ', 'name': 'Lauerz', 'registryOfCommerceId': 130}, {'bfsId': 2852, 'canton': 'BL', 'name': 'Läufelfingen', 'registryOfCommerceId': 280}, {'bfsId': 2787, 'canton': 'BL', 'name': 'Laufen', 'registryOfCommerceId': 280}, {'bfsId': 4170, 'canton': 'AG', 'name': 'Laufenburg', 'registryOfCommerceId': 400}, {'bfsId': 34, 'canton': 'ZH', 'name': 'Laufen-Uhwiesen', 'registryOfCommerceId': 20}, {'bfsId': 667, 'canton': 'BE', 'name': 'Laupen', 'registryOfCommerceId': 36}, {'bfsId': 2426, 'canton': 'SO', 'name': 'Laupersdorf', 'registryOfCommerceId': 241}, {'bfsId': 903, 'canton': 'BE', 'name': 'Lauperswil', 'registryOfCommerceId': 36}, {'bfsId': 5586, 'canton': 'VD', 'name': 'Lausanne', 'registryOfCommerceId': 550}, {'bfsId': 2828, 'canton': 'BL', 'name': 'Lausen', 'registryOfCommerceId': 280}, {'bfsId': 584, 'canton': 'BE', 'name': 'Lauterbrunnen', 'registryOfCommerceId': 36}, {'bfsId': 2889, 'canton': 'BL', 'name': 'Lauwil', 'registryOfCommerceId': 280}, {'bfsId': 2338, 'canton': 'FR', 'name': 'La Verrerie', 'registryOfCommerceId': 217}, {'bfsId': 5112, 'canton': 'TI', 'name': 'Lavertezzo', 'registryOfCommerceId': 501}, {'bfsId': 5406, 'canton': 'VD', 'name': 'Lavey-Morcles', 'registryOfCommerceId': 550}, {'bfsId': 5637, 'canton': 'VD', 'name': 'Lavigny', 'registryOfCommerceId': 550}, {'bfsId': 5323, 'canton': 'TI', 'name': 'Lavizzara', 'registryOfCommerceId': 501}, {'bfsId': 6061, 'canton': 'VS', 'name': 'Lax', 'registryOfCommerceId': 600}, {'bfsId': 6741, 'canton': 'JU', 'name': 'Le Bémont (JU)', 'registryOfCommerceId': 670}, {'bfsId': 6434, 'canton': 'NE', 'name': 'Le Cerneux-Péquignot', 'registryOfCommerceId': 645}, {'bfsId': 2067, 'canton': 'FR', 'name': 'Le Châtelard', 'registryOfCommerceId': 217}, {'bfsId': 5872, 'canton': 'VD', 'name': 'Le Chenit', 'registryOfCommerceId': 550}, {'bfsId': 2337, 'canton': 'FR', 'name': 'Le Flon', 'registryOfCommerceId': 217}, {'bfsId': 6623, 'canton': 'GE', 'name': 'Le Grand-Saconnex', 'registryOfCommerceId': 660}, {'bfsId': 4311, 'canton': 'AG', 'name': 'Leibstadt', 'registryOfCommerceId': 400}, {'bfsId': 4137, 'canton': 'AG', 'name': 'Leimbach (AG)', 'registryOfCommerceId': 400}, {'bfsId': 585, 'canton': 'BE', 'name': 'Leissigen', 'registryOfCommerceId': 36}, {'bfsId': 6455, 'canton': 'NE', 'name': 'Le Landeron', 'registryOfCommerceId': 645}, {'bfsId': 5873, 'canton': 'VD', 'name': 'Le Lieu', 'registryOfCommerceId': 550}, {'bfsId': 6436, 'canton': 'NE', 'name': 'Le Locle', 'registryOfCommerceId': 645}, {'bfsId': 5587, 'canton': 'VD', 'name': 'Le Mont-sur-Lausanne', 'registryOfCommerceId': 550}, {'bfsId': 2220, 'canton': 'FR', 'name': 'Le Mouret', 'registryOfCommerceId': 217}, {'bfsId': 4312, 'canton': 'AG', 'name': 'Lengnau (AG)', 'registryOfCommerceId': 400}, {'bfsId': 387, 'canton': 'BE', 'name': 'Lengnau (BE)', 'registryOfCommerceId': 36}, {'bfsId': 4683, 'canton': 'TG', 'name': 'Lengwil', 'registryOfCommerceId': 440}, {'bfsId': 792, 'canton': 'BE', 'name': 'Lenk', 'registryOfCommerceId': 36}, {'bfsId': 6754, 'canton': 'JU', 'name': 'Le Noirmont', 'registryOfCommerceId': 670}, {'bfsId': 6240, 'canton': 'VS', 'name': 'Lens', 'registryOfCommerceId': 626}, {'bfsId': 4201, 'canton': 'AG', 'name': 'Lenzburg', 'registryOfCommerceId': 400}, {'bfsId': 2145, 'canton': 'FR', 'name': 'Le Pâquier (FR)', 'registryOfCommerceId': 217}, {'bfsId': 6742, 'canton': 'JU', 'name': 'Les Bois', 'registryOfCommerceId': 670}, {'bfsId': 6743, 'canton': 'JU', 'name': 'Les Breuleux', 'registryOfCommerceId': 670}, {'bfsId': 5750, 'canton': 'VD', 'name': 'Les Clées', 'registryOfCommerceId': 550}, {'bfsId': 6745, 'canton': 'JU', 'name': 'Les Enfers', 'registryOfCommerceId': 670}, {'bfsId': 6748, 'canton': 'JU', 'name': 'Les Genevez (JU)', 'registryOfCommerceId': 670}, {'bfsId': 2050, 'canton': 'FR', 'name': 'Les Montets', 'registryOfCommerceId': 217}, {'bfsId': 6422, 'canton': 'NE', 'name': 'Les Planchettes', 'registryOfCommerceId': 645}, {'bfsId': 6437, 'canton': 'NE', 'name': 'Les Ponts-de-Martel', 'registryOfCommerceId': 645}, {'bfsId': 6511, 'canton': 'NE', 'name': 'Les Verrières', 'registryOfCommerceId': 645}, {'bfsId': 4313, 'canton': 'AG', 'name': 'Leuggern', 'registryOfCommerceId': 400}, {'bfsId': 6110, 'canton': 'VS', 'name': 'Leuk', 'registryOfCommerceId': 600}, {'bfsId': 6111, 'canton': 'VS', 'name': 'Leukerbad', 'registryOfCommerceId': 600}, {'bfsId': 4138, 'canton': 'AG', 'name': 'Leutwil', 'registryOfCommerceId': 400}, {'bfsId': 388, 'canton': 'BE', 'name': 'Leuzigen', 'registryOfCommerceId': 36}, {'bfsId': 5731, 'canton': 'VD', 'name': 'Le Vaud', 'registryOfCommerceId': 550}, {'bfsId': 5407, 'canton': 'VD', 'name': 'Leysin', 'registryOfCommerceId': 550}, {'bfsId': 6135, 'canton': 'VS', 'name': 'Leytron', 'registryOfCommerceId': 621}, {'bfsId': 3374, 'canton': 'SG', 'name': 'Lichtensteig', 'registryOfCommerceId': 320}, {'bfsId': 6033, 'canton': 'VS', 'name': 'Liddes', 'registryOfCommerceId': 621}, {'bfsId': 2890, 'canton': 'BL', 'name': 'Liedertswil', 'registryOfCommerceId': 280}, {'bfsId': 2788, 'canton': 'BL', 'name': 'Liesberg', 'registryOfCommerceId': 280}, {'bfsId': 2829, 'canton': 'BL', 'name': 'Liestal', 'registryOfCommerceId': 280}, {'bfsId': 740, 'canton': 'BE', 'name': 'Ligerz', 'registryOfCommerceId': 36}, {'bfsId': 5755, 'canton': 'VD', 'name': 'Lignerolle', 'registryOfCommerceId': 550}, {'bfsId': 6456, 'canton': 'NE', 'name': 'Lignières', 'registryOfCommerceId': 645}, {'bfsId': 176, 'canton': 'ZH', 'name': 'Lindau', 'registryOfCommerceId': 20}, {'bfsId': 614, 'canton': 'BE', 'name': 'Linden', 'registryOfCommerceId': 36}, {'bfsId': 5315, 'canton': 'TI', 'name': 'Linescio', 'registryOfCommerceId': 501}, {'bfsId': 5486, 'canton': 'VD', 'name': \"L'Isle\", 'registryOfCommerceId': 550}, {'bfsId': 5113, 'canton': 'TI', 'name': 'Locarno', 'registryOfCommerceId': 501}, {'bfsId': 2526, 'canton': 'SO', 'name': 'Lohn-Ammannsegg', 'registryOfCommerceId': 241}, {'bfsId': 2903, 'canton': 'SH', 'name': 'Löhningen', 'registryOfCommerceId': 290}, {'bfsId': 2917, 'canton': 'SH', 'name': 'Lohn (SH)', 'registryOfCommerceId': 290}, {'bfsId': 4741, 'canton': 'TG', 'name': 'Lommis', 'registryOfCommerceId': 440}, {'bfsId': 2551, 'canton': 'SO', 'name': 'Lommiswil', 'registryOfCommerceId': 241}, {'bfsId': 5638, 'canton': 'VD', 'name': 'Lonay', 'registryOfCommerceId': 550}, {'bfsId': 5429, 'canton': 'VD', 'name': 'Longirod', 'registryOfCommerceId': 550}, {'bfsId': 5115, 'canton': 'TI', 'name': 'Losone', 'registryOfCommerceId': 501}, {'bfsId': 3821, 'canton': 'GR', 'name': 'Lostallo', 'registryOfCommerceId': 350}, {'bfsId': 2493, 'canton': 'SO', 'name': 'Lostorf', 'registryOfCommerceId': 241}, {'bfsId': 331, 'canton': 'BE', 'name': 'Lotzwil', 'registryOfCommerceId': 36}, {'bfsId': 5674, 'canton': 'VD', 'name': 'Lovatens', 'registryOfCommerceId': 550}, {'bfsId': 696, 'canton': 'BE', 'name': 'Loveresse', 'registryOfCommerceId': 36}, {'bfsId': 5675, 'canton': 'VD', 'name': 'Lucens', 'registryOfCommerceId': 550}, {'bfsId': 63, 'canton': 'ZH', 'name': 'Lufingen', 'registryOfCommerceId': 20}, {'bfsId': 5192, 'canton': 'TI', 'name': 'Lugano', 'registryOfCommerceId': 501}, {'bfsId': 6793, 'canton': 'JU', 'name': 'Lugnez', 'registryOfCommerceId': 670}, {'bfsId': 5858, 'canton': 'VD', 'name': 'Luins', 'registryOfCommerceId': 550}, {'bfsId': 2025, 'canton': 'FR', 'name': 'Lully (FR)', 'registryOfCommerceId': 217}, {'bfsId': 5639, 'canton': 'VD', 'name': 'Lully (VD)', 'registryOfCommerceId': 550}, {'bfsId': 5010, 'canton': 'TI', 'name': 'Lumino', 'registryOfCommerceId': 501}, {'bfsId': 3618, 'canton': 'GR', 'name': 'Lumnezia', 'registryOfCommerceId': 350}, {'bfsId': 1405, 'canton': 'OW', 'name': 'Lungern', 'registryOfCommerceId': 140}, {'bfsId': 4104, 'canton': 'AG', 'name': 'Lupfig', 'registryOfCommerceId': 400}, {'bfsId': 2830, 'canton': 'BL', 'name': 'Lupsingen', 'registryOfCommerceId': 280}, {'bfsId': 497, 'canton': 'BE', 'name': 'Lüscherz', 'registryOfCommerceId': 36}, {'bfsId': 5487, 'canton': 'VD', 'name': 'Lussery-Villars', 'registryOfCommerceId': 550}, {'bfsId': 2464, 'canton': 'SO', 'name': 'Lüsslingen-Nennigkofen', 'registryOfCommerceId': 241}, {'bfsId': 5640, 'canton': 'VD', 'name': 'Lussy-sur-Morges', 'registryOfCommerceId': 550}, {'bfsId': 2527, 'canton': 'SO', 'name': 'Luterbach', 'registryOfCommerceId': 241}, {'bfsId': 2455, 'canton': 'SO', 'name': 'Lüterkofen-Ichertswil', 'registryOfCommerceId': 241}, {'bfsId': 2456, 'canton': 'SO', 'name': 'Lüterswil-Gächliwil', 'registryOfCommerceId': 241}, {'bfsId': 1135, 'canton': 'LU', 'name': 'Luthern', 'registryOfCommerceId': 100}, {'bfsId': 3393, 'canton': 'SG', 'name': 'Lütisburg', 'registryOfCommerceId': 320}, {'bfsId': 5606, 'canton': 'VD', 'name': 'Lutry', 'registryOfCommerceId': 550}, {'bfsId': 586, 'canton': 'BE', 'name': 'Lütschental', 'registryOfCommerceId': 36}, {'bfsId': 955, 'canton': 'BE', 'name': 'Lützelflüh', 'registryOfCommerceId': 36}, {'bfsId': 3033, 'canton': 'AR', 'name': 'Lutzenberg', 'registryOfCommerceId': 300}, {'bfsId': 3891, 'canton': 'GR', 'name': 'Luzein', 'registryOfCommerceId': 350}, {'bfsId': 1061, 'canton': 'LU', 'name': 'Luzern', 'registryOfCommerceId': 100}, {'bfsId': 306, 'canton': 'BE', 'name': 'Lyss', 'registryOfCommerceId': 36}, {'bfsId': 415, 'canton': 'BE', 'name': 'Lyssach', 'registryOfCommerceId': 36}, {'bfsId': 332, 'canton': 'BE', 'name': 'Madiswil', 'registryOfCommerceId': 36}, {'bfsId': 3783, 'canton': 'GR', 'name': 'Madulain', 'registryOfCommerceId': 350}, {'bfsId': 4253, 'canton': 'AG', 'name': 'Magden', 'registryOfCommerceId': 400}, {'bfsId': 4032, 'canton': 'AG', 'name': 'Mägenwil', 'registryOfCommerceId': 400}, {'bfsId': 5317, 'canton': 'TI', 'name': 'Maggia', 'registryOfCommerceId': 501}, {'bfsId': 5193, 'canton': 'TI', 'name': 'Magliaso', 'registryOfCommerceId': 501}, {'bfsId': 3953, 'canton': 'GR', 'name': 'Maienfeld', 'registryOfCommerceId': 350}, {'bfsId': 2853, 'canton': 'BL', 'name': 'Maisprach', 'registryOfCommerceId': 280}, {'bfsId': 3954, 'canton': 'GR', 'name': 'Malans', 'registryOfCommerceId': 350}, {'bfsId': 1062, 'canton': 'LU', 'name': 'Malters', 'registryOfCommerceId': 100}, {'bfsId': 4826, 'canton': 'TG', 'name': 'Mammern', 'registryOfCommerceId': 440}, {'bfsId': 4105, 'canton': 'AG', 'name': 'Mandach', 'registryOfCommerceId': 400}, {'bfsId': 155, 'canton': 'ZH', 'name': 'Männedorf', 'registryOfCommerceId': 20}, {'bfsId': 5194, 'canton': 'TI', 'name': 'Manno', 'registryOfCommerceId': 501}, {'bfsId': 5790, 'canton': 'VD', 'name': 'Maracon', 'registryOfCommerceId': 550}, {'bfsId': 3253, 'canton': 'SG', 'name': 'Marbach (SG)', 'registryOfCommerceId': 320}, {'bfsId': 5430, 'canton': 'VD', 'name': 'Marchissy', 'registryOfCommerceId': 550}, {'bfsId': 2206, 'canton': 'FR', 'name': 'Marly', 'registryOfCommerceId': 217}, {'bfsId': 2140, 'canton': 'FR', 'name': 'Marsens', 'registryOfCommerceId': 217}, {'bfsId': 4941, 'canton': 'TG', 'name': 'Märstetten', 'registryOfCommerceId': 440}, {'bfsId': 35, 'canton': 'ZH', 'name': 'Marthalen', 'registryOfCommerceId': 20}, {'bfsId': 6136, 'canton': 'VS', 'name': 'Martigny', 'registryOfCommerceId': 621}, {'bfsId': 6137, 'canton': 'VS', 'name': 'Martigny-Combe', 'registryOfCommerceId': 621}, {'bfsId': 8, 'canton': 'ZH', 'name': 'Maschwanden', 'registryOfCommerceId': 20}, {'bfsId': 3663, 'canton': 'GR', 'name': 'Masein', 'registryOfCommerceId': 350}, {'bfsId': 5196, 'canton': 'TI', 'name': 'Massagno', 'registryOfCommerceId': 501}, {'bfsId': 6215, 'canton': 'VS', 'name': 'Massongex', 'registryOfCommerceId': 621}, {'bfsId': 2086, 'canton': 'FR', 'name': 'Massonnens', 'registryOfCommerceId': 217}, {'bfsId': 5919, 'canton': 'VD', 'name': 'Mathod', 'registryOfCommerceId': 550}, {'bfsId': 2208, 'canton': 'FR', 'name': 'Matran', 'registryOfCommerceId': 217}, {'bfsId': 587, 'canton': 'BE', 'name': 'Matten bei Interlaken', 'registryOfCommerceId': 36}, {'bfsId': 543, 'canton': 'BE', 'name': 'Mattstetten', 'registryOfCommerceId': 36}, {'bfsId': 2427, 'canton': 'SO', 'name': 'Matzendorf', 'registryOfCommerceId': 241}, {'bfsId': 4591, 'canton': 'TG', 'name': 'Matzingen', 'registryOfCommerceId': 440}, {'bfsId': 5562, 'canton': 'VD', 'name': 'Mauborget', 'registryOfCommerceId': 550}, {'bfsId': 1091, 'canton': 'LU', 'name': 'Mauensee', 'registryOfCommerceId': 100}, {'bfsId': 195, 'canton': 'ZH', 'name': 'Maur', 'registryOfCommerceId': 20}, {'bfsId': 5488, 'canton': 'VD', 'name': 'Mauraz', 'registryOfCommerceId': 550}, {'bfsId': 3983, 'canton': 'GR', 'name': 'Medel (Lucmagn)', 'registryOfCommerceId': 350}, {'bfsId': 1063, 'canton': 'LU', 'name': 'Meggen', 'registryOfCommerceId': 100}, {'bfsId': 389, 'canton': 'BE', 'name': 'Meienried', 'registryOfCommerceId': 36}, {'bfsId': 1064, 'canton': 'LU', 'name': 'Meierskappel', 'registryOfCommerceId': 100}, {'bfsId': 307, 'canton': 'BE', 'name': 'Meikirch', 'registryOfCommerceId': 36}, {'bfsId': 156, 'canton': 'ZH', 'name': 'Meilen', 'registryOfCommerceId': 20}, {'bfsId': 6629, 'canton': 'GE', 'name': 'Meinier', 'registryOfCommerceId': 660}, {'bfsId': 390, 'canton': 'BE', 'name': 'Meinisberg', 'registryOfCommerceId': 36}, {'bfsId': 785, 'canton': 'BE', 'name': 'Meiringen', 'registryOfCommerceId': 36}, {'bfsId': 4202, 'canton': 'AG', 'name': 'Meisterschwanden', 'registryOfCommerceId': 400}, {'bfsId': 333, 'canton': 'BE', 'name': 'Melchnau', 'registryOfCommerceId': 36}, {'bfsId': 5198, 'canton': 'TI', 'name': 'Melide', 'registryOfCommerceId': 501}, {'bfsId': 4314, 'canton': 'AG', 'name': 'Mellikon', 'registryOfCommerceId': 400}, {'bfsId': 4033, 'canton': 'AG', 'name': 'Mellingen', 'registryOfCommerceId': 400}, {'bfsId': 3293, 'canton': 'SG', 'name': 'Mels', 'registryOfCommerceId': 320}, {'bfsId': 2620, 'canton': 'SO', 'name': 'Meltingen', 'registryOfCommerceId': 241}, {'bfsId': 5254, 'canton': 'TI', 'name': 'Mendrisio', 'registryOfCommerceId': 501}, {'bfsId': 2027, 'canton': 'FR', 'name': 'Ménières', 'registryOfCommerceId': 217}, {'bfsId': 4139, 'canton': 'AG', 'name': 'Menziken', 'registryOfCommerceId': 400}, {'bfsId': 1704, 'canton': 'ZG', 'name': 'Menzingen', 'registryOfCommerceId': 170}, {'bfsId': 1136, 'canton': 'LU', 'name': 'Menznau', 'registryOfCommerceId': 100}, {'bfsId': 4234, 'canton': 'AG', 'name': 'Merenschwand', 'registryOfCommerceId': 400}, {'bfsId': 5117, 'canton': 'TI', 'name': 'Mergoscia', 'registryOfCommerceId': 501}, {'bfsId': 2936, 'canton': 'SH', 'name': 'Merishausen', 'registryOfCommerceId': 290}, {'bfsId': 6715, 'canton': 'JU', 'name': 'Mervelier', 'registryOfCommerceId': 670}, {'bfsId': 741, 'canton': 'BE', 'name': 'Merzligen', 'registryOfCommerceId': 36}, {'bfsId': 3822, 'canton': 'GR', 'name': 'Mesocco', 'registryOfCommerceId': 350}, {'bfsId': 2457, 'canton': 'SO', 'name': 'Messen', 'registryOfCommerceId': 241}, {'bfsId': 4184, 'canton': 'AG', 'name': 'Mettauertal', 'registryOfCommerceId': 400}, {'bfsId': 6716, 'canton': 'JU', 'name': 'Mettembert', 'registryOfCommerceId': 670}, {'bfsId': 9, 'canton': 'ZH', 'name': 'Mettmenstetten', 'registryOfCommerceId': 20}, {'bfsId': 2477, 'canton': 'SO', 'name': 'Metzerlen-Mariastein', 'registryOfCommerceId': 241}, {'bfsId': 5489, 'canton': 'VD', 'name': 'Mex (VD)', 'registryOfCommerceId': 550}, {'bfsId': 2271, 'canton': 'FR', 'name': 'Meyriez', 'registryOfCommerceId': 217}, {'bfsId': 6630, 'canton': 'GE', 'name': 'Meyrin', 'registryOfCommerceId': 660}, {'bfsId': 2087, 'canton': 'FR', 'name': 'Mézières (FR)', 'registryOfCommerceId': 217}, {'bfsId': 5199, 'canton': 'TI', 'name': 'Mezzovico-Vira', 'registryOfCommerceId': 501}, {'bfsId': 5723, 'canton': 'VD', 'name': 'Mies', 'registryOfCommerceId': 550}, {'bfsId': 5200, 'canton': 'TI', 'name': 'Miglieglia', 'registryOfCommerceId': 501}, {'bfsId': 6416, 'canton': 'NE', 'name': 'Milvignes', 'registryOfCommerceId': 645}, {'bfsId': 5118, 'canton': 'TI', 'name': 'Minusio', 'registryOfCommerceId': 501}, {'bfsId': 615, 'canton': 'BE', 'name': 'Mirchel', 'registryOfCommerceId': 36}, {'bfsId': 2272, 'canton': 'FR', 'name': 'Misery-Courtion', 'registryOfCommerceId': 217}, {'bfsId': 5821, 'canton': 'VD', 'name': 'Missy', 'registryOfCommerceId': 550}, {'bfsId': 4254, 'canton': 'AG', 'name': 'Möhlin', 'registryOfCommerceId': 400}, {'bfsId': 5490, 'canton': 'VD', 'name': 'Moiry', 'registryOfCommerceId': 550}, {'bfsId': 5431, 'canton': 'VD', 'name': 'Mollens (VD)', 'registryOfCommerceId': 550}, {'bfsId': 5921, 'canton': 'VD', 'name': 'Molondin', 'registryOfCommerceId': 550}, {'bfsId': 196, 'canton': 'ZH', 'name': 'Mönchaltorf', 'registryOfCommerceId': 20}, {'bfsId': 2029, 'canton': 'FR', 'name': 'Montagny (FR)', 'registryOfCommerceId': 217}, {'bfsId': 5922, 'canton': 'VD', 'name': 'Montagny-près-Yverdon', 'registryOfCommerceId': 550}, {'bfsId': 5693, 'canton': 'VD', 'name': 'Montanaire', 'registryOfCommerceId': 550}, {'bfsId': 5756, 'canton': 'VD', 'name': 'Montcherand', 'registryOfCommerceId': 550}, {'bfsId': 5238, 'canton': 'TI', 'name': 'Monteceneri', 'registryOfCommerceId': 501}, {'bfsId': 2089, 'canton': 'FR', 'name': 'Montet (Glâne)', 'registryOfCommerceId': 217}, {'bfsId': 6751, 'canton': 'JU', 'name': 'Montfaucon', 'registryOfCommerceId': 670}, {'bfsId': 4106, 'canton': 'AG', 'name': 'Mönthal', 'registryOfCommerceId': 400}, {'bfsId': 6153, 'canton': 'VS', 'name': 'Monthey', 'registryOfCommerceId': 621}, {'bfsId': 5540, 'canton': 'VD', 'name': 'Montilliez', 'registryOfCommerceId': 550}, {'bfsId': 5491, 'canton': 'VD', 'name': 'Mont-la-Ville', 'registryOfCommerceId': 550}, {'bfsId': 6090, 'canton': 'VS', 'name': 'Mont-Noble', 'registryOfCommerceId': 626}, {'bfsId': 5792, 'canton': 'VD', 'name': 'Montpreveyres', 'registryOfCommerceId': 550}, {'bfsId': 5886, 'canton': 'VD', 'name': 'Montreux', 'registryOfCommerceId': 550}, {'bfsId': 5492, 'canton': 'VD', 'name': 'Montricher', 'registryOfCommerceId': 550}, {'bfsId': 5859, 'canton': 'VD', 'name': 'Mont-sur-Rolle', 'registryOfCommerceId': 550}, {'bfsId': 437, 'canton': 'BE', 'name': 'Mont-Tramelan', 'registryOfCommerceId': 36}, {'bfsId': 2284, 'canton': 'FR', 'name': 'Mont-Vully', 'registryOfCommerceId': 217}, {'bfsId': 4277, 'canton': 'AG', 'name': 'Moosleerau', 'registryOfCommerceId': 400}, {'bfsId': 544, 'canton': 'BE', 'name': 'Moosseedorf', 'registryOfCommerceId': 36}, {'bfsId': 5257, 'canton': 'TI', 'name': 'Morbio Inferiore', 'registryOfCommerceId': 501}, {'bfsId': 5203, 'canton': 'TI', 'name': 'Morcote', 'registryOfCommerceId': 501}, {'bfsId': 6203, 'canton': 'VS', 'name': 'Mörel-Filet', 'registryOfCommerceId': 600}, {'bfsId': 5642, 'canton': 'VD', 'name': 'Morges', 'registryOfCommerceId': 550}, {'bfsId': 742, 'canton': 'BE', 'name': 'Mörigen', 'registryOfCommerceId': 36}, {'bfsId': 4203, 'canton': 'AG', 'name': 'Möriken-Wildegg', 'registryOfCommerceId': 400}, {'bfsId': 2143, 'canton': 'FR', 'name': 'Morlon', 'registryOfCommerceId': 217}, {'bfsId': 5527, 'canton': 'VD', 'name': 'Morrens (VD)', 'registryOfCommerceId': 550}, {'bfsId': 1366, 'canton': 'SZ', 'name': 'Morschach', 'registryOfCommerceId': 130}, {'bfsId': 3214, 'canton': 'SG', 'name': 'Mörschwil', 'registryOfCommerceId': 320}, {'bfsId': 3394, 'canton': 'SG', 'name': 'Mosnang', 'registryOfCommerceId': 320}, {'bfsId': 5678, 'canton': 'VD', 'name': 'Moudon', 'registryOfCommerceId': 550}, {'bfsId': 700, 'canton': 'BE', 'name': 'Moutier', 'registryOfCommerceId': 36}, {'bfsId': 6718, 'canton': 'JU', 'name': 'Movelier', 'registryOfCommerceId': 670}, {'bfsId': 4009, 'canton': 'AG', 'name': 'Muhen', 'registryOfCommerceId': 400}, {'bfsId': 4235, 'canton': 'AG', 'name': 'Mühlau', 'registryOfCommerceId': 400}, {'bfsId': 668, 'canton': 'BE', 'name': 'Mühleberg', 'registryOfCommerceId': 36}, {'bfsId': 4831, 'canton': 'TG', 'name': 'Müllheim', 'registryOfCommerceId': 440}, {'bfsId': 4107, 'canton': 'AG', 'name': 'Mülligen', 'registryOfCommerceId': 400}, {'bfsId': 2428, 'canton': 'SO', 'name': 'Mümliswil-Ramiswil', 'registryOfCommerceId': 241}, {'bfsId': 4255, 'canton': 'AG', 'name': 'Mumpf', 'registryOfCommerceId': 400}, {'bfsId': 546, 'canton': 'BE', 'name': 'Münchenbuchsee', 'registryOfCommerceId': 36}, {'bfsId': 2769, 'canton': 'BL', 'name': 'Münchenstein', 'registryOfCommerceId': 280}, {'bfsId': 669, 'canton': 'BE', 'name': 'Münchenwiler', 'registryOfCommerceId': 36}, {'bfsId': 4172, 'canton': 'AG', 'name': 'Münchwilen (AG)', 'registryOfCommerceId': 400}, {'bfsId': 4746, 'canton': 'TG', 'name': 'Münchwilen (TG)', 'registryOfCommerceId': 440}, {'bfsId': 616, 'canton': 'BE', 'name': 'Münsingen', 'registryOfCommerceId': 36}, {'bfsId': 4691, 'canton': 'TG', 'name': 'Münsterlingen', 'registryOfCommerceId': 440}, {'bfsId': 2274, 'canton': 'FR', 'name': 'Muntelier', 'registryOfCommerceId': 217}, {'bfsId': 3715, 'canton': 'GR', 'name': 'Muntogna da Schons', 'registryOfCommerceId': 350}, {'bfsId': 498, 'canton': 'BE', 'name': 'Müntschemier', 'registryOfCommerceId': 36}, {'bfsId': 3202, 'canton': 'SG', 'name': 'Muolen', 'registryOfCommerceId': 320}, {'bfsId': 1367, 'canton': 'SZ', 'name': 'Muotathal', 'registryOfCommerceId': 130}, {'bfsId': 5120, 'canton': 'TI', 'name': 'Muralto', 'registryOfCommerceId': 501}, {'bfsId': 4279, 'canton': 'AG', 'name': 'Murgenthal', 'registryOfCommerceId': 400}, {'bfsId': 4236, 'canton': 'AG', 'name': 'Muri (AG)', 'registryOfCommerceId': 400}, {'bfsId': 6753, 'canton': 'JU', 'name': 'Muriaux', 'registryOfCommerceId': 670}, {'bfsId': 356, 'canton': 'BE', 'name': 'Muri bei Bern', 'registryOfCommerceId': 36}, {'bfsId': 2275, 'canton': 'FR', 'name': 'Murten', 'registryOfCommerceId': 217}, {'bfsId': 5563, 'canton': 'VD', 'name': 'Mutrux', 'registryOfCommerceId': 550}, {'bfsId': 2770, 'canton': 'BL', 'name': 'Muttenz', 'registryOfCommerceId': 280}, {'bfsId': 5205, 'canton': 'TI', 'name': 'Muzzano', 'registryOfCommerceId': 501}, {'bfsId': 6007, 'canton': 'VS', 'name': 'Naters', 'registryOfCommerceId': 600}, {'bfsId': 1137, 'canton': 'LU', 'name': 'Nebikon', 'registryOfCommerceId': 100}, {'bfsId': 3378, 'canton': 'SG', 'name': 'Neckertal', 'registryOfCommerceId': 320}, {'bfsId': 88, 'canton': 'ZH', 'name': 'Neerach', 'registryOfCommerceId': 20}, {'bfsId': 223, 'canton': 'ZH', 'name': 'Neftenbach', 'registryOfCommerceId': 20}, {'bfsId': 5206, 'canton': 'TI', 'name': 'Neggio', 'registryOfCommerceId': 501}, {'bfsId': 6024, 'canton': 'VS', 'name': 'Nendaz', 'registryOfCommerceId': 626}, {'bfsId': 2789, 'canton': 'BL', 'name': 'Nenzlingen', 'registryOfCommerceId': 280}, {'bfsId': 3360, 'canton': 'SG', 'name': 'Nesslau', 'registryOfCommerceId': 320}, {'bfsId': 6458, 'canton': 'NE', 'name': 'Neuchâtel', 'registryOfCommerceId': 645}, {'bfsId': 2404, 'canton': 'SO', 'name': 'Neuendorf', 'registryOfCommerceId': 241}, {'bfsId': 670, 'canton': 'BE', 'name': 'Neuenegg', 'registryOfCommerceId': 36}, {'bfsId': 4034, 'canton': 'AG', 'name': 'Neuenhof', 'registryOfCommerceId': 400}, {'bfsId': 1093, 'canton': 'LU', 'name': 'Neuenkirch', 'registryOfCommerceId': 100}, {'bfsId': 2937, 'canton': 'SH', 'name': 'Neuhausen am Rheinfall', 'registryOfCommerceId': 290}, {'bfsId': 1705, 'canton': 'ZG', 'name': 'Neuheim', 'registryOfCommerceId': 170}, {'bfsId': 4601, 'canton': 'TG', 'name': 'Neunforn', 'registryOfCommerceId': 440}, {'bfsId': 2904, 'canton': 'SH', 'name': 'Neunkirch', 'registryOfCommerceId': 290}, {'bfsId': 2211, 'canton': 'FR', 'name': 'Neyruz (FR)', 'registryOfCommerceId': 217}, {'bfsId': 743, 'canton': 'BE', 'name': 'Nidau', 'registryOfCommerceId': 36}, {'bfsId': 981, 'canton': 'BE', 'name': 'Niederbipp', 'registryOfCommerceId': 36}, {'bfsId': 2405, 'canton': 'SO', 'name': 'Niederbuchsiten', 'registryOfCommerceId': 241}, {'bfsId': 3422, 'canton': 'SG', 'name': 'Niederbüren', 'registryOfCommerceId': 320}, {'bfsId': 2891, 'canton': 'BL', 'name': 'Niederdorf', 'registryOfCommerceId': 280}, {'bfsId': 6198, 'canton': 'VS', 'name': 'Niedergesteln', 'registryOfCommerceId': 600}, {'bfsId': 89, 'canton': 'ZH', 'name': 'Niederglatt', 'registryOfCommerceId': 20}, {'bfsId': 2495, 'canton': 'SO', 'name': 'Niedergösgen', 'registryOfCommerceId': 241}, {'bfsId': 90, 'canton': 'ZH', 'name': 'Niederhasli', 'registryOfCommerceId': 20}, {'bfsId': 3423, 'canton': 'SG', 'name': 'Niederhelfenschwil', 'registryOfCommerceId': 320}, {'bfsId': 617, 'canton': 'BE', 'name': 'Niederhünigen', 'registryOfCommerceId': 36}, {'bfsId': 4204, 'canton': 'AG', 'name': 'Niederlenz', 'registryOfCommerceId': 400}, {'bfsId': 877, 'canton': 'BE', 'name': 'Niedermuhlern', 'registryOfCommerceId': 36}, {'bfsId': 982, 'canton': 'BE', 'name': 'Niederönz', 'registryOfCommerceId': 36}, {'bfsId': 588, 'canton': 'BE', 'name': 'Niederried bei Interlaken', 'registryOfCommerceId': 36}, {'bfsId': 4035, 'canton': 'AG', 'name': 'Niederrohrdorf', 'registryOfCommerceId': 400}, {'bfsId': 91, 'canton': 'ZH', 'name': 'Niederweningen', 'registryOfCommerceId': 20}, {'bfsId': 4072, 'canton': 'AG', 'name': 'Niederwil (AG)', 'registryOfCommerceId': 400}, {'bfsId': 6254, 'canton': 'VS', 'name': 'Noble-Contrée', 'registryOfCommerceId': 626}, {'bfsId': 724, 'canton': 'BE', 'name': 'Nods', 'registryOfCommerceId': 36}, {'bfsId': 1094, 'canton': 'LU', 'name': 'Nottwil', 'registryOfCommerceId': 100}, {'bfsId': 5207, 'canton': 'TI', 'name': 'Novaggio', 'registryOfCommerceId': 501}, {'bfsId': 5564, 'canton': 'VD', 'name': 'Novalles', 'registryOfCommerceId': 550}, {'bfsId': 5260, 'canton': 'TI', 'name': 'Novazzano', 'registryOfCommerceId': 501}, {'bfsId': 5408, 'canton': 'VD', 'name': 'Noville', 'registryOfCommerceId': 550}, {'bfsId': 2478, 'canton': 'SO', 'name': 'Nuglar-St. Pantaleon', 'registryOfCommerceId': 241}, {'bfsId': 2621, 'canton': 'SO', 'name': 'Nunningen', 'registryOfCommerceId': 241}, {'bfsId': 64, 'canton': 'ZH', 'name': 'Nürensdorf', 'registryOfCommerceId': 20}, {'bfsId': 2854, 'canton': 'BL', 'name': 'Nusshof', 'registryOfCommerceId': 280}, {'bfsId': 2035, 'canton': 'FR', 'name': 'Nuvilly', 'registryOfCommerceId': 217}, {'bfsId': 5724, 'canton': 'VD', 'name': 'Nyon', 'registryOfCommerceId': 550}, {'bfsId': 1706, 'canton': 'ZG', 'name': 'Oberägeri', 'registryOfCommerceId': 170}, {'bfsId': 357, 'canton': 'BE', 'name': 'Oberbalm', 'registryOfCommerceId': 36}, {'bfsId': 983, 'canton': 'BE', 'name': 'Oberbipp', 'registryOfCommerceId': 36}, {'bfsId': 2406, 'canton': 'SO', 'name': 'Oberbuchsiten', 'registryOfCommerceId': 241}, {'bfsId': 3424, 'canton': 'SG', 'name': 'Oberbüren', 'registryOfCommerceId': 320}, {'bfsId': 418, 'canton': 'BE', 'name': 'Oberburg', 'registryOfCommerceId': 36}, {'bfsId': 619, 'canton': 'BE', 'name': 'Oberdiessbach', 'registryOfCommerceId': 36}, {'bfsId': 2892, 'canton': 'BL', 'name': 'Oberdorf (BL)', 'registryOfCommerceId': 280}, {'bfsId': 1508, 'canton': 'NW', 'name': 'Oberdorf (NW)', 'registryOfCommerceId': 150}, {'bfsId': 2553, 'canton': 'SO', 'name': 'Oberdorf (SO)', 'registryOfCommerceId': 241}, {'bfsId': 3111, 'canton': 'AI', 'name': 'Oberegg', 'registryOfCommerceId': 310}, {'bfsId': 65, 'canton': 'ZH', 'name': 'Oberembrach', 'registryOfCommerceId': 20}, {'bfsId': 6112, 'canton': 'VS', 'name': 'Oberems', 'registryOfCommerceId': 600}, {'bfsId': 245, 'canton': 'ZH', 'name': 'Oberengstringen', 'registryOfCommerceId': 20}, {'bfsId': 4010, 'canton': 'AG', 'name': 'Oberentfelden', 'registryOfCommerceId': 400}, {'bfsId': 2528, 'canton': 'SO', 'name': 'Obergerlafingen', 'registryOfCommerceId': 241}, {'bfsId': 92, 'canton': 'ZH', 'name': 'Oberglatt', 'registryOfCommerceId': 20}, {'bfsId': 6076, 'canton': 'VS', 'name': 'Obergoms', 'registryOfCommerceId': 600}, {'bfsId': 2497, 'canton': 'SO', 'name': 'Obergösgen', 'registryOfCommerceId': 241}, {'bfsId': 2972, 'canton': 'SH', 'name': 'Oberhallau', 'registryOfCommerceId': 290}, {'bfsId': 3375, 'canton': 'SG', 'name': 'Oberhelfenschwil', 'registryOfCommerceId': 320}, {'bfsId': 4173, 'canton': 'AG', 'name': 'Oberhof', 'registryOfCommerceId': 400}, {'bfsId': 934, 'canton': 'BE', 'name': 'Oberhofen am Thunersee', 'registryOfCommerceId': 36}, {'bfsId': 629, 'canton': 'BE', 'name': 'Oberhünigen', 'registryOfCommerceId': 36}, {'bfsId': 1368, 'canton': 'SZ', 'name': 'Oberiberg', 'registryOfCommerceId': 130}, {'bfsId': 1095, 'canton': 'LU', 'name': 'Oberkirch', 'registryOfCommerceId': 100}, {'bfsId': 4140, 'canton': 'AG', 'name': 'Oberkulm', 'registryOfCommerceId': 400}, {'bfsId': 935, 'canton': 'BE', 'name': 'Oberlangenegg', 'registryOfCommerceId': 36}, {'bfsId': 4073, 'canton': 'AG', 'name': 'Oberlunkhofen', 'registryOfCommerceId': 400}, {'bfsId': 4256, 'canton': 'AG', 'name': 'Obermumpf', 'registryOfCommerceId': 400}, {'bfsId': 589, 'canton': 'BE', 'name': 'Oberried am Brienzersee', 'registryOfCommerceId': 36}, {'bfsId': 137, 'canton': 'ZH', 'name': 'Oberrieden', 'registryOfCommerceId': 20}, {'bfsId': 3254, 'canton': 'SG', 'name': 'Oberriet (SG)', 'registryOfCommerceId': 320}, {'bfsId': 4037, 'canton': 'AG', 'name': 'Oberrohrdorf', 'registryOfCommerceId': 400}, {'bfsId': 4237, 'canton': 'AG', 'name': 'Oberrüti', 'registryOfCommerceId': 400}, {'bfsId': 3988, 'canton': 'GR', 'name': 'Obersaxen Mundaun', 'registryOfCommerceId': 350}, {'bfsId': 4038, 'canton': 'AG', 'name': 'Obersiggenthal', 'registryOfCommerceId': 400}, {'bfsId': 620, 'canton': 'BE', 'name': 'Oberthal', 'registryOfCommerceId': 36}, {'bfsId': 3407, 'canton': 'SG', 'name': 'Oberuzwil', 'registryOfCommerceId': 320}, {'bfsId': 93, 'canton': 'ZH', 'name': 'Oberweningen', 'registryOfCommerceId': 20}, {'bfsId': 391, 'canton': 'BE', 'name': 'Oberwil bei Büren', 'registryOfCommerceId': 36}, {'bfsId': 2771, 'canton': 'BL', 'name': 'Oberwil (BL)', 'registryOfCommerceId': 280}, {'bfsId': 766, 'canton': 'BE', 'name': 'Oberwil im Simmental', 'registryOfCommerceId': 36}, {'bfsId': 4074, 'canton': 'AG', 'name': 'Oberwil-Lieli', 'registryOfCommerceId': 400}, {'bfsId': 10, 'canton': 'ZH', 'name': 'Obfelden', 'registryOfCommerceId': 20}, {'bfsId': 985, 'canton': 'BE', 'name': 'Ochlenberg', 'registryOfCommerceId': 36}, {'bfsId': 2529, 'canton': 'SO', 'name': 'Oekingen', 'registryOfCommerceId': 241}, {'bfsId': 2407, 'canton': 'SO', 'name': 'Oensingen', 'registryOfCommerceId': 241}, {'bfsId': 335, 'canton': 'BE', 'name': 'Oeschenbach', 'registryOfCommerceId': 36}, {'bfsId': 4175, 'canton': 'AG', 'name': 'Oeschgen', 'registryOfCommerceId': 400}, {'bfsId': 157, 'canton': 'ZH', 'name': 'Oetwil am See', 'registryOfCommerceId': 20}, {'bfsId': 246, 'canton': 'ZH', 'name': 'Oetwil an der Limmat', 'registryOfCommerceId': 20}, {'bfsId': 4280, 'canton': 'AG', 'name': 'Oftringen', 'registryOfCommerceId': 400}, {'bfsId': 5680, 'canton': 'VD', 'name': 'Ogens', 'registryOfCommerceId': 550}, {'bfsId': 5409, 'canton': 'VD', 'name': 'Ollon', 'registryOfCommerceId': 550}, {'bfsId': 4257, 'canton': 'AG', 'name': 'Olsberg', 'registryOfCommerceId': 400}, {'bfsId': 2581, 'canton': 'SO', 'name': 'Olten', 'registryOfCommerceId': 241}, {'bfsId': 2855, 'canton': 'BL', 'name': 'Oltingen', 'registryOfCommerceId': 280}, {'bfsId': 6631, 'canton': 'GE', 'name': 'Onex', 'registryOfCommerceId': 660}, {'bfsId': 5565, 'canton': 'VD', 'name': 'Onnens (VD)', 'registryOfCommerceId': 550}, {'bfsId': 5136, 'canton': 'TI', 'name': 'Onsernone', 'registryOfCommerceId': 501}, {'bfsId': 66, 'canton': 'ZH', 'name': 'Opfikon', 'registryOfCommerceId': 20}, {'bfsId': 5923, 'canton': 'VD', 'name': 'Oppens', 'registryOfCommerceId': 550}, {'bfsId': 622, 'canton': 'BE', 'name': 'Oppligen', 'registryOfCommerceId': 36}, {'bfsId': 5757, 'canton': 'VD', 'name': 'Orbe', 'registryOfCommerceId': 550}, {'bfsId': 5924, 'canton': 'VD', 'name': 'Orges', 'registryOfCommerceId': 550}, {'bfsId': 5208, 'canton': 'TI', 'name': 'Origlio', 'registryOfCommerceId': 501}, {'bfsId': 2856, 'canton': 'BL', 'name': 'Ormalingen', 'registryOfCommerceId': 280}, {'bfsId': 5410, 'canton': 'VD', 'name': 'Ormont-Dessous', 'registryOfCommerceId': 550}, {'bfsId': 5411, 'canton': 'VD', 'name': 'Ormont-Dessus', 'registryOfCommerceId': 550}, {'bfsId': 5493, 'canton': 'VD', 'name': 'Orny', 'registryOfCommerceId': 550}, {'bfsId': 5805, 'canton': 'VD', 'name': 'Oron', 'registryOfCommerceId': 550}, {'bfsId': 744, 'canton': 'BE', 'name': 'Orpund', 'registryOfCommerceId': 36}, {'bfsId': 5121, 'canton': 'TI', 'name': 'Orselina', 'registryOfCommerceId': 501}, {'bfsId': 6034, 'canton': 'VS', 'name': 'Orsières', 'registryOfCommerceId': 621}, {'bfsId': 438, 'canton': 'BE', 'name': 'Orvin', 'registryOfCommerceId': 36}, {'bfsId': 5925, 'canton': 'VD', 'name': 'Orzens', 'registryOfCommerceId': 550}, {'bfsId': 37, 'canton': 'ZH', 'name': 'Ossingen', 'registryOfCommerceId': 20}, {'bfsId': 363, 'canton': 'BE', 'name': 'Ostermundigen', 'registryOfCommerceId': 36}, {'bfsId': 94, 'canton': 'ZH', 'name': 'Otelfingen', 'registryOfCommerceId': 20}, {'bfsId': 4205, 'canton': 'AG', 'name': 'Othmarsingen', 'registryOfCommerceId': 400}, {'bfsId': 11, 'canton': 'ZH', 'name': 'Ottenbach', 'registryOfCommerceId': 20}, {'bfsId': 5529, 'canton': 'VD', 'name': 'Oulens-sous-Echallens', 'registryOfCommerceId': 550}, {'bfsId': 5530, 'canton': 'VD', 'name': 'Pailly', 'registryOfCommerceId': 550}, {'bfsId': 5210, 'canton': 'TI', 'name': 'Paradiso', 'registryOfCommerceId': 501}, {'bfsId': 5588, 'canton': 'VD', 'name': 'Paudex', 'registryOfCommerceId': 550}, {'bfsId': 5822, 'canton': 'VD', 'name': 'Payerne', 'registryOfCommerceId': 550}, {'bfsId': 5495, 'canton': 'VD', 'name': 'Penthalaz', 'registryOfCommerceId': 550}, {'bfsId': 5496, 'canton': 'VD', 'name': 'Penthaz', 'registryOfCommerceId': 550}, {'bfsId': 5531, 'canton': 'VD', 'name': 'Penthéréaz', 'registryOfCommerceId': 550}, {'bfsId': 6632, 'canton': 'GE', 'name': 'Perly-Certoux', 'registryOfCommerceId': 660}, {'bfsId': 701, 'canton': 'BE', 'name': 'Perrefitte', 'registryOfCommerceId': 36}, {'bfsId': 5860, 'canton': 'VD', 'name': 'Perroy', 'registryOfCommerceId': 550}, {'bfsId': 5076, 'canton': 'TI', 'name': 'Personico', 'registryOfCommerceId': 501}, {'bfsId': 450, 'canton': 'BE', 'name': 'Péry-La Heutte', 'registryOfCommerceId': 36}, {'bfsId': 716, 'canton': 'BE', 'name': 'Petit-Val', 'registryOfCommerceId': 36}, {'bfsId': 3294, 'canton': 'SG', 'name': 'Pfäfers', 'registryOfCommerceId': 320}, {'bfsId': 177, 'canton': 'ZH', 'name': 'Pfäffikon', 'registryOfCommerceId': 20}, {'bfsId': 1139, 'canton': 'LU', 'name': 'Pfaffnau', 'registryOfCommerceId': 100}, {'bfsId': 2772, 'canton': 'BL', 'name': 'Pfeffingen', 'registryOfCommerceId': 280}, {'bfsId': 224, 'canton': 'ZH', 'name': 'Pfungen', 'registryOfCommerceId': 20}, {'bfsId': 4841, 'canton': 'TG', 'name': 'Pfyn', 'registryOfCommerceId': 440}, {'bfsId': 2216, 'canton': 'FR', 'name': 'Pierrafortscha', 'registryOfCommerceId': 217}, {'bfsId': 392, 'canton': 'BE', 'name': 'Pieterlen', 'registryOfCommerceId': 36}, {'bfsId': 2299, 'canton': 'FR', 'name': 'Plaffeien', 'registryOfCommerceId': 217}, {'bfsId': 6633, 'canton': 'GE', 'name': 'Plan-les-Ouates', 'registryOfCommerceId': 660}, {'bfsId': 2300, 'canton': 'FR', 'name': 'Plasselb', 'registryOfCommerceId': 217}, {'bfsId': 726, 'canton': 'BE', 'name': 'Plateau de Diesse', 'registryOfCommerceId': 36}, {'bfsId': 6719, 'canton': 'JU', 'name': 'Pleigne', 'registryOfCommerceId': 670}, {'bfsId': 936, 'canton': 'BE', 'name': 'Pohlern', 'registryOfCommerceId': 36}, {'bfsId': 5533, 'canton': 'VD', 'name': 'Poliez-Pittet', 'registryOfCommerceId': 550}, {'bfsId': 5077, 'canton': 'TI', 'name': 'Pollegio', 'registryOfCommerceId': 501}, {'bfsId': 5497, 'canton': 'VD', 'name': 'Pompaples', 'registryOfCommerceId': 550}, {'bfsId': 5926, 'canton': 'VD', 'name': 'Pomy', 'registryOfCommerceId': 550}, {'bfsId': 5212, 'canton': 'TI', 'name': 'Ponte Capriasca', 'registryOfCommerceId': 501}, {'bfsId': 2122, 'canton': 'FR', 'name': 'Pont-en-Ogoz', 'registryOfCommerceId': 217}, {'bfsId': 2217, 'canton': 'FR', 'name': 'Ponthaux', 'registryOfCommerceId': 217}, {'bfsId': 2147, 'canton': 'FR', 'name': 'Pont-la-Ville', 'registryOfCommerceId': 217}, {'bfsId': 3784, 'canton': 'GR', 'name': 'Pontresina', 'registryOfCommerceId': 350}, {'bfsId': 6800, 'canton': 'JU', 'name': 'Porrentruy', 'registryOfCommerceId': 670}, {'bfsId': 745, 'canton': 'BE', 'name': 'Port', 'registryOfCommerceId': 36}, {'bfsId': 6154, 'canton': 'VS', 'name': 'Port-Valais', 'registryOfCommerceId': 621}, {'bfsId': 5214, 'canton': 'TI', 'name': 'Porza', 'registryOfCommerceId': 501}, {'bfsId': 3561, 'canton': 'GR', 'name': 'Poschiavo', 'registryOfCommerceId': 350}, {'bfsId': 5725, 'canton': 'VD', 'name': 'Prangins', 'registryOfCommerceId': 550}, {'bfsId': 5078, 'canton': 'TI', 'name': 'Prato (Leventina)', 'registryOfCommerceId': 501}, {'bfsId': 2831, 'canton': 'BL', 'name': 'Pratteln', 'registryOfCommerceId': 280}, {'bfsId': 6634, 'canton': 'GE', 'name': 'Pregny-Chambésy', 'registryOfCommerceId': 660}, {'bfsId': 5759, 'canton': 'VD', 'name': 'Premier', 'registryOfCommerceId': 550}, {'bfsId': 6635, 'canton': 'GE', 'name': 'Presinge', 'registryOfCommerceId': 660}, {'bfsId': 5643, 'canton': 'VD', 'name': 'Préverenges', 'registryOfCommerceId': 550}, {'bfsId': 2038, 'canton': 'FR', 'name': 'Prévondavaux', 'registryOfCommerceId': 217}, {'bfsId': 5683, 'canton': 'VD', 'name': 'Prévonloup', 'registryOfCommerceId': 550}, {'bfsId': 2237, 'canton': 'FR', 'name': 'Prez', 'registryOfCommerceId': 217}, {'bfsId': 5589, 'canton': 'VD', 'name': 'Prilly', 'registryOfCommerceId': 550}, {'bfsId': 5566, 'canton': 'VD', 'name': 'Provence', 'registryOfCommerceId': 550}, {'bfsId': 5607, 'canton': 'VD', 'name': 'Puidoux', 'registryOfCommerceId': 550}, {'bfsId': 5590, 'canton': 'VD', 'name': 'Pully', 'registryOfCommerceId': 550}, {'bfsId': 6636, 'canton': 'GE', 'name': 'Puplinge', 'registryOfCommerceId': 660}, {'bfsId': 5216, 'canton': 'TI', 'name': 'Pura', 'registryOfCommerceId': 501}, {'bfsId': 3295, 'canton': 'SG', 'name': 'Quarten', 'registryOfCommerceId': 320}, {'bfsId': 5079, 'canton': 'TI', 'name': 'Quinto', 'registryOfCommerceId': 501}, {'bfsId': 309, 'canton': 'BE', 'name': 'Radelfingen', 'registryOfCommerceId': 36}, {'bfsId': 67, 'canton': 'ZH', 'name': 'Rafz', 'registryOfCommerceId': 20}, {'bfsId': 1037, 'canton': 'LU', 'name': 'Rain', 'registryOfCommerceId': 100}, {'bfsId': 2832, 'canton': 'BL', 'name': 'Ramlinsburg', 'registryOfCommerceId': 280}, {'bfsId': 2963, 'canton': 'SH', 'name': 'Ramsen', 'registryOfCommerceId': 290}, {'bfsId': 5760, 'canton': 'VD', 'name': 'Rances', 'registryOfCommerceId': 550}, {'bfsId': 6287, 'canton': 'VS', 'name': 'Randa', 'registryOfCommerceId': 600}, {'bfsId': 4846, 'canton': 'TG', 'name': 'Raperswilen', 'registryOfCommerceId': 440}, {'bfsId': 310, 'canton': 'BE', 'name': 'Rapperswil (BE)', 'registryOfCommerceId': 36}, {'bfsId': 3340, 'canton': 'SG', 'name': 'Rapperswil-Jona', 'registryOfCommerceId': 320}, {'bfsId': 6199, 'canton': 'VS', 'name': 'Raron', 'registryOfCommerceId': 600}, {'bfsId': 1212, 'canton': 'UR', 'name': 'Realp', 'registryOfCommerceId': 120}, {'bfsId': 715, 'canton': 'BE', 'name': 'Rebévelier', 'registryOfCommerceId': 36}, {'bfsId': 3255, 'canton': 'SG', 'name': 'Rebstein', 'registryOfCommerceId': 320}, {'bfsId': 2530, 'canton': 'SO', 'name': 'Recherswil', 'registryOfCommerceId': 241}, {'bfsId': 2301, 'canton': 'FR', 'name': 'Rechthalten', 'registryOfCommerceId': 217}, {'bfsId': 703, 'canton': 'BE', 'name': 'Reconvilier', 'registryOfCommerceId': 36}, {'bfsId': 95, 'canton': 'ZH', 'name': 'Regensberg', 'registryOfCommerceId': 20}, {'bfsId': 96, 'canton': 'ZH', 'name': 'Regensdorf', 'registryOfCommerceId': 20}, {'bfsId': 3034, 'canton': 'AR', 'name': 'Rehetobel', 'registryOfCommerceId': 300}, {'bfsId': 567, 'canton': 'BE', 'name': 'Reichenbach im Kandertal', 'registryOfCommerceId': 36}, {'bfsId': 1345, 'canton': 'SZ', 'name': 'Reichenburg', 'registryOfCommerceId': 130}, {'bfsId': 1140, 'canton': 'LU', 'name': 'Reiden', 'registryOfCommerceId': 100}, {'bfsId': 2893, 'canton': 'BL', 'name': 'Reigoldswil', 'registryOfCommerceId': 280}, {'bfsId': 4141, 'canton': 'AG', 'name': 'Reinach (AG)', 'registryOfCommerceId': 400}, {'bfsId': 2773, 'canton': 'BL', 'name': 'Reinach (BL)', 'registryOfCommerceId': 280}, {'bfsId': 336, 'canton': 'BE', 'name': 'Reisiswil', 'registryOfCommerceId': 36}, {'bfsId': 4281, 'canton': 'AG', 'name': 'Reitnau', 'registryOfCommerceId': 400}, {'bfsId': 2333, 'canton': 'FR', 'name': 'Remaufens', 'registryOfCommerceId': 217}, {'bfsId': 4039, 'canton': 'AG', 'name': 'Remetschwil', 'registryOfCommerceId': 400}, {'bfsId': 4110, 'canton': 'AG', 'name': 'Remigen', 'registryOfCommerceId': 400}, {'bfsId': 441, 'canton': 'BE', 'name': 'Renan (BE)', 'registryOfCommerceId': 36}, {'bfsId': 5591, 'canton': 'VD', 'name': 'Renens (VD)', 'registryOfCommerceId': 550}, {'bfsId': 5412, 'canton': 'VD', 'name': 'Rennaz', 'registryOfCommerceId': 550}, {'bfsId': 3035, 'canton': 'AR', 'name': 'Reute (AR)', 'registryOfCommerceId': 300}, {'bfsId': 767, 'canton': 'BE', 'name': 'Reutigen', 'registryOfCommerceId': 36}, {'bfsId': 3723, 'canton': 'GR', 'name': 'Rhäzüns', 'registryOfCommerceId': 350}, {'bfsId': 38, 'canton': 'ZH', 'name': 'Rheinau', 'registryOfCommerceId': 20}, {'bfsId': 3235, 'canton': 'SG', 'name': 'Rheineck', 'registryOfCommerceId': 320}, {'bfsId': 4258, 'canton': 'AG', 'name': 'Rheinfelden', 'registryOfCommerceId': 400}, {'bfsId': 3714, 'canton': 'GR', 'name': 'Rheinwald', 'registryOfCommerceId': 350}, {'bfsId': 2148, 'canton': 'FR', 'name': 'Riaz', 'registryOfCommerceId': 217}, {'bfsId': 138, 'canton': 'ZH', 'name': 'Richterswil', 'registryOfCommerceId': 20}, {'bfsId': 2857, 'canton': 'BL', 'name': 'Rickenbach (BL)', 'registryOfCommerceId': 280}, {'bfsId': 1097, 'canton': 'LU', 'name': 'Rickenbach (LU)', 'registryOfCommerceId': 100}, {'bfsId': 2582, 'canton': 'SO', 'name': 'Rickenbach (SO)', 'registryOfCommerceId': 241}, {'bfsId': 4751, 'canton': 'TG', 'name': 'Rickenbach (TG)', 'registryOfCommerceId': 440}, {'bfsId': 225, 'canton': 'ZH', 'name': 'Rickenbach (ZH)', 'registryOfCommerceId': 20}, {'bfsId': 6139, 'canton': 'VS', 'name': 'Riddes', 'registryOfCommerceId': 621}, {'bfsId': 2276, 'canton': 'FR', 'name': 'Ried bei Kerzers', 'registryOfCommerceId': 217}, {'bfsId': 6008, 'canton': 'VS', 'name': 'Ried-Brig', 'registryOfCommerceId': 600}, {'bfsId': 6181, 'canton': 'VS', 'name': 'Riederalp', 'registryOfCommerceId': 600}, {'bfsId': 2554, 'canton': 'SO', 'name': 'Riedholz', 'registryOfCommerceId': 241}, {'bfsId': 2703, 'canton': 'BS', 'name': 'Riehen', 'registryOfCommerceId': 270}, {'bfsId': 1369, 'canton': 'SZ', 'name': 'Riemenstalden', 'registryOfCommerceId': 130}, {'bfsId': 12, 'canton': 'ZH', 'name': 'Rifferswil', 'registryOfCommerceId': 20}, {'bfsId': 879, 'canton': 'BE', 'name': 'Riggisberg', 'registryOfCommerceId': 36}, {'bfsId': 590, 'canton': 'BE', 'name': 'Ringgenberg (BE)', 'registryOfCommerceId': 36}, {'bfsId': 4111, 'canton': 'AG', 'name': 'Riniken', 'registryOfCommerceId': 400}, {'bfsId': 1707, 'canton': 'ZG', 'name': 'Risch', 'registryOfCommerceId': 170}, {'bfsId': 5263, 'canton': 'TI', 'name': 'Riva San Vitale', 'registryOfCommerceId': 501}, {'bfsId': 5609, 'canton': 'VD', 'name': 'Rivaz', 'registryOfCommerceId': 550}, {'bfsId': 5287, 'canton': 'TI', 'name': 'Riviera', 'registryOfCommerceId': 501}, {'bfsId': 6413, 'canton': 'NE', 'name': 'Rochefort', 'registryOfCommerceId': 645}, {'bfsId': 704, 'canton': 'BE', 'name': 'Roches (BE)', 'registryOfCommerceId': 36}, {'bfsId': 5413, 'canton': 'VD', 'name': 'Roche (VD)', 'registryOfCommerceId': 550}, {'bfsId': 2479, 'canton': 'SO', 'name': 'Rodersdorf', 'registryOfCommerceId': 241}, {'bfsId': 2790, 'canton': 'BL', 'name': 'Roggenburg', 'registryOfCommerceId': 280}, {'bfsId': 1142, 'canton': 'LU', 'name': 'Roggliswil', 'registryOfCommerceId': 100}, {'bfsId': 337, 'canton': 'BE', 'name': 'Roggwil (BE)', 'registryOfCommerceId': 36}, {'bfsId': 4431, 'canton': 'TG', 'name': 'Roggwil (TG)', 'registryOfCommerceId': 440}, {'bfsId': 338, 'canton': 'BE', 'name': 'Rohrbach', 'registryOfCommerceId': 36}, {'bfsId': 339, 'canton': 'BE', 'name': 'Rohrbachgraben', 'registryOfCommerceId': 36}, {'bfsId': 5861, 'canton': 'VD', 'name': 'Rolle', 'registryOfCommerceId': 550}, {'bfsId': 5761, 'canton': 'VD', 'name': 'Romainmôtier-Envy', 'registryOfCommerceId': 550}, {'bfsId': 5592, 'canton': 'VD', 'name': 'Romanel-sur-Lausanne', 'registryOfCommerceId': 550}, {'bfsId': 5645, 'canton': 'VD', 'name': 'Romanel-sur-Morges', 'registryOfCommerceId': 550}, {'bfsId': 4436, 'canton': 'TG', 'name': 'Romanshorn', 'registryOfCommerceId': 440}, {'bfsId': 1039, 'canton': 'LU', 'name': 'Römerswil', 'registryOfCommerceId': 100}, {'bfsId': 442, 'canton': 'BE', 'name': 'Romont (BE)', 'registryOfCommerceId': 36}, {'bfsId': 2096, 'canton': 'FR', 'name': 'Romont (FR)', 'registryOfCommerceId': 217}, {'bfsId': 1007, 'canton': 'LU', 'name': 'Romoos', 'registryOfCommerceId': 100}, {'bfsId': 5125, 'canton': 'TI', 'name': 'Ronco sopra Ascona', 'registryOfCommerceId': 501}, {'bfsId': 3711, 'canton': 'GR', 'name': 'Rongellen', 'registryOfCommerceId': 350}, {'bfsId': 1065, 'canton': 'LU', 'name': 'Root', 'registryOfCommerceId': 100}, {'bfsId': 5798, 'canton': 'VD', 'name': 'Ropraz', 'registryOfCommerceId': 550}, {'bfsId': 68, 'canton': 'ZH', 'name': 'Rorbas', 'registryOfCommerceId': 20}, {'bfsId': 3215, 'canton': 'SG', 'name': 'Rorschach', 'registryOfCommerceId': 320}, {'bfsId': 3216, 'canton': 'SG', 'name': 'Rorschacherberg', 'registryOfCommerceId': 320}, {'bfsId': 2791, 'canton': 'BL', 'name': 'Röschenz', 'registryOfCommerceId': 280}, {'bfsId': 3808, 'canton': 'GR', 'name': 'Rossa', 'registryOfCommerceId': 350}, {'bfsId': 6721, 'canton': 'JU', 'name': 'Rossemaison', 'registryOfCommerceId': 670}, {'bfsId': 5684, 'canton': 'VD', 'name': 'Rossenges', 'registryOfCommerceId': 550}, {'bfsId': 5842, 'canton': 'VD', 'name': 'Rossinière', 'registryOfCommerceId': 550}, {'bfsId': 904, 'canton': 'BE', 'name': 'Röthenbach im Emmental', 'registryOfCommerceId': 36}, {'bfsId': 3637, 'canton': 'GR', 'name': 'Rothenbrunnen', 'registryOfCommerceId': 350}, {'bfsId': 1040, 'canton': 'LU', 'name': 'Rothenburg', 'registryOfCommerceId': 100}, {'bfsId': 2858, 'canton': 'BL', 'name': 'Rothenfluh', 'registryOfCommerceId': 280}, {'bfsId': 1370, 'canton': 'SZ', 'name': 'Rothenthurm', 'registryOfCommerceId': 130}, {'bfsId': 4282, 'canton': 'AG', 'name': 'Rothrist', 'registryOfCommerceId': 400}, {'bfsId': 4238, 'canton': 'AG', 'name': 'Rottenschwil', 'registryOfCommerceId': 400}, {'bfsId': 5843, 'canton': 'VD', 'name': 'Rougemont', 'registryOfCommerceId': 550}, {'bfsId': 3834, 'canton': 'GR', 'name': 'Roveredo (GR)', 'registryOfCommerceId': 350}, {'bfsId': 5928, 'canton': 'VD', 'name': 'Rovray', 'registryOfCommerceId': 550}, {'bfsId': 623, 'canton': 'BE', 'name': 'Rubigen', 'registryOfCommerceId': 36}, {'bfsId': 905, 'canton': 'BE', 'name': 'Rüderswil', 'registryOfCommerceId': 36}, {'bfsId': 2938, 'canton': 'SH', 'name': 'Rüdlingen', 'registryOfCommerceId': 290}, {'bfsId': 4075, 'canton': 'AG', 'name': 'Rudolfstetten-Friedlisberg', 'registryOfCommerceId': 400}, {'bfsId': 420, 'canton': 'BE', 'name': 'Rüdtligen-Alchenflüh', 'registryOfCommerceId': 36}, {'bfsId': 2097, 'canton': 'FR', 'name': 'Rue', 'registryOfCommerceId': 217}, {'bfsId': 880, 'canton': 'BE', 'name': 'Rüeggisberg', 'registryOfCommerceId': 36}, {'bfsId': 956, 'canton': 'BE', 'name': 'Rüegsau', 'registryOfCommerceId': 36}, {'bfsId': 5534, 'canton': 'VD', 'name': 'Rueyres', 'registryOfCommerceId': 550}, {'bfsId': 4112, 'canton': 'AG', 'name': 'Rüfenach', 'registryOfCommerceId': 400}, {'bfsId': 421, 'canton': 'BE', 'name': 'Rumendingen', 'registryOfCommerceId': 36}, {'bfsId': 987, 'canton': 'BE', 'name': 'Rumisberg', 'registryOfCommerceId': 36}, {'bfsId': 97, 'canton': 'ZH', 'name': 'Rümlang', 'registryOfCommerceId': 20}, {'bfsId': 2859, 'canton': 'BL', 'name': 'Rümlingen', 'registryOfCommerceId': 280}, {'bfsId': 2860, 'canton': 'BL', 'name': 'Rünenberg', 'registryOfCommerceId': 280}, {'bfsId': 4206, 'canton': 'AG', 'name': 'Rupperswil', 'registryOfCommerceId': 400}, {'bfsId': 853, 'canton': 'BE', 'name': 'Rüschegg', 'registryOfCommerceId': 36}, {'bfsId': 139, 'canton': 'ZH', 'name': 'Rüschlikon', 'registryOfCommerceId': 20}, {'bfsId': 178, 'canton': 'ZH', 'name': 'Russikon', 'registryOfCommerceId': 20}, {'bfsId': 6637, 'canton': 'GE', 'name': 'Russin', 'registryOfCommerceId': 660}, {'bfsId': 1098, 'canton': 'LU', 'name': 'Ruswil', 'registryOfCommerceId': 100}, {'bfsId': 3256, 'canton': 'SG', 'name': 'Rüthi (SG)', 'registryOfCommerceId': 320}, {'bfsId': 393, 'canton': 'BE', 'name': 'Rüti bei Büren', 'registryOfCommerceId': 36}, {'bfsId': 422, 'canton': 'BE', 'name': 'Rüti bei Lyssach', 'registryOfCommerceId': 36}, {'bfsId': 118, 'canton': 'ZH', 'name': 'Rüti (ZH)', 'registryOfCommerceId': 20}, {'bfsId': 340, 'canton': 'BE', 'name': 'Rütschelen', 'registryOfCommerceId': 36}, {'bfsId': 2555, 'canton': 'SO', 'name': 'Rüttenen', 'registryOfCommerceId': 241}, {'bfsId': 843, 'canton': 'BE', 'name': 'Saanen', 'registryOfCommerceId': 36}, {'bfsId': 6288, 'canton': 'VS', 'name': 'Saas-Almagell', 'registryOfCommerceId': 600}, {'bfsId': 6289, 'canton': 'VS', 'name': 'Saas-Balen', 'registryOfCommerceId': 600}, {'bfsId': 6290, 'canton': 'VS', 'name': 'Saas-Fee', 'registryOfCommerceId': 600}, {'bfsId': 6291, 'canton': 'VS', 'name': 'Saas-Grund', 'registryOfCommerceId': 600}, {'bfsId': 1406, 'canton': 'OW', 'name': 'Sachseln', 'registryOfCommerceId': 140}, {'bfsId': 4283, 'canton': 'AG', 'name': 'Safenwil', 'registryOfCommerceId': 400}, {'bfsId': 3672, 'canton': 'GR', 'name': 'Safiental', 'registryOfCommerceId': 350}, {'bfsId': 746, 'canton': 'BE', 'name': 'Safnern', 'registryOfCommerceId': 36}, {'bfsId': 3581, 'canton': 'GR', 'name': 'Sagogn', 'registryOfCommerceId': 350}, {'bfsId': 706, 'canton': 'BE', 'name': 'Saicourt', 'registryOfCommerceId': 36}, {'bfsId': 6757, 'canton': 'JU', 'name': 'Saignelégier', 'registryOfCommerceId': 670}, {'bfsId': 6140, 'canton': 'VS', 'name': 'Saillon', 'registryOfCommerceId': 621}, {'bfsId': 2041, 'canton': 'FR', 'name': 'Saint-Aubin (FR)', 'registryOfCommerceId': 217}, {'bfsId': 5535, 'canton': 'VD', 'name': 'Saint-Barthélemy (VD)', 'registryOfCommerceId': 550}, {'bfsId': 6459, 'canton': 'NE', 'name': 'Saint-Blaise', 'registryOfCommerceId': 645}, {'bfsId': 6758, 'canton': 'JU', 'name': 'Saint-Brais', 'registryOfCommerceId': 670}, {'bfsId': 5727, 'canton': 'VD', 'name': 'Saint-Cergue', 'registryOfCommerceId': 550}, {'bfsId': 5568, 'canton': 'VD', 'name': 'Sainte-Croix', 'registryOfCommerceId': 550}, {'bfsId': 5434, 'canton': 'VD', 'name': 'Saint-George', 'registryOfCommerceId': 550}, {'bfsId': 6155, 'canton': 'VS', 'name': 'Saint-Gingolph', 'registryOfCommerceId': 621}, {'bfsId': 443, 'canton': 'BE', 'name': 'Saint-Imier', 'registryOfCommerceId': 36}, {'bfsId': 6246, 'canton': 'VS', 'name': 'Saint-Léonard', 'registryOfCommerceId': 626}, {'bfsId': 5435, 'canton': 'VD', 'name': 'Saint-Livres', 'registryOfCommerceId': 550}, {'bfsId': 2335, 'canton': 'FR', 'name': 'Saint-Martin (FR)', 'registryOfCommerceId': 217}, {'bfsId': 6087, 'canton': 'VS', 'name': 'Saint-Martin (VS)', 'registryOfCommerceId': 626}, {'bfsId': 6217, 'canton': 'VS', 'name': 'Saint-Maurice', 'registryOfCommerceId': 621}, {'bfsId': 5436, 'canton': 'VD', 'name': 'Saint-Oyens', 'registryOfCommerceId': 550}, {'bfsId': 5646, 'canton': 'VD', 'name': 'Saint-Prex', 'registryOfCommerceId': 550}, {'bfsId': 5610, 'canton': 'VD', 'name': 'Saint-Saphorin (Lavaux)', 'registryOfCommerceId': 550}, {'bfsId': 5648, 'canton': 'VD', 'name': 'Saint-Sulpice (VD)', 'registryOfCommerceId': 550}, {'bfsId': 4851, 'canton': 'TG', 'name': 'Salenstein', 'registryOfCommerceId': 440}, {'bfsId': 2152, 'canton': 'FR', 'name': 'Sâles', 'registryOfCommerceId': 217}, {'bfsId': 6113, 'canton': 'VS', 'name': 'Salgesch', 'registryOfCommerceId': 600}, {'bfsId': 4441, 'canton': 'TG', 'name': 'Salmsach', 'registryOfCommerceId': 440}, {'bfsId': 6218, 'canton': 'VS', 'name': 'Salvan', 'registryOfCommerceId': 621}, {'bfsId': 3786, 'canton': 'GR', 'name': 'Samedan', 'registryOfCommerceId': 350}, {'bfsId': 3752, 'canton': 'GR', 'name': 'Samnaun', 'registryOfCommerceId': 350}, {'bfsId': 3810, 'canton': 'GR', 'name': 'Santa Maria in Calanca', 'registryOfCommerceId': 350}, {'bfsId': 5017, 'canton': 'TI', 'name': \"Sant'Antonino\", 'registryOfCommerceId': 501}, {'bfsId': 3835, 'canton': 'GR', 'name': 'San Vittore', 'registryOfCommerceId': 350}, {'bfsId': 3296, 'canton': 'SG', 'name': 'Sargans', 'registryOfCommerceId': 320}, {'bfsId': 4076, 'canton': 'AG', 'name': 'Sarmenstorf', 'registryOfCommerceId': 400}, {'bfsId': 1407, 'canton': 'OW', 'name': 'Sarnen', 'registryOfCommerceId': 140}, {'bfsId': 6638, 'canton': 'GE', 'name': 'Satigny', 'registryOfCommerceId': 660}, {'bfsId': 1371, 'canton': 'SZ', 'name': 'Sattel', 'registryOfCommerceId': 130}, {'bfsId': 5437, 'canton': 'VD', 'name': 'Saubraz', 'registryOfCommerceId': 550}, {'bfsId': 449, 'canton': 'BE', 'name': 'Sauge', 'registryOfCommerceId': 36}, {'bfsId': 6722, 'canton': 'JU', 'name': 'Saulcy', 'registryOfCommerceId': 670}, {'bfsId': 707, 'canton': 'BE', 'name': 'Saules (BE)', 'registryOfCommerceId': 36}, {'bfsId': 6265, 'canton': 'VS', 'name': 'Savièse', 'registryOfCommerceId': 626}, {'bfsId': 5611, 'canton': 'VD', 'name': 'Savigny', 'registryOfCommerceId': 550}, {'bfsId': 5221, 'canton': 'TI', 'name': 'Savosa', 'registryOfCommerceId': 501}, {'bfsId': 591, 'canton': 'BE', 'name': 'Saxeten', 'registryOfCommerceId': 36}, {'bfsId': 6141, 'canton': 'VS', 'name': 'Saxon', 'registryOfCommerceId': 621}, {'bfsId': 2939, 'canton': 'SH', 'name': 'Schaffhausen', 'registryOfCommerceId': 290}, {'bfsId': 4207, 'canton': 'AG', 'name': 'Schafisheim', 'registryOfCommerceId': 400}, {'bfsId': 3788, 'canton': 'GR', 'name': 'S-chanf', 'registryOfCommerceId': 350}, {'bfsId': 906, 'canton': 'BE', 'name': 'Schangnau', 'registryOfCommerceId': 36}, {'bfsId': 3315, 'canton': 'SG', 'name': 'Schänis', 'registryOfCommerceId': 320}, {'bfsId': 3638, 'canton': 'GR', 'name': 'Scharans', 'registryOfCommerceId': 350}, {'bfsId': 1213, 'canton': 'UR', 'name': 'Schattdorf', 'registryOfCommerceId': 120}, {'bfsId': 786, 'canton': 'BE', 'name': 'Schattenhalb', 'registryOfCommerceId': 36}, {'bfsId': 708, 'canton': 'BE', 'name': 'Schelten', 'registryOfCommerceId': 36}, {'bfsId': 1099, 'canton': 'LU', 'name': 'Schenkon', 'registryOfCommerceId': 100}, {'bfsId': 747, 'canton': 'BE', 'name': 'Scheuren', 'registryOfCommerceId': 36}, {'bfsId': 3962, 'canton': 'GR', 'name': 'Schiers', 'registryOfCommerceId': 350}, {'bfsId': 4125, 'canton': 'AG', 'name': 'Schinznach', 'registryOfCommerceId': 400}, {'bfsId': 3104, 'canton': 'AI', 'name': 'Schlatt-Haslen', 'registryOfCommerceId': 310}, {'bfsId': 4546, 'canton': 'TG', 'name': 'Schlatt (TG)', 'registryOfCommerceId': 440}, {'bfsId': 226, 'canton': 'ZH', 'name': 'Schlatt (ZH)', 'registryOfCommerceId': 20}, {'bfsId': 98, 'canton': 'ZH', 'name': 'Schleinikon', 'registryOfCommerceId': 20}, {'bfsId': 2952, 'canton': 'SH', 'name': 'Schleitheim', 'registryOfCommerceId': 290}, {'bfsId': 1100, 'canton': 'LU', 'name': 'Schlierbach', 'registryOfCommerceId': 100}, {'bfsId': 247, 'canton': 'ZH', 'name': 'Schlieren', 'registryOfCommerceId': 20}, {'bfsId': 4142, 'canton': 'AG', 'name': 'Schlossrued', 'registryOfCommerceId': 400}, {'bfsId': 3582, 'canton': 'GR', 'name': 'Schluein', 'registryOfCommerceId': 350}, {'bfsId': 3338, 'canton': 'SG', 'name': 'Schmerikon', 'registryOfCommerceId': 320}, {'bfsId': 4143, 'canton': 'AG', 'name': 'Schmiedrued', 'registryOfCommerceId': 400}, {'bfsId': 2305, 'canton': 'FR', 'name': 'Schmitten (FR)', 'registryOfCommerceId': 217}, {'bfsId': 3514, 'canton': 'GR', 'name': 'Schmitten (GR)', 'registryOfCommerceId': 350}, {'bfsId': 4318, 'canton': 'AG', 'name': 'Schneisingen', 'registryOfCommerceId': 400}, {'bfsId': 2461, 'canton': 'SO', 'name': 'Schnottwil', 'registryOfCommerceId': 241}, {'bfsId': 99, 'canton': 'ZH', 'name': 'Schöfflisdorf', 'registryOfCommerceId': 20}, {'bfsId': 4144, 'canton': 'AG', 'name': 'Schöftland', 'registryOfCommerceId': 400}, {'bfsId': 2774, 'canton': 'BL', 'name': 'Schönenbuch', 'registryOfCommerceId': 280}, {'bfsId': 3003, 'canton': 'AR', 'name': 'Schönengrund', 'registryOfCommerceId': 300}, {'bfsId': 2583, 'canton': 'SO', 'name': 'Schönenwerd', 'registryOfCommerceId': 241}, {'bfsId': 1041, 'canton': 'LU', 'name': 'Schongau', 'registryOfCommerceId': 100}, {'bfsId': 4756, 'canton': 'TG', 'name': 'Schönholzerswilen', 'registryOfCommerceId': 440}, {'bfsId': 1143, 'canton': 'LU', 'name': 'Schötz', 'registryOfCommerceId': 100}, {'bfsId': 1346, 'canton': 'SZ', 'name': 'Schübelbach', 'registryOfCommerceId': 130}, {'bfsId': 4259, 'canton': 'AG', 'name': 'Schupfart', 'registryOfCommerceId': 400}, {'bfsId': 311, 'canton': 'BE', 'name': 'Schüpfen', 'registryOfCommerceId': 36}, {'bfsId': 1008, 'canton': 'LU', 'name': 'Schüpfheim', 'registryOfCommerceId': 100}, {'bfsId': 4176, 'canton': 'AG', 'name': 'Schwaderloch', 'registryOfCommerceId': 400}, {'bfsId': 748, 'canton': 'BE', 'name': 'Schwadernau', 'registryOfCommerceId': 36}, {'bfsId': 592, 'canton': 'BE', 'name': 'Schwanden bei Brienz', 'registryOfCommerceId': 36}, {'bfsId': 1066, 'canton': 'LU', 'name': 'Schwarzenberg', 'registryOfCommerceId': 100}, {'bfsId': 855, 'canton': 'BE', 'name': 'Schwarzenburg', 'registryOfCommerceId': 36}, {'bfsId': 341, 'canton': 'BE', 'name': 'Schwarzhäusern', 'registryOfCommerceId': 36}, {'bfsId': 3004, 'canton': 'AR', 'name': 'Schwellbrunn', 'registryOfCommerceId': 300}, {'bfsId': 3112, 'canton': 'AI', 'name': 'Schwende-Rüte', 'registryOfCommerceId': 310}, {'bfsId': 197, 'canton': 'ZH', 'name': 'Schwerzenbach', 'registryOfCommerceId': 20}, {'bfsId': 1372, 'canton': 'SZ', 'name': 'Schwyz', 'registryOfCommerceId': 130}, {'bfsId': 3762, 'canton': 'GR', 'name': 'Scuol', 'registryOfCommerceId': 350}, {'bfsId': 988, 'canton': 'BE', 'name': 'Seeberg', 'registryOfCommerceId': 36}, {'bfsId': 312, 'canton': 'BE', 'name': 'Seedorf (BE)', 'registryOfCommerceId': 36}, {'bfsId': 1214, 'canton': 'UR', 'name': 'Seedorf (UR)', 'registryOfCommerceId': 120}, {'bfsId': 119, 'canton': 'ZH', 'name': 'Seegräben', 'registryOfCommerceId': 20}, {'bfsId': 709, 'canton': 'BE', 'name': 'Seehof', 'registryOfCommerceId': 36}, {'bfsId': 1215, 'canton': 'UR', 'name': 'Seelisberg', 'registryOfCommerceId': 120}, {'bfsId': 4208, 'canton': 'AG', 'name': 'Seengen', 'registryOfCommerceId': 400}, {'bfsId': 2480, 'canton': 'SO', 'name': 'Seewen', 'registryOfCommerceId': 241}, {'bfsId': 3972, 'canton': 'GR', 'name': 'Seewis im Prättigau', 'registryOfCommerceId': 350}, {'bfsId': 883, 'canton': 'BE', 'name': 'Seftigen', 'registryOfCommerceId': 36}, {'bfsId': 2833, 'canton': 'BL', 'name': 'Seltisberg', 'registryOfCommerceId': 280}, {'bfsId': 2556, 'canton': 'SO', 'name': 'Selzach', 'registryOfCommerceId': 241}, {'bfsId': 6035, 'canton': 'VS', 'name': 'Sembrancher', 'registryOfCommerceId': 621}, {'bfsId': 1102, 'canton': 'LU', 'name': 'Sempach', 'registryOfCommerceId': 100}, {'bfsId': 2336, 'canton': 'FR', 'name': 'Semsales', 'registryOfCommerceId': 217}, {'bfsId': 5499, 'canton': 'VD', 'name': 'Senarclens', 'registryOfCommerceId': 550}, {'bfsId': 3274, 'canton': 'SG', 'name': 'Sennwald', 'registryOfCommerceId': 320}, {'bfsId': 4209, 'canton': 'AG', 'name': 'Seon', 'registryOfCommerceId': 400}, {'bfsId': 5762, 'canton': 'VD', 'name': 'Sergey', 'registryOfCommerceId': 550}, {'bfsId': 5050, 'canton': 'TI', 'name': 'Serravalle', 'registryOfCommerceId': 501}, {'bfsId': 5799, 'canton': 'VD', 'name': 'Servion', 'registryOfCommerceId': 550}, {'bfsId': 227, 'canton': 'ZH', 'name': 'Seuzach', 'registryOfCommerceId': 20}, {'bfsId': 2043, 'canton': 'FR', 'name': 'Sévaz', 'registryOfCommerceId': 217}, {'bfsId': 3275, 'canton': 'SG', 'name': 'Sevelen', 'registryOfCommerceId': 320}, {'bfsId': 2953, 'canton': 'SH', 'name': 'Siblingen', 'registryOfCommerceId': 290}, {'bfsId': 6248, 'canton': 'VS', 'name': 'Sierre', 'registryOfCommerceId': 626}, {'bfsId': 4319, 'canton': 'AG', 'name': 'Siglistorf', 'registryOfCommerceId': 400}, {'bfsId': 907, 'canton': 'BE', 'name': 'Signau', 'registryOfCommerceId': 36}, {'bfsId': 5728, 'canton': 'VD', 'name': 'Signy-Avenex', 'registryOfCommerceId': 550}, {'bfsId': 938, 'canton': 'BE', 'name': 'Sigriswil', 'registryOfCommerceId': 36}, {'bfsId': 1216, 'canton': 'UR', 'name': 'Silenen', 'registryOfCommerceId': 120}, {'bfsId': 3640, 'canton': 'GR', 'name': 'Sils im Domleschg', 'registryOfCommerceId': 350}, {'bfsId': 3789, 'canton': 'GR', 'name': 'Sils im Engadin/Segl', 'registryOfCommerceId': 350}, {'bfsId': 3790, 'canton': 'GR', 'name': 'Silvaplana', 'registryOfCommerceId': 350}, {'bfsId': 6009, 'canton': 'VS', 'name': 'Simplon', 'registryOfCommerceId': 600}, {'bfsId': 4239, 'canton': 'AG', 'name': 'Sins', 'registryOfCommerceId': 400}, {'bfsId': 6266, 'canton': 'VS', 'name': 'Sion', 'registryOfCommerceId': 626}, {'bfsId': 4761, 'canton': 'TG', 'name': 'Sirnach', 'registryOfCommerceId': 440}, {'bfsId': 499, 'canton': 'BE', 'name': 'Siselen', 'registryOfCommerceId': 36}, {'bfsId': 1217, 'canton': 'UR', 'name': 'Sisikon', 'registryOfCommerceId': 120}, {'bfsId': 2861, 'canton': 'BL', 'name': 'Sissach', 'registryOfCommerceId': 280}, {'bfsId': 4177, 'canton': 'AG', 'name': 'Sisseln', 'registryOfCommerceId': 400}, {'bfsId': 2099, 'canton': 'FR', 'name': 'Siviriez', 'registryOfCommerceId': 217}, {'bfsId': 3823, 'canton': 'GR', 'name': 'Soazza', 'registryOfCommerceId': 350}, {'bfsId': 2601, 'canton': 'SO', 'name': 'Solothurn', 'registryOfCommerceId': 241}, {'bfsId': 4446, 'canton': 'TG', 'name': 'Sommeri', 'registryOfCommerceId': 440}, {'bfsId': 444, 'canton': 'BE', 'name': 'Sonceboz-Sombeval', 'registryOfCommerceId': 36}, {'bfsId': 445, 'canton': 'BE', 'name': 'Sonvilier', 'registryOfCommerceId': 36}, {'bfsId': 6639, 'canton': 'GE', 'name': 'Soral', 'registryOfCommerceId': 660}, {'bfsId': 5225, 'canton': 'TI', 'name': 'Sorengo', 'registryOfCommerceId': 501}, {'bfsId': 2153, 'canton': 'FR', 'name': 'Sorens', 'registryOfCommerceId': 217}, {'bfsId': 711, 'canton': 'BE', 'name': 'Sorvilier', 'registryOfCommerceId': 36}, {'bfsId': 6759, 'canton': 'JU', 'name': 'Soubey', 'registryOfCommerceId': 670}, {'bfsId': 6724, 'canton': 'JU', 'name': 'Soyhières', 'registryOfCommerceId': 670}, {'bfsId': 3023, 'canton': 'AR', 'name': 'Speicher', 'registryOfCommerceId': 300}, {'bfsId': 768, 'canton': 'BE', 'name': 'Spiez', 'registryOfCommerceId': 36}, {'bfsId': 1218, 'canton': 'UR', 'name': 'Spiringen', 'registryOfCommerceId': 120}, {'bfsId': 4040, 'canton': 'AG', 'name': 'Spreitenbach', 'registryOfCommerceId': 400}, {'bfsId': 5266, 'canton': 'TI', 'name': 'Stabio', 'registryOfCommerceId': 501}, {'bfsId': 100, 'canton': 'ZH', 'name': 'Stadel', 'registryOfCommerceId': 20}, {'bfsId': 158, 'canton': 'ZH', 'name': 'Stäfa', 'registryOfCommerceId': 20}, {'bfsId': 4284, 'canton': 'AG', 'name': 'Staffelbach', 'registryOfCommerceId': 400}, {'bfsId': 6294, 'canton': 'VS', 'name': 'Staldenried', 'registryOfCommerceId': 600}, {'bfsId': 6293, 'canton': 'VS', 'name': 'Stalden (VS)', 'registryOfCommerceId': 600}, {'bfsId': 13, 'canton': 'ZH', 'name': 'Stallikon', 'registryOfCommerceId': 20}, {'bfsId': 292, 'canton': 'ZH', 'name': 'Stammheim', 'registryOfCommerceId': 20}, {'bfsId': 1509, 'canton': 'NW', 'name': 'Stans', 'registryOfCommerceId': 150}, {'bfsId': 1510, 'canton': 'NW', 'name': 'Stansstad', 'registryOfCommerceId': 150}, {'bfsId': 2584, 'canton': 'SO', 'name': 'Starrkirch-Wil', 'registryOfCommerceId': 241}, {'bfsId': 4210, 'canton': 'AG', 'name': 'Staufen', 'registryOfCommerceId': 400}, {'bfsId': 4864, 'canton': 'TG', 'name': 'Steckborn', 'registryOfCommerceId': 440}, {'bfsId': 939, 'canton': 'BE', 'name': 'Steffisburg', 'registryOfCommerceId': 36}, {'bfsId': 6204, 'canton': 'VS', 'name': 'Steg-Hohtenn', 'registryOfCommerceId': 600}, {'bfsId': 3217, 'canton': 'SG', 'name': 'Steinach', 'registryOfCommerceId': 320}, {'bfsId': 4260, 'canton': 'AG', 'name': 'Stein (AG)', 'registryOfCommerceId': 400}, {'bfsId': 2964, 'canton': 'SH', 'name': 'Stein am Rhein', 'registryOfCommerceId': 290}, {'bfsId': 3005, 'canton': 'AR', 'name': 'Stein (AR)', 'registryOfCommerceId': 300}, {'bfsId': 1373, 'canton': 'SZ', 'name': 'Steinen', 'registryOfCommerceId': 130}, {'bfsId': 1374, 'canton': 'SZ', 'name': 'Steinerberg', 'registryOfCommerceId': 130}, {'bfsId': 1708, 'canton': 'ZG', 'name': 'Steinhausen', 'registryOfCommerceId': 170}, {'bfsId': 101, 'canton': 'ZH', 'name': 'Steinmaur', 'registryOfCommerceId': 20}, {'bfsId': 4041, 'canton': 'AG', 'name': 'Stetten (AG)', 'registryOfCommerceId': 400}, {'bfsId': 2919, 'canton': 'SH', 'name': 'Stetten (SH)', 'registryOfCommerceId': 290}, {'bfsId': 4606, 'canton': 'TG', 'name': 'Stettfurt', 'registryOfCommerceId': 440}, {'bfsId': 358, 'canton': 'BE', 'name': 'Stettlen', 'registryOfCommerceId': 36}, {'bfsId': 3203, 'canton': 'SG', 'name': 'St. Gallen', 'registryOfCommerceId': 320}, {'bfsId': 3236, 'canton': 'SG', 'name': 'St. Margrethen', 'registryOfCommerceId': 320}, {'bfsId': 3787, 'canton': 'GR', 'name': 'St. Moritz', 'registryOfCommerceId': 350}, {'bfsId': 6292, 'canton': 'VS', 'name': 'St. Niklaus', 'registryOfCommerceId': 600}, {'bfsId': 770, 'canton': 'BE', 'name': 'Stocken-Höfen', 'registryOfCommerceId': 36}, {'bfsId': 4285, 'canton': 'AG', 'name': 'Strengelbach', 'registryOfCommerceId': 400}, {'bfsId': 2303, 'canton': 'FR', 'name': 'St. Silvester', 'registryOfCommerceId': 217}, {'bfsId': 793, 'canton': 'BE', 'name': 'St. Stephan', 'registryOfCommerceId': 36}, {'bfsId': 749, 'canton': 'BE', 'name': 'Studen (BE)', 'registryOfCommerceId': 36}, {'bfsId': 2304, 'canton': 'FR', 'name': 'St. Ursen', 'registryOfCommerceId': 217}, {'bfsId': 2499, 'canton': 'SO', 'name': 'Stüsslingen', 'registryOfCommerceId': 241}, {'bfsId': 2532, 'canton': 'SO', 'name': 'Subingen', 'registryOfCommerceId': 241}, {'bfsId': 5929, 'canton': 'VD', 'name': 'Suchy', 'registryOfCommerceId': 550}, {'bfsId': 3695, 'canton': 'GR', 'name': 'Sufers', 'registryOfCommerceId': 350}, {'bfsId': 4012, 'canton': 'AG', 'name': 'Suhr', 'registryOfCommerceId': 400}, {'bfsId': 4506, 'canton': 'TG', 'name': 'Sulgen', 'registryOfCommerceId': 440}, {'bfsId': 5501, 'canton': 'VD', 'name': 'Sullens', 'registryOfCommerceId': 550}, {'bfsId': 957, 'canton': 'BE', 'name': 'Sumiswald', 'registryOfCommerceId': 36}, {'bfsId': 3985, 'canton': 'GR', 'name': 'Sumvitg', 'registryOfCommerceId': 350}, {'bfsId': 2044, 'canton': 'FR', 'name': 'Surpierre', 'registryOfCommerceId': 217}, {'bfsId': 1103, 'canton': 'LU', 'name': 'Sursee', 'registryOfCommerceId': 100}, {'bfsId': 3543, 'canton': 'GR', 'name': 'Surses', 'registryOfCommerceId': 350}, {'bfsId': 5930, 'canton': 'VD', 'name': 'Suscévaz', 'registryOfCommerceId': 550}, {'bfsId': 750, 'canton': 'BE', 'name': 'Sutz-Lattrigen', 'registryOfCommerceId': 36}, {'bfsId': 5688, 'canton': 'VD', 'name': 'Syens', 'registryOfCommerceId': 550}, {'bfsId': 2306, 'canton': 'FR', 'name': 'Tafers', 'registryOfCommerceId': 217}, {'bfsId': 4077, 'canton': 'AG', 'name': 'Tägerig', 'registryOfCommerceId': 400}, {'bfsId': 4696, 'canton': 'TG', 'name': 'Tägerwilen', 'registryOfCommerceId': 440}, {'bfsId': 3733, 'canton': 'GR', 'name': 'Tamins', 'registryOfCommerceId': 350}, {'bfsId': 5729, 'canton': 'VD', 'name': 'Tannay', 'registryOfCommerceId': 550}, {'bfsId': 5862, 'canton': 'VD', 'name': 'Tartegnin', 'registryOfCommerceId': 550}, {'bfsId': 6295, 'canton': 'VS', 'name': 'Täsch', 'registryOfCommerceId': 600}, {'bfsId': 751, 'canton': 'BE', 'name': 'Täuffelen', 'registryOfCommerceId': 36}, {'bfsId': 713, 'canton': 'BE', 'name': 'Tavannes', 'registryOfCommerceId': 36}, {'bfsId': 2862, 'canton': 'BL', 'name': 'Tecknau', 'registryOfCommerceId': 280}, {'bfsId': 4320, 'canton': 'AG', 'name': 'Tegerfelden', 'registryOfCommerceId': 400}, {'bfsId': 5131, 'canton': 'TI', 'name': 'Tenero-Contra', 'registryOfCommerceId': 501}, {'bfsId': 2863, 'canton': 'BL', 'name': 'Tenniken', 'registryOfCommerceId': 280}, {'bfsId': 2307, 'canton': 'FR', 'name': 'Tentlingen', 'registryOfCommerceId': 217}, {'bfsId': 6010, 'canton': 'VS', 'name': 'Termen', 'registryOfCommerceId': 600}, {'bfsId': 5396, 'canton': 'TI', 'name': 'Terre di Pedemonte', 'registryOfCommerceId': 501}, {'bfsId': 3024, 'canton': 'AR', 'name': 'Teufen (AR)', 'registryOfCommerceId': 300}, {'bfsId': 4145, 'canton': 'AG', 'name': 'Teufenthal (AG)', 'registryOfCommerceId': 400}, {'bfsId': 940, 'canton': 'BE', 'name': 'Teuffenthal (BE)', 'registryOfCommerceId': 36}, {'bfsId': 5571, 'canton': 'VD', 'name': 'Tévenon', 'registryOfCommerceId': 550}, {'bfsId': 3237, 'canton': 'SG', 'name': 'Thal', 'registryOfCommerceId': 320}, {'bfsId': 4117, 'canton': 'AG', 'name': 'Thalheim (AG)', 'registryOfCommerceId': 400}, {'bfsId': 39, 'canton': 'ZH', 'name': 'Thalheim an der Thur', 'registryOfCommerceId': 20}, {'bfsId': 141, 'canton': 'ZH', 'name': 'Thalwil', 'registryOfCommerceId': 20}, {'bfsId': 2920, 'canton': 'SH', 'name': 'Thayngen', 'registryOfCommerceId': 290}, {'bfsId': 2775, 'canton': 'BL', 'name': 'Therwil', 'registryOfCommerceId': 280}, {'bfsId': 941, 'canton': 'BE', 'name': 'Thierachern', 'registryOfCommerceId': 36}, {'bfsId': 6640, 'canton': 'GE', 'name': 'Thônex', 'registryOfCommerceId': 660}, {'bfsId': 989, 'canton': 'BE', 'name': 'Thörigen', 'registryOfCommerceId': 36}, {'bfsId': 942, 'canton': 'BE', 'name': 'Thun', 'registryOfCommerceId': 36}, {'bfsId': 4611, 'canton': 'TG', 'name': 'Thundorf', 'registryOfCommerceId': 440}, {'bfsId': 342, 'canton': 'BE', 'name': 'Thunstetten', 'registryOfCommerceId': 36}, {'bfsId': 889, 'canton': 'BE', 'name': 'Thurnen', 'registryOfCommerceId': 36}, {'bfsId': 2864, 'canton': 'BL', 'name': 'Thürnen', 'registryOfCommerceId': 280}, {'bfsId': 3668, 'canton': 'GR', 'name': 'Thusis', 'registryOfCommerceId': 350}, {'bfsId': 2894, 'canton': 'BL', 'name': 'Titterten', 'registryOfCommerceId': 280}, {'bfsId': 4776, 'canton': 'TG', 'name': 'Tobel-Tägerschen', 'registryOfCommerceId': 440}, {'bfsId': 884, 'canton': 'BE', 'name': 'Toffen', 'registryOfCommerceId': 36}, {'bfsId': 5649, 'canton': 'VD', 'name': 'Tolochenaz', 'registryOfCommerceId': 550}, {'bfsId': 6296, 'canton': 'VS', 'name': 'Törbel', 'registryOfCommerceId': 600}, {'bfsId': 2115, 'canton': 'FR', 'name': 'Torny', 'registryOfCommerceId': 217}, {'bfsId': 5227, 'canton': 'TI', 'name': 'Torricella-Taverne', 'registryOfCommerceId': 501}, {'bfsId': 958, 'canton': 'BE', 'name': 'Trachselwald', 'registryOfCommerceId': 36}, {'bfsId': 446, 'canton': 'BE', 'name': 'Tramelan', 'registryOfCommerceId': 36}, {'bfsId': 2973, 'canton': 'SH', 'name': 'Trasadingen', 'registryOfCommerceId': 290}, {'bfsId': 500, 'canton': 'BE', 'name': 'Treiten', 'registryOfCommerceId': 36}, {'bfsId': 5730, 'canton': 'VD', 'name': 'Trélex', 'registryOfCommerceId': 550}, {'bfsId': 5239, 'canton': 'TI', 'name': 'Tresa', 'registryOfCommerceId': 501}, {'bfsId': 5827, 'canton': 'VD', 'name': 'Trey', 'registryOfCommerceId': 550}, {'bfsId': 5931, 'canton': 'VD', 'name': 'Treycovagnes', 'registryOfCommerceId': 550}, {'bfsId': 5828, 'canton': 'VD', 'name': 'Treytorrens (Payerne)', 'registryOfCommerceId': 550}, {'bfsId': 2226, 'canton': 'FR', 'name': 'Treyvaux', 'registryOfCommerceId': 217}, {'bfsId': 1104, 'canton': 'LU', 'name': 'Triengen', 'registryOfCommerceId': 100}, {'bfsId': 6142, 'canton': 'VS', 'name': 'Trient', 'registryOfCommerceId': 621}, {'bfsId': 2500, 'canton': 'SO', 'name': 'Trimbach', 'registryOfCommerceId': 241}, {'bfsId': 3945, 'canton': 'GR', 'name': 'Trimmis', 'registryOfCommerceId': 350}, {'bfsId': 3734, 'canton': 'GR', 'name': 'Trin', 'registryOfCommerceId': 350}, {'bfsId': 3025, 'canton': 'AR', 'name': 'Trogen', 'registryOfCommerceId': 300}, {'bfsId': 6641, 'canton': 'GE', 'name': 'Troinex', 'registryOfCommerceId': 660}, {'bfsId': 6156, 'canton': 'VS', 'name': 'Troistorrents', 'registryOfCommerceId': 621}, {'bfsId': 908, 'canton': 'BE', 'name': 'Trub', 'registryOfCommerceId': 36}, {'bfsId': 909, 'canton': 'BE', 'name': 'Trubschachen', 'registryOfCommerceId': 36}, {'bfsId': 40, 'canton': 'ZH', 'name': 'Trüllikon', 'registryOfCommerceId': 20}, {'bfsId': 3987, 'canton': 'GR', 'name': 'Trun', 'registryOfCommerceId': 350}, {'bfsId': 41, 'canton': 'ZH', 'name': 'Truttikon', 'registryOfCommerceId': 20}, {'bfsId': 3669, 'canton': 'GR', 'name': 'Tschappina', 'registryOfCommerceId': 350}, {'bfsId': 3932, 'canton': 'GR', 'name': 'Tschiertschen-Praden', 'registryOfCommerceId': 350}, {'bfsId': 501, 'canton': 'BE', 'name': 'Tschugg', 'registryOfCommerceId': 36}, {'bfsId': 3218, 'canton': 'SG', 'name': 'Tübach', 'registryOfCommerceId': 320}, {'bfsId': 1347, 'canton': 'SZ', 'name': 'Tuggen', 'registryOfCommerceId': 130}, {'bfsId': 3986, 'canton': 'GR', 'name': 'Tujetsch', 'registryOfCommerceId': 350}, {'bfsId': 228, 'canton': 'ZH', 'name': 'Turbenthal', 'registryOfCommerceId': 20}, {'bfsId': 4042, 'canton': 'AG', 'name': 'Turgi', 'registryOfCommerceId': 400}, {'bfsId': 6119, 'canton': 'VS', 'name': 'Turtmann-Unterems', 'registryOfCommerceId': 600}, {'bfsId': 756, 'canton': 'BE', 'name': 'Twann-Tüscherz', 'registryOfCommerceId': 36}, {'bfsId': 1067, 'canton': 'LU', 'name': 'Udligenswil', 'registryOfCommerceId': 100}, {'bfsId': 2308, 'canton': 'FR', 'name': 'Ueberstorf', 'registryOfCommerceId': 217}, {'bfsId': 943, 'canton': 'BE', 'name': 'Uebeschi', 'registryOfCommerceId': 36}, {'bfsId': 4179, 'canton': 'AG', 'name': 'Ueken', 'registryOfCommerceId': 400}, {'bfsId': 4286, 'canton': 'AG', 'name': 'Uerkheim', 'registryOfCommerceId': 400}, {'bfsId': 4616, 'canton': 'TG', 'name': 'Uesslingen-Buch', 'registryOfCommerceId': 440}, {'bfsId': 944, 'canton': 'BE', 'name': 'Uetendorf', 'registryOfCommerceId': 36}, {'bfsId': 159, 'canton': 'ZH', 'name': 'Uetikon am See', 'registryOfCommerceId': 20}, {'bfsId': 4078, 'canton': 'AG', 'name': 'Uezwil', 'registryOfCommerceId': 400}, {'bfsId': 1145, 'canton': 'LU', 'name': 'Ufhusen', 'registryOfCommerceId': 100}, {'bfsId': 248, 'canton': 'ZH', 'name': 'Uitikon', 'registryOfCommerceId': 20}, {'bfsId': 2278, 'canton': 'FR', 'name': 'Ulmiz', 'registryOfCommerceId': 217}, {'bfsId': 1709, 'canton': 'ZG', 'name': 'Unterägeri', 'registryOfCommerceId': 170}, {'bfsId': 6201, 'canton': 'VS', 'name': 'Unterbäch', 'registryOfCommerceId': 600}, {'bfsId': 3219, 'canton': 'SG', 'name': 'Untereggen', 'registryOfCommerceId': 320}, {'bfsId': 249, 'canton': 'ZH', 'name': 'Unterengstringen', 'registryOfCommerceId': 20}, {'bfsId': 4013, 'canton': 'AG', 'name': 'Unterentfelden', 'registryOfCommerceId': 400}, {'bfsId': 1375, 'canton': 'SZ', 'name': 'Unteriberg', 'registryOfCommerceId': 130}, {'bfsId': 4146, 'canton': 'AG', 'name': 'Unterkulm', 'registryOfCommerceId': 400}, {'bfsId': 945, 'canton': 'BE', 'name': 'Unterlangenegg', 'registryOfCommerceId': 36}, {'bfsId': 4079, 'canton': 'AG', 'name': 'Unterlunkhofen', 'registryOfCommerceId': 400}, {'bfsId': 2463, 'canton': 'SO', 'name': 'Unterramsern', 'registryOfCommerceId': 241}, {'bfsId': 1219, 'canton': 'UR', 'name': 'Unterschächen', 'registryOfCommerceId': 120}, {'bfsId': 593, 'canton': 'BE', 'name': 'Unterseen', 'registryOfCommerceId': 36}, {'bfsId': 4044, 'canton': 'AG', 'name': 'Untersiggenthal', 'registryOfCommerceId': 400}, {'bfsId': 3946, 'canton': 'GR', 'name': 'Untervaz', 'registryOfCommerceId': 350}, {'bfsId': 250, 'canton': 'ZH', 'name': 'Urdorf', 'registryOfCommerceId': 20}, {'bfsId': 3670, 'canton': 'GR', 'name': 'Urmein', 'registryOfCommerceId': 350}, {'bfsId': 3006, 'canton': 'AR', 'name': 'Urnäsch', 'registryOfCommerceId': 300}, {'bfsId': 344, 'canton': 'BE', 'name': 'Ursenbach', 'registryOfCommerceId': 36}, {'bfsId': 5932, 'canton': 'VD', 'name': 'Ursins', 'registryOfCommerceId': 550}, {'bfsId': 2102, 'canton': 'FR', 'name': 'Ursy', 'registryOfCommerceId': 217}, {'bfsId': 551, 'canton': 'BE', 'name': 'Urtenen-Schönbühl', 'registryOfCommerceId': 36}, {'bfsId': 198, 'canton': 'ZH', 'name': 'Uster', 'registryOfCommerceId': 20}, {'bfsId': 885, 'canton': 'BE', 'name': 'Uttigen', 'registryOfCommerceId': 36}, {'bfsId': 4451, 'canton': 'TG', 'name': 'Uttwil', 'registryOfCommerceId': 440}, {'bfsId': 552, 'canton': 'BE', 'name': 'Utzenstorf', 'registryOfCommerceId': 36}, {'bfsId': 3339, 'canton': 'SG', 'name': 'Uznach', 'registryOfCommerceId': 320}, {'bfsId': 3408, 'canton': 'SG', 'name': 'Uzwil', 'registryOfCommerceId': 320}, {'bfsId': 5268, 'canton': 'TI', 'name': 'Vacallo', 'registryOfCommerceId': 501}, {'bfsId': 717, 'canton': 'BE', 'name': 'Valbirse', 'registryOfCommerceId': 36}, {'bfsId': 5831, 'canton': 'VD', 'name': 'Valbroye', 'registryOfCommerceId': 550}, {'bfsId': 6037, 'canton': 'VS', 'name': 'Val de Bagnes', 'registryOfCommerceId': 621}, {'bfsId': 2163, 'canton': 'FR', 'name': 'Val-de-Charmey', 'registryOfCommerceId': 217}, {'bfsId': 6487, 'canton': 'NE', 'name': 'Val-de-Ruz', 'registryOfCommerceId': 645}, {'bfsId': 6512, 'canton': 'NE', 'name': 'Val-de-Travers', 'registryOfCommerceId': 645}, {'bfsId': 6157, 'canton': 'VS', 'name': \"Val-d'Illiez\", 'registryOfCommerceId': 621}, {'bfsId': 5933, 'canton': 'VD', 'name': 'Valeyres-sous-Montagny', 'registryOfCommerceId': 550}, {'bfsId': 5763, 'canton': 'VD', 'name': 'Valeyres-sous-Rances', 'registryOfCommerceId': 550}, {'bfsId': 5934, 'canton': 'VD', 'name': 'Valeyres-sous-Ursins', 'registryOfCommerceId': 550}, {'bfsId': 2045, 'canton': 'FR', 'name': 'Vallon', 'registryOfCommerceId': 217}, {'bfsId': 5764, 'canton': 'VD', 'name': 'Vallorbe', 'registryOfCommerceId': 550}, {'bfsId': 5240, 'canton': 'TI', 'name': 'Val Mara', 'registryOfCommerceId': 501}, {'bfsId': 3847, 'canton': 'GR', 'name': 'Val Müstair', 'registryOfCommerceId': 350}, {'bfsId': 3603, 'canton': 'GR', 'name': 'Vals', 'registryOfCommerceId': 350}, {'bfsId': 3764, 'canton': 'GR', 'name': 'Valsot', 'registryOfCommerceId': 350}, {'bfsId': 6730, 'canton': 'JU', 'name': 'Val Terbi', 'registryOfCommerceId': 670}, {'bfsId': 6642, 'canton': 'GE', 'name': 'Vandoeuvres', 'registryOfCommerceId': 660}, {'bfsId': 6116, 'canton': 'VS', 'name': 'Varen', 'registryOfCommerceId': 600}, {'bfsId': 5765, 'canton': 'VD', 'name': 'Vaulion', 'registryOfCommerceId': 550}, {'bfsId': 2155, 'canton': 'FR', 'name': 'Vaulruz', 'registryOfCommerceId': 217}, {'bfsId': 5650, 'canton': 'VD', 'name': 'Vaux-sur-Morges', 'registryOfCommerceId': 550}, {'bfsId': 3506, 'canton': 'GR', 'name': 'Vaz/Obervaz', 'registryOfCommerceId': 350}, {'bfsId': 359, 'canton': 'BE', 'name': 'Vechigen', 'registryOfCommerceId': 36}, {'bfsId': 4120, 'canton': 'AG', 'name': 'Veltheim (AG)', 'registryOfCommerceId': 400}, {'bfsId': 6806, 'canton': 'JU', 'name': 'Vendlincourt', 'registryOfCommerceId': 670}, {'bfsId': 5230, 'canton': 'TI', 'name': 'Vernate', 'registryOfCommerceId': 501}, {'bfsId': 6219, 'canton': 'VS', 'name': 'Vernayaz', 'registryOfCommerceId': 621}, {'bfsId': 6643, 'canton': 'GE', 'name': 'Vernier', 'registryOfCommerceId': 660}, {'bfsId': 6220, 'canton': 'VS', 'name': 'Vérossaz', 'registryOfCommerceId': 621}, {'bfsId': 6644, 'canton': 'GE', 'name': 'Versoix', 'registryOfCommerceId': 660}, {'bfsId': 5399, 'canton': 'TI', 'name': 'Verzasca', 'registryOfCommerceId': 501}, {'bfsId': 6025, 'canton': 'VS', 'name': 'Vétroz', 'registryOfCommerceId': 626}, {'bfsId': 5890, 'canton': 'VD', 'name': 'Vevey', 'registryOfCommerceId': 550}, {'bfsId': 6089, 'canton': 'VS', 'name': 'Vex', 'registryOfCommerceId': 626}, {'bfsId': 6645, 'canton': 'GE', 'name': 'Veyrier', 'registryOfCommerceId': 660}, {'bfsId': 6267, 'canton': 'VS', 'name': 'Veysonnaz', 'registryOfCommerceId': 626}, {'bfsId': 5891, 'canton': 'VD', 'name': 'Veytaux', 'registryOfCommerceId': 550}, {'bfsId': 5231, 'canton': 'TI', 'name': 'Vezia', 'registryOfCommerceId': 501}, {'bfsId': 5732, 'canton': 'VD', 'name': 'Vich', 'registryOfCommerceId': 550}, {'bfsId': 5233, 'canton': 'TI', 'name': 'Vico Morcote', 'registryOfCommerceId': 501}, {'bfsId': 2230, 'canton': 'FR', 'name': 'Villarsel-sur-Marly', 'registryOfCommerceId': 217}, {'bfsId': 5935, 'canton': 'VD', 'name': 'Villars-Epeney', 'registryOfCommerceId': 550}, {'bfsId': 5690, 'canton': 'VD', 'name': 'Villars-le-Comte', 'registryOfCommerceId': 550}, {'bfsId': 5537, 'canton': 'VD', 'name': 'Villars-le-Terroir', 'registryOfCommerceId': 550}, {'bfsId': 5651, 'canton': 'VD', 'name': 'Villars-Sainte-Croix', 'registryOfCommerceId': 550}, {'bfsId': 5652, 'canton': 'VD', 'name': 'Villars-sous-Yens', 'registryOfCommerceId': 550}, {'bfsId': 2228, 'canton': 'FR', 'name': 'Villars-sur-Glâne', 'registryOfCommerceId': 217}, {'bfsId': 5830, 'canton': 'VD', 'name': 'Villarzel', 'registryOfCommerceId': 550}, {'bfsId': 2117, 'canton': 'FR', 'name': 'Villaz', 'registryOfCommerceId': 217}, {'bfsId': 5414, 'canton': 'VD', 'name': 'Villeneuve (VD)', 'registryOfCommerceId': 550}, {'bfsId': 448, 'canton': 'BE', 'name': 'Villeret', 'registryOfCommerceId': 36}, {'bfsId': 4121, 'canton': 'AG', 'name': 'Villigen', 'registryOfCommerceId': 400}, {'bfsId': 4080, 'canton': 'AG', 'name': 'Villmergen', 'registryOfCommerceId': 400}, {'bfsId': 4122, 'canton': 'AG', 'name': 'Villnachern', 'registryOfCommerceId': 400}, {'bfsId': 2114, 'canton': 'FR', 'name': 'Villorsonnens', 'registryOfCommerceId': 217}, {'bfsId': 3297, 'canton': 'SG', 'name': 'Vilters-Wangs', 'registryOfCommerceId': 320}, {'bfsId': 502, 'canton': 'BE', 'name': 'Vinelz', 'registryOfCommerceId': 36}, {'bfsId': 5863, 'canton': 'VD', 'name': 'Vinzel', 'registryOfCommerceId': 550}, {'bfsId': 6158, 'canton': 'VS', 'name': 'Vionnaz', 'registryOfCommerceId': 621}, {'bfsId': 6297, 'canton': 'VS', 'name': 'Visp', 'registryOfCommerceId': 600}, {'bfsId': 6298, 'canton': 'VS', 'name': 'Visperterminen', 'registryOfCommerceId': 600}, {'bfsId': 1068, 'canton': 'LU', 'name': 'Vitznau', 'registryOfCommerceId': 100}, {'bfsId': 43, 'canton': 'ZH', 'name': 'Volken', 'registryOfCommerceId': 20}, {'bfsId': 199, 'canton': 'ZH', 'name': 'Volketswil', 'registryOfCommerceId': 20}, {'bfsId': 4287, 'canton': 'AG', 'name': 'Vordemwald', 'registryOfCommerceId': 400}, {'bfsId': 1348, 'canton': 'SZ', 'name': 'Vorderthal', 'registryOfCommerceId': 130}, {'bfsId': 6159, 'canton': 'VS', 'name': 'Vouvry', 'registryOfCommerceId': 621}, {'bfsId': 2160, 'canton': 'FR', 'name': 'Vuadens', 'registryOfCommerceId': 217}, {'bfsId': 5539, 'canton': 'VD', 'name': 'Vuarrens', 'registryOfCommerceId': 550}, {'bfsId': 5692, 'canton': 'VD', 'name': 'Vucherens', 'registryOfCommerceId': 550}, {'bfsId': 5503, 'canton': 'VD', 'name': 'Vufflens-la-Ville', 'registryOfCommerceId': 550}, {'bfsId': 5653, 'canton': 'VD', 'name': 'Vufflens-le-Château', 'registryOfCommerceId': 550}, {'bfsId': 5937, 'canton': 'VD', 'name': 'Vugelles-La Mothe', 'registryOfCommerceId': 550}, {'bfsId': 2113, 'canton': 'FR', 'name': 'Vuisternens-devant-Romont', 'registryOfCommerceId': 217}, {'bfsId': 5766, 'canton': 'VD', 'name': 'Vuiteboeuf', 'registryOfCommerceId': 550}, {'bfsId': 5803, 'canton': 'VD', 'name': 'Vulliens', 'registryOfCommerceId': 550}, {'bfsId': 5654, 'canton': 'VD', 'name': 'Vullierens', 'registryOfCommerceId': 550}, {'bfsId': 5464, 'canton': 'VD', 'name': 'Vully-les-Lacs', 'registryOfCommerceId': 550}, {'bfsId': 946, 'canton': 'BE', 'name': 'Wachseldorn', 'registryOfCommerceId': 36}, {'bfsId': 293, 'canton': 'ZH', 'name': 'Wädenswil', 'registryOfCommerceId': 20}, {'bfsId': 4871, 'canton': 'TG', 'name': 'Wagenhausen', 'registryOfCommerceId': 440}, {'bfsId': 2792, 'canton': 'BL', 'name': 'Wahlen', 'registryOfCommerceId': 280}, {'bfsId': 1710, 'canton': 'ZG', 'name': 'Walchwil', 'registryOfCommerceId': 170}, {'bfsId': 3036, 'canton': 'AR', 'name': 'Wald (AR)', 'registryOfCommerceId': 300}, {'bfsId': 888, 'canton': 'BE', 'name': 'Wald (BE)', 'registryOfCommerceId': 36}, {'bfsId': 2895, 'canton': 'BL', 'name': 'Waldenburg', 'registryOfCommerceId': 280}, {'bfsId': 4701, 'canton': 'TG', 'name': 'Wäldi', 'registryOfCommerceId': 440}, {'bfsId': 3444, 'canton': 'SG', 'name': 'Waldkirch', 'registryOfCommerceId': 320}, {'bfsId': 3007, 'canton': 'AR', 'name': 'Waldstatt', 'registryOfCommerceId': 300}, {'bfsId': 120, 'canton': 'ZH', 'name': 'Wald (ZH)', 'registryOfCommerceId': 20}, {'bfsId': 3298, 'canton': 'SG', 'name': 'Walenstadt', 'registryOfCommerceId': 320}, {'bfsId': 626, 'canton': 'BE', 'name': 'Walkringen', 'registryOfCommerceId': 36}, {'bfsId': 4261, 'canton': 'AG', 'name': 'Wallbach', 'registryOfCommerceId': 400}, {'bfsId': 69, 'canton': 'ZH', 'name': 'Wallisellen', 'registryOfCommerceId': 20}, {'bfsId': 990, 'canton': 'BE', 'name': 'Walliswil bei Niederbipp', 'registryOfCommerceId': 36}, {'bfsId': 991, 'canton': 'BE', 'name': 'Walliswil bei Wangen', 'registryOfCommerceId': 36}, {'bfsId': 754, 'canton': 'BE', 'name': 'Walperswil', 'registryOfCommerceId': 36}, {'bfsId': 4240, 'canton': 'AG', 'name': 'Waltenschwil', 'registryOfCommerceId': 400}, {'bfsId': 959, 'canton': 'BE', 'name': 'Walterswil (BE)', 'registryOfCommerceId': 36}, {'bfsId': 2585, 'canton': 'SO', 'name': 'Walterswil (SO)', 'registryOfCommerceId': 241}, {'bfsId': 3037, 'canton': 'AR', 'name': 'Walzenhausen', 'registryOfCommerceId': 300}, {'bfsId': 992, 'canton': 'BE', 'name': 'Wangen an der Aare', 'registryOfCommerceId': 36}, {'bfsId': 2586, 'canton': 'SO', 'name': 'Wangen bei Olten', 'registryOfCommerceId': 241}, {'bfsId': 200, 'canton': 'ZH', 'name': 'Wangen-Brüttisellen', 'registryOfCommerceId': 20}, {'bfsId': 993, 'canton': 'BE', 'name': 'Wangenried', 'registryOfCommerceId': 36}, {'bfsId': 1349, 'canton': 'SZ', 'name': 'Wangen (SZ)', 'registryOfCommerceId': 130}, {'bfsId': 4781, 'canton': 'TG', 'name': 'Wängi', 'registryOfCommerceId': 440}, {'bfsId': 3276, 'canton': 'SG', 'name': 'Wartau', 'registryOfCommerceId': 320}, {'bfsId': 4621, 'canton': 'TG', 'name': 'Warth-Weiningen', 'registryOfCommerceId': 440}, {'bfsId': 1220, 'canton': 'UR', 'name': 'Wassen', 'registryOfCommerceId': 120}, {'bfsId': 70, 'canton': 'ZH', 'name': 'Wasterkingen', 'registryOfCommerceId': 20}, {'bfsId': 886, 'canton': 'BE', 'name': 'Wattenwil', 'registryOfCommerceId': 36}, {'bfsId': 3379, 'canton': 'SG', 'name': 'Wattwil', 'registryOfCommerceId': 320}, {'bfsId': 1146, 'canton': 'LU', 'name': 'Wauwil', 'registryOfCommerceId': 100}, {'bfsId': 3316, 'canton': 'SG', 'name': 'Weesen', 'registryOfCommerceId': 320}, {'bfsId': 4262, 'canton': 'AG', 'name': 'Wegenstetten', 'registryOfCommerceId': 400}, {'bfsId': 1069, 'canton': 'LU', 'name': 'Weggis', 'registryOfCommerceId': 100}, {'bfsId': 102, 'canton': 'ZH', 'name': 'Weiach', 'registryOfCommerceId': 20}, {'bfsId': 4946, 'canton': 'TG', 'name': 'Weinfelden', 'registryOfCommerceId': 440}, {'bfsId': 251, 'canton': 'ZH', 'name': 'Weiningen (ZH)', 'registryOfCommerceId': 20}, {'bfsId': 180, 'canton': 'ZH', 'name': 'Weisslingen', 'registryOfCommerceId': 20}, {'bfsId': 2430, 'canton': 'SO', 'name': 'Welschenrohr-Gänsbrunnen', 'registryOfCommerceId': 241}, {'bfsId': 394, 'canton': 'BE', 'name': 'Wengi', 'registryOfCommerceId': 36}, {'bfsId': 2865, 'canton': 'BL', 'name': 'Wenslingen', 'registryOfCommerceId': 280}, {'bfsId': 1009, 'canton': 'LU', 'name': 'Werthenstein', 'registryOfCommerceId': 100}, {'bfsId': 4045, 'canton': 'AG', 'name': 'Wettingen', 'registryOfCommerceId': 400}, {'bfsId': 14, 'canton': 'ZH', 'name': 'Wettswil am Albis', 'registryOfCommerceId': 20}, {'bfsId': 121, 'canton': 'ZH', 'name': 'Wetzikon (ZH)', 'registryOfCommerceId': 20}, {'bfsId': 632, 'canton': 'BE', 'name': 'Wichtrach', 'registryOfCommerceId': 36}, {'bfsId': 4081, 'canton': 'AG', 'name': 'Widen', 'registryOfCommerceId': 400}, {'bfsId': 3238, 'canton': 'SG', 'name': 'Widnau', 'registryOfCommerceId': 320}, {'bfsId': 995, 'canton': 'BE', 'name': 'Wiedlisbach', 'registryOfCommerceId': 36}, {'bfsId': 298, 'canton': 'ZH', 'name': 'Wiesendangen', 'registryOfCommerceId': 20}, {'bfsId': 553, 'canton': 'BE', 'name': 'Wiggiswil', 'registryOfCommerceId': 36}, {'bfsId': 4951, 'canton': 'TG', 'name': 'Wigoltingen', 'registryOfCommerceId': 440}, {'bfsId': 1147, 'canton': 'LU', 'name': 'Wikon', 'registryOfCommerceId': 100}, {'bfsId': 181, 'canton': 'ZH', 'name': 'Wila', 'registryOfCommerceId': 20}, {'bfsId': 2974, 'canton': 'SH', 'name': 'Wilchingen', 'registryOfCommerceId': 290}, {'bfsId': 182, 'canton': 'ZH', 'name': 'Wildberg', 'registryOfCommerceId': 20}, {'bfsId': 594, 'canton': 'BE', 'name': 'Wilderswil', 'registryOfCommerceId': 36}, {'bfsId': 3359, 'canton': 'SG', 'name': 'Wildhaus-Alt St. Johann', 'registryOfCommerceId': 320}, {'bfsId': 4786, 'canton': 'TG', 'name': 'Wilen (TG)', 'registryOfCommerceId': 440}, {'bfsId': 554, 'canton': 'BE', 'name': 'Wiler bei Utzenstorf', 'registryOfCommerceId': 36}, {'bfsId': 6202, 'canton': 'VS', 'name': 'Wiler (Lötschen)', 'registryOfCommerceId': 600}, {'bfsId': 671, 'canton': 'BE', 'name': 'Wileroltigen', 'registryOfCommerceId': 36}, {'bfsId': 4288, 'canton': 'AG', 'name': 'Wiliberg', 'registryOfCommerceId': 400}, {'bfsId': 423, 'canton': 'BE', 'name': 'Willadingen', 'registryOfCommerceId': 36}, {'bfsId': 1151, 'canton': 'LU', 'name': 'Willisau', 'registryOfCommerceId': 100}, {'bfsId': 3427, 'canton': 'SG', 'name': 'Wil (SG)', 'registryOfCommerceId': 320}, {'bfsId': 71, 'canton': 'ZH', 'name': 'Wil (ZH)', 'registryOfCommerceId': 20}, {'bfsId': 769, 'canton': 'BE', 'name': 'Wimmis', 'registryOfCommerceId': 36}, {'bfsId': 4123, 'canton': 'AG', 'name': 'Windisch', 'registryOfCommerceId': 400}, {'bfsId': 72, 'canton': 'ZH', 'name': 'Winkel', 'registryOfCommerceId': 20}, {'bfsId': 2866, 'canton': 'BL', 'name': 'Wintersingen', 'registryOfCommerceId': 280}, {'bfsId': 230, 'canton': 'ZH', 'name': 'Winterthur', 'registryOfCommerceId': 20}, {'bfsId': 2501, 'canton': 'SO', 'name': 'Winznau', 'registryOfCommerceId': 241}, {'bfsId': 2502, 'canton': 'SO', 'name': 'Wisen (SO)', 'registryOfCommerceId': 241}, {'bfsId': 3204, 'canton': 'SG', 'name': 'Wittenbach', 'registryOfCommerceId': 320}, {'bfsId': 2481, 'canton': 'SO', 'name': 'Witterswil', 'registryOfCommerceId': 241}, {'bfsId': 2867, 'canton': 'BL', 'name': 'Wittinsburg', 'registryOfCommerceId': 280}, {'bfsId': 4181, 'canton': 'AG', 'name': 'Wittnau', 'registryOfCommerceId': 400}, {'bfsId': 4082, 'canton': 'AG', 'name': 'Wohlen (AG)', 'registryOfCommerceId': 400}, {'bfsId': 360, 'canton': 'BE', 'name': 'Wohlen bei Bern', 'registryOfCommerceId': 36}, {'bfsId': 4046, 'canton': 'AG', 'name': 'Wohlenschwil', 'registryOfCommerceId': 400}, {'bfsId': 1511, 'canton': 'NW', 'name': 'Wolfenschiessen', 'registryOfCommerceId': 150}, {'bfsId': 3038, 'canton': 'AR', 'name': 'Wolfhalden', 'registryOfCommerceId': 300}, {'bfsId': 4182, 'canton': 'AG', 'name': 'Wölflinswil', 'registryOfCommerceId': 400}, {'bfsId': 2408, 'canton': 'SO', 'name': 'Wolfwil', 'registryOfCommerceId': 241}, {'bfsId': 1107, 'canton': 'LU', 'name': 'Wolhusen', 'registryOfCommerceId': 100}, {'bfsId': 1323, 'canton': 'SZ', 'name': 'Wollerau', 'registryOfCommerceId': 130}, {'bfsId': 627, 'canton': 'BE', 'name': 'Worb', 'registryOfCommerceId': 36}, {'bfsId': 755, 'canton': 'BE', 'name': 'Worben', 'registryOfCommerceId': 36}, {'bfsId': 2309, 'canton': 'FR', 'name': 'Wünnewil-Flamatt', 'registryOfCommerceId': 217}, {'bfsId': 4791, 'canton': 'TG', 'name': 'Wuppenau', 'registryOfCommerceId': 440}, {'bfsId': 4047, 'canton': 'AG', 'name': 'Würenlingen', 'registryOfCommerceId': 400}, {'bfsId': 4048, 'canton': 'AG', 'name': 'Würenlos', 'registryOfCommerceId': 400}, {'bfsId': 345, 'canton': 'BE', 'name': 'Wynau', 'registryOfCommerceId': 36}, {'bfsId': 424, 'canton': 'BE', 'name': 'Wynigen', 'registryOfCommerceId': 36}, {'bfsId': 960, 'canton': 'BE', 'name': 'Wyssachen', 'registryOfCommerceId': 36}, {'bfsId': 5655, 'canton': 'VD', 'name': 'Yens', 'registryOfCommerceId': 550}, {'bfsId': 5938, 'canton': 'VD', 'name': 'Yverdon-les-Bains', 'registryOfCommerceId': 550}, {'bfsId': 5939, 'canton': 'VD', 'name': 'Yvonand', 'registryOfCommerceId': 550}, {'bfsId': 5415, 'canton': 'VD', 'name': 'Yvorne', 'registryOfCommerceId': 550}, {'bfsId': 628, 'canton': 'BE', 'name': 'Zäziwil', 'registryOfCommerceId': 36}, {'bfsId': 2868, 'canton': 'BL', 'name': 'Zeglingen', 'registryOfCommerceId': 280}, {'bfsId': 4183, 'canton': 'AG', 'name': 'Zeihen', 'registryOfCommerceId': 400}, {'bfsId': 4263, 'canton': 'AG', 'name': 'Zeiningen', 'registryOfCommerceId': 400}, {'bfsId': 1150, 'canton': 'LU', 'name': 'Zell (LU)', 'registryOfCommerceId': 100}, {'bfsId': 231, 'canton': 'ZH', 'name': 'Zell (ZH)', 'registryOfCommerceId': 20}, {'bfsId': 6299, 'canton': 'VS', 'name': 'Zeneggen', 'registryOfCommerceId': 600}, {'bfsId': 6300, 'canton': 'VS', 'name': 'Zermatt', 'registryOfCommerceId': 600}, {'bfsId': 3746, 'canton': 'GR', 'name': 'Zernez', 'registryOfCommerceId': 350}, {'bfsId': 4147, 'canton': 'AG', 'name': 'Zetzwil', 'registryOfCommerceId': 400}, {'bfsId': 2834, 'canton': 'BL', 'name': 'Ziefen', 'registryOfCommerceId': 280}, {'bfsId': 556, 'canton': 'BE', 'name': 'Zielebach', 'registryOfCommerceId': 36}, {'bfsId': 4511, 'canton': 'TG', 'name': 'Zihlschlacht-Sitterdorf', 'registryOfCommerceId': 440}, {'bfsId': 3712, 'canton': 'GR', 'name': 'Zillis-Reischen', 'registryOfCommerceId': 350}, {'bfsId': 3947, 'canton': 'GR', 'name': 'Zizers', 'registryOfCommerceId': 350}, {'bfsId': 4289, 'canton': 'AG', 'name': 'Zofingen', 'registryOfCommerceId': 400}, {'bfsId': 361, 'canton': 'BE', 'name': 'Zollikofen', 'registryOfCommerceId': 36}, {'bfsId': 161, 'canton': 'ZH', 'name': 'Zollikon', 'registryOfCommerceId': 20}, {'bfsId': 2534, 'canton': 'SO', 'name': 'Zuchwil', 'registryOfCommerceId': 241}, {'bfsId': 4083, 'canton': 'AG', 'name': 'Zufikon', 'registryOfCommerceId': 400}, {'bfsId': 1711, 'canton': 'ZG', 'name': 'Zug', 'registryOfCommerceId': 170}, {'bfsId': 2622, 'canton': 'SO', 'name': 'Zullwil', 'registryOfCommerceId': 241}, {'bfsId': 160, 'canton': 'ZH', 'name': 'Zumikon', 'registryOfCommerceId': 20}, {'bfsId': 2869, 'canton': 'BL', 'name': 'Zunzgen', 'registryOfCommerceId': 280}, {'bfsId': 3791, 'canton': 'GR', 'name': 'Zuoz', 'registryOfCommerceId': 350}, {'bfsId': 261, 'canton': 'ZH', 'name': 'Zürich', 'registryOfCommerceId': 20}, {'bfsId': 4324, 'canton': 'AG', 'name': 'Zurzach', 'registryOfCommerceId': 400}, {'bfsId': 4264, 'canton': 'AG', 'name': 'Zuzgen', 'registryOfCommerceId': 400}, {'bfsId': 557, 'canton': 'BE', 'name': 'Zuzwil (BE)', 'registryOfCommerceId': 36}, {'bfsId': 3426, 'canton': 'SG', 'name': 'Zuzwil (SG)', 'registryOfCommerceId': 320}, {'bfsId': 794, 'canton': 'BE', 'name': 'Zweisimmen', 'registryOfCommerceId': 36}, {'bfsId': 947, 'canton': 'BE', 'name': 'Zwieselberg', 'registryOfCommerceId': 36}, {'bfsId': 2793, 'canton': 'BL', 'name': 'Zwingen', 'registryOfCommerceId': 280}, {'bfsId': 6011, 'canton': 'VS', 'name': 'Zwischbergen', 'registryOfCommerceId': 600}]\n"
          ]
        }
      ]
    },
    {
      "cell_type": "code",
      "source": [
        "UID_data = r.json()"
      ],
      "metadata": {
        "id": "WkSLSLRIfyJO"
      },
      "execution_count": null,
      "outputs": []
    },
    {
      "cell_type": "code",
      "source": [
        "df = json_normalize(UID_data)\n",
        "df"
      ],
      "metadata": {
        "colab": {
          "base_uri": "https://localhost:8080/",
          "height": 423
        },
        "id": "dyzTvcoUf3ne",
        "outputId": "5d307fff-d0ff-4074-904d-bad14bb3d55b"
      },
      "execution_count": null,
      "outputs": [
        {
          "output_type": "execute_result",
          "data": {
            "text/plain": [
              "      bfsId canton          name  registryOfCommerceId\n",
              "0      4551     TG        Aadorf                   440\n",
              "1      4001     AG         Aarau                   400\n",
              "2       301     BE       Aarberg                    36\n",
              "3      4271     AG       Aarburg                   400\n",
              "4       321     BE     Aarwangen                    36\n",
              "...     ...    ...           ...                   ...\n",
              "2141   3426     SG   Zuzwil (SG)                   320\n",
              "2142    794     BE    Zweisimmen                    36\n",
              "2143    947     BE   Zwieselberg                    36\n",
              "2144   2793     BL       Zwingen                   280\n",
              "2145   6011     VS  Zwischbergen                   600\n",
              "\n",
              "[2146 rows x 4 columns]"
            ],
            "text/html": [
              "\n",
              "  <div id=\"df-64caa57e-df35-4b27-9fb2-31748b2b0761\">\n",
              "    <div class=\"colab-df-container\">\n",
              "      <div>\n",
              "<style scoped>\n",
              "    .dataframe tbody tr th:only-of-type {\n",
              "        vertical-align: middle;\n",
              "    }\n",
              "\n",
              "    .dataframe tbody tr th {\n",
              "        vertical-align: top;\n",
              "    }\n",
              "\n",
              "    .dataframe thead th {\n",
              "        text-align: right;\n",
              "    }\n",
              "</style>\n",
              "<table border=\"1\" class=\"dataframe\">\n",
              "  <thead>\n",
              "    <tr style=\"text-align: right;\">\n",
              "      <th></th>\n",
              "      <th>bfsId</th>\n",
              "      <th>canton</th>\n",
              "      <th>name</th>\n",
              "      <th>registryOfCommerceId</th>\n",
              "    </tr>\n",
              "  </thead>\n",
              "  <tbody>\n",
              "    <tr>\n",
              "      <th>0</th>\n",
              "      <td>4551</td>\n",
              "      <td>TG</td>\n",
              "      <td>Aadorf</td>\n",
              "      <td>440</td>\n",
              "    </tr>\n",
              "    <tr>\n",
              "      <th>1</th>\n",
              "      <td>4001</td>\n",
              "      <td>AG</td>\n",
              "      <td>Aarau</td>\n",
              "      <td>400</td>\n",
              "    </tr>\n",
              "    <tr>\n",
              "      <th>2</th>\n",
              "      <td>301</td>\n",
              "      <td>BE</td>\n",
              "      <td>Aarberg</td>\n",
              "      <td>36</td>\n",
              "    </tr>\n",
              "    <tr>\n",
              "      <th>3</th>\n",
              "      <td>4271</td>\n",
              "      <td>AG</td>\n",
              "      <td>Aarburg</td>\n",
              "      <td>400</td>\n",
              "    </tr>\n",
              "    <tr>\n",
              "      <th>4</th>\n",
              "      <td>321</td>\n",
              "      <td>BE</td>\n",
              "      <td>Aarwangen</td>\n",
              "      <td>36</td>\n",
              "    </tr>\n",
              "    <tr>\n",
              "      <th>...</th>\n",
              "      <td>...</td>\n",
              "      <td>...</td>\n",
              "      <td>...</td>\n",
              "      <td>...</td>\n",
              "    </tr>\n",
              "    <tr>\n",
              "      <th>2141</th>\n",
              "      <td>3426</td>\n",
              "      <td>SG</td>\n",
              "      <td>Zuzwil (SG)</td>\n",
              "      <td>320</td>\n",
              "    </tr>\n",
              "    <tr>\n",
              "      <th>2142</th>\n",
              "      <td>794</td>\n",
              "      <td>BE</td>\n",
              "      <td>Zweisimmen</td>\n",
              "      <td>36</td>\n",
              "    </tr>\n",
              "    <tr>\n",
              "      <th>2143</th>\n",
              "      <td>947</td>\n",
              "      <td>BE</td>\n",
              "      <td>Zwieselberg</td>\n",
              "      <td>36</td>\n",
              "    </tr>\n",
              "    <tr>\n",
              "      <th>2144</th>\n",
              "      <td>2793</td>\n",
              "      <td>BL</td>\n",
              "      <td>Zwingen</td>\n",
              "      <td>280</td>\n",
              "    </tr>\n",
              "    <tr>\n",
              "      <th>2145</th>\n",
              "      <td>6011</td>\n",
              "      <td>VS</td>\n",
              "      <td>Zwischbergen</td>\n",
              "      <td>600</td>\n",
              "    </tr>\n",
              "  </tbody>\n",
              "</table>\n",
              "<p>2146 rows × 4 columns</p>\n",
              "</div>\n",
              "      <button class=\"colab-df-convert\" onclick=\"convertToInteractive('df-64caa57e-df35-4b27-9fb2-31748b2b0761')\"\n",
              "              title=\"Convert this dataframe to an interactive table.\"\n",
              "              style=\"display:none;\">\n",
              "        \n",
              "  <svg xmlns=\"http://www.w3.org/2000/svg\" height=\"24px\"viewBox=\"0 0 24 24\"\n",
              "       width=\"24px\">\n",
              "    <path d=\"M0 0h24v24H0V0z\" fill=\"none\"/>\n",
              "    <path d=\"M18.56 5.44l.94 2.06.94-2.06 2.06-.94-2.06-.94-.94-2.06-.94 2.06-2.06.94zm-11 1L8.5 8.5l.94-2.06 2.06-.94-2.06-.94L8.5 2.5l-.94 2.06-2.06.94zm10 10l.94 2.06.94-2.06 2.06-.94-2.06-.94-.94-2.06-.94 2.06-2.06.94z\"/><path d=\"M17.41 7.96l-1.37-1.37c-.4-.4-.92-.59-1.43-.59-.52 0-1.04.2-1.43.59L10.3 9.45l-7.72 7.72c-.78.78-.78 2.05 0 2.83L4 21.41c.39.39.9.59 1.41.59.51 0 1.02-.2 1.41-.59l7.78-7.78 2.81-2.81c.8-.78.8-2.07 0-2.86zM5.41 20L4 18.59l7.72-7.72 1.47 1.35L5.41 20z\"/>\n",
              "  </svg>\n",
              "      </button>\n",
              "      \n",
              "  <style>\n",
              "    .colab-df-container {\n",
              "      display:flex;\n",
              "      flex-wrap:wrap;\n",
              "      gap: 12px;\n",
              "    }\n",
              "\n",
              "    .colab-df-convert {\n",
              "      background-color: #E8F0FE;\n",
              "      border: none;\n",
              "      border-radius: 50%;\n",
              "      cursor: pointer;\n",
              "      display: none;\n",
              "      fill: #1967D2;\n",
              "      height: 32px;\n",
              "      padding: 0 0 0 0;\n",
              "      width: 32px;\n",
              "    }\n",
              "\n",
              "    .colab-df-convert:hover {\n",
              "      background-color: #E2EBFA;\n",
              "      box-shadow: 0px 1px 2px rgba(60, 64, 67, 0.3), 0px 1px 3px 1px rgba(60, 64, 67, 0.15);\n",
              "      fill: #174EA6;\n",
              "    }\n",
              "\n",
              "    [theme=dark] .colab-df-convert {\n",
              "      background-color: #3B4455;\n",
              "      fill: #D2E3FC;\n",
              "    }\n",
              "\n",
              "    [theme=dark] .colab-df-convert:hover {\n",
              "      background-color: #434B5C;\n",
              "      box-shadow: 0px 1px 3px 1px rgba(0, 0, 0, 0.15);\n",
              "      filter: drop-shadow(0px 1px 2px rgba(0, 0, 0, 0.3));\n",
              "      fill: #FFFFFF;\n",
              "    }\n",
              "  </style>\n",
              "\n",
              "      <script>\n",
              "        const buttonEl =\n",
              "          document.querySelector('#df-64caa57e-df35-4b27-9fb2-31748b2b0761 button.colab-df-convert');\n",
              "        buttonEl.style.display =\n",
              "          google.colab.kernel.accessAllowed ? 'block' : 'none';\n",
              "\n",
              "        async function convertToInteractive(key) {\n",
              "          const element = document.querySelector('#df-64caa57e-df35-4b27-9fb2-31748b2b0761');\n",
              "          const dataTable =\n",
              "            await google.colab.kernel.invokeFunction('convertToInteractive',\n",
              "                                                     [key], {});\n",
              "          if (!dataTable) return;\n",
              "\n",
              "          const docLinkHtml = 'Like what you see? Visit the ' +\n",
              "            '<a target=\"_blank\" href=https://colab.research.google.com/notebooks/data_table.ipynb>data table notebook</a>'\n",
              "            + ' to learn more about interactive tables.';\n",
              "          element.innerHTML = '';\n",
              "          dataTable['output_type'] = 'display_data';\n",
              "          await google.colab.output.renderOutput(dataTable, element);\n",
              "          const docLink = document.createElement('div');\n",
              "          docLink.innerHTML = docLinkHtml;\n",
              "          element.appendChild(docLink);\n",
              "        }\n",
              "      </script>\n",
              "    </div>\n",
              "  </div>\n",
              "  "
            ]
          },
          "metadata": {},
          "execution_count": 23
        }
      ]
    },
    {
      "cell_type": "markdown",
      "source": [
        "#Retrieve by CH-ID"
      ],
      "metadata": {
        "id": "JJvLrSSzgAjp"
      }
    },
    {
      "cell_type": "code",
      "source": [
        "url = 'https://www.zefix.admin.ch/ZefixPublicREST/api/v1/company/chid/CH66032710197'\n",
        "response = requests.get(url, auth=(username, password))\n",
        "cH_Id = response.json()"
      ],
      "metadata": {
        "id": "-5QoOUy9gGQj"
      },
      "execution_count": null,
      "outputs": []
    },
    {
      "cell_type": "code",
      "source": [
        "df = json_normalize(cH_Id)\n",
        "df"
      ],
      "metadata": {
        "colab": {
          "base_uri": "https://localhost:8080/",
          "height": 191
        },
        "id": "lp5WsYXhgLpj",
        "outputId": "30b4feb1-71e5-49b7-df38-e8af84f24c30"
      },
      "execution_count": null,
      "outputs": [
        {
          "output_type": "execute_result",
          "data": {
            "text/plain": [
              "               name   ehraid           uid           chid  legalSeatId  \\\n",
              "0  LEGALMARQUE SARL  1412165  CHE477413422  CH66032710197         6458   \n",
              "\n",
              "   legalSeat  registryOfCommerceId  status    sogcDate deletionDate  ...  \\\n",
              "0  Neuchâtel                   645  ACTIVE  2022-01-06         None  ...   \n",
              "\n",
              "       address.street address.houseNumber address.addon address.poBox  \\\n",
              "0  route des Falaises                   7                               \n",
              "\n",
              "  address.city address.swissZipCode  \\\n",
              "0    Neuchâtel                 2000   \n",
              "\n",
              "                                   zefixDetailWeb.de  \\\n",
              "0  https://www.zefix.admin.ch/de/search/entity/li...   \n",
              "\n",
              "                                   zefixDetailWeb.fr  \\\n",
              "0  https://www.zefix.admin.ch/fr/search/entity/li...   \n",
              "\n",
              "                                   zefixDetailWeb.it  \\\n",
              "0  https://www.zefix.admin.ch/it/search/entity/li...   \n",
              "\n",
              "                                   zefixDetailWeb.en  \n",
              "0  https://www.zefix.admin.ch/en/search/entity/li...  \n",
              "\n",
              "[1 rows x 46 columns]"
            ],
            "text/html": [
              "\n",
              "  <div id=\"df-a0ff7452-cbf7-4806-9517-caca4caa5256\">\n",
              "    <div class=\"colab-df-container\">\n",
              "      <div>\n",
              "<style scoped>\n",
              "    .dataframe tbody tr th:only-of-type {\n",
              "        vertical-align: middle;\n",
              "    }\n",
              "\n",
              "    .dataframe tbody tr th {\n",
              "        vertical-align: top;\n",
              "    }\n",
              "\n",
              "    .dataframe thead th {\n",
              "        text-align: right;\n",
              "    }\n",
              "</style>\n",
              "<table border=\"1\" class=\"dataframe\">\n",
              "  <thead>\n",
              "    <tr style=\"text-align: right;\">\n",
              "      <th></th>\n",
              "      <th>name</th>\n",
              "      <th>ehraid</th>\n",
              "      <th>uid</th>\n",
              "      <th>chid</th>\n",
              "      <th>legalSeatId</th>\n",
              "      <th>legalSeat</th>\n",
              "      <th>registryOfCommerceId</th>\n",
              "      <th>status</th>\n",
              "      <th>sogcDate</th>\n",
              "      <th>deletionDate</th>\n",
              "      <th>...</th>\n",
              "      <th>address.street</th>\n",
              "      <th>address.houseNumber</th>\n",
              "      <th>address.addon</th>\n",
              "      <th>address.poBox</th>\n",
              "      <th>address.city</th>\n",
              "      <th>address.swissZipCode</th>\n",
              "      <th>zefixDetailWeb.de</th>\n",
              "      <th>zefixDetailWeb.fr</th>\n",
              "      <th>zefixDetailWeb.it</th>\n",
              "      <th>zefixDetailWeb.en</th>\n",
              "    </tr>\n",
              "  </thead>\n",
              "  <tbody>\n",
              "    <tr>\n",
              "      <th>0</th>\n",
              "      <td>LEGALMARQUE SARL</td>\n",
              "      <td>1412165</td>\n",
              "      <td>CHE477413422</td>\n",
              "      <td>CH66032710197</td>\n",
              "      <td>6458</td>\n",
              "      <td>Neuchâtel</td>\n",
              "      <td>645</td>\n",
              "      <td>ACTIVE</td>\n",
              "      <td>2022-01-06</td>\n",
              "      <td>None</td>\n",
              "      <td>...</td>\n",
              "      <td>route des Falaises</td>\n",
              "      <td>7</td>\n",
              "      <td></td>\n",
              "      <td></td>\n",
              "      <td>Neuchâtel</td>\n",
              "      <td>2000</td>\n",
              "      <td>https://www.zefix.admin.ch/de/search/entity/li...</td>\n",
              "      <td>https://www.zefix.admin.ch/fr/search/entity/li...</td>\n",
              "      <td>https://www.zefix.admin.ch/it/search/entity/li...</td>\n",
              "      <td>https://www.zefix.admin.ch/en/search/entity/li...</td>\n",
              "    </tr>\n",
              "  </tbody>\n",
              "</table>\n",
              "<p>1 rows × 46 columns</p>\n",
              "</div>\n",
              "      <button class=\"colab-df-convert\" onclick=\"convertToInteractive('df-a0ff7452-cbf7-4806-9517-caca4caa5256')\"\n",
              "              title=\"Convert this dataframe to an interactive table.\"\n",
              "              style=\"display:none;\">\n",
              "        \n",
              "  <svg xmlns=\"http://www.w3.org/2000/svg\" height=\"24px\"viewBox=\"0 0 24 24\"\n",
              "       width=\"24px\">\n",
              "    <path d=\"M0 0h24v24H0V0z\" fill=\"none\"/>\n",
              "    <path d=\"M18.56 5.44l.94 2.06.94-2.06 2.06-.94-2.06-.94-.94-2.06-.94 2.06-2.06.94zm-11 1L8.5 8.5l.94-2.06 2.06-.94-2.06-.94L8.5 2.5l-.94 2.06-2.06.94zm10 10l.94 2.06.94-2.06 2.06-.94-2.06-.94-.94-2.06-.94 2.06-2.06.94z\"/><path d=\"M17.41 7.96l-1.37-1.37c-.4-.4-.92-.59-1.43-.59-.52 0-1.04.2-1.43.59L10.3 9.45l-7.72 7.72c-.78.78-.78 2.05 0 2.83L4 21.41c.39.39.9.59 1.41.59.51 0 1.02-.2 1.41-.59l7.78-7.78 2.81-2.81c.8-.78.8-2.07 0-2.86zM5.41 20L4 18.59l7.72-7.72 1.47 1.35L5.41 20z\"/>\n",
              "  </svg>\n",
              "      </button>\n",
              "      \n",
              "  <style>\n",
              "    .colab-df-container {\n",
              "      display:flex;\n",
              "      flex-wrap:wrap;\n",
              "      gap: 12px;\n",
              "    }\n",
              "\n",
              "    .colab-df-convert {\n",
              "      background-color: #E8F0FE;\n",
              "      border: none;\n",
              "      border-radius: 50%;\n",
              "      cursor: pointer;\n",
              "      display: none;\n",
              "      fill: #1967D2;\n",
              "      height: 32px;\n",
              "      padding: 0 0 0 0;\n",
              "      width: 32px;\n",
              "    }\n",
              "\n",
              "    .colab-df-convert:hover {\n",
              "      background-color: #E2EBFA;\n",
              "      box-shadow: 0px 1px 2px rgba(60, 64, 67, 0.3), 0px 1px 3px 1px rgba(60, 64, 67, 0.15);\n",
              "      fill: #174EA6;\n",
              "    }\n",
              "\n",
              "    [theme=dark] .colab-df-convert {\n",
              "      background-color: #3B4455;\n",
              "      fill: #D2E3FC;\n",
              "    }\n",
              "\n",
              "    [theme=dark] .colab-df-convert:hover {\n",
              "      background-color: #434B5C;\n",
              "      box-shadow: 0px 1px 3px 1px rgba(0, 0, 0, 0.15);\n",
              "      filter: drop-shadow(0px 1px 2px rgba(0, 0, 0, 0.3));\n",
              "      fill: #FFFFFF;\n",
              "    }\n",
              "  </style>\n",
              "\n",
              "      <script>\n",
              "        const buttonEl =\n",
              "          document.querySelector('#df-a0ff7452-cbf7-4806-9517-caca4caa5256 button.colab-df-convert');\n",
              "        buttonEl.style.display =\n",
              "          google.colab.kernel.accessAllowed ? 'block' : 'none';\n",
              "\n",
              "        async function convertToInteractive(key) {\n",
              "          const element = document.querySelector('#df-a0ff7452-cbf7-4806-9517-caca4caa5256');\n",
              "          const dataTable =\n",
              "            await google.colab.kernel.invokeFunction('convertToInteractive',\n",
              "                                                     [key], {});\n",
              "          if (!dataTable) return;\n",
              "\n",
              "          const docLinkHtml = 'Like what you see? Visit the ' +\n",
              "            '<a target=\"_blank\" href=https://colab.research.google.com/notebooks/data_table.ipynb>data table notebook</a>'\n",
              "            + ' to learn more about interactive tables.';\n",
              "          element.innerHTML = '';\n",
              "          dataTable['output_type'] = 'display_data';\n",
              "          await google.colab.output.renderOutput(dataTable, element);\n",
              "          const docLink = document.createElement('div');\n",
              "          docLink.innerHTML = docLinkHtml;\n",
              "          element.appendChild(docLink);\n",
              "        }\n",
              "      </script>\n",
              "    </div>\n",
              "  </div>\n",
              "  "
            ]
          },
          "metadata": {},
          "execution_count": 25
        }
      ]
    },
    {
      "cell_type": "markdown",
      "source": [
        "#Search Company"
      ],
      "metadata": {
        "id": "uM5sE33kgp4y"
      }
    },
    {
      "cell_type": "code",
      "source": [],
      "metadata": {
        "id": "n7YAJarr-jYP"
      },
      "execution_count": null,
      "outputs": []
    },
    {
      "cell_type": "code",
      "source": [
        " query = 'Legal'"
      ],
      "metadata": {
        "id": "UB7qXoes_KRV"
      },
      "execution_count": null,
      "outputs": []
    },
    {
      "cell_type": "code",
      "source": [
        "post_json = (\n",
        "\n",
        "    \"{\"  #first curly bracket\n",
        "    \"\\\"activeOnly\\\": true,\"  #--> key, value begins and ends with \\\" except for bool\n",
        "     f\"\\\"name\\\": \\\"{query}\\\"\"\n",
        "     \"}\" #last curly bracket\n",
        "     \n",
        "     )"
      ],
      "metadata": {
        "id": "fEhwqiP6IHsp"
      },
      "execution_count": null,
      "outputs": []
    },
    {
      "cell_type": "code",
      "source": [
        "json.loads(post_json)"
      ],
      "metadata": {
        "colab": {
          "base_uri": "https://localhost:8080/"
        },
        "id": "B3OzvaQsNOG-",
        "outputId": "14afa0b6-dcf8-44a1-80c8-1588765625e7"
      },
      "execution_count": null,
      "outputs": [
        {
          "output_type": "execute_result",
          "data": {
            "text/plain": [
              "{'activeOnly': True, 'name': 'Legal'}"
            ]
          },
          "metadata": {},
          "execution_count": 29
        }
      ]
    },
    {
      "cell_type": "code",
      "source": [
        "# post_json = (\"{\"\n",
        "#     \"\\\"activeOnly\\\": true,\"\n",
        "#     f\"\\\"name\\\": \\\"{query}\\\"\"\n",
        "#         \"}\"\n",
        "# )"
      ],
      "metadata": {
        "id": "Yn5SaT6x_GrT"
      },
      "execution_count": null,
      "outputs": []
    },
    {
      "cell_type": "code",
      "source": [
        "\n",
        "payload = json.loads(post_json)"
      ],
      "metadata": {
        "id": "OX6puhmQ_XFI"
      },
      "execution_count": null,
      "outputs": []
    },
    {
      "cell_type": "code",
      "source": [
        "headers = {\n",
        "    \"accept\": \"application/json\",\n",
        "    \"Content-Type\": \"application/json\"\n",
        "}"
      ],
      "metadata": {
        "id": "8F0fpJiJ_cDA"
      },
      "execution_count": null,
      "outputs": []
    },
    {
      "cell_type": "code",
      "source": [
        "response = requests.post(url, \n",
        "                         headers=headers,\n",
        "                         auth=(username, password), \n",
        "                         json=payload)"
      ],
      "metadata": {
        "id": "O4qPyWjH_fGP"
      },
      "execution_count": null,
      "outputs": []
    },
    {
      "cell_type": "code",
      "source": [
        "response.status_code"
      ],
      "metadata": {
        "colab": {
          "base_uri": "https://localhost:8080/"
        },
        "id": "rdUw6B7V_jyU",
        "outputId": "bb014dd7-f19c-4a17-d070-f146d5ae4db9"
      },
      "execution_count": null,
      "outputs": [
        {
          "output_type": "execute_result",
          "data": {
            "text/plain": [
              "200"
            ]
          },
          "metadata": {},
          "execution_count": 150
        }
      ]
    },
    {
      "cell_type": "code",
      "source": [
        "commerce_search = response.json()"
      ],
      "metadata": {
        "id": "Wvkm5yuq9Ioy"
      },
      "execution_count": null,
      "outputs": []
    },
    {
      "cell_type": "code",
      "source": [
        "df = json_normalize(commerce_search)\n",
        "df"
      ],
      "metadata": {
        "colab": {
          "base_uri": "https://localhost:8080/",
          "height": 80
        },
        "id": "Ywf0TfYip6f6",
        "outputId": "a982eb5c-83ce-4ba8-811a-b2675c548f24"
      },
      "execution_count": null,
      "outputs": [
        {
          "output_type": "execute_result",
          "data": {
            "text/plain": [
              "    code                                   exceptionMessage  \\\n",
              "0  Error  405 METHOD_NOT_ALLOWED (exceptionid=5416400968...   \n",
              "\n",
              "               i18nTitleKey        i18nMessageKey                   id  \n",
              "0  global.error.title.Error  global.error.message  5416400968924540209  "
            ],
            "text/html": [
              "\n",
              "  <div id=\"df-d147b778-4231-411b-9455-42d3a48f83ea\">\n",
              "    <div class=\"colab-df-container\">\n",
              "      <div>\n",
              "<style scoped>\n",
              "    .dataframe tbody tr th:only-of-type {\n",
              "        vertical-align: middle;\n",
              "    }\n",
              "\n",
              "    .dataframe tbody tr th {\n",
              "        vertical-align: top;\n",
              "    }\n",
              "\n",
              "    .dataframe thead th {\n",
              "        text-align: right;\n",
              "    }\n",
              "</style>\n",
              "<table border=\"1\" class=\"dataframe\">\n",
              "  <thead>\n",
              "    <tr style=\"text-align: right;\">\n",
              "      <th></th>\n",
              "      <th>code</th>\n",
              "      <th>exceptionMessage</th>\n",
              "      <th>i18nTitleKey</th>\n",
              "      <th>i18nMessageKey</th>\n",
              "      <th>id</th>\n",
              "    </tr>\n",
              "  </thead>\n",
              "  <tbody>\n",
              "    <tr>\n",
              "      <th>0</th>\n",
              "      <td>Error</td>\n",
              "      <td>405 METHOD_NOT_ALLOWED (exceptionid=5416400968...</td>\n",
              "      <td>global.error.title.Error</td>\n",
              "      <td>global.error.message</td>\n",
              "      <td>5416400968924540209</td>\n",
              "    </tr>\n",
              "  </tbody>\n",
              "</table>\n",
              "</div>\n",
              "      <button class=\"colab-df-convert\" onclick=\"convertToInteractive('df-d147b778-4231-411b-9455-42d3a48f83ea')\"\n",
              "              title=\"Convert this dataframe to an interactive table.\"\n",
              "              style=\"display:none;\">\n",
              "        \n",
              "  <svg xmlns=\"http://www.w3.org/2000/svg\" height=\"24px\"viewBox=\"0 0 24 24\"\n",
              "       width=\"24px\">\n",
              "    <path d=\"M0 0h24v24H0V0z\" fill=\"none\"/>\n",
              "    <path d=\"M18.56 5.44l.94 2.06.94-2.06 2.06-.94-2.06-.94-.94-2.06-.94 2.06-2.06.94zm-11 1L8.5 8.5l.94-2.06 2.06-.94-2.06-.94L8.5 2.5l-.94 2.06-2.06.94zm10 10l.94 2.06.94-2.06 2.06-.94-2.06-.94-.94-2.06-.94 2.06-2.06.94z\"/><path d=\"M17.41 7.96l-1.37-1.37c-.4-.4-.92-.59-1.43-.59-.52 0-1.04.2-1.43.59L10.3 9.45l-7.72 7.72c-.78.78-.78 2.05 0 2.83L4 21.41c.39.39.9.59 1.41.59.51 0 1.02-.2 1.41-.59l7.78-7.78 2.81-2.81c.8-.78.8-2.07 0-2.86zM5.41 20L4 18.59l7.72-7.72 1.47 1.35L5.41 20z\"/>\n",
              "  </svg>\n",
              "      </button>\n",
              "      \n",
              "  <style>\n",
              "    .colab-df-container {\n",
              "      display:flex;\n",
              "      flex-wrap:wrap;\n",
              "      gap: 12px;\n",
              "    }\n",
              "\n",
              "    .colab-df-convert {\n",
              "      background-color: #E8F0FE;\n",
              "      border: none;\n",
              "      border-radius: 50%;\n",
              "      cursor: pointer;\n",
              "      display: none;\n",
              "      fill: #1967D2;\n",
              "      height: 32px;\n",
              "      padding: 0 0 0 0;\n",
              "      width: 32px;\n",
              "    }\n",
              "\n",
              "    .colab-df-convert:hover {\n",
              "      background-color: #E2EBFA;\n",
              "      box-shadow: 0px 1px 2px rgba(60, 64, 67, 0.3), 0px 1px 3px 1px rgba(60, 64, 67, 0.15);\n",
              "      fill: #174EA6;\n",
              "    }\n",
              "\n",
              "    [theme=dark] .colab-df-convert {\n",
              "      background-color: #3B4455;\n",
              "      fill: #D2E3FC;\n",
              "    }\n",
              "\n",
              "    [theme=dark] .colab-df-convert:hover {\n",
              "      background-color: #434B5C;\n",
              "      box-shadow: 0px 1px 3px 1px rgba(0, 0, 0, 0.15);\n",
              "      filter: drop-shadow(0px 1px 2px rgba(0, 0, 0, 0.3));\n",
              "      fill: #FFFFFF;\n",
              "    }\n",
              "  </style>\n",
              "\n",
              "      <script>\n",
              "        const buttonEl =\n",
              "          document.querySelector('#df-d147b778-4231-411b-9455-42d3a48f83ea button.colab-df-convert');\n",
              "        buttonEl.style.display =\n",
              "          google.colab.kernel.accessAllowed ? 'block' : 'none';\n",
              "\n",
              "        async function convertToInteractive(key) {\n",
              "          const element = document.querySelector('#df-d147b778-4231-411b-9455-42d3a48f83ea');\n",
              "          const dataTable =\n",
              "            await google.colab.kernel.invokeFunction('convertToInteractive',\n",
              "                                                     [key], {});\n",
              "          if (!dataTable) return;\n",
              "\n",
              "          const docLinkHtml = 'Like what you see? Visit the ' +\n",
              "            '<a target=\"_blank\" href=https://colab.research.google.com/notebooks/data_table.ipynb>data table notebook</a>'\n",
              "            + ' to learn more about interactive tables.';\n",
              "          element.innerHTML = '';\n",
              "          dataTable['output_type'] = 'display_data';\n",
              "          await google.colab.output.renderOutput(dataTable, element);\n",
              "          const docLink = document.createElement('div');\n",
              "          docLink.innerHTML = docLinkHtml;\n",
              "          element.appendChild(docLink);\n",
              "        }\n",
              "      </script>\n",
              "    </div>\n",
              "  </div>\n",
              "  "
            ]
          },
          "metadata": {},
          "execution_count": 34
        }
      ]
    },
    {
      "cell_type": "code",
      "source": [
        "#function to search for company name and return dataframe\n",
        "import json\n",
        "import requests\n",
        "#import pandas\n",
        "from pandas import json_normalize\n",
        "\n",
        "def commmerce_name_search(query):\n",
        "\n",
        "    username = \"bs@legalmarque.com\"\n",
        "    password = \"YbxnQ2rt\"\n",
        "    url = 'https://www.zefix.admin.ch/ZefixPublicREST/api/v1/company/search'\n",
        "\n",
        "\n",
        "    #String Formatting\n",
        "    post_json = (\n",
        "\n",
        "    \"{\"  #first curly bracket\n",
        "    \"\\\"activeOnly\\\": true,\"  #--> key, value begins and ends with \\\" except for bool\n",
        "     f\"\\\"name\\\": \\\"{query}\\\"\"\n",
        "     \"}\" #last curly bracket\n",
        "     \n",
        "     )\n",
        "    #convert formatted string to json\n",
        "    payload = json.loads(post_json)\n",
        "\n",
        "    #define headers\n",
        "    headers = {\n",
        "    \"accept\": \"application/json\",\n",
        "    \"Content-Type\": \"application/json\"\n",
        "    }\n",
        "\n",
        "    #post request using above params\n",
        "    response = requests.post(url, \n",
        "                         headers=headers,\n",
        "                         auth=(username, password), \n",
        "                         json=payload)\n",
        "    \n",
        "    if response.status_code == 200:\n",
        "        commerce_search = response.json()\n",
        "        df = json_normalize(commerce_search)\n",
        "\n",
        "        #drop unwanted columns\n",
        "        df.drop(['ehraid','chid', 'legalSeatId',\n",
        "       'registryOfCommerceId', 'status', 'sogcDate', 'deletionDate',\n",
        "       'legalForm.id', 'legalForm.uid', 'legalForm.name.de',\n",
        "       'legalForm.name.fr', 'legalForm.name.it', 'legalForm.name.en',\n",
        "       'legalForm.shortName.de',\n",
        "       'legalForm.shortName.it', 'legalForm.shortName.en'], axis=1, inplace=True)\n",
        "        \n",
        "        #rename cols with new names\n",
        "        df[['Marques', 'IDE', 'Forme', 'Siège']] = df[['name', 'uid','legalSeat','legalForm.shortName.fr']]\n",
        "\n",
        "        #drop old names\n",
        "        df.drop([\"name\", \"uid\", \"legalSeat\", \"legalForm.shortName.fr\"], axis=1, inplace=True)\n",
        "\n",
        "        return df\n",
        "\n",
        "    else: \n",
        "        print(f\"Invalid User Authentification: {response.status_code}\")"
      ],
      "metadata": {
        "id": "aO2JZKXpgpXK"
      },
      "execution_count": null,
      "outputs": []
    },
    {
      "cell_type": "code",
      "source": [
        "commmerce_name_search('vaya')"
      ],
      "metadata": {
        "colab": {
          "base_uri": "https://localhost:8080/",
          "height": 175
        },
        "id": "pMjX1uiEB7_S",
        "outputId": "2c4b2e44-be19-43ad-a664-8b49671ffa15"
      },
      "execution_count": null,
      "outputs": [
        {
          "output_type": "execute_result",
          "data": {
            "text/plain": [
              "                      Marques           IDE      Forme Siège\n",
              "0                     Vaya AG  CHE386910268  Muntelier    SA\n",
              "1  Vaya Group, Joannis Vagias  CHE259794131   Zollikon    EI\n",
              "2                  Vayan Sàrl  CHE108542877       Broc  Sàrl\n",
              "3               vayatela GmbH  CHE175886713       Bern  Sàrl"
            ],
            "text/html": [
              "\n",
              "  <div id=\"df-25570bdb-7f8b-4221-874d-1df3473d2106\">\n",
              "    <div class=\"colab-df-container\">\n",
              "      <div>\n",
              "<style scoped>\n",
              "    .dataframe tbody tr th:only-of-type {\n",
              "        vertical-align: middle;\n",
              "    }\n",
              "\n",
              "    .dataframe tbody tr th {\n",
              "        vertical-align: top;\n",
              "    }\n",
              "\n",
              "    .dataframe thead th {\n",
              "        text-align: right;\n",
              "    }\n",
              "</style>\n",
              "<table border=\"1\" class=\"dataframe\">\n",
              "  <thead>\n",
              "    <tr style=\"text-align: right;\">\n",
              "      <th></th>\n",
              "      <th>Marques</th>\n",
              "      <th>IDE</th>\n",
              "      <th>Forme</th>\n",
              "      <th>Siège</th>\n",
              "    </tr>\n",
              "  </thead>\n",
              "  <tbody>\n",
              "    <tr>\n",
              "      <th>0</th>\n",
              "      <td>Vaya AG</td>\n",
              "      <td>CHE386910268</td>\n",
              "      <td>Muntelier</td>\n",
              "      <td>SA</td>\n",
              "    </tr>\n",
              "    <tr>\n",
              "      <th>1</th>\n",
              "      <td>Vaya Group, Joannis Vagias</td>\n",
              "      <td>CHE259794131</td>\n",
              "      <td>Zollikon</td>\n",
              "      <td>EI</td>\n",
              "    </tr>\n",
              "    <tr>\n",
              "      <th>2</th>\n",
              "      <td>Vayan Sàrl</td>\n",
              "      <td>CHE108542877</td>\n",
              "      <td>Broc</td>\n",
              "      <td>Sàrl</td>\n",
              "    </tr>\n",
              "    <tr>\n",
              "      <th>3</th>\n",
              "      <td>vayatela GmbH</td>\n",
              "      <td>CHE175886713</td>\n",
              "      <td>Bern</td>\n",
              "      <td>Sàrl</td>\n",
              "    </tr>\n",
              "  </tbody>\n",
              "</table>\n",
              "</div>\n",
              "      <button class=\"colab-df-convert\" onclick=\"convertToInteractive('df-25570bdb-7f8b-4221-874d-1df3473d2106')\"\n",
              "              title=\"Convert this dataframe to an interactive table.\"\n",
              "              style=\"display:none;\">\n",
              "        \n",
              "  <svg xmlns=\"http://www.w3.org/2000/svg\" height=\"24px\"viewBox=\"0 0 24 24\"\n",
              "       width=\"24px\">\n",
              "    <path d=\"M0 0h24v24H0V0z\" fill=\"none\"/>\n",
              "    <path d=\"M18.56 5.44l.94 2.06.94-2.06 2.06-.94-2.06-.94-.94-2.06-.94 2.06-2.06.94zm-11 1L8.5 8.5l.94-2.06 2.06-.94-2.06-.94L8.5 2.5l-.94 2.06-2.06.94zm10 10l.94 2.06.94-2.06 2.06-.94-2.06-.94-.94-2.06-.94 2.06-2.06.94z\"/><path d=\"M17.41 7.96l-1.37-1.37c-.4-.4-.92-.59-1.43-.59-.52 0-1.04.2-1.43.59L10.3 9.45l-7.72 7.72c-.78.78-.78 2.05 0 2.83L4 21.41c.39.39.9.59 1.41.59.51 0 1.02-.2 1.41-.59l7.78-7.78 2.81-2.81c.8-.78.8-2.07 0-2.86zM5.41 20L4 18.59l7.72-7.72 1.47 1.35L5.41 20z\"/>\n",
              "  </svg>\n",
              "      </button>\n",
              "      \n",
              "  <style>\n",
              "    .colab-df-container {\n",
              "      display:flex;\n",
              "      flex-wrap:wrap;\n",
              "      gap: 12px;\n",
              "    }\n",
              "\n",
              "    .colab-df-convert {\n",
              "      background-color: #E8F0FE;\n",
              "      border: none;\n",
              "      border-radius: 50%;\n",
              "      cursor: pointer;\n",
              "      display: none;\n",
              "      fill: #1967D2;\n",
              "      height: 32px;\n",
              "      padding: 0 0 0 0;\n",
              "      width: 32px;\n",
              "    }\n",
              "\n",
              "    .colab-df-convert:hover {\n",
              "      background-color: #E2EBFA;\n",
              "      box-shadow: 0px 1px 2px rgba(60, 64, 67, 0.3), 0px 1px 3px 1px rgba(60, 64, 67, 0.15);\n",
              "      fill: #174EA6;\n",
              "    }\n",
              "\n",
              "    [theme=dark] .colab-df-convert {\n",
              "      background-color: #3B4455;\n",
              "      fill: #D2E3FC;\n",
              "    }\n",
              "\n",
              "    [theme=dark] .colab-df-convert:hover {\n",
              "      background-color: #434B5C;\n",
              "      box-shadow: 0px 1px 3px 1px rgba(0, 0, 0, 0.15);\n",
              "      filter: drop-shadow(0px 1px 2px rgba(0, 0, 0, 0.3));\n",
              "      fill: #FFFFFF;\n",
              "    }\n",
              "  </style>\n",
              "\n",
              "      <script>\n",
              "        const buttonEl =\n",
              "          document.querySelector('#df-25570bdb-7f8b-4221-874d-1df3473d2106 button.colab-df-convert');\n",
              "        buttonEl.style.display =\n",
              "          google.colab.kernel.accessAllowed ? 'block' : 'none';\n",
              "\n",
              "        async function convertToInteractive(key) {\n",
              "          const element = document.querySelector('#df-25570bdb-7f8b-4221-874d-1df3473d2106');\n",
              "          const dataTable =\n",
              "            await google.colab.kernel.invokeFunction('convertToInteractive',\n",
              "                                                     [key], {});\n",
              "          if (!dataTable) return;\n",
              "\n",
              "          const docLinkHtml = 'Like what you see? Visit the ' +\n",
              "            '<a target=\"_blank\" href=https://colab.research.google.com/notebooks/data_table.ipynb>data table notebook</a>'\n",
              "            + ' to learn more about interactive tables.';\n",
              "          element.innerHTML = '';\n",
              "          dataTable['output_type'] = 'display_data';\n",
              "          await google.colab.output.renderOutput(dataTable, element);\n",
              "          const docLink = document.createElement('div');\n",
              "          docLink.innerHTML = docLinkHtml;\n",
              "          element.appendChild(docLink);\n",
              "        }\n",
              "      </script>\n",
              "    </div>\n",
              "  </div>\n",
              "  "
            ]
          },
          "metadata": {},
          "execution_count": 51
        }
      ]
    },
    {
      "cell_type": "code",
      "source": [],
      "metadata": {
        "id": "FzldeSTWAV9L"
      },
      "execution_count": null,
      "outputs": []
    }
  ]
}