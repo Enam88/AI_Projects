{
  "nbformat": 4,
  "nbformat_minor": 0,
  "metadata": {
    "colab": {
      "provenance": [],
      "collapsed_sections": [],
      "authorship_tag": "ABX9TyPWR9xhxdpFxGWiVKiOS9NO"
    },
    "kernelspec": {
      "name": "python3",
      "display_name": "Python 3"
    },
    "language_info": {
      "name": "python"
    }
  },
  "cells": [
    {
      "cell_type": "code",
      "execution_count": null,
      "metadata": {
        "id": "_qg2WrV92cKJ"
      },
      "outputs": [],
      "source": [
        "#install suds \n",
        "#Suds is a lightweight SOAP python client that provides a service proxy for Web Services.\n",
        "!pip install suds\n",
        "#install dependencies for creating pdf\n",
        "!pip install domain-availability\n",
        "!pip install pdfkit\n",
        "!wget https://github.com/wkhtmltopdf/packaging/releases/download/0.12.6-1/wkhtmltox_0.12.6-1.bionic_amd64.deb\n",
        "!cp wkhtmltox_0.12.6-1.bionic_amd64.deb /usr/bin\n",
        "!sudo apt install /usr/bin/wkhtmltox_0.12.6-1.bionic_amd64.deb\n",
        "!pip install PyPDF2\n",
        "!pip install abydos\n",
        "!pip install phonetics"
      ]
    },
    {
      "cell_type": "code",
      "source": [
        "from suds.client import Client\n",
        "import pdfkit\n",
        "from IPython.core.display import HTML\n",
        "import re\n",
        "#try cases\n",
        "from abydos.phonetic import FONEM, Phonet, Dolby, RussellIndex, Phonem, PHONIC\n",
        "#russell_index_alpha\n",
        "#from domainavailability import *\n",
        "import time\n",
        "from abydos.distance import sim\n",
        "import pandas as pd\n",
        "from PyPDF2 import PdfMerger\n",
        "#function to search for company name and return dataframe\n",
        "import json\n",
        "import requests\n",
        "from pandas import json_normalize\n",
        "import unicodedata\n",
        "import phonetics"
      ],
      "metadata": {
        "id": "wQ0LSjUh3Mqc"
      },
      "execution_count": null,
      "outputs": []
    },
    {
      "cell_type": "code",
      "source": [
        "#connect to widl using required authentification\n",
        "#to do create python environment to hide password and username\n",
        "url = 'https://www.swissreg.ch/services11/SwissregWebService?wsdl'\n",
        "client = Client(url, username='legalmarque', password='dvMXQsUzcIXEZMdAD6Ls')"
      ],
      "metadata": {
        "id": "QprbLsXt3RB5"
      },
      "execution_count": null,
      "outputs": []
    },
    {
      "cell_type": "code",
      "source": [
        "query = input(\"Quelle marque souhaitez-vous chercher ? \")"
      ],
      "metadata": {
        "id": "90HxwUDMzBPo"
      },
      "execution_count": null,
      "outputs": []
    },
    {
      "cell_type": "code",
      "source": [
        "#to do match queries without vowels\n",
        "vowels = r'[AEIOUÀÄÈÉÊÖÜ]'"
      ],
      "metadata": {
        "id": "MeY0rXe85PTG"
      },
      "execution_count": null,
      "outputs": []
    },
    {
      "cell_type": "code",
      "source": [
        "#remove accents function\n",
        "def remove_accents(input_str):\n",
        "    nfkd_form = unicodedata.normalize('NFKD', input_str)\n",
        "    return u\"\".join([c for c in nfkd_form if not unicodedata.combining(c)])"
      ],
      "metadata": {
        "id": "s11jkF7wxrEc"
      },
      "execution_count": null,
      "outputs": []
    },
    {
      "cell_type": "code",
      "source": [
        "def anti_vowel(s):\n",
        "    \"\"\"Remove vowels from string.\"\"\"\n",
        "    result = re.sub(vowels, '', s, flags=re.IGNORECASE)\n",
        "    return result"
      ],
      "metadata": {
        "id": "MNkge3i_5ReY"
      },
      "execution_count": null,
      "outputs": []
    },
    {
      "cell_type": "code",
      "source": [
        "#string rotation\n",
        "def vowel_rotate(string):\n",
        "    \"\"\"rotate vowels in query only if vowels exist\"\"\"\n",
        "    results = []\n",
        "\n",
        "    sub_function = lambda x: 'eiouaEIOUA'['aeiouAEIOU'.find(x.group(0))]\n",
        "\n",
        "    for x in range(5):\n",
        "        string = re.sub('(?i)[aeiou]', sub_function, string)\n",
        "        results.append(string)\n",
        "    return \",\".join(results)\n"
      ],
      "metadata": {
        "id": "7sd6uhMFR6gy"
      },
      "execution_count": null,
      "outputs": []
    },
    {
      "cell_type": "code",
      "source": [
        "pe_fr = FONEM()\n",
        "pe_de = Phonet()\n",
        "db = Dolby()\n",
        "pe_gm = Phonem()\n",
        "pe_ph = PHONIC()"
      ],
      "metadata": {
        "id": "8ixLgY5L54zf"
      },
      "execution_count": null,
      "outputs": []
    },
    {
      "cell_type": "code",
      "source": [
        "#search by query name according to documentation\n",
        "Ip_Right = client.service.searchIpRight(\"CH-TM\", 'tmText' '=' f'{vowel_rotate(query)} {query} {anti_vowel(query)} {db.encode_alpha(query)} {pe_gm.encode(query)} {pe_fr.encode(query)} ')"
      ],
      "metadata": {
        "id": "Vxk9sbGy3aTx"
      },
      "execution_count": null,
      "outputs": []
    },
    {
      "cell_type": "code",
      "source": [
        "#save query result in csv format\n",
        "with open('ip_right.csv', 'w') as f:\n",
        "    f.write(Ip_Right)"
      ],
      "metadata": {
        "id": "g1cIB-h73o4V"
      },
      "execution_count": null,
      "outputs": []
    },
    {
      "cell_type": "code",
      "source": [
        "#ascertain if result is same as IPI register\n",
        "# Ipi_Ip_Right = list(Ip_Right.split(','))\n",
        "# len(Ipi_Ip_Right)"
      ],
      "metadata": {
        "id": "pmLnEphO5Yai"
      },
      "execution_count": null,
      "outputs": []
    },
    {
      "cell_type": "code",
      "source": [
        "#use query result as input to generate both trademark & bname xml\n",
        "response = client.service.getIpRightXML(\"CH-TM\", Ip_Right)"
      ],
      "metadata": {
        "id": "InNOuMpt3ymZ"
      },
      "execution_count": null,
      "outputs": []
    },
    {
      "cell_type": "code",
      "source": [
        "#save query response as xml\n",
        "with open('response.xml', 'w') as f:\n",
        "    f.write(response)"
      ],
      "metadata": {
        "id": "5qqqssi25LXv"
      },
      "execution_count": null,
      "outputs": []
    },
    {
      "cell_type": "markdown",
      "source": [
        "**Marque Visuelle**"
      ],
      "metadata": {
        "id": "eYMSjOBgN2gT"
      }
    },
    {
      "cell_type": "code",
      "source": [
        "def retrieve_marque_data(transac):\n",
        "    \"\"\"\"\"\"\n",
        "    \n",
        "    basipikey = transac.find(\"basipikey\").text\n",
        "    origlan = transac.find(\"origlan\").text\n",
        "    basappn = transac.find(\"basappn\").text\n",
        "    basregn = transac.find(\"basregn\").text if transac.find(\"basregn\") is not None else None\n",
        "\n",
        "    basannd = transac.find(\"basannd\").text\n",
        "    basstate = transac.find(\"basstate\").text\n",
        "\n",
        "    basregper = transac.find(\"basregper\").text\n",
        "    expirationdate = transac.find(\"expirationdate\").text\n",
        "\n",
        "    marpicn = transac.find(\"marpicn\").text\n",
        "    \n",
        "#     print(f\"Marque verbale: {markve}\")\n",
        "    \n",
        "    # Classes\n",
        "    gsgr = transac.find(\"gsgr\")\n",
        "    intreggs = gsgr.findall(\"intregg\")\n",
        "\n",
        "    classes = []\n",
        "\n",
        "    for intregg in intreggs:\n",
        "        \n",
        "        nicclai = intregg.find(\"nicclai\").text\n",
        "        \n",
        "        classes.append(int(nicclai))\n",
        "\n",
        "    # Class description\n",
        "    gstermt = gsgr.find(\"gstermt\").text\n",
        "\n",
        "    regadrs = transac.findall(\"regadr\")\n",
        "    \n",
        "    # TODO check format of mandataire/titulaire\n",
        "    titulaire_name = None\n",
        "    titulaire_addrl = None\n",
        "    titulaire_plainco = None\n",
        "    titulaire_nat = None\n",
        "\n",
        "    mandataire_namel = None\n",
        "    mandataire_addrl = None\n",
        "    mandataire_plainco = None\n",
        "    mandataire_nat = None\n",
        "    \n",
        "    # Addresses\n",
        "    for regadr in regadrs:\n",
        "        \n",
        "        addrrole = regadr.find(\"addrrole\").text\n",
        "        nameadd = regadr.find(\"nameadd\")\n",
        "        \n",
        "        namel = nameadd.find(\"namel\").text if nameadd.find(\"namel\") is not None else None\n",
        "        addrl = nameadd.find(\"addrl\").text if nameadd.find(\"addrl\") is not None else None\n",
        "        \n",
        "        plainco = nameadd.find(\"plainco\").text\n",
        "        nat = nameadd.find(\"nat\").text\n",
        "        \n",
        "        # 1: titulaire\n",
        "        if int(addrrole) == 1:\n",
        "            titulaire_name = namel\n",
        "            titulaire_addrl = addrl\n",
        "            titulaire_plainco = plainco\n",
        "            titulaire_nat = nat\n",
        "        \n",
        "        # 3: mandataire\n",
        "        elif int(addrrole) == 3:\n",
        "            mandataire_namel = namel\n",
        "            mandataire_addrl = addrl\n",
        "            mandataire_plainco = plainco\n",
        "            mandataire_nat = nat\n",
        "        \n",
        "    # TODO verify what oppositiongr and oppositionstate mean\n",
        "    oppositiongr = transac.find(\"oppositiongr\")\n",
        "    oppositionstate = oppositiongr.find(\"oppositionstate\")\n",
        "\n",
        "    martype = transac.find(\"martype\").text\n",
        "    \n",
        "    # TODO: oppositiongr\n",
        "    row = [basipikey, origlan, basappn,basregn, basannd, basstate,marpicn, basregper, expirationdate,\n",
        "           classes, gstermt, \n",
        "           titulaire_name,\n",
        "           titulaire_addrl,\n",
        "           titulaire_plainco,\n",
        "           titulaire_nat,\n",
        "           mandataire_namel, \n",
        "           mandataire_addrl,\n",
        "           mandataire_plainco,\n",
        "           mandataire_nat,\n",
        "           martype]\n",
        "    \n",
        "    return row"
      ],
      "metadata": {
        "id": "ZGrp_pIQ4lQP"
      },
      "execution_count": null,
      "outputs": []
    },
    {
      "cell_type": "code",
      "source": [
        "def parse_xml(xml_file):\n",
        "    import xml.etree.ElementTree as et \n",
        "    \n",
        "    rows = []\n",
        "    \n",
        "    # Parse file\n",
        "    xtree = et.parse(xml_file)\n",
        "    xroot = xtree.getroot()\n",
        "\n",
        "    for node in xroot:\n",
        "        if node.tag == 'transac':\n",
        "            for transac in node:\n",
        "                if transac.tag == 'marinfo':\n",
        "                    # Marques verbales\n",
        "                    marpicn = transac.find(\"marpicn\")\n",
        "                    if marpicn is not None:\n",
        "                        row = retrieve_marque_data(transac)\n",
        "                        rows.append(row)\n",
        "    return rows"
      ],
      "metadata": {
        "id": "WquK8Uy04wwx"
      },
      "execution_count": null,
      "outputs": []
    },
    {
      "cell_type": "code",
      "source": [
        "tables = []\n",
        "rows = parse_xml(\"/content/response.xml\")\n",
        "tables.extend(rows)"
      ],
      "metadata": {
        "id": "n78A048gPCGC"
      },
      "execution_count": null,
      "outputs": []
    },
    {
      "cell_type": "code",
      "source": [
        "#Display classes in ET module\n",
        "columns = ['basipikey', 'origlan', 'basappn','basregn', 'basannd', 'basstate','marpicn', 'basregper', 'expirationdate',\n",
        "           'classes', 'gstermt', \n",
        "           'titulaire_name',\n",
        "           'titulaire_addrl',\n",
        "           'titulaire_plainco',\n",
        "           'titulaire_nat',\n",
        "           'mandataire_namel', \n",
        "           'mandataire_addrl',\n",
        "           'mandataire_plainco',\n",
        "           'mandataire_nat',\n",
        "           'martype']"
      ],
      "metadata": {
        "id": "-JzffSDvYOYe"
      },
      "execution_count": null,
      "outputs": []
    },
    {
      "cell_type": "code",
      "source": [
        "df = pd.DataFrame(tables, columns=columns)"
      ],
      "metadata": {
        "id": "b2TEhxzPYoyg"
      },
      "execution_count": null,
      "outputs": []
    },
    {
      "cell_type": "code",
      "source": [
        "df.head()"
      ],
      "metadata": {
        "id": "Al5jQBWI6DQ0"
      },
      "execution_count": null,
      "outputs": []
    },
    {
      "cell_type": "markdown",
      "source": [
        "##Visual Data Cleaning and Preparation"
      ],
      "metadata": {
        "id": "Rn6Z_UiAcqZY"
      }
    },
    {
      "cell_type": "markdown",
      "source": [
        "**Merge, Rename and drop unused Columns**"
      ],
      "metadata": {
        "id": "tvzIsnsxZUcP"
      }
    },
    {
      "cell_type": "code",
      "source": [
        "df['titulaire'] = df.titulaire_name.fillna('') + ' ' + df.titulaire_addrl.fillna('') + ' ' + df.titulaire_plainco.fillna('') + ' ' + df.titulaire_nat.fillna('')"
      ],
      "metadata": {
        "id": "1E9hl7qiDUQD"
      },
      "execution_count": null,
      "outputs": []
    },
    {
      "cell_type": "code",
      "source": [
        "# df['titulaire'] = df[['titulaire_name', 'titulaire_addrl', 'titulaire_plainco', 'titulaire_nat']].apply(lambda x: ' '.join(x), axis=1)"
      ],
      "metadata": {
        "id": "-jrSclPPYkcJ"
      },
      "execution_count": null,
      "outputs": []
    },
    {
      "cell_type": "code",
      "source": [
        "df.drop(['basipikey', 'origlan',  'basannd', 'basstate', 'basregper', 'expirationdate', 'gstermt',\n",
        "       'titulaire_name', 'titulaire_addrl', 'titulaire_plainco',\n",
        "       'titulaire_nat', 'mandataire_namel', 'mandataire_addrl',\n",
        "       'mandataire_plainco', 'mandataire_nat', 'martype' ], axis=1, inplace=True)"
      ],
      "metadata": {
        "id": "Ly68OPOUZ0aU"
      },
      "execution_count": null,
      "outputs": []
    },
    {
      "cell_type": "code",
      "source": [
        "#old,new\n",
        "df.rename(columns = {'classes':'Classes de Nice', 'basappn':'No de la demande', 'basregn':'No de la marque','basannd':'Depot', 'marpicn':'Logo' }, inplace = True)"
      ],
      "metadata": {
        "id": "sB-4ReeEYrxr"
      },
      "execution_count": null,
      "outputs": []
    },
    {
      "cell_type": "code",
      "source": [
        "# df['mandataire'] = df.mandataire_namel.fillna('') + ' ' + df.mandataire_addrl.fillna('') + ' ' + df.mandataire_plainco.fillna('') + ' ' + df.mandataire_nat.fillna('')"
      ],
      "metadata": {
        "id": "4xq0695ZYoGf"
      },
      "execution_count": null,
      "outputs": []
    },
    {
      "cell_type": "code",
      "source": [
        "df['titulaire'] = df['titulaire'].apply(lambda x: remove_accents(x))"
      ],
      "metadata": {
        "id": "VUnW9nMRc1h2"
      },
      "execution_count": null,
      "outputs": []
    },
    {
      "cell_type": "code",
      "source": [
        "df['titulaire'] =  df['titulaire'].str.replace(r'\\n', '', regex=True)\n",
        "# df['mandataire'] =  df['mandataire'].str.replace(r'\\n', '', regex=True)"
      ],
      "metadata": {
        "id": "zaaWmqxVixJO"
      },
      "execution_count": null,
      "outputs": []
    },
    {
      "cell_type": "code",
      "source": [
        "df['Classes de Nice'] = df['Classes de Nice'].apply(lambda x: ','.join(map(str, x)))"
      ],
      "metadata": {
        "id": "myNnfwtxi2BS"
      },
      "execution_count": null,
      "outputs": []
    },
    {
      "cell_type": "code",
      "source": [
        "#display trademark logo in dataframe and convert to html\n",
        "def to_img_tag(path):\n",
        "    return '<img src=\"'+ path + '\" width=\"80\"  >'\n",
        "\n",
        "\n",
        "df_html = df.to_html(escape=False,formatters=dict(Logo=to_img_tag)).replace('<table border=\"1\" class=\"dataframe\">',\n",
        "                                                              '<table border=\"1\" style=\"border-collapse: '\n",
        "                                                              'collapse;text-align: center;font-family:Calibri;font-size:10px;\" '\n",
        "                                                              'class=\"dataframe\">').replace(\n",
        "                                                              '<tr style=\"text-align: right;\">', \n",
        "                                                              '<tr style=\"text-align: center;table-layout: fixed; width: auto; index:False\";>')"
      ],
      "metadata": {
        "id": "N0za0tdYhEy2"
      },
      "execution_count": null,
      "outputs": []
    },
    {
      "cell_type": "code",
      "source": [
        "#save html result\n",
        "with open(\"df.html\", \"w\") as f:\n",
        "    f.write(df_html)"
      ],
      "metadata": {
        "id": "mwqjv9-3heU8"
      },
      "execution_count": null,
      "outputs": []
    },
    {
      "cell_type": "code",
      "source": [
        "pdfkit.from_file('df.html', 'marque_logo.pdf')"
      ],
      "metadata": {
        "id": "ZDrqAlnN6YDT"
      },
      "execution_count": null,
      "outputs": []
    },
    {
      "cell_type": "markdown",
      "source": [
        "\n",
        "\n",
        "**Marque Verbal**"
      ],
      "metadata": {
        "id": "RX--gCxVNnSz"
      }
    },
    {
      "cell_type": "code",
      "execution_count": null,
      "metadata": {
        "id": "D9TgKHnsNfT9"
      },
      "outputs": [],
      "source": [
        "def retrieve_verbal_data(transac):\n",
        "    \"\"\"\"\"\"\n",
        "    \n",
        "    basipikey = transac.find(\"basipikey\").text\n",
        "    origlan = transac.find(\"origlan\").text\n",
        "    basappn = transac.find(\"basappn\").text\n",
        "    basregn = transac.find(\"basregn\").text if transac.find(\"basregn\") is not None else None\n",
        "\n",
        "    basannd = transac.find(\"basannd\").text\n",
        "    basstate = transac.find(\"basstate\").text\n",
        "\n",
        "    basregper = transac.find(\"basregper\").text\n",
        "    expirationdate = transac.find(\"expirationdate\").text\n",
        "\n",
        "    markve = transac.find(\"markve\").text\n",
        "    \n",
        "#     print(f\"Marque verbale: {markve}\")\n",
        "    \n",
        "    # Classes\n",
        "    gsgr = transac.find(\"gsgr\")\n",
        "    intreggs = gsgr.findall(\"intregg\")\n",
        "\n",
        "    classes = []\n",
        "\n",
        "    for intregg in intreggs:\n",
        "        \n",
        "        nicclai = intregg.find(\"nicclai\").text\n",
        "        \n",
        "        classes.append(int(nicclai))\n",
        "\n",
        "    # Class description\n",
        "    gstermt = gsgr.find(\"gstermt\").text\n",
        "\n",
        "    regadrs = transac.findall(\"regadr\")\n",
        "    \n",
        "    # TODO check format of mandataire/titulaire\n",
        "    titulaire_name = None\n",
        "    titulaire_addrl = None\n",
        "    titulaire_plainco = None\n",
        "    titulaire_nat = None\n",
        "\n",
        "    mandataire_namel = None\n",
        "    mandataire_addrl = None\n",
        "    mandataire_plainco = None\n",
        "    mandataire_nat = None\n",
        "    \n",
        "    # Addresses\n",
        "    for regadr in regadrs:\n",
        "        \n",
        "        addrrole = regadr.find(\"addrrole\").text\n",
        "        nameadd = regadr.find(\"nameadd\")\n",
        "        \n",
        "        namel = nameadd.find(\"namel\").text if nameadd.find(\"namel\") is not None else None\n",
        "        addrl = nameadd.find(\"addrl\").text if nameadd.find(\"addrl\") is not None else None\n",
        "        \n",
        "        plainco = nameadd.find(\"plainco\").text\n",
        "        nat = nameadd.find(\"nat\").text\n",
        "        \n",
        "        # 1: titulaire\n",
        "        if int(addrrole) == 1:\n",
        "            titulaire_name = namel\n",
        "            titulaire_addrl = addrl\n",
        "            titulaire_plainco = plainco\n",
        "            titulaire_nat = nat\n",
        "        \n",
        "        # 3: mandataire\n",
        "        elif int(addrrole) == 3:\n",
        "            mandataire_namel = namel\n",
        "            mandataire_addrl = addrl\n",
        "            mandataire_plainco = plainco\n",
        "            mandataire_nat = nat\n",
        "        \n",
        "    # TODO verify what oppositiongr and oppositionstate mean\n",
        "    oppositiongr = transac.find(\"oppositiongr\")\n",
        "    oppositionstate = oppositiongr.find(\"oppositionstate\")\n",
        "\n",
        "    martype = transac.find(\"martype\").text\n",
        "    \n",
        "    # TODO: oppositiongr\n",
        "    row = [basipikey, origlan, basappn,basregn, basannd, basstate, basregper, expirationdate,\n",
        "           markve, classes, gstermt, \n",
        "           titulaire_name,\n",
        "           titulaire_addrl,\n",
        "           titulaire_plainco,\n",
        "           titulaire_nat,\n",
        "           mandataire_namel, \n",
        "           mandataire_addrl,\n",
        "           mandataire_plainco,\n",
        "           mandataire_nat,\n",
        "           martype]\n",
        "    \n",
        "    return row"
      ]
    },
    {
      "cell_type": "code",
      "source": [
        "def parse_verbal_xml(xml_file):\n",
        "    import xml.etree.ElementTree as et \n",
        "    \n",
        "    rows = []\n",
        "    \n",
        "    # Parse file\n",
        "    xtree = et.parse(xml_file)\n",
        "    xroot = xtree.getroot()\n",
        "\n",
        "    for node in xroot:\n",
        "        if node.tag == 'transac':\n",
        "            for transac in node:\n",
        "                if transac.tag == 'marinfo':\n",
        "                    # Marques verbales\n",
        "                    markve = transac.find(\"markve\")\n",
        "                    if markve is not None:\n",
        "                        row = retrieve_verbal_data(transac)\n",
        "                        rows.append(row)\n",
        "    return rows"
      ],
      "metadata": {
        "id": "axcMQgF0Nyxq"
      },
      "execution_count": null,
      "outputs": []
    },
    {
      "cell_type": "code",
      "source": [
        "#Use function to parse xml file and save in tables\n",
        "tables = []\n",
        "rows = parse_verbal_xml(\"/content/response.xml\")\n",
        "tables.extend(rows)"
      ],
      "metadata": {
        "id": "Kptn65Cz4-Am"
      },
      "execution_count": null,
      "outputs": []
    },
    {
      "cell_type": "markdown",
      "source": [],
      "metadata": {
        "id": "t3uZLPBh_cBo"
      }
    },
    {
      "cell_type": "code",
      "source": [
        "df_verbal = pd.DataFrame(tables, columns=['basipikey', 'origlan', 'basappn','basregn', 'basannd', \n",
        "                                   'basstate', 'basregper', 'expirationdate', 'markve', \n",
        "                                   'classes', \n",
        "                                   'gstermt', \n",
        "                                   'titulaire_name',\n",
        "                                   'titulaire_addrl',\n",
        "                                   'titulaire_plainco',\n",
        "                                   'titulaire_nat',\n",
        "                                   'mandataire_namel', \n",
        "                                   'mandataire_addrl',\n",
        "                                   'mandataire_plainco',\n",
        "                                   'mandataire_nat',\n",
        "                                   'martype'])\n",
        "df_verbal.head()"
      ],
      "metadata": {
        "id": "AlAIAxmNPN9s"
      },
      "execution_count": null,
      "outputs": []
    },
    {
      "cell_type": "code",
      "source": [],
      "metadata": {
        "id": "_QNdAe_fudq3"
      },
      "execution_count": null,
      "outputs": []
    },
    {
      "cell_type": "markdown",
      "source": [
        "#columns to drop"
      ],
      "metadata": {
        "id": "jemKK5rQavXF"
      }
    },
    {
      "cell_type": "markdown",
      "source": [
        "###verbal"
      ],
      "metadata": {
        "id": "uZ0nTP5pWtK2"
      }
    },
    {
      "cell_type": "code",
      "source": [
        "df_verbal.drop(['basipikey', 'origlan',  'basannd', 'basstate', 'basregper','gstermt',\n",
        "       'expirationdate','mandataire_namel','mandataire_addrl', 'mandataire_plainco',\n",
        "       'mandataire_nat', 'martype'], axis=1, inplace=True)"
      ],
      "metadata": {
        "id": "re3ofm0oPlHw"
      },
      "execution_count": null,
      "outputs": []
    },
    {
      "cell_type": "code",
      "source": [
        "#merge columns for df_verbal\n",
        "df_verbal['titulaire'] = df_verbal.titulaire_name.fillna('') + ' ' + df_verbal.titulaire_addrl.fillna('') + ' ' + df_verbal.titulaire_plainco.fillna('') + ' ' + df_verbal.titulaire_nat.fillna('')"
      ],
      "metadata": {
        "id": "yBT6NhZwW6sb"
      },
      "execution_count": null,
      "outputs": []
    },
    {
      "cell_type": "code",
      "source": [
        "df_verbal.rename(columns = { 'basappn':'No de la demande', 'basregn':'No de la marque', 'markve':'marque' }, inplace = True)"
      ],
      "metadata": {
        "id": "EtpqCl_MTh3D"
      },
      "execution_count": null,
      "outputs": []
    },
    {
      "cell_type": "code",
      "source": [
        "df_verbal['Classes de Nice'] = df_verbal['classes'].apply(lambda x: ','.join(map(str, x)))"
      ],
      "metadata": {
        "id": "dPSCN54VXndm"
      },
      "execution_count": null,
      "outputs": []
    },
    {
      "cell_type": "code",
      "source": [
        "df_verbal.drop('classes', axis=1, inplace=True)"
      ],
      "metadata": {
        "id": "J99Jf9zUUAkR"
      },
      "execution_count": null,
      "outputs": []
    },
    {
      "cell_type": "code",
      "source": [
        "df_verbal.drop(['titulaire_name','titulaire_addrl','titulaire_plainco','titulaire_nat'], axis=1, inplace=True)"
      ],
      "metadata": {
        "id": "ntK_XYDSR_SV"
      },
      "execution_count": null,
      "outputs": []
    },
    {
      "cell_type": "code",
      "source": [
        "df_verbal['titulaire'] = df_verbal['titulaire'].apply(lambda x: remove_accents(x))"
      ],
      "metadata": {
        "id": "z9M0L2p7YGAU"
      },
      "execution_count": null,
      "outputs": []
    },
    {
      "cell_type": "code",
      "source": [
        "df_verbal['marque'] = df_verbal['marque'].apply(lambda x: remove_accents(x))"
      ],
      "metadata": {
        "id": "l2KrzQiqawHw"
      },
      "execution_count": null,
      "outputs": []
    },
    {
      "cell_type": "code",
      "source": [
        "df_verbal['titulaire'] =  df_verbal['titulaire'].str.replace(r'\\n', '', regex=True)\n"
      ],
      "metadata": {
        "id": "UJrZYGmmwf75"
      },
      "execution_count": null,
      "outputs": []
    },
    {
      "cell_type": "code",
      "source": [
        "df_verbal.head()"
      ],
      "metadata": {
        "id": "Ea95r1ACSwlT"
      },
      "execution_count": null,
      "outputs": []
    },
    {
      "cell_type": "code",
      "source": [
        "df_verbal_html = df_verbal.to_html().replace('<table border=\"1\" class=\"dataframe\">',\n",
        "                                                              '<table border=\"1\" style=\"border-collapse: '\n",
        "                                                              'collapse;text-align: center;font-family:Calibri;font-size:10px;\" '\n",
        "                                                              'class=\"dataframe\">').replace(\n",
        "                                                              '<tr style=\"text-align: right;\">', '<tr style=\"text-align: center;table-layout: fixed; width: auto; index:False\";>')"
      ],
      "metadata": {
        "id": "GmQsbH_bYfX1"
      },
      "execution_count": null,
      "outputs": []
    },
    {
      "cell_type": "code",
      "source": [
        "#save html result\n",
        "with open(\"df_verbal.html\", \"w\") as f:\n",
        "    f.write(df_verbal_html)"
      ],
      "metadata": {
        "id": "jsNfXBRoYuWy"
      },
      "execution_count": null,
      "outputs": []
    },
    {
      "cell_type": "code",
      "source": [
        "pdfkit.from_file('df_verbal.html', 'Marque_verbal.pdf')"
      ],
      "metadata": {
        "id": "eu8lyiBuY-y1"
      },
      "execution_count": null,
      "outputs": []
    },
    {
      "cell_type": "markdown",
      "source": [
        "##marque"
      ],
      "metadata": {
        "id": "I1xkWhBSXKql"
      }
    },
    {
      "cell_type": "code",
      "source": [
        "#display trademark logo in dataframe\n",
        "# from IPython.core.display import HTML\n",
        "# def to_img_tag(path):\n",
        "#     return '<img src=\"'+ path + '\" width=\"85\"  >'"
      ],
      "metadata": {
        "id": "x8cpnSBK5NkL"
      },
      "execution_count": null,
      "outputs": []
    },
    {
      "cell_type": "code",
      "source": [
        "# display(HTML(df.to_html(escape=False,formatters=dict(Logo=to_img_tag))))"
      ],
      "metadata": {
        "id": "ChL5LTwT5Rxf"
      },
      "execution_count": null,
      "outputs": []
    },
    {
      "cell_type": "code",
      "source": [
        "#function to search for company name and return dataframe\n",
        "\n",
        "\n",
        "def commmerce_name_search(query):\n",
        "\n",
        "    username = \"bs@legalmarque.com\"\n",
        "    password = \"YbxnQ2rt\"\n",
        "    url = 'https://www.zefix.admin.ch/ZefixPublicREST/api/v1/company/search'\n",
        "\n",
        "\n",
        "    #String Formatting\n",
        "    post_json = (\n",
        "\n",
        "    \"{\"  #first curly bracket\n",
        "    \"\\\"activeOnly\\\": true,\"  #--> key, value begins and ends with \\\" except for bool\n",
        "     f\"\\\"name\\\": \\\"{query}\\\"\"\n",
        "     \"}\" #last curly bracket\n",
        "     \n",
        "     )\n",
        "    #convert formatted string to json\n",
        "    payload = json.loads(post_json)\n",
        "\n",
        "    #define headers\n",
        "    headers = {\n",
        "    \"accept\": \"application/json\",\n",
        "    \"Content-Type\": \"application/json\"\n",
        "    }\n",
        "\n",
        "    #post request using above params\n",
        "    response = requests.post(url, \n",
        "                         headers=headers,\n",
        "                         auth=(username, password), \n",
        "                         json=payload)\n",
        "    \n",
        "    if response.status_code == 200:\n",
        "        commerce_search = response.json()\n",
        "        df = json_normalize(commerce_search)\n",
        "\n",
        "        #drop unwanted columns\n",
        "        df.drop(['ehraid','chid', 'legalSeatId',\n",
        "       'registryOfCommerceId', 'status', 'sogcDate', 'deletionDate',\n",
        "       'legalForm.id', 'legalForm.uid', 'legalForm.name.de',\n",
        "       'legalForm.name.fr', 'legalForm.name.it', 'legalForm.name.en',\n",
        "       'legalForm.shortName.de',\n",
        "       'legalForm.shortName.it', 'legalForm.shortName.en'], axis=1, inplace=True)\n",
        "        \n",
        "        #rename cols with new names\n",
        "        df[['Raison de commerce', 'IDE', 'Siege', 'Forme']] = df[['name', 'uid','legalSeat','legalForm.shortName.fr']]\n",
        "\n",
        "        #drop old names\n",
        "        df.drop([\"name\", \"uid\", \"legalSeat\", \"legalForm.shortName.fr\"], axis=1, inplace=True)\n",
        "\n",
        "        return df\n",
        "\n",
        "    else: \n",
        "        print(f\"Invalid User Authentification: {response.status_code}\")"
      ],
      "metadata": {
        "id": "q6rQ4Odf4xdd"
      },
      "execution_count": null,
      "outputs": []
    },
    {
      "cell_type": "code",
      "source": [
        "df_commerce = commmerce_name_search(query)"
      ],
      "metadata": {
        "id": "LXMz9UCL45ZN"
      },
      "execution_count": null,
      "outputs": []
    },
    {
      "cell_type": "code",
      "source": [
        "df_commerce.head()"
      ],
      "metadata": {
        "id": "XZydE1G65Iqm"
      },
      "execution_count": null,
      "outputs": []
    },
    {
      "cell_type": "code",
      "source": [
        "df_commerce['Siege'] = df_commerce['Siege'].apply(lambda x: remove_accents(x))"
      ],
      "metadata": {
        "id": "Mp5layWL5BTl"
      },
      "execution_count": null,
      "outputs": []
    },
    {
      "cell_type": "code",
      "source": [
        "df_commerce['Raison de commerce'] = df_commerce['Raison de commerce'].apply(lambda x: remove_accents(x))"
      ],
      "metadata": {
        "id": "pkKVoSV15g2G"
      },
      "execution_count": null,
      "outputs": []
    },
    {
      "cell_type": "code",
      "source": [
        "df_commerce['Forme'] = df_commerce['Forme'].apply(lambda x: remove_accents(x))"
      ],
      "metadata": {
        "id": "h8Ts5L3T5m4s"
      },
      "execution_count": null,
      "outputs": []
    },
    {
      "cell_type": "code",
      "source": [
        "df_commerce_html = df_commerce.to_html().replace('<table border=\"1\" class=\"dataframe\">',\n",
        "                                                              '<table border=\"1\" style=\"border-collapse: '\n",
        "                                                              'collapse;text-align: center;font-family:Calibri;font-size:20px;\" '\n",
        "                                                              'class=\"dataframe;\">').replace(\n",
        "                                                              '<tr style=\"text-align: right;\">', '<tr style=\"text-align: center;table-layout: fixed; width: 100%; index:False\";>')"
      ],
      "metadata": {
        "id": "KysMJGAS5UGq"
      },
      "execution_count": null,
      "outputs": []
    },
    {
      "cell_type": "code",
      "source": [
        "# df_commerce_html = df_commerce.style.set_properties(subset=['Marques', 'IDE','Siege', 'Forme'], **{'width': '200px'}).to_html()\n",
        "# .replace('<table border=\"1\" class=\"dataframe\">',\n",
        "#                                                               '<table border=\"1\" style=\"border-collapse: '\n",
        "#                                                               'collapse;text-align: center;font-family:Calibri;font-size:20px;\" '\n",
        "#                                                               'class=\"dataframe;\">').replace(\n",
        "#                                                               '<tr style=\"text-align: right;\">', '<tr style=\"text-align: center;table-layout: fixed; width: 100%; index:False\";>')"
      ],
      "metadata": {
        "id": "H6M2xnB4Svng"
      },
      "execution_count": null,
      "outputs": []
    },
    {
      "cell_type": "code",
      "source": [
        "#save html result\n",
        "with open(\"df_commerce.html\", \"w\") as f:\n",
        "    f.write(df_commerce_html)"
      ],
      "metadata": {
        "id": "BC6gspHS5Xj4"
      },
      "execution_count": null,
      "outputs": []
    },
    {
      "cell_type": "code",
      "source": [
        "pdfkit.from_file('df_commerce.html', 'marque_commerce.pdf')"
      ],
      "metadata": {
        "id": "rJSsp_dc6l-7"
      },
      "execution_count": null,
      "outputs": []
    },
    {
      "cell_type": "markdown",
      "source": [
        "**DomainName**"
      ],
      "metadata": {
        "id": "DU5_mm6lWbBg"
      }
    },
    {
      "cell_type": "code",
      "source": [
        "from domainavailability import *\n",
        "\n",
        "def domain_name_checker(query):\n",
        "\n",
        "    client = Client('at_kvQSqHPLS7IgXJQiRdDA0o1ePSNBv')\n",
        "\n",
        "    raw_result_ch = client.raw_data(\n",
        "    f'{query}' + '.ch',\n",
        "    mode=Client.DNS_AND_WHOIS_MODE,\n",
        "    credits_type=Client.WHOIS_CREDITS,\n",
        "    output_format=Client.XML_FORMAT)\n",
        "\n",
        "    time.sleep(3)\n",
        "\n",
        "    raw_result_swiss = client.raw_data(\n",
        "    f'{query}' + '.swiss',\n",
        "    mode=Client.DNS_AND_WHOIS_MODE,\n",
        "    credits_type=Client.WHOIS_CREDITS,\n",
        "    output_format=Client.XML_FORMAT)\n",
        "\n",
        "    df_ch = pd.read_xml(raw_result_ch)\n",
        "    df_swiss = pd.read_xml(raw_result_swiss)\n",
        "\n",
        "    frames = [df_ch, df_swiss]\n",
        "    result = pd.concat(frames, ignore_index=True)\n",
        "\n",
        "    for i in result['domainAvailability']:\n",
        "        if i == \"AVAILABLE\":\n",
        "            result['domainAvailability'].replace(i, 'Disponible', inplace=True)\n",
        "        else:\n",
        "            result['domainAvailability'].replace(i, 'Pas Disponible', inplace=True)\n",
        "\n",
        "    return result\n",
        "\n",
        "\n"
      ],
      "metadata": {
        "id": "5TjHFKETWaVQ"
      },
      "execution_count": null,
      "outputs": []
    },
    {
      "cell_type": "code",
      "source": [
        "df_domain = domain_name_checker(query)"
      ],
      "metadata": {
        "id": "gfVC3GOUaLZi"
      },
      "execution_count": null,
      "outputs": []
    },
    {
      "cell_type": "code",
      "source": [
        "df_domain"
      ],
      "metadata": {
        "id": "ZdfCf4VDaao4"
      },
      "execution_count": null,
      "outputs": []
    },
    {
      "cell_type": "code",
      "source": [
        "df_domain_html = df_domain.to_html().replace('<table border=\"1\" class=\"dataframe\">',\n",
        "                                                            '<table border=\"1\" style=\"border-collapse: '\n",
        "                                                            'collapse;text-align: center;font-family:Calibri;font-size:20px;\" '\n",
        "                                                            'class=\"dataframe;\">').replace(\n",
        "                                                            '<tr style=\"text-align: right;\">', '<tr style=\"text-align: center;table-layout: fixed; width: 100%; index:False\";>')\n",
        "#save html result\n",
        "with open(\"domain_Name.html\", \"w\") as f:\n",
        "    f.write(df_domain_html)\n",
        "\n",
        "pdfkit.from_file('domain_Name.html', 'domain_Name.pdf')"
      ],
      "metadata": {
        "id": "-PfV5XnIaDWM"
      },
      "execution_count": null,
      "outputs": []
    },
    {
      "cell_type": "code",
      "source": [
        "from PyPDF2 import PdfMerger\n",
        "\n",
        "merger = PdfMerger()\n",
        "\n",
        "for pdf in [\"Marque_verbal.pdf\", \"marque_logo.pdf\", \"marque_commerce.pdf\", \"domain_Name.pdf\"]:\n",
        "    merger.append(pdf)\n",
        "\n",
        "merger.write(\"merged-pdf.pdf\")\n",
        "merger.close()"
      ],
      "metadata": {
        "id": "636_csUW8v7H"
      },
      "execution_count": null,
      "outputs": []
    }
  ]
}